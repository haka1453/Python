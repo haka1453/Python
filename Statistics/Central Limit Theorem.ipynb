{
 "cells": [
  {
   "cell_type": "markdown",
   "id": "2f44f457",
   "metadata": {},
   "source": [
    "## Central Limit theorem\n",
    "\n",
    "The **central limit theorem** (CLT) is a key concept in **probability theory** (as if it is hidden king of the probability world). Previous versions of the theorem date back to 1811, but was precisely stated as late as 1920.\n",
    "\n",
    "The **central limit theorem:** If you have several independent samples from a probability distribution with finite variance, then as the sample size approaches infinity, the **sum and average of the samples** approach a normal distribution"
   ]
  },
  {
   "cell_type": "code",
   "execution_count": 1,
   "id": "fa70b3f7",
   "metadata": {},
   "outputs": [],
   "source": [
    "import numpy as np\n",
    "import seaborn as sns\n",
    "import matplotlib.pyplot as plt"
   ]
  },
  {
   "cell_type": "markdown",
   "id": "bb4d9f2f",
   "metadata": {},
   "source": [
    "**Now let us produce an array called 'data' with 1000 numbers ( All numbers are between 0 and 100).**"
   ]
  },
  {
   "cell_type": "code",
   "execution_count": 2,
   "id": "7874fdc2",
   "metadata": {},
   "outputs": [],
   "source": [
    "data = np.random.randint(101,size=5000)"
   ]
  },
  {
   "cell_type": "code",
   "execution_count": 3,
   "id": "3bdf9014",
   "metadata": {
    "scrolled": true
   },
   "outputs": [
    {
     "data": {
      "text/plain": [
       "array([98, 92, 98, 40, 96, 25, 68, 12, 60, 17])"
      ]
     },
     "execution_count": 3,
     "metadata": {},
     "output_type": "execute_result"
    }
   ],
   "source": [
    "data[:10]"
   ]
  },
  {
   "cell_type": "markdown",
   "id": "8ce7553a",
   "metadata": {},
   "source": [
    "**Now let us see the unique numbers' count, first 10 numbers' frequencies in our data!**"
   ]
  },
  {
   "cell_type": "code",
   "execution_count": 4,
   "id": "0859b315",
   "metadata": {},
   "outputs": [
    {
     "name": "stdout",
     "output_type": "stream",
     "text": [
      "Unique numbers count: 101\n"
     ]
    },
    {
     "data": {
      "text/plain": [
       "array([[ 0, 56],\n",
       "       [ 1, 58],\n",
       "       [ 2, 44],\n",
       "       [ 3, 57],\n",
       "       [ 4, 41],\n",
       "       [ 5, 47],\n",
       "       [ 6, 46],\n",
       "       [ 7, 51],\n",
       "       [ 8, 64],\n",
       "       [ 9, 47]], dtype=int64)"
      ]
     },
     "execution_count": 4,
     "metadata": {},
     "output_type": "execute_result"
    }
   ],
   "source": [
    "unique, counts = np.unique(data, return_counts = True)\n",
    "print('Unique numbers count:',len(unique))\n",
    "np.asarray((unique, counts)).T[:10]"
   ]
  },
  {
   "cell_type": "markdown",
   "id": "b37bd9cd",
   "metadata": {},
   "source": [
    "**Now we can show the distribution of the ferquencies of produced unique numbers in our dataset!**"
   ]
  },
  {
   "cell_type": "code",
   "execution_count": 5,
   "id": "aace0415",
   "metadata": {},
   "outputs": [
    {
     "data": {
      "image/png": "[encoded data removed]",
      "text/plain": [
       "<Figure size 360x360 with 1 Axes>"
      ]
     },
     "metadata": {
      "needs_background": "light"
     },
     "output_type": "display_data"
    }
   ],
   "source": [
    "# Histogram \n",
    "sns.displot(data,bins=101)\n",
    "plt.xlabel('Number')\n",
    "plt.ylabel('Probability')\n",
    "plt.show()"
   ]
  },
  {
   "cell_type": "markdown",
   "id": "2a8b8008",
   "metadata": {},
   "source": [
    "**Our data's mean ans sum values:**"
   ]
  },
  {
   "cell_type": "code",
   "execution_count": 6,
   "id": "33d7cec9",
   "metadata": {},
   "outputs": [
    {
     "name": "stdout",
     "output_type": "stream",
     "text": [
      "Mean: 49.6016\n",
      "Sum: 248008\n"
     ]
    }
   ],
   "source": [
    "print(f\"Mean: {data.mean()}\\nSum: {data.sum()}\")"
   ]
  },
  {
   "cell_type": "markdown",
   "id": "9f0dddde",
   "metadata": {},
   "source": [
    "**Let us make from this data, 1000 samples, each of them with 100 elements, then calculate their mean values and load them to 'means' list!**"
   ]
  },
  {
   "cell_type": "code",
   "execution_count": 7,
   "id": "f844b30a",
   "metadata": {},
   "outputs": [],
   "source": [
    "means=[]\n",
    "for i in range(1,1000):\n",
    "    means.append(np.random.choice(data,size=100).mean())"
   ]
  },
  {
   "cell_type": "markdown",
   "id": "904c09a0",
   "metadata": {},
   "source": [
    "**Let us make the same for sum values!**"
   ]
  },
  {
   "cell_type": "code",
   "execution_count": 8,
   "id": "5fd160d1",
   "metadata": {},
   "outputs": [],
   "source": [
    "sums=[]\n",
    "for i in range(1,1000):\n",
    "    sums.append(np.random.choice(data,size=100).sum())"
   ]
  },
  {
   "cell_type": "markdown",
   "id": "d4e3de21",
   "metadata": {},
   "source": [
    "**Now we have 1000 samples! All samples has 100 elements! All samples has mean and sum values! Let us check first 10 mean and sum values!**"
   ]
  },
  {
   "cell_type": "code",
   "execution_count": 9,
   "id": "19fbeb1e",
   "metadata": {
    "scrolled": true
   },
   "outputs": [
    {
     "data": {
      "text/plain": [
       "[47.45, 48.27, 52.35, 49.45, 52.29, 49.31, 50.82, 54.17, 51.75, 46.83]"
      ]
     },
     "execution_count": 9,
     "metadata": {},
     "output_type": "execute_result"
    }
   ],
   "source": [
    "means[:10]"
   ]
  },
  {
   "cell_type": "code",
   "execution_count": 10,
   "id": "7c4afdff",
   "metadata": {
    "scrolled": true
   },
   "outputs": [
    {
     "data": {
      "text/plain": [
       "[4954, 5479, 4778, 4932, 4412, 4814, 4686, 5013, 5069, 4999]"
      ]
     },
     "execution_count": 10,
     "metadata": {},
     "output_type": "execute_result"
    }
   ],
   "source": [
    "sums[:10]"
   ]
  },
  {
   "cell_type": "markdown",
   "id": "51e737e5",
   "metadata": {},
   "source": [
    "**Let us illustrate the histograms of mean values of these produced 1000 samples!**"
   ]
  },
  {
   "cell_type": "code",
   "execution_count": 11,
   "id": "f75d1a08",
   "metadata": {
    "scrolled": true
   },
   "outputs": [
    {
     "data": {
      "image/png": "[encoded data removed]",
      "text/plain": [
       "<Figure size 360x360 with 1 Axes>"
      ]
     },
     "metadata": {
      "needs_background": "light"
     },
     "output_type": "display_data"
    }
   ],
   "source": [
    "sns.displot(means, kde = True)\n",
    "plt.xlabel('Mean')\n",
    "plt.ylabel('Probability')\n",
    "plt.show()"
   ]
  },
  {
   "cell_type": "markdown",
   "id": "2eda2e4d",
   "metadata": {},
   "source": [
    "**Let us illustrate the histograms of sum values of these produced 1000 samples!**"
   ]
  },
  {
   "cell_type": "code",
   "execution_count": 12,
   "id": "d5b8e51f",
   "metadata": {},
   "outputs": [
    {
     "data": {
      "image/png": "[encoded data removed]",
      "text/plain": [
       "<Figure size 360x360 with 1 Axes>"
      ]
     },
     "metadata": {
      "needs_background": "light"
     },
     "output_type": "display_data"
    }
   ],
   "source": [
    "sns.displot(sums, kde = True)\n",
    "plt.xlabel('Sum')\n",
    "plt.ylabel('Probability')\n",
    "plt.show()"
   ]
  },
  {
   "cell_type": "markdown",
   "id": "dac64dcd",
   "metadata": {},
   "source": [
    "**We can easily see that the distributions of mean and sum values of the samples are normal distribution. This is exactly central limit theorem!**"
   ]
  }
 ],
 "metadata": {
  "kernelspec": {
   "display_name": "Python 3 (ipykernel)",
   "language": "python",
   "name": "python3"
  },
  "language_info": {
   "codemirror_mode": {
    "name": "ipython",
    "version": 3
   },
   "file_extension": ".py",
   "mimetype": "text/x-python",
   "name": "python",
   "nbconvert_exporter": "python",
   "pygments_lexer": "ipython3",
   "version": "3.9.7"
  }
 },
 "nbformat": 4,
 "nbformat_minor": 5
}
