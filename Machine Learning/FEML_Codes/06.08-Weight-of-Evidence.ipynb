{
 "cells": [
  {
   "cell_type": "markdown",
   "metadata": {},
   "source": [
    "## Weight  of evidence\n",
    "\n",
    "**Weight of Evidence (WoE)** was developed primarily for the **credit and financial industries** to help **build more predictive models** to evaluate the **risk of loan default**. That is, to predict how likely the money lent to a person or institution is to be lost. Thus, Weight of Evidence is a **measure of the \"strength” of a grouping technique to separate good and bad risk** (default). \n",
    "\n",
    "**WoE** will be 0 if the **P(Goods) / P(Bads) = 1**, that is, if the outcome is random for that group. If **P(Bads) > P(Goods)** the odds ratio will be < 1 and, WoE will be < 0 if,  P(Goods) > P(Bads).\n",
    "\n",
    "**WoE is well suited for Logistic Regression**, because the Logit transformation is simply the log of the odds, i.e., ln(P(Goods)/P(Bads)). Therefore, by using **WoE-coded predictors** in logistic regression, the predictors are all prepared and coded to the same scale, and the parameters in the linear logistic regression equation can be directly compared.\n",
    "\n",
    "The WoE transformation has three advantages:\n",
    "\n",
    "- It creates a **monotonic relationship between the target and the independent variables**.\n",
    "- It **orders the categories on a \"logistic\" scale** which is natural for logistic regression\n",
    "- The **transformed variables can then be compared** because they are on the same scale. Therefore, it is possible to determine which one is more predictive. **The WoE's limitation: Prone to cause over-fitting!"
   ]
  },
  {
   "cell_type": "code",
   "execution_count": 152,
   "metadata": {
    "scrolled": true
   },
   "outputs": [],
   "source": [
    "import numpy as np\n",
    "import pandas as pd\n",
    "import matplotlib.pyplot as plt\n",
    "from sklearn.model_selection import train_test_split\n",
    "from feature_engine.encoding import WoEEncoder as fe_WoEEncoder\n",
    "from category_encoders.woe import WOEEncoder"
   ]
  },
  {
   "cell_type": "code",
   "execution_count": 153,
   "metadata": {},
   "outputs": [
    {
     "data": {
      "text/html": [
       "<div>\n",
       "<style scoped>\n",
       "    .dataframe tbody tr th:only-of-type {\n",
       "        vertical-align: middle;\n",
       "    }\n",
       "\n",
       "    .dataframe tbody tr th {\n",
       "        vertical-align: top;\n",
       "    }\n",
       "\n",
       "    .dataframe thead th {\n",
       "        text-align: right;\n",
       "    }\n",
       "</style>\n",
       "<table border=\"1\" class=\"dataframe\">\n",
       "  <thead>\n",
       "    <tr style=\"text-align: right;\">\n",
       "      <th></th>\n",
       "      <th>survived</th>\n",
       "      <th>sex</th>\n",
       "      <th>cabin</th>\n",
       "      <th>embarked</th>\n",
       "    </tr>\n",
       "  </thead>\n",
       "  <tbody>\n",
       "    <tr>\n",
       "      <th>0</th>\n",
       "      <td>1</td>\n",
       "      <td>female</td>\n",
       "      <td>B5</td>\n",
       "      <td>S</td>\n",
       "    </tr>\n",
       "    <tr>\n",
       "      <th>1</th>\n",
       "      <td>1</td>\n",
       "      <td>male</td>\n",
       "      <td>C22</td>\n",
       "      <td>S</td>\n",
       "    </tr>\n",
       "    <tr>\n",
       "      <th>2</th>\n",
       "      <td>0</td>\n",
       "      <td>female</td>\n",
       "      <td>C22</td>\n",
       "      <td>S</td>\n",
       "    </tr>\n",
       "    <tr>\n",
       "      <th>3</th>\n",
       "      <td>0</td>\n",
       "      <td>male</td>\n",
       "      <td>C22</td>\n",
       "      <td>S</td>\n",
       "    </tr>\n",
       "    <tr>\n",
       "      <th>4</th>\n",
       "      <td>0</td>\n",
       "      <td>female</td>\n",
       "      <td>C22</td>\n",
       "      <td>S</td>\n",
       "    </tr>\n",
       "  </tbody>\n",
       "</table>\n",
       "</div>"
      ],
      "text/plain": [
       "   survived     sex cabin embarked\n",
       "0         1  female    B5        S\n",
       "1         1    male   C22        S\n",
       "2         0  female   C22        S\n",
       "3         0    male   C22        S\n",
       "4         0  female   C22        S"
      ]
     },
     "execution_count": 153,
     "metadata": {},
     "output_type": "execute_result"
    }
   ],
   "source": [
    "data = pd.read_csv(\n",
    "    'titanic.csv', usecols=['cabin', 'sex', 'embarked', 'survived'])\n",
    "data.head()"
   ]
  },
  {
   "cell_type": "markdown",
   "metadata": {},
   "source": [
    "**Remove observations with na in embarked!**"
   ]
  },
  {
   "cell_type": "code",
   "execution_count": 154,
   "metadata": {},
   "outputs": [
    {
     "data": {
      "text/plain": [
       "(1307, 4)"
      ]
     },
     "execution_count": 154,
     "metadata": {},
     "output_type": "execute_result"
    }
   ],
   "source": [
    "data.dropna(subset=['embarked'], inplace=True)\n",
    "data.shape"
   ]
  },
  {
   "cell_type": "markdown",
   "metadata": {},
   "source": [
    "**Extract the first letter of the cabin to create a simpler variable!**"
   ]
  },
  {
   "cell_type": "code",
   "execution_count": 155,
   "metadata": {},
   "outputs": [],
   "source": [
    "data['cabin'] = data['cabin'].astype(str).str[0]"
   ]
  },
  {
   "cell_type": "markdown",
   "metadata": {},
   "source": [
    "Remove the observations **where cabin = T** because **only few observations** show T in the dataset!"
   ]
  },
  {
   "cell_type": "code",
   "execution_count": 156,
   "metadata": {},
   "outputs": [
    {
     "data": {
      "text/plain": [
       "(1306, 4)"
      ]
     },
     "execution_count": 156,
     "metadata": {},
     "output_type": "execute_result"
    }
   ],
   "source": [
    "data = data[data['cabin']!= 'T']\n",
    "data.shape"
   ]
  },
  {
   "cell_type": "markdown",
   "metadata": {},
   "source": [
    "**Check how many labels each variable has!**"
   ]
  },
  {
   "cell_type": "code",
   "execution_count": 157,
   "metadata": {},
   "outputs": [
    {
     "name": "stdout",
     "output_type": "stream",
     "text": [
      "survived :  2  labels\n",
      "sex :  2  labels\n",
      "cabin :  8  labels\n",
      "embarked :  3  labels\n"
     ]
    }
   ],
   "source": [
    "for col in data.columns:\n",
    "    print(col, ': ', len(data[col].unique()), ' labels')"
   ]
  },
  {
   "cell_type": "markdown",
   "metadata": {},
   "source": [
    "**Explore the unique categories!**"
   ]
  },
  {
   "cell_type": "code",
   "execution_count": 158,
   "metadata": {},
   "outputs": [
    {
     "data": {
      "text/plain": [
       "array(['B', 'C', 'E', 'D', 'A', 'n', 'F', 'G'], dtype=object)"
      ]
     },
     "execution_count": 158,
     "metadata": {},
     "output_type": "execute_result"
    }
   ],
   "source": [
    "data['cabin'].unique()"
   ]
  },
  {
   "cell_type": "code",
   "execution_count": 159,
   "metadata": {},
   "outputs": [
    {
     "data": {
      "text/plain": [
       "array(['female', 'male'], dtype=object)"
      ]
     },
     "execution_count": 159,
     "metadata": {},
     "output_type": "execute_result"
    }
   ],
   "source": [
    "data['sex'].unique()"
   ]
  },
  {
   "cell_type": "code",
   "execution_count": 160,
   "metadata": {},
   "outputs": [
    {
     "data": {
      "text/plain": [
       "array(['S', 'C', 'Q'], dtype=object)"
      ]
     },
     "execution_count": 160,
     "metadata": {},
     "output_type": "execute_result"
    }
   ],
   "source": [
    "data['embarked'].unique()"
   ]
  },
  {
   "cell_type": "code",
   "execution_count": 161,
   "metadata": {},
   "outputs": [
    {
     "data": {
      "text/plain": [
       "((914, 4), (392, 4))"
      ]
     },
     "execution_count": 161,
     "metadata": {},
     "output_type": "execute_result"
    }
   ],
   "source": [
    "X_train, X_test, y_train, y_test = train_test_split(\n",
    "    data[['cabin', 'sex', 'embarked', 'survived']],  # this time we keep the target!!\n",
    "    data['survived'],  # target\n",
    "    test_size=0.3,  # percentage of obs in test set\n",
    "    random_state=0)  # seed to ensure reproducibility\n",
    "X_train.shape, X_test.shape"
   ]
  },
  {
   "cell_type": "markdown",
   "metadata": {
    "tags": []
   },
   "source": [
    "### Explore original relationship between categorical variables and target"
   ]
  },
  {
   "cell_type": "markdown",
   "metadata": {},
   "source": [
    "**Explore the relationship of the categories with the target!**"
   ]
  },
  {
   "cell_type": "code",
   "execution_count": 162,
   "metadata": {},
   "outputs": [
    {
     "data": {
      "image/png": "[encoded data removed]",
      "text/plain": [
       "<Figure size 432x288 with 1 Axes>"
      ]
     },
     "metadata": {
      "needs_background": "light"
     },
     "output_type": "display_data"
    },
    {
     "data": {
      "image/png": "[encoded data removed]",
      "text/plain": [
       "<Figure size 432x288 with 1 Axes>"
      ]
     },
     "metadata": {
      "needs_background": "light"
     },
     "output_type": "display_data"
    },
    {
     "data": {
      "image/png": "[encoded data removed]",
      "text/plain": [
       "<Figure size 432x288 with 1 Axes>"
      ]
     },
     "metadata": {
      "needs_background": "light"
     },
     "output_type": "display_data"
    }
   ],
   "source": [
    "for var in ['cabin', 'sex', 'embarked']:\n",
    "    fig = plt.figure()\n",
    "    fig = X_train.groupby([var])['survived'].mean().plot()\n",
    "    fig.set_title('Relationship between {} and Survival'.format(var))\n",
    "    fig.set_ylabel('Mean Survival')\n",
    "    plt.show()"
   ]
  },
  {
   "cell_type": "markdown",
   "metadata": {
    "tags": []
   },
   "source": [
    "The **relationship between the target and cabin and embarked** goes up and down, depending on the category.\n",
    "\n",
    "## Weight of Evidence with pandas\n",
    "\n",
    "**Pandas is quick and returns pandas dataframe!** But it does not preserve information from train data to propagate to test data! We need to store the mappings separately if planning to use the model in production."
   ]
  },
  {
   "cell_type": "markdown",
   "metadata": {},
   "source": [
    "Calculate first **total passengers who did not survive**! **Flag them!** Then calculate the **% of passengers who did not survive per category of cabin**!"
   ]
  },
  {
   "cell_type": "code",
   "execution_count": 163,
   "metadata": {},
   "outputs": [
    {
     "data": {
      "text/plain": [
       "cabin\n",
       "A    0.017513\n",
       "B    0.019264\n",
       "C    0.049037\n",
       "D    0.017513\n",
       "E    0.015762\n",
       "F    0.005254\n",
       "G    0.001751\n",
       "n    0.873905\n",
       "Name: non_survived, dtype: float64"
      ]
     },
     "execution_count": 163,
     "metadata": {},
     "output_type": "execute_result"
    }
   ],
   "source": [
    "total_non_survived = len(X_train) - X_train['survived'].sum()\n",
    "X_train['non_survived'] = np.where(X_train['survived'] == 1, 0, 1)\n",
    "non_survived = X_train.groupby(\n",
    "    ['cabin'])['non_survived'].sum() / total_non_survived\n",
    "non_survived"
   ]
  },
  {
   "cell_type": "markdown",
   "metadata": {},
   "source": [
    "**Combine (concatenate) those 2 series in a dataframe and calculate the WoE (Weight of Evidence)!**"
   ]
  },
  {
   "cell_type": "code",
   "execution_count": 164,
   "metadata": {},
   "outputs": [],
   "source": [
    "data['non_survived']= data['survived'].replace({0: 1, 1: 0})"
   ]
  },
  {
   "cell_type": "code",
   "execution_count": 165,
   "metadata": {},
   "outputs": [
    {
     "name": "stderr",
     "output_type": "stream",
     "text": [
      "C:\\Users\\husey\\AppData\\Local\\Temp/ipykernel_15016/4002139606.py:1: FutureWarning: In a future version of pandas all arguments of concat except for the argument 'objs' will be keyword-only\n",
      "  prob_df = pd.concat(data['survived'], data['non_survived'], axis=1)\n"
     ]
    },
    {
     "ename": "TypeError",
     "evalue": "concat() got multiple values for argument 'axis'",
     "output_type": "error",
     "traceback": [
      "\u001b[1;31m---------------------------------------------------------------------------\u001b[0m",
      "\u001b[1;31mTypeError\u001b[0m                                 Traceback (most recent call last)",
      "\u001b[1;32m~\\AppData\\Local\\Temp/ipykernel_15016/4002139606.py\u001b[0m in \u001b[0;36m<module>\u001b[1;34m\u001b[0m\n\u001b[1;32m----> 1\u001b[1;33m \u001b[0mprob_df\u001b[0m \u001b[1;33m=\u001b[0m \u001b[0mpd\u001b[0m\u001b[1;33m.\u001b[0m\u001b[0mconcat\u001b[0m\u001b[1;33m(\u001b[0m\u001b[0mdata\u001b[0m\u001b[1;33m[\u001b[0m\u001b[1;34m'survived'\u001b[0m\u001b[1;33m]\u001b[0m\u001b[1;33m,\u001b[0m \u001b[0mdata\u001b[0m\u001b[1;33m[\u001b[0m\u001b[1;34m'non_survived'\u001b[0m\u001b[1;33m]\u001b[0m\u001b[1;33m,\u001b[0m \u001b[0maxis\u001b[0m\u001b[1;33m=\u001b[0m\u001b[1;36m1\u001b[0m\u001b[1;33m)\u001b[0m\u001b[1;33m\u001b[0m\u001b[1;33m\u001b[0m\u001b[0m\n\u001b[0m\u001b[0;32m      2\u001b[0m \u001b[0mprob_df\u001b[0m\u001b[1;33m[\u001b[0m\u001b[1;34m'woe'\u001b[0m\u001b[1;33m]\u001b[0m \u001b[1;33m=\u001b[0m \u001b[0mnp\u001b[0m\u001b[1;33m.\u001b[0m\u001b[0mlog\u001b[0m\u001b[1;33m(\u001b[0m\u001b[0mprob_df\u001b[0m\u001b[1;33m[\u001b[0m\u001b[1;34m'survived'\u001b[0m\u001b[1;33m]\u001b[0m\u001b[1;33m/\u001b[0m\u001b[0mprob_df\u001b[0m\u001b[1;33m[\u001b[0m\u001b[1;34m'non_survived'\u001b[0m\u001b[1;33m]\u001b[0m\u001b[1;33m)\u001b[0m\u001b[1;33m\u001b[0m\u001b[1;33m\u001b[0m\u001b[0m\n\u001b[0;32m      3\u001b[0m \u001b[0mprob_df\u001b[0m\u001b[1;33m\u001b[0m\u001b[1;33m\u001b[0m\u001b[0m\n",
      "\u001b[1;32m~\\anaconda3\\lib\\site-packages\\pandas\\util\\_decorators.py\u001b[0m in \u001b[0;36mwrapper\u001b[1;34m(*args, **kwargs)\u001b[0m\n\u001b[0;32m    309\u001b[0m                     \u001b[0mstacklevel\u001b[0m\u001b[1;33m=\u001b[0m\u001b[0mstacklevel\u001b[0m\u001b[1;33m,\u001b[0m\u001b[1;33m\u001b[0m\u001b[1;33m\u001b[0m\u001b[0m\n\u001b[0;32m    310\u001b[0m                 )\n\u001b[1;32m--> 311\u001b[1;33m             \u001b[1;32mreturn\u001b[0m \u001b[0mfunc\u001b[0m\u001b[1;33m(\u001b[0m\u001b[1;33m*\u001b[0m\u001b[0margs\u001b[0m\u001b[1;33m,\u001b[0m \u001b[1;33m**\u001b[0m\u001b[0mkwargs\u001b[0m\u001b[1;33m)\u001b[0m\u001b[1;33m\u001b[0m\u001b[1;33m\u001b[0m\u001b[0m\n\u001b[0m\u001b[0;32m    312\u001b[0m \u001b[1;33m\u001b[0m\u001b[0m\n\u001b[0;32m    313\u001b[0m         \u001b[1;32mreturn\u001b[0m \u001b[0mwrapper\u001b[0m\u001b[1;33m\u001b[0m\u001b[1;33m\u001b[0m\u001b[0m\n",
      "\u001b[1;31mTypeError\u001b[0m: concat() got multiple values for argument 'axis'"
     ]
    }
   ],
   "source": [
    "prob_df = pd.concat(data['survived'], data['non_survived'], axis=1)\n",
    "prob_df['woe'] = np.log(prob_df['survived']/prob_df['non_survived'])\n",
    "prob_df"
   ]
  },
  {
   "cell_type": "code",
   "execution_count": 166,
   "metadata": {},
   "outputs": [
    {
     "data": {
      "text/plain": [
       "{0: inf,\n",
       " 1: inf,\n",
       " 2: -inf,\n",
       " 3: -inf,\n",
       " 4: -inf,\n",
       " 5: inf,\n",
       " 6: inf,\n",
       " 7: -inf,\n",
       " 8: inf,\n",
       " 9: -inf,\n",
       " 10: -inf,\n",
       " 11: inf,\n",
       " 12: inf,\n",
       " 13: inf,\n",
       " 14: inf,\n",
       " 15: -inf,\n",
       " 16: -inf,\n",
       " 17: inf,\n",
       " 18: inf,\n",
       " 19: -inf,\n",
       " 20: inf,\n",
       " 21: inf,\n",
       " 22: inf,\n",
       " 23: inf,\n",
       " 24: inf,\n",
       " 25: -inf,\n",
       " 26: inf,\n",
       " 27: inf,\n",
       " 28: inf,\n",
       " 29: inf,\n",
       " 31: inf,\n",
       " 32: inf,\n",
       " 33: inf,\n",
       " 34: -inf,\n",
       " 35: inf,\n",
       " 36: inf,\n",
       " 37: inf,\n",
       " 38: -inf,\n",
       " 39: -inf,\n",
       " 40: -inf,\n",
       " 41: inf,\n",
       " 42: inf,\n",
       " 43: inf,\n",
       " 44: inf,\n",
       " 45: -inf,\n",
       " 46: -inf,\n",
       " 47: inf,\n",
       " 48: inf,\n",
       " 49: inf,\n",
       " 50: inf,\n",
       " 51: -inf,\n",
       " 52: -inf,\n",
       " 53: -inf,\n",
       " 54: inf,\n",
       " 55: inf,\n",
       " 56: inf,\n",
       " 57: inf,\n",
       " 58: -inf,\n",
       " 59: inf,\n",
       " 60: -inf,\n",
       " 61: inf,\n",
       " 62: -inf,\n",
       " 63: inf,\n",
       " 64: inf,\n",
       " 65: inf,\n",
       " 66: inf,\n",
       " 67: inf,\n",
       " 68: inf,\n",
       " 69: inf,\n",
       " 70: -inf,\n",
       " 71: -inf,\n",
       " 72: inf,\n",
       " 73: inf,\n",
       " 74: -inf,\n",
       " 75: -inf,\n",
       " 76: inf,\n",
       " 77: -inf,\n",
       " 78: inf,\n",
       " 79: inf,\n",
       " 80: -inf,\n",
       " 81: -inf,\n",
       " 82: inf,\n",
       " 83: inf,\n",
       " 84: -inf,\n",
       " 85: inf,\n",
       " 86: inf,\n",
       " 87: inf,\n",
       " 88: inf,\n",
       " 89: -inf,\n",
       " 90: inf,\n",
       " 91: inf,\n",
       " 92: inf,\n",
       " 93: inf,\n",
       " 94: inf,\n",
       " 95: inf,\n",
       " 96: -inf,\n",
       " 97: inf,\n",
       " 98: inf,\n",
       " 99: inf,\n",
       " 100: inf,\n",
       " 101: -inf,\n",
       " 102: inf,\n",
       " 103: inf,\n",
       " 104: inf,\n",
       " 105: -inf,\n",
       " 106: -inf,\n",
       " 107: inf,\n",
       " 108: inf,\n",
       " 109: inf,\n",
       " 110: -inf,\n",
       " 111: inf,\n",
       " 112: inf,\n",
       " 113: inf,\n",
       " 114: -inf,\n",
       " 115: -inf,\n",
       " 116: inf,\n",
       " 117: inf,\n",
       " 118: -inf,\n",
       " 119: inf,\n",
       " 120: inf,\n",
       " 121: inf,\n",
       " 122: inf,\n",
       " 123: inf,\n",
       " 124: inf,\n",
       " 125: -inf,\n",
       " 126: -inf,\n",
       " 127: inf,\n",
       " 128: -inf,\n",
       " 129: inf,\n",
       " 130: inf,\n",
       " 131: inf,\n",
       " 132: -inf,\n",
       " 133: inf,\n",
       " 134: inf,\n",
       " 135: -inf,\n",
       " 136: inf,\n",
       " 137: inf,\n",
       " 138: -inf,\n",
       " 139: inf,\n",
       " 140: inf,\n",
       " 141: inf,\n",
       " 142: -inf,\n",
       " 143: inf,\n",
       " 144: inf,\n",
       " 145: inf,\n",
       " 146: inf,\n",
       " 147: -inf,\n",
       " 148: -inf,\n",
       " 149: inf,\n",
       " 150: -inf,\n",
       " 151: inf,\n",
       " 152: inf,\n",
       " 153: inf,\n",
       " 154: -inf,\n",
       " 155: inf,\n",
       " 156: -inf,\n",
       " 157: -inf,\n",
       " 158: -inf,\n",
       " 159: inf,\n",
       " 160: inf,\n",
       " 161: inf,\n",
       " 162: -inf,\n",
       " 163: inf,\n",
       " 164: inf,\n",
       " 165: inf,\n",
       " 166: -inf,\n",
       " 167: inf,\n",
       " 169: -inf,\n",
       " 170: inf,\n",
       " 171: -inf,\n",
       " 172: -inf,\n",
       " 173: -inf,\n",
       " 174: -inf,\n",
       " 175: -inf,\n",
       " 176: inf,\n",
       " 177: inf,\n",
       " 178: inf,\n",
       " 179: -inf,\n",
       " 180: inf,\n",
       " 181: inf,\n",
       " 182: inf,\n",
       " 183: inf,\n",
       " 184: -inf,\n",
       " 185: -inf,\n",
       " 186: inf,\n",
       " 187: inf,\n",
       " 188: inf,\n",
       " 189: -inf,\n",
       " 190: inf,\n",
       " 191: -inf,\n",
       " 192: inf,\n",
       " 193: inf,\n",
       " 194: -inf,\n",
       " 195: inf,\n",
       " 196: inf,\n",
       " 197: -inf,\n",
       " 198: inf,\n",
       " 199: inf,\n",
       " 200: -inf,\n",
       " 201: -inf,\n",
       " 202: inf,\n",
       " 203: -inf,\n",
       " 204: inf,\n",
       " 205: -inf,\n",
       " 206: -inf,\n",
       " 207: inf,\n",
       " 208: inf,\n",
       " 209: inf,\n",
       " 210: -inf,\n",
       " 211: -inf,\n",
       " 212: -inf,\n",
       " 213: inf,\n",
       " 214: inf,\n",
       " 215: -inf,\n",
       " 216: inf,\n",
       " 217: -inf,\n",
       " 218: inf,\n",
       " 219: inf,\n",
       " 220: inf,\n",
       " 221: -inf,\n",
       " 222: -inf,\n",
       " 223: -inf,\n",
       " 224: -inf,\n",
       " 225: -inf,\n",
       " 226: -inf,\n",
       " 227: inf,\n",
       " 228: -inf,\n",
       " 229: inf,\n",
       " 230: inf,\n",
       " 231: inf,\n",
       " 232: -inf,\n",
       " 233: inf,\n",
       " 234: -inf,\n",
       " 235: inf,\n",
       " 236: -inf,\n",
       " 237: -inf,\n",
       " 238: inf,\n",
       " 239: -inf,\n",
       " 240: inf,\n",
       " 241: -inf,\n",
       " 242: inf,\n",
       " 243: -inf,\n",
       " 244: -inf,\n",
       " 245: inf,\n",
       " 246: -inf,\n",
       " 247: inf,\n",
       " 248: -inf,\n",
       " 249: inf,\n",
       " 250: inf,\n",
       " 251: inf,\n",
       " 252: -inf,\n",
       " 253: inf,\n",
       " 254: inf,\n",
       " 255: inf,\n",
       " 256: inf,\n",
       " 257: inf,\n",
       " 258: inf,\n",
       " 259: inf,\n",
       " 260: inf,\n",
       " 261: inf,\n",
       " 262: -inf,\n",
       " 263: inf,\n",
       " 264: inf,\n",
       " 265: inf,\n",
       " 266: -inf,\n",
       " 267: -inf,\n",
       " 268: -inf,\n",
       " 269: -inf,\n",
       " 270: inf,\n",
       " 271: inf,\n",
       " 272: inf,\n",
       " 273: inf,\n",
       " 274: inf,\n",
       " 275: inf,\n",
       " 276: -inf,\n",
       " 277: inf,\n",
       " 278: inf,\n",
       " 279: -inf,\n",
       " 280: inf,\n",
       " 281: inf,\n",
       " 282: inf,\n",
       " 283: -inf,\n",
       " 285: -inf,\n",
       " 286: -inf,\n",
       " 287: -inf,\n",
       " 288: inf,\n",
       " 289: inf,\n",
       " 290: -inf,\n",
       " 291: inf,\n",
       " 292: inf,\n",
       " 293: inf,\n",
       " 294: -inf,\n",
       " 295: inf,\n",
       " 296: inf,\n",
       " 297: inf,\n",
       " 298: inf,\n",
       " 299: -inf,\n",
       " 300: -inf,\n",
       " 301: -inf,\n",
       " 302: inf,\n",
       " 303: -inf,\n",
       " 304: inf,\n",
       " 305: -inf,\n",
       " 306: -inf,\n",
       " 307: -inf,\n",
       " 308: inf,\n",
       " 309: inf,\n",
       " 310: -inf,\n",
       " 311: inf,\n",
       " 312: -inf,\n",
       " 313: -inf,\n",
       " 314: inf,\n",
       " 315: inf,\n",
       " 316: -inf,\n",
       " 317: inf,\n",
       " 318: -inf,\n",
       " 319: inf,\n",
       " 320: inf,\n",
       " 321: -inf,\n",
       " 322: inf,\n",
       " 323: -inf,\n",
       " 324: inf,\n",
       " 325: -inf,\n",
       " 326: -inf,\n",
       " 327: -inf,\n",
       " 328: -inf,\n",
       " 329: inf,\n",
       " 330: -inf,\n",
       " 331: -inf,\n",
       " 332: -inf,\n",
       " 333: inf,\n",
       " 334: -inf,\n",
       " 335: -inf,\n",
       " 336: inf,\n",
       " 337: inf,\n",
       " 338: -inf,\n",
       " 339: inf,\n",
       " 340: inf,\n",
       " 341: inf,\n",
       " 342: inf,\n",
       " 343: inf,\n",
       " 344: inf,\n",
       " 345: -inf,\n",
       " 346: -inf,\n",
       " 347: -inf,\n",
       " 348: -inf,\n",
       " 349: inf,\n",
       " 350: inf,\n",
       " 351: -inf,\n",
       " 352: inf,\n",
       " 353: inf,\n",
       " 354: -inf,\n",
       " 355: inf,\n",
       " 356: -inf,\n",
       " 357: -inf,\n",
       " 358: inf,\n",
       " 359: inf,\n",
       " 360: inf,\n",
       " 361: inf,\n",
       " 362: inf,\n",
       " 363: -inf,\n",
       " 364: -inf,\n",
       " 365: -inf,\n",
       " 366: -inf,\n",
       " 367: -inf,\n",
       " 368: -inf,\n",
       " 369: -inf,\n",
       " 370: inf,\n",
       " 371: inf,\n",
       " 372: -inf,\n",
       " 373: inf,\n",
       " 374: -inf,\n",
       " 375: -inf,\n",
       " 376: inf,\n",
       " 377: inf,\n",
       " 378: -inf,\n",
       " 379: inf,\n",
       " 380: inf,\n",
       " 381: -inf,\n",
       " 382: -inf,\n",
       " 383: -inf,\n",
       " 384: -inf,\n",
       " 385: inf,\n",
       " 386: -inf,\n",
       " 387: inf,\n",
       " 388: inf,\n",
       " 389: -inf,\n",
       " 390: -inf,\n",
       " 391: -inf,\n",
       " 392: inf,\n",
       " 393: -inf,\n",
       " 394: -inf,\n",
       " 395: inf,\n",
       " 396: inf,\n",
       " 397: -inf,\n",
       " 398: inf,\n",
       " 399: -inf,\n",
       " 400: inf,\n",
       " 401: inf,\n",
       " 402: inf,\n",
       " 403: -inf,\n",
       " 404: -inf,\n",
       " 405: -inf,\n",
       " 406: -inf,\n",
       " 407: inf,\n",
       " 408: -inf,\n",
       " 409: -inf,\n",
       " 410: -inf,\n",
       " 411: -inf,\n",
       " 412: -inf,\n",
       " 413: -inf,\n",
       " 414: -inf,\n",
       " 415: inf,\n",
       " 416: -inf,\n",
       " 417: -inf,\n",
       " 418: -inf,\n",
       " 419: -inf,\n",
       " 420: -inf,\n",
       " 421: -inf,\n",
       " 422: -inf,\n",
       " 423: -inf,\n",
       " 424: -inf,\n",
       " 425: -inf,\n",
       " 426: -inf,\n",
       " 427: inf,\n",
       " 428: inf,\n",
       " 429: -inf,\n",
       " 430: inf,\n",
       " 431: -inf,\n",
       " 432: inf,\n",
       " 433: -inf,\n",
       " 434: inf,\n",
       " 435: -inf,\n",
       " 436: inf,\n",
       " 437: inf,\n",
       " 438: inf,\n",
       " 439: -inf,\n",
       " 440: inf,\n",
       " 441: inf,\n",
       " 442: -inf,\n",
       " 443: -inf,\n",
       " 444: -inf,\n",
       " 445: -inf,\n",
       " 446: inf,\n",
       " 447: -inf,\n",
       " 448: -inf,\n",
       " 449: inf,\n",
       " 450: -inf,\n",
       " 451: -inf,\n",
       " 452: inf,\n",
       " 453: -inf,\n",
       " 454: inf,\n",
       " 455: -inf,\n",
       " 456: -inf,\n",
       " 457: -inf,\n",
       " 458: inf,\n",
       " 459: -inf,\n",
       " 460: inf,\n",
       " 461: -inf,\n",
       " 462: -inf,\n",
       " 463: -inf,\n",
       " 464: -inf,\n",
       " 465: inf,\n",
       " 466: -inf,\n",
       " 467: inf,\n",
       " 468: -inf,\n",
       " 469: inf,\n",
       " 470: -inf,\n",
       " 471: inf,\n",
       " 472: -inf,\n",
       " 473: -inf,\n",
       " 474: -inf,\n",
       " 475: -inf,\n",
       " 476: -inf,\n",
       " 477: -inf,\n",
       " 478: inf,\n",
       " 479: inf,\n",
       " 480: -inf,\n",
       " 481: inf,\n",
       " 482: inf,\n",
       " 483: inf,\n",
       " 484: inf,\n",
       " 485: -inf,\n",
       " 486: -inf,\n",
       " 487: -inf,\n",
       " 488: -inf,\n",
       " 489: inf,\n",
       " 490: -inf,\n",
       " 491: -inf,\n",
       " 492: inf,\n",
       " 493: -inf,\n",
       " 494: inf,\n",
       " 495: -inf,\n",
       " 496: -inf,\n",
       " 497: -inf,\n",
       " 498: -inf,\n",
       " 499: -inf,\n",
       " 500: -inf,\n",
       " 501: inf,\n",
       " 502: inf,\n",
       " 503: inf,\n",
       " 504: -inf,\n",
       " 505: -inf,\n",
       " 506: -inf,\n",
       " 507: -inf,\n",
       " 508: -inf,\n",
       " 509: -inf,\n",
       " 510: -inf,\n",
       " 511: -inf,\n",
       " 512: -inf,\n",
       " 513: inf,\n",
       " 514: inf,\n",
       " 515: inf,\n",
       " 516: -inf,\n",
       " 517: -inf,\n",
       " 518: -inf,\n",
       " 519: -inf,\n",
       " 520: inf,\n",
       " 521: inf,\n",
       " 522: -inf,\n",
       " 523: inf,\n",
       " 524: inf,\n",
       " 525: -inf,\n",
       " 526: inf,\n",
       " 527: -inf,\n",
       " 528: -inf,\n",
       " 529: inf,\n",
       " 530: -inf,\n",
       " 531: -inf,\n",
       " 532: -inf,\n",
       " 533: inf,\n",
       " 534: inf,\n",
       " 535: -inf,\n",
       " 536: inf,\n",
       " 537: -inf,\n",
       " 538: inf,\n",
       " 539: -inf,\n",
       " 540: inf,\n",
       " 541: inf,\n",
       " 542: inf,\n",
       " 543: -inf,\n",
       " 544: -inf,\n",
       " 545: inf,\n",
       " 546: inf,\n",
       " 547: -inf,\n",
       " 548: inf,\n",
       " 549: inf,\n",
       " 550: inf,\n",
       " 551: inf,\n",
       " 552: -inf,\n",
       " 553: inf,\n",
       " 554: -inf,\n",
       " 555: -inf,\n",
       " 556: -inf,\n",
       " 557: inf,\n",
       " 558: inf,\n",
       " 559: inf,\n",
       " 560: inf,\n",
       " 561: -inf,\n",
       " 562: inf,\n",
       " 563: -inf,\n",
       " 564: inf,\n",
       " 565: -inf,\n",
       " 566: -inf,\n",
       " 567: -inf,\n",
       " 568: -inf,\n",
       " 569: -inf,\n",
       " 570: inf,\n",
       " 571: -inf,\n",
       " 572: inf,\n",
       " 573: inf,\n",
       " 574: -inf,\n",
       " 575: -inf,\n",
       " 576: -inf,\n",
       " 577: inf,\n",
       " 578: -inf,\n",
       " 579: -inf,\n",
       " 580: inf,\n",
       " 581: -inf,\n",
       " 582: inf,\n",
       " 583: inf,\n",
       " 584: inf,\n",
       " 585: -inf,\n",
       " 586: inf,\n",
       " 587: inf,\n",
       " 588: inf,\n",
       " 589: inf,\n",
       " 590: inf,\n",
       " 591: inf,\n",
       " 592: -inf,\n",
       " 593: inf,\n",
       " 594: -inf,\n",
       " 595: -inf,\n",
       " 596: inf,\n",
       " 597: inf,\n",
       " 598: inf,\n",
       " 599: -inf,\n",
       " 600: -inf,\n",
       " 601: -inf,\n",
       " 602: -inf,\n",
       " 603: inf,\n",
       " 604: inf,\n",
       " 605: inf,\n",
       " 606: inf,\n",
       " 607: inf,\n",
       " 608: -inf,\n",
       " 609: -inf,\n",
       " 610: -inf,\n",
       " 611: inf,\n",
       " 612: inf,\n",
       " 613: inf,\n",
       " 614: -inf,\n",
       " 615: -inf,\n",
       " 616: -inf,\n",
       " 617: -inf,\n",
       " 618: -inf,\n",
       " 619: -inf,\n",
       " 620: -inf,\n",
       " 621: inf,\n",
       " 622: -inf,\n",
       " 623: -inf,\n",
       " 624: -inf,\n",
       " 625: inf,\n",
       " 626: -inf,\n",
       " 627: -inf,\n",
       " 628: -inf,\n",
       " 629: -inf,\n",
       " 630: inf,\n",
       " 631: -inf,\n",
       " 632: -inf,\n",
       " 633: -inf,\n",
       " 634: -inf,\n",
       " 635: -inf,\n",
       " 636: -inf,\n",
       " 637: -inf,\n",
       " 638: -inf,\n",
       " 639: -inf,\n",
       " 640: -inf,\n",
       " 641: inf,\n",
       " 642: -inf,\n",
       " 643: inf,\n",
       " 644: -inf,\n",
       " 645: inf,\n",
       " 646: inf,\n",
       " 647: inf,\n",
       " 648: -inf,\n",
       " 649: -inf,\n",
       " 650: -inf,\n",
       " 651: -inf,\n",
       " 652: -inf,\n",
       " 653: inf,\n",
       " 654: -inf,\n",
       " 655: -inf,\n",
       " 656: inf,\n",
       " 657: inf,\n",
       " 658: inf,\n",
       " 659: inf,\n",
       " 660: inf,\n",
       " 661: inf,\n",
       " 662: -inf,\n",
       " 663: -inf,\n",
       " 664: inf,\n",
       " 665: -inf,\n",
       " 666: -inf,\n",
       " 667: -inf,\n",
       " 668: -inf,\n",
       " 669: -inf,\n",
       " 670: -inf,\n",
       " 671: -inf,\n",
       " 672: -inf,\n",
       " 673: -inf,\n",
       " 674: inf,\n",
       " 675: -inf,\n",
       " 676: -inf,\n",
       " 677: -inf,\n",
       " 678: -inf,\n",
       " 679: -inf,\n",
       " 680: -inf,\n",
       " 681: -inf,\n",
       " 682: -inf,\n",
       " 683: -inf,\n",
       " 684: -inf,\n",
       " 685: -inf,\n",
       " 686: inf,\n",
       " 687: -inf,\n",
       " 688: -inf,\n",
       " 689: -inf,\n",
       " 690: -inf,\n",
       " 691: -inf,\n",
       " 692: -inf,\n",
       " 693: inf,\n",
       " 694: -inf,\n",
       " 695: -inf,\n",
       " 696: -inf,\n",
       " 697: -inf,\n",
       " 698: -inf,\n",
       " 699: -inf,\n",
       " 700: -inf,\n",
       " 701: -inf,\n",
       " 702: -inf,\n",
       " 703: -inf,\n",
       " 704: -inf,\n",
       " 705: -inf,\n",
       " 706: -inf,\n",
       " 707: -inf,\n",
       " 708: -inf,\n",
       " 709: inf,\n",
       " 710: -inf,\n",
       " 711: -inf,\n",
       " 712: -inf,\n",
       " 713: -inf,\n",
       " 714: inf,\n",
       " 715: -inf,\n",
       " 716: -inf,\n",
       " 717: -inf,\n",
       " 718: -inf,\n",
       " 719: inf,\n",
       " 720: -inf,\n",
       " 721: -inf,\n",
       " 722: -inf,\n",
       " 723: -inf,\n",
       " 724: -inf,\n",
       " 725: inf,\n",
       " 726: -inf,\n",
       " 727: -inf,\n",
       " 728: -inf,\n",
       " 729: -inf,\n",
       " 730: -inf,\n",
       " 731: -inf,\n",
       " 732: -inf,\n",
       " 733: inf,\n",
       " 734: inf,\n",
       " 735: inf,\n",
       " 736: -inf,\n",
       " 737: -inf,\n",
       " 738: inf,\n",
       " 739: -inf,\n",
       " 740: -inf,\n",
       " 741: -inf,\n",
       " 742: inf,\n",
       " 743: -inf,\n",
       " 744: -inf,\n",
       " 745: inf,\n",
       " 746: inf,\n",
       " 747: -inf,\n",
       " 748: -inf,\n",
       " 749: -inf,\n",
       " 750: -inf,\n",
       " 751: -inf,\n",
       " 752: -inf,\n",
       " 753: -inf,\n",
       " 754: -inf,\n",
       " 755: -inf,\n",
       " 756: -inf,\n",
       " 757: inf,\n",
       " 758: inf,\n",
       " 759: inf,\n",
       " 760: inf,\n",
       " 761: -inf,\n",
       " 762: inf,\n",
       " 763: inf,\n",
       " 764: -inf,\n",
       " 765: inf,\n",
       " 766: -inf,\n",
       " 767: -inf,\n",
       " 768: -inf,\n",
       " 769: -inf,\n",
       " 770: -inf,\n",
       " 771: inf,\n",
       " 772: -inf,\n",
       " 773: -inf,\n",
       " 774: -inf,\n",
       " 775: -inf,\n",
       " 776: -inf,\n",
       " 777: inf,\n",
       " 778: inf,\n",
       " 779: -inf,\n",
       " 780: inf,\n",
       " 781: -inf,\n",
       " 782: -inf,\n",
       " 783: inf,\n",
       " 784: -inf,\n",
       " 785: inf,\n",
       " 786: -inf,\n",
       " 787: -inf,\n",
       " 788: -inf,\n",
       " 789: -inf,\n",
       " 790: -inf,\n",
       " 791: -inf,\n",
       " 792: -inf,\n",
       " 793: -inf,\n",
       " 794: inf,\n",
       " 795: -inf,\n",
       " 796: -inf,\n",
       " 797: -inf,\n",
       " 798: inf,\n",
       " 799: -inf,\n",
       " 800: -inf,\n",
       " 801: -inf,\n",
       " 802: -inf,\n",
       " 803: -inf,\n",
       " 804: -inf,\n",
       " 805: inf,\n",
       " 806: -inf,\n",
       " 807: -inf,\n",
       " 808: -inf,\n",
       " 809: -inf,\n",
       " 810: -inf,\n",
       " 811: -inf,\n",
       " 812: -inf,\n",
       " 813: -inf,\n",
       " 814: -inf,\n",
       " 815: -inf,\n",
       " 816: -inf,\n",
       " 817: -inf,\n",
       " 818: inf,\n",
       " 819: inf,\n",
       " 820: inf,\n",
       " 821: -inf,\n",
       " 822: -inf,\n",
       " 823: inf,\n",
       " 824: -inf,\n",
       " 825: -inf,\n",
       " 826: -inf,\n",
       " 827: -inf,\n",
       " 828: -inf,\n",
       " 829: -inf,\n",
       " 830: -inf,\n",
       " 831: -inf,\n",
       " 832: -inf,\n",
       " 833: -inf,\n",
       " 834: -inf,\n",
       " 835: -inf,\n",
       " 836: -inf,\n",
       " 837: -inf,\n",
       " 838: -inf,\n",
       " 839: -inf,\n",
       " 840: -inf,\n",
       " 841: -inf,\n",
       " 842: -inf,\n",
       " 843: -inf,\n",
       " 844: -inf,\n",
       " 845: inf,\n",
       " 846: -inf,\n",
       " 847: -inf,\n",
       " 848: -inf,\n",
       " 849: -inf,\n",
       " 850: -inf,\n",
       " 851: inf,\n",
       " 852: -inf,\n",
       " 853: -inf,\n",
       " 854: -inf,\n",
       " 855: -inf,\n",
       " 856: inf,\n",
       " 857: inf,\n",
       " 858: inf,\n",
       " 859: -inf,\n",
       " 860: inf,\n",
       " 861: -inf,\n",
       " 862: inf,\n",
       " 863: -inf,\n",
       " 864: -inf,\n",
       " 865: -inf,\n",
       " 866: inf,\n",
       " 867: inf,\n",
       " 868: -inf,\n",
       " 869: -inf,\n",
       " 870: inf,\n",
       " 871: -inf,\n",
       " 872: inf,\n",
       " 873: -inf,\n",
       " 874: inf,\n",
       " 875: -inf,\n",
       " 876: -inf,\n",
       " 877: -inf,\n",
       " 878: -inf,\n",
       " 879: -inf,\n",
       " 880: inf,\n",
       " 881: inf,\n",
       " 882: -inf,\n",
       " 883: -inf,\n",
       " 884: -inf,\n",
       " 885: -inf,\n",
       " 886: inf,\n",
       " 887: inf,\n",
       " 888: -inf,\n",
       " 889: inf,\n",
       " 890: -inf,\n",
       " 891: -inf,\n",
       " 892: -inf,\n",
       " 893: -inf,\n",
       " 894: inf,\n",
       " 895: inf,\n",
       " 896: -inf,\n",
       " 897: -inf,\n",
       " 898: -inf,\n",
       " 899: inf,\n",
       " 900: -inf,\n",
       " 901: -inf,\n",
       " 902: -inf,\n",
       " 903: -inf,\n",
       " 904: -inf,\n",
       " 905: inf,\n",
       " 906: -inf,\n",
       " 907: -inf,\n",
       " 908: -inf,\n",
       " 909: inf,\n",
       " 910: -inf,\n",
       " 911: -inf,\n",
       " 912: -inf,\n",
       " 913: inf,\n",
       " 914: -inf,\n",
       " 915: -inf,\n",
       " 916: inf,\n",
       " 917: inf,\n",
       " 918: -inf,\n",
       " 919: -inf,\n",
       " 920: -inf,\n",
       " 921: -inf,\n",
       " 922: inf,\n",
       " 923: inf,\n",
       " 924: -inf,\n",
       " 925: -inf,\n",
       " 926: inf,\n",
       " 927: -inf,\n",
       " 928: -inf,\n",
       " 929: -inf,\n",
       " 930: -inf,\n",
       " 931: -inf,\n",
       " 932: -inf,\n",
       " 933: -inf,\n",
       " 934: inf,\n",
       " 935: inf,\n",
       " 936: inf,\n",
       " 937: -inf,\n",
       " 938: -inf,\n",
       " 939: -inf,\n",
       " 940: -inf,\n",
       " 941: inf,\n",
       " 942: -inf,\n",
       " 943: -inf,\n",
       " 944: -inf,\n",
       " 945: inf,\n",
       " 946: -inf,\n",
       " 947: inf,\n",
       " 948: -inf,\n",
       " 949: inf,\n",
       " 950: -inf,\n",
       " 951: -inf,\n",
       " 952: -inf,\n",
       " 953: inf,\n",
       " 954: -inf,\n",
       " 955: -inf,\n",
       " 956: -inf,\n",
       " 957: -inf,\n",
       " 958: -inf,\n",
       " 959: -inf,\n",
       " 960: -inf,\n",
       " 961: -inf,\n",
       " 962: -inf,\n",
       " 963: -inf,\n",
       " 964: -inf,\n",
       " 965: -inf,\n",
       " 966: -inf,\n",
       " 967: -inf,\n",
       " 968: -inf,\n",
       " 969: -inf,\n",
       " 970: inf,\n",
       " 971: -inf,\n",
       " 972: -inf,\n",
       " 973: -inf,\n",
       " 974: -inf,\n",
       " 975: -inf,\n",
       " 976: -inf,\n",
       " 977: -inf,\n",
       " 978: inf,\n",
       " 979: -inf,\n",
       " 980: inf,\n",
       " 981: inf,\n",
       " 982: -inf,\n",
       " 983: -inf,\n",
       " 984: inf,\n",
       " 985: inf,\n",
       " 986: -inf,\n",
       " 987: -inf,\n",
       " 988: -inf,\n",
       " 989: -inf,\n",
       " 990: -inf,\n",
       " 991: inf,\n",
       " 992: -inf,\n",
       " 993: inf,\n",
       " 994: -inf,\n",
       " 995: -inf,\n",
       " 996: -inf,\n",
       " 997: inf,\n",
       " 998: -inf,\n",
       " 999: inf,\n",
       " 1000: inf,\n",
       " 1001: inf,\n",
       " 1002: inf,\n",
       " ...}"
      ]
     },
     "execution_count": 166,
     "metadata": {},
     "output_type": "execute_result"
    }
   ],
   "source": [
    "ordered_labels = prob_df['woe'].to_dict()\n",
    "ordered_labels"
   ]
  },
  {
   "cell_type": "markdown",
   "metadata": {},
   "source": [
    "**Capture the woe in a dictionary!**"
   ]
  },
  {
   "cell_type": "code",
   "execution_count": 167,
   "metadata": {},
   "outputs": [],
   "source": [
    "X_train['cabin'] = X_train['cabin'].map(ordered_labels)\n",
    "X_test['cabin'] = X_test['cabin'].map(ordered_labels)"
   ]
  },
  {
   "cell_type": "markdown",
   "metadata": {},
   "source": [
    "**Replace the labels with the woe!**"
   ]
  },
  {
   "cell_type": "code",
   "execution_count": 168,
   "metadata": {},
   "outputs": [],
   "source": [
    "def find_category_mappings(df, variable, target):\n",
    "    tmp = df.copy()  # copy of the original dataframe\n",
    "    total_pos = df[target].sum() # total positive class\n",
    "    total_neg = len(df) - df[target].sum() # total negative class\n",
    "    tmp['non-target'] = 1 - tmp[target] # non target\n",
    "    pos_perc = tmp.groupby([variable])[target].sum() / total_pos  # % of positive class\n",
    "    neg_perc = tmp.groupby([variable])['non-target'].sum() / total_neg  # % of negative clas\n",
    "    prob_tmp = pd.concat([pos_perc, neg_perc], axis=1)  # Concatenate\n",
    "    prob_tmp['woe'] = np.log(prob_tmp[target]/prob_tmp['non-target']) # WoE\n",
    "    return prob_tmp['woe'].to_dict()\n",
    "def integer_encode(train, test, variable, ordinal_mapping):\n",
    "    train[variable] = train[variable].map(ordinal_mapping)\n",
    "    test[variable] = test[variable].map(ordinal_mapping)"
   ]
  },
  {
   "cell_type": "markdown",
   "metadata": {},
   "source": [
    "**Explore the result!**"
   ]
  },
  {
   "cell_type": "code",
   "execution_count": 169,
   "metadata": {},
   "outputs": [],
   "source": [
    "for variable in ['sex', 'embarked']:\n",
    "    mappings = find_category_mappings(X_train, variable, 'survived')\n",
    "    integer_encode(X_train, X_test, variable, mappings)"
   ]
  },
  {
   "cell_type": "markdown",
   "metadata": {},
   "source": [
    "**Turn the previous commands into 2 functions!**"
   ]
  },
  {
   "cell_type": "code",
   "execution_count": 170,
   "metadata": {},
   "outputs": [
    {
     "data": {
      "text/html": [
       "<div>\n",
       "<style scoped>\n",
       "    .dataframe tbody tr th:only-of-type {\n",
       "        vertical-align: middle;\n",
       "    }\n",
       "\n",
       "    .dataframe tbody tr th {\n",
       "        vertical-align: top;\n",
       "    }\n",
       "\n",
       "    .dataframe thead th {\n",
       "        text-align: right;\n",
       "    }\n",
       "</style>\n",
       "<table border=\"1\" class=\"dataframe\">\n",
       "  <thead>\n",
       "    <tr style=\"text-align: right;\">\n",
       "      <th></th>\n",
       "      <th>cabin</th>\n",
       "      <th>sex</th>\n",
       "      <th>embarked</th>\n",
       "      <th>survived</th>\n",
       "      <th>non_survived</th>\n",
       "    </tr>\n",
       "  </thead>\n",
       "  <tbody>\n",
       "    <tr>\n",
       "      <th>843</th>\n",
       "      <td>NaN</td>\n",
       "      <td>-1.013111</td>\n",
       "      <td>-0.164796</td>\n",
       "      <td>0</td>\n",
       "      <td>1</td>\n",
       "    </tr>\n",
       "    <tr>\n",
       "      <th>869</th>\n",
       "      <td>NaN</td>\n",
       "      <td>-1.013111</td>\n",
       "      <td>-0.164796</td>\n",
       "      <td>0</td>\n",
       "      <td>1</td>\n",
       "    </tr>\n",
       "    <tr>\n",
       "      <th>430</th>\n",
       "      <td>NaN</td>\n",
       "      <td>1.535068</td>\n",
       "      <td>-0.164796</td>\n",
       "      <td>1</td>\n",
       "      <td>0</td>\n",
       "    </tr>\n",
       "    <tr>\n",
       "      <th>481</th>\n",
       "      <td>NaN</td>\n",
       "      <td>1.535068</td>\n",
       "      <td>0.658871</td>\n",
       "      <td>1</td>\n",
       "      <td>0</td>\n",
       "    </tr>\n",
       "    <tr>\n",
       "      <th>1308</th>\n",
       "      <td>NaN</td>\n",
       "      <td>-1.013111</td>\n",
       "      <td>-0.164796</td>\n",
       "      <td>0</td>\n",
       "      <td>1</td>\n",
       "    </tr>\n",
       "  </tbody>\n",
       "</table>\n",
       "</div>"
      ],
      "text/plain": [
       "      cabin       sex  embarked  survived  non_survived\n",
       "843     NaN -1.013111 -0.164796         0             1\n",
       "869     NaN -1.013111 -0.164796         0             1\n",
       "430     NaN  1.535068 -0.164796         1             0\n",
       "481     NaN  1.535068  0.658871         1             0\n",
       "1308    NaN -1.013111 -0.164796         0             1"
      ]
     },
     "execution_count": 170,
     "metadata": {},
     "output_type": "execute_result"
    }
   ],
   "source": [
    "X_train.head()"
   ]
  },
  {
   "cell_type": "markdown",
   "metadata": {},
   "source": [
    "**A loop over the remaining categorical variables!**"
   ]
  },
  {
   "cell_type": "code",
   "execution_count": 171,
   "metadata": {},
   "outputs": [
    {
     "data": {
      "image/png": "[encoded data removed]",
      "text/plain": [
       "<Figure size 432x288 with 1 Axes>"
      ]
     },
     "metadata": {
      "needs_background": "light"
     },
     "output_type": "display_data"
    },
    {
     "data": {
      "image/png": "[encoded data removed]",
      "text/plain": [
       "<Figure size 432x288 with 1 Axes>"
      ]
     },
     "metadata": {
      "needs_background": "light"
     },
     "output_type": "display_data"
    },
    {
     "data": {
      "image/png": "[encoded data removed]",
      "text/plain": [
       "<Figure size 432x288 with 1 Axes>"
      ]
     },
     "metadata": {
      "needs_background": "light"
     },
     "output_type": "display_data"
    }
   ],
   "source": [
    "for var in ['cabin', 'sex', 'embarked']:\n",
    "    fig = plt.figure()\n",
    "    fig = X_train.groupby([var])['survived'].mean().plot()\n",
    "    fig.set_title('Monotonic relationship between {} and Survival'.format(var))\n",
    "    fig.set_ylabel('Mean Survived')\n",
    "    plt.show()"
   ]
  },
  {
   "cell_type": "markdown",
   "metadata": {},
   "source": [
    "**Check the result!**"
   ]
  },
  {
   "cell_type": "markdown",
   "metadata": {},
   "source": [
    "Note the monotonic relationships between the mean target and the categories. In the train set."
   ]
  },
  {
   "cell_type": "markdown",
   "metadata": {},
   "source": [
    "Inspect the created **monotonic relationship between the categorical variables and the target!**"
   ]
  },
  {
   "cell_type": "markdown",
   "metadata": {},
   "source": [
    "**M**"
   ]
  },
  {
   "cell_type": "markdown",
   "metadata": {},
   "source": [
    "**Now in the test set!**"
   ]
  },
  {
   "cell_type": "code",
   "execution_count": 172,
   "metadata": {},
   "outputs": [
    {
     "data": {
      "image/png": "[encoded data removed]",
      "text/plain": [
       "<Figure size 432x288 with 1 Axes>"
      ]
     },
     "metadata": {
      "needs_background": "light"
     },
     "output_type": "display_data"
    },
    {
     "data": {
      "image/png": "[encoded data removed]",
      "text/plain": [
       "<Figure size 432x288 with 1 Axes>"
      ]
     },
     "metadata": {
      "needs_background": "light"
     },
     "output_type": "display_data"
    },
    {
     "data": {
      "image/png": "[encoded data removed]",
      "text/plain": [
       "<Figure size 432x288 with 1 Axes>"
      ]
     },
     "metadata": {
      "needs_background": "light"
     },
     "output_type": "display_data"
    }
   ],
   "source": [
    "for var in ['cabin', 'sex', 'embarked']:\n",
    "    fig = plt.figure()\n",
    "    fig = X_test.groupby([var])['survived'].mean().plot()\n",
    "    fig.set_title('Monotonic relationship between {} and Survival'.format(var))\n",
    "    fig.set_ylabel('Mean Survived')\n",
    "    plt.show()"
   ]
  },
  {
   "cell_type": "markdown",
   "metadata": {},
   "source": [
    "The monotonic relationship does not hold when encoding the **categorical variables in the test set**. This could mean that **the categories are not informative of the target** or the proportion of survivors is not homogeneous between in the categories in the train and test sets. In situations like this, we could try **grouping rare labels into a joint category** as we will cover later in this section, before applying the Weight of evidence transformation. **Note:** Replacing categorical labels with this code and method will generate missing values for categories present in the test set that were not seen in the training set. Therefore it is extremely important to **handle rare labels** before-hand. It will be explained later! **In addition, it will create NA or Inf if any of the 2 terms in the ratio of the WoE formula are 0**"
   ]
  },
  {
   "cell_type": "markdown",
   "metadata": {
    "tags": []
   },
   "source": [
    "## Weight of Evidence with Feature-Engine\n",
    "\n"
   ]
  },
  {
   "cell_type": "code",
   "execution_count": 173,
   "metadata": {},
   "outputs": [
    {
     "data": {
      "text/plain": [
       "((914, 3), (392, 3))"
      ]
     },
     "execution_count": 173,
     "metadata": {},
     "output_type": "execute_result"
    }
   ],
   "source": [
    "X_train, X_test, y_train, y_test = train_test_split(\n",
    "    data[['cabin', 'sex', 'embarked']],  # predictors\n",
    "    data['survived'],  # target\n",
    "    test_size=0.3,  # percentage of obs in test set\n",
    "    random_state=0)  # seed to ensure reproducibility\n",
    "X_train.shape, X_test.shape"
   ]
  },
  {
   "cell_type": "code",
   "execution_count": 174,
   "metadata": {},
   "outputs": [],
   "source": [
    "woe_enc = fe_WoEEncoder(variables=['cabin', 'sex', 'embarked'])"
   ]
  },
  {
   "cell_type": "markdown",
   "metadata": {},
   "source": [
    "**When fitting the transformer, we need to pass the target as well just like with any Scikit-learn predictor class!**"
   ]
  },
  {
   "cell_type": "code",
   "execution_count": 175,
   "metadata": {},
   "outputs": [
    {
     "data": {
      "text/plain": [
       "WoEEncoder(variables=['cabin', 'sex', 'embarked'])"
      ]
     },
     "execution_count": 175,
     "metadata": {},
     "output_type": "execute_result"
    }
   ],
   "source": [
    "woe_enc.fit(X_train, y_train)"
   ]
  },
  {
   "cell_type": "markdown",
   "metadata": {},
   "source": [
    "**In the encoder dict we see the woe for each category for each of the selected variables!**"
   ]
  },
  {
   "cell_type": "code",
   "execution_count": 176,
   "metadata": {
    "scrolled": true
   },
   "outputs": [
    {
     "data": {
      "text/plain": [
       "{'cabin': {'A': 0.1529838185513379,\n",
       "  'B': 1.545750694176846,\n",
       "  'C': 0.9151238705982346,\n",
       "  'D': 1.3425678854251744,\n",
       "  'E': 1.356956622877274,\n",
       "  'F': 1.7136315668160063,\n",
       "  'G': 1.60827105115818,\n",
       "  'n': -0.37507116447186734},\n",
       " 'sex': {'female': 1.535067647134885, 'male': -1.0131107672983564},\n",
       " 'embarked': {'C': 0.658871160676746,\n",
       "  'Q': -0.3265892617105483,\n",
       "  'S': -0.16479628505772237}}"
      ]
     },
     "execution_count": 176,
     "metadata": {},
     "output_type": "execute_result"
    }
   ],
   "source": [
    "woe_enc.encoder_dict_"
   ]
  },
  {
   "cell_type": "markdown",
   "metadata": {},
   "source": [
    "**The list of variables that the encoder will transform!**"
   ]
  },
  {
   "cell_type": "code",
   "execution_count": 177,
   "metadata": {},
   "outputs": [
    {
     "data": {
      "text/plain": [
       "['cabin', 'sex', 'embarked']"
      ]
     },
     "execution_count": 177,
     "metadata": {},
     "output_type": "execute_result"
    }
   ],
   "source": [
    "woe_enc.variables_"
   ]
  },
  {
   "cell_type": "markdown",
   "metadata": {},
   "source": [
    "**Explore the result!**"
   ]
  },
  {
   "cell_type": "code",
   "execution_count": 178,
   "metadata": {},
   "outputs": [
    {
     "data": {
      "text/html": [
       "<div>\n",
       "<style scoped>\n",
       "    .dataframe tbody tr th:only-of-type {\n",
       "        vertical-align: middle;\n",
       "    }\n",
       "\n",
       "    .dataframe tbody tr th {\n",
       "        vertical-align: top;\n",
       "    }\n",
       "\n",
       "    .dataframe thead th {\n",
       "        text-align: right;\n",
       "    }\n",
       "</style>\n",
       "<table border=\"1\" class=\"dataframe\">\n",
       "  <thead>\n",
       "    <tr style=\"text-align: right;\">\n",
       "      <th></th>\n",
       "      <th>cabin</th>\n",
       "      <th>sex</th>\n",
       "      <th>embarked</th>\n",
       "    </tr>\n",
       "  </thead>\n",
       "  <tbody>\n",
       "    <tr>\n",
       "      <th>843</th>\n",
       "      <td>-0.375071</td>\n",
       "      <td>-1.013111</td>\n",
       "      <td>-0.164796</td>\n",
       "    </tr>\n",
       "    <tr>\n",
       "      <th>869</th>\n",
       "      <td>-0.375071</td>\n",
       "      <td>-1.013111</td>\n",
       "      <td>-0.164796</td>\n",
       "    </tr>\n",
       "    <tr>\n",
       "      <th>430</th>\n",
       "      <td>-0.375071</td>\n",
       "      <td>1.535068</td>\n",
       "      <td>-0.164796</td>\n",
       "    </tr>\n",
       "    <tr>\n",
       "      <th>481</th>\n",
       "      <td>-0.375071</td>\n",
       "      <td>1.535068</td>\n",
       "      <td>0.658871</td>\n",
       "    </tr>\n",
       "    <tr>\n",
       "      <th>1308</th>\n",
       "      <td>-0.375071</td>\n",
       "      <td>-1.013111</td>\n",
       "      <td>-0.164796</td>\n",
       "    </tr>\n",
       "  </tbody>\n",
       "</table>\n",
       "</div>"
      ],
      "text/plain": [
       "         cabin       sex  embarked\n",
       "843  -0.375071 -1.013111 -0.164796\n",
       "869  -0.375071 -1.013111 -0.164796\n",
       "430  -0.375071  1.535068 -0.164796\n",
       "481  -0.375071  1.535068  0.658871\n",
       "1308 -0.375071 -1.013111 -0.164796"
      ]
     },
     "execution_count": 178,
     "metadata": {},
     "output_type": "execute_result"
    }
   ],
   "source": [
    "X_train = woe_enc.transform(X_train)\n",
    "X_test = woe_enc.transform(X_test)\n",
    "X_train.head()"
   ]
  },
  {
   "cell_type": "markdown",
   "metadata": {},
   "source": [
    "**Note**\n",
    "\n",
    "If the **argument variables is left to None**, then the encoder will **automatically identify all categorical variables.** The encoder will **not encode numerical variables.** So if some of your numerical variables are in fact categories, you will need to re-cast them as object before using the encoder. If **there is a label in the test set that was not present in the train set**, the encoder will **through and error**, to alert you of this behaviour. **Finally**, if any of the terms in the weight of evidence calculation is 0, the log of 0 is not defined, so this transformer will raise an error."
   ]
  },
  {
   "cell_type": "markdown",
   "metadata": {
    "tags": []
   },
   "source": [
    "## Weight of Evidence with Category Encoders\n",
    "\n",
    "If using Category encpders, instead of pandas, we do not need to keep the target variable in the training dataset."
   ]
  },
  {
   "cell_type": "code",
   "execution_count": 179,
   "metadata": {},
   "outputs": [
    {
     "data": {
      "text/plain": [
       "((914, 3), (392, 3))"
      ]
     },
     "execution_count": 179,
     "metadata": {},
     "output_type": "execute_result"
    }
   ],
   "source": [
    "X_train, X_test, y_train, y_test = train_test_split(\n",
    "    data[['cabin', 'sex', 'embarked']],  # predictors\n",
    "    data['survived'],  # target\n",
    "    test_size=0.3,  # percentage of obs in test set\n",
    "    random_state=0)  # seed to ensure reproducibility\n",
    "X_train.shape, X_test.shape"
   ]
  },
  {
   "cell_type": "code",
   "execution_count": 180,
   "metadata": {},
   "outputs": [],
   "source": [
    "woe_enc = WOEEncoder(cols=['cabin', 'sex', 'embarked'])"
   ]
  },
  {
   "cell_type": "code",
   "execution_count": 181,
   "metadata": {},
   "outputs": [
    {
     "data": {
      "text/plain": [
       "WOEEncoder(cols=['cabin', 'sex', 'embarked'])"
      ]
     },
     "execution_count": 181,
     "metadata": {},
     "output_type": "execute_result"
    }
   ],
   "source": [
    "woe_enc.fit(X_train, y_train)"
   ]
  },
  {
   "cell_type": "markdown",
   "metadata": {},
   "source": [
    "**The mappings in category encoders are not so easy to interpret!**"
   ]
  },
  {
   "cell_type": "code",
   "execution_count": 182,
   "metadata": {},
   "outputs": [
    {
     "data": {
      "text/plain": [
       "{'cabin': cabin\n",
       "  1   -0.374548\n",
       "  2    1.287500\n",
       "  3    1.295799\n",
       "  4    0.901246\n",
       "  5    1.518942\n",
       "  6    0.188888\n",
       "  7    1.488171\n",
       "  8    1.200488\n",
       " -1    0.000000\n",
       " -2    0.000000\n",
       " dtype: float64,\n",
       " 'sex': sex\n",
       "  1   -1.008094\n",
       "  2    1.525265\n",
       " -1    0.000000\n",
       " -2    0.000000\n",
       " dtype: float64,\n",
       " 'embarked': embarked\n",
       "  1   -0.164851\n",
       "  2    0.654977\n",
       "  3   -0.307696\n",
       " -1    0.000000\n",
       " -2    0.000000\n",
       " dtype: float64}"
      ]
     },
     "execution_count": 182,
     "metadata": {},
     "output_type": "execute_result"
    }
   ],
   "source": [
    "woe_enc.mapping"
   ]
  },
  {
   "cell_type": "markdown",
   "metadata": {},
   "source": [
    "**Explore the result!**"
   ]
  },
  {
   "cell_type": "code",
   "execution_count": 183,
   "metadata": {},
   "outputs": [
    {
     "data": {
      "text/html": [
       "<div>\n",
       "<style scoped>\n",
       "    .dataframe tbody tr th:only-of-type {\n",
       "        vertical-align: middle;\n",
       "    }\n",
       "\n",
       "    .dataframe tbody tr th {\n",
       "        vertical-align: top;\n",
       "    }\n",
       "\n",
       "    .dataframe thead th {\n",
       "        text-align: right;\n",
       "    }\n",
       "</style>\n",
       "<table border=\"1\" class=\"dataframe\">\n",
       "  <thead>\n",
       "    <tr style=\"text-align: right;\">\n",
       "      <th></th>\n",
       "      <th>cabin</th>\n",
       "      <th>sex</th>\n",
       "      <th>embarked</th>\n",
       "    </tr>\n",
       "  </thead>\n",
       "  <tbody>\n",
       "    <tr>\n",
       "      <th>843</th>\n",
       "      <td>-0.374548</td>\n",
       "      <td>-1.008094</td>\n",
       "      <td>-0.164851</td>\n",
       "    </tr>\n",
       "    <tr>\n",
       "      <th>869</th>\n",
       "      <td>-0.374548</td>\n",
       "      <td>-1.008094</td>\n",
       "      <td>-0.164851</td>\n",
       "    </tr>\n",
       "    <tr>\n",
       "      <th>430</th>\n",
       "      <td>-0.374548</td>\n",
       "      <td>1.525265</td>\n",
       "      <td>-0.164851</td>\n",
       "    </tr>\n",
       "    <tr>\n",
       "      <th>481</th>\n",
       "      <td>-0.374548</td>\n",
       "      <td>1.525265</td>\n",
       "      <td>0.654977</td>\n",
       "    </tr>\n",
       "    <tr>\n",
       "      <th>1308</th>\n",
       "      <td>-0.374548</td>\n",
       "      <td>-1.008094</td>\n",
       "      <td>-0.164851</td>\n",
       "    </tr>\n",
       "  </tbody>\n",
       "</table>\n",
       "</div>"
      ],
      "text/plain": [
       "         cabin       sex  embarked\n",
       "843  -0.374548 -1.008094 -0.164851\n",
       "869  -0.374548 -1.008094 -0.164851\n",
       "430  -0.374548  1.525265 -0.164851\n",
       "481  -0.374548  1.525265  0.654977\n",
       "1308 -0.374548 -1.008094 -0.164851"
      ]
     },
     "execution_count": 183,
     "metadata": {},
     "output_type": "execute_result"
    }
   ],
   "source": [
    "X_train = woe_enc.transform(X_train)\n",
    "X_test = woe_enc.transform(X_test)\n",
    "X_train.head()"
   ]
  },
  {
   "cell_type": "code",
   "execution_count": null,
   "metadata": {},
   "outputs": [],
   "source": []
  },
  {
   "cell_type": "code",
   "execution_count": null,
   "metadata": {},
   "outputs": [],
   "source": []
  },
  {
   "cell_type": "code",
   "execution_count": null,
   "metadata": {},
   "outputs": [],
   "source": []
  },
  {
   "cell_type": "code",
   "execution_count": null,
   "metadata": {},
   "outputs": [],
   "source": []
  },
  {
   "cell_type": "code",
   "execution_count": null,
   "metadata": {},
   "outputs": [],
   "source": []
  }
 ],
 "metadata": {
  "kernelspec": {
   "display_name": "Python 3 (ipykernel)",
   "language": "python",
   "name": "python3"
  },
  "language_info": {
   "codemirror_mode": {
    "name": "ipython",
    "version": 3
   },
   "file_extension": ".py",
   "mimetype": "text/x-python",
   "name": "python",
   "nbconvert_exporter": "python",
   "pygments_lexer": "ipython3",
   "version": "3.9.7"
  },
  "toc": {
   "base_numbering": 1,
   "nav_menu": {},
   "number_sections": true,
   "sideBar": true,
   "skip_h1_title": false,
   "title_cell": "Table of Contents",
   "title_sidebar": "Contents",
   "toc_cell": false,
   "toc_position": {},
   "toc_section_display": "block",
   "toc_window_display": true
  }
 },
 "nbformat": 4,
 "nbformat_minor": 4
}
