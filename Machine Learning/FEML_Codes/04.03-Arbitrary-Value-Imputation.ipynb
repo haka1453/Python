{
 "cells": [
  {
   "cell_type": "markdown",
   "metadata": {},
   "source": [
    "## Arbitrary value imputation\n",
    "\n",
    "**Arbitrary value imputation** consists of replacing all occurrences of missing values (NA) within a variable by an arbitrary value. **Typically used arbitrary values are 0, 999, -999** (or other combinations of 9s) or -1 (if the distribution is positive). **Both categorical and numerical variables can be imputed by arbitrary values**. **For categorical variables, this is very common practice**. Data should be **not missing at random**. Easy to implement and fast. It can be integrated in production (during model deployment). It captures the importance of \"missingness\" if there is one. It \n",
    "distorts the original variable, variance, covariance and may mask or create outliers."
   ]
  },
  {
   "cell_type": "code",
   "execution_count": 1,
   "metadata": {},
   "outputs": [],
   "source": [
    "import pandas as pd\n",
    "import numpy as np\n",
    "import matplotlib.pyplot as plt\n",
    "from sklearn.model_selection import train_test_split"
   ]
  },
  {
   "cell_type": "code",
   "execution_count": 2,
   "metadata": {
    "scrolled": true
   },
   "outputs": [
    {
     "data": {
      "text/html": [
       "<div>\n",
       "<style scoped>\n",
       "    .dataframe tbody tr th:only-of-type {\n",
       "        vertical-align: middle;\n",
       "    }\n",
       "\n",
       "    .dataframe tbody tr th {\n",
       "        vertical-align: top;\n",
       "    }\n",
       "\n",
       "    .dataframe thead th {\n",
       "        text-align: right;\n",
       "    }\n",
       "</style>\n",
       "<table border=\"1\" class=\"dataframe\">\n",
       "  <thead>\n",
       "    <tr style=\"text-align: right;\">\n",
       "      <th></th>\n",
       "      <th>survived</th>\n",
       "      <th>age</th>\n",
       "      <th>fare</th>\n",
       "    </tr>\n",
       "  </thead>\n",
       "  <tbody>\n",
       "    <tr>\n",
       "      <th>0</th>\n",
       "      <td>1</td>\n",
       "      <td>29.0000</td>\n",
       "      <td>211.3375</td>\n",
       "    </tr>\n",
       "    <tr>\n",
       "      <th>1</th>\n",
       "      <td>1</td>\n",
       "      <td>0.9167</td>\n",
       "      <td>151.5500</td>\n",
       "    </tr>\n",
       "    <tr>\n",
       "      <th>2</th>\n",
       "      <td>0</td>\n",
       "      <td>2.0000</td>\n",
       "      <td>151.5500</td>\n",
       "    </tr>\n",
       "    <tr>\n",
       "      <th>3</th>\n",
       "      <td>0</td>\n",
       "      <td>30.0000</td>\n",
       "      <td>151.5500</td>\n",
       "    </tr>\n",
       "    <tr>\n",
       "      <th>4</th>\n",
       "      <td>0</td>\n",
       "      <td>25.0000</td>\n",
       "      <td>151.5500</td>\n",
       "    </tr>\n",
       "  </tbody>\n",
       "</table>\n",
       "</div>"
      ],
      "text/plain": [
       "   survived      age      fare\n",
       "0         1  29.0000  211.3375\n",
       "1         1   0.9167  151.5500\n",
       "2         0   2.0000  151.5500\n",
       "3         0  30.0000  151.5500\n",
       "4         0  25.0000  151.5500"
      ]
     },
     "execution_count": 2,
     "metadata": {},
     "output_type": "execute_result"
    }
   ],
   "source": [
    "data = pd.read_csv('titanic.csv', usecols=['age', 'fare', 'survived'])\n",
    "data.head()"
   ]
  },
  {
   "cell_type": "markdown",
   "metadata": {},
   "source": [
    "**Percentage of NA !**"
   ]
  },
  {
   "cell_type": "code",
   "execution_count": 3,
   "metadata": {},
   "outputs": [
    {
     "data": {
      "text/plain": [
       "survived    0.000000\n",
       "age         0.200917\n",
       "fare        0.000764\n",
       "dtype: float64"
      ]
     },
     "execution_count": 3,
     "metadata": {},
     "output_type": "execute_result"
    }
   ],
   "source": [
    "data.isnull().mean()"
   ]
  },
  {
   "cell_type": "markdown",
   "metadata": {},
   "source": [
    "The only variable with missing data is Age, with ~20% of missing observations.\n",
    "\n",
    "### Imputation important\n",
    "\n",
    "**Imputation should be done over the training set**, and then propagated to the test set. For arbitrary value imputation this is **not so important**, because we chose the value arbitrarily, however it is good to adhere to this practice and select the arbitrary value by looking only at the distribution of the variables in the train set."
   ]
  },
  {
   "cell_type": "code",
   "execution_count": 4,
   "metadata": {},
   "outputs": [
    {
     "data": {
      "text/plain": [
       "((916, 2), (393, 2))"
      ]
     },
     "execution_count": 4,
     "metadata": {},
     "output_type": "execute_result"
    }
   ],
   "source": [
    "X_train, X_test, y_train, y_test = train_test_split(  # let's separate \n",
    "    data[['age', 'fare']],  # predictors\n",
    "    data['survived'],  # target\n",
    "    test_size=0.3,  # percentage of obs in test set\n",
    "    random_state=0)  # seed to ensure reproducibility\n",
    "X_train.shape, X_test.shape"
   ]
  },
  {
   "cell_type": "markdown",
   "metadata": {},
   "source": [
    "**Explore the missing data percentages in training set!**"
   ]
  },
  {
   "cell_type": "code",
   "execution_count": 5,
   "metadata": {},
   "outputs": [
    {
     "data": {
      "text/plain": [
       "age     0.191048\n",
       "fare    0.000000\n",
       "dtype: float64"
      ]
     },
     "execution_count": 5,
     "metadata": {},
     "output_type": "execute_result"
    }
   ],
   "source": [
    "X_train.isnull().mean()    "
   ]
  },
  {
   "cell_type": "code",
   "execution_count": 6,
   "metadata": {},
   "outputs": [],
   "source": [
    "def impute_na(df, variable, value):\n",
    "    return df[variable].fillna(value)"
   ]
  },
  {
   "cell_type": "markdown",
   "metadata": {},
   "source": [
    "**Explore the distribution of the variables to decide which arbitrary value to use!**"
   ]
  },
  {
   "cell_type": "code",
   "execution_count": 7,
   "metadata": {
    "scrolled": true
   },
   "outputs": [
    {
     "data": {
      "image/png": "[encoded data removed]",
      "text/plain": [
       "<Figure size 432x288 with 2 Axes>"
      ]
     },
     "metadata": {
      "needs_background": "light"
     },
     "output_type": "display_data"
    }
   ],
   "source": [
    "\n",
    "X_train.hist(bins=50)\n",
    "plt.show()"
   ]
  },
  {
   "cell_type": "markdown",
   "metadata": {},
   "source": [
    "**Use 99 and -1 alternatively!**"
   ]
  },
  {
   "cell_type": "code",
   "execution_count": 8,
   "metadata": {},
   "outputs": [
    {
     "data": {
      "text/html": [
       "<div>\n",
       "<style scoped>\n",
       "    .dataframe tbody tr th:only-of-type {\n",
       "        vertical-align: middle;\n",
       "    }\n",
       "\n",
       "    .dataframe tbody tr th {\n",
       "        vertical-align: top;\n",
       "    }\n",
       "\n",
       "    .dataframe thead th {\n",
       "        text-align: right;\n",
       "    }\n",
       "</style>\n",
       "<table border=\"1\" class=\"dataframe\">\n",
       "  <thead>\n",
       "    <tr style=\"text-align: right;\">\n",
       "      <th></th>\n",
       "      <th>age</th>\n",
       "      <th>fare</th>\n",
       "      <th>Age_99</th>\n",
       "      <th>Age_minus1</th>\n",
       "    </tr>\n",
       "  </thead>\n",
       "  <tbody>\n",
       "    <tr>\n",
       "      <th>501</th>\n",
       "      <td>13.0</td>\n",
       "      <td>19.5000</td>\n",
       "      <td>13.0</td>\n",
       "      <td>13.0</td>\n",
       "    </tr>\n",
       "    <tr>\n",
       "      <th>588</th>\n",
       "      <td>4.0</td>\n",
       "      <td>23.0000</td>\n",
       "      <td>4.0</td>\n",
       "      <td>4.0</td>\n",
       "    </tr>\n",
       "    <tr>\n",
       "      <th>402</th>\n",
       "      <td>30.0</td>\n",
       "      <td>13.8583</td>\n",
       "      <td>30.0</td>\n",
       "      <td>30.0</td>\n",
       "    </tr>\n",
       "    <tr>\n",
       "      <th>1193</th>\n",
       "      <td>NaN</td>\n",
       "      <td>7.7250</td>\n",
       "      <td>99.0</td>\n",
       "      <td>-1.0</td>\n",
       "    </tr>\n",
       "    <tr>\n",
       "      <th>686</th>\n",
       "      <td>22.0</td>\n",
       "      <td>7.7250</td>\n",
       "      <td>22.0</td>\n",
       "      <td>22.0</td>\n",
       "    </tr>\n",
       "    <tr>\n",
       "      <th>971</th>\n",
       "      <td>NaN</td>\n",
       "      <td>7.8792</td>\n",
       "      <td>99.0</td>\n",
       "      <td>-1.0</td>\n",
       "    </tr>\n",
       "    <tr>\n",
       "      <th>117</th>\n",
       "      <td>30.0</td>\n",
       "      <td>56.9292</td>\n",
       "      <td>30.0</td>\n",
       "      <td>30.0</td>\n",
       "    </tr>\n",
       "    <tr>\n",
       "      <th>540</th>\n",
       "      <td>2.0</td>\n",
       "      <td>26.0000</td>\n",
       "      <td>2.0</td>\n",
       "      <td>2.0</td>\n",
       "    </tr>\n",
       "    <tr>\n",
       "      <th>294</th>\n",
       "      <td>49.0</td>\n",
       "      <td>110.8833</td>\n",
       "      <td>49.0</td>\n",
       "      <td>49.0</td>\n",
       "    </tr>\n",
       "    <tr>\n",
       "      <th>261</th>\n",
       "      <td>35.0</td>\n",
       "      <td>26.2875</td>\n",
       "      <td>35.0</td>\n",
       "      <td>35.0</td>\n",
       "    </tr>\n",
       "    <tr>\n",
       "      <th>587</th>\n",
       "      <td>2.0</td>\n",
       "      <td>23.0000</td>\n",
       "      <td>2.0</td>\n",
       "      <td>2.0</td>\n",
       "    </tr>\n",
       "    <tr>\n",
       "      <th>489</th>\n",
       "      <td>42.0</td>\n",
       "      <td>26.0000</td>\n",
       "      <td>42.0</td>\n",
       "      <td>42.0</td>\n",
       "    </tr>\n",
       "    <tr>\n",
       "      <th>2</th>\n",
       "      <td>2.0</td>\n",
       "      <td>151.5500</td>\n",
       "      <td>2.0</td>\n",
       "      <td>2.0</td>\n",
       "    </tr>\n",
       "    <tr>\n",
       "      <th>405</th>\n",
       "      <td>18.0</td>\n",
       "      <td>13.0000</td>\n",
       "      <td>18.0</td>\n",
       "      <td>18.0</td>\n",
       "    </tr>\n",
       "    <tr>\n",
       "      <th>1284</th>\n",
       "      <td>NaN</td>\n",
       "      <td>8.0500</td>\n",
       "      <td>99.0</td>\n",
       "      <td>-1.0</td>\n",
       "    </tr>\n",
       "  </tbody>\n",
       "</table>\n",
       "</div>"
      ],
      "text/plain": [
       "       age      fare  Age_99  Age_minus1\n",
       "501   13.0   19.5000    13.0        13.0\n",
       "588    4.0   23.0000     4.0         4.0\n",
       "402   30.0   13.8583    30.0        30.0\n",
       "1193   NaN    7.7250    99.0        -1.0\n",
       "686   22.0    7.7250    22.0        22.0\n",
       "971    NaN    7.8792    99.0        -1.0\n",
       "117   30.0   56.9292    30.0        30.0\n",
       "540    2.0   26.0000     2.0         2.0\n",
       "294   49.0  110.8833    49.0        49.0\n",
       "261   35.0   26.2875    35.0        35.0\n",
       "587    2.0   23.0000     2.0         2.0\n",
       "489   42.0   26.0000    42.0        42.0\n",
       "2      2.0  151.5500     2.0         2.0\n",
       "405   18.0   13.0000    18.0        18.0\n",
       "1284   NaN    8.0500    99.0        -1.0"
      ]
     },
     "execution_count": 8,
     "metadata": {},
     "output_type": "execute_result"
    }
   ],
   "source": [
    "X_train['Age_99'] = impute_na(X_train, 'age', 99)\n",
    "X_train['Age_minus1'] = impute_na(X_train, 'age', -1)\n",
    "X_train.head(15)"
   ]
  },
  {
   "cell_type": "markdown",
   "metadata": {},
   "source": [
    "Look at the rows with missing data (NaN) in Age, and see how in the new variables those were replaced by either 99 or -1."
   ]
  },
  {
   "cell_type": "markdown",
   "metadata": {},
   "source": [
    "**Variance change after arbitrary (missing data is high, ~20%, Age) !**"
   ]
  },
  {
   "cell_type": "code",
   "execution_count": 9,
   "metadata": {},
   "outputs": [
    {
     "name": "stdout",
     "output_type": "stream",
     "text": [
      "Original variable variance:  194.16304666581854\n",
      "Variance after 99 imputation:  888.7051993280891\n",
      "Variance after -1 imputation:  307.9400526938762\n"
     ]
    }
   ],
   "source": [
    "print('Original variable variance: ', X_train['age'].var())\n",
    "print('Variance after 99 imputation: ', X_train['Age_99'].var())\n",
    "print('Variance after -1 imputation: ', X_train['Age_minus1'].var())"
   ]
  },
  {
   "cell_type": "markdown",
   "metadata": {},
   "source": [
    "In fact, the effect on the variance will also be driven by the magnitude of the arbitrary value selected for the imputation, compare 99 with -1."
   ]
  },
  {
   "cell_type": "markdown",
   "metadata": {},
   "source": [
    "**The distribution has changed by arbitrary values!..**"
   ]
  },
  {
   "cell_type": "code",
   "execution_count": 10,
   "metadata": {},
   "outputs": [
    {
     "data": {
      "text/plain": [
       "<matplotlib.legend.Legend at 0x16b627159d0>"
      ]
     },
     "execution_count": 10,
     "metadata": {},
     "output_type": "execute_result"
    },
    {
     "data": {
      "image/png": "[encoded data removed]",
      "text/plain": [
       "<Figure size 432x288 with 1 Axes>"
      ]
     },
     "metadata": {
      "needs_background": "light"
     },
     "output_type": "display_data"
    }
   ],
   "source": [
    "fig = plt.figure()\n",
    "ax = fig.add_subplot(111)\n",
    "X_train['age'].plot(kind='kde', ax=ax)\n",
    "X_train['Age_99'].plot(kind='kde', ax=ax, color='red')\n",
    "X_train['Age_minus1'].plot(kind='kde', ax=ax, color='green')\n",
    "lines, labels = ax.get_legend_handles_labels()\n",
    "ax.legend(lines, labels, loc='best')"
   ]
  },
  {
   "cell_type": "markdown",
   "metadata": {},
   "source": [
    "As mentioned above, arbitrary value imputation distorts the original distribution of the variable Age. The transformed variable shows more values around arbitrary values.\n",
    "\n",
    "**Is this important?**\n",
    "\n",
    "It depends on the machine learning model you want to build. Linear models assume that the variables are normally distributed. Arbitrary value imputation may distort the original normal distribution if the % of missing data is high. Therefore the final imputed variable will no longer be normally distributed, which in turn may affect the linear model performance.\n",
    "\n",
    "On the other hand, **this technique works quite well with tree based algorithms**."
   ]
  },
  {
   "cell_type": "markdown",
   "metadata": {},
   "source": [
    "**How arbitrary value imputation may affect the relationship with the other variables!**"
   ]
  },
  {
   "cell_type": "code",
   "execution_count": 11,
   "metadata": {},
   "outputs": [
    {
     "data": {
      "text/html": [
       "<div>\n",
       "<style scoped>\n",
       "    .dataframe tbody tr th:only-of-type {\n",
       "        vertical-align: middle;\n",
       "    }\n",
       "\n",
       "    .dataframe tbody tr th {\n",
       "        vertical-align: top;\n",
       "    }\n",
       "\n",
       "    .dataframe thead th {\n",
       "        text-align: right;\n",
       "    }\n",
       "</style>\n",
       "<table border=\"1\" class=\"dataframe\">\n",
       "  <thead>\n",
       "    <tr style=\"text-align: right;\">\n",
       "      <th></th>\n",
       "      <th>fare</th>\n",
       "      <th>age</th>\n",
       "      <th>Age_99</th>\n",
       "      <th>Age_minus1</th>\n",
       "    </tr>\n",
       "  </thead>\n",
       "  <tbody>\n",
       "    <tr>\n",
       "      <th>fare</th>\n",
       "      <td>2248.326729</td>\n",
       "      <td>136.176223</td>\n",
       "      <td>-38.722001</td>\n",
       "      <td>177.733891</td>\n",
       "    </tr>\n",
       "    <tr>\n",
       "      <th>age</th>\n",
       "      <td>136.176223</td>\n",
       "      <td>194.163047</td>\n",
       "      <td>194.163047</td>\n",
       "      <td>194.163047</td>\n",
       "    </tr>\n",
       "    <tr>\n",
       "      <th>Age_99</th>\n",
       "      <td>-38.722001</td>\n",
       "      <td>194.163047</td>\n",
       "      <td>888.705199</td>\n",
       "      <td>-175.265319</td>\n",
       "    </tr>\n",
       "    <tr>\n",
       "      <th>Age_minus1</th>\n",
       "      <td>177.733891</td>\n",
       "      <td>194.163047</td>\n",
       "      <td>-175.265319</td>\n",
       "      <td>307.940053</td>\n",
       "    </tr>\n",
       "  </tbody>\n",
       "</table>\n",
       "</div>"
      ],
      "text/plain": [
       "                   fare         age      Age_99  Age_minus1\n",
       "fare        2248.326729  136.176223  -38.722001  177.733891\n",
       "age          136.176223  194.163047  194.163047  194.163047\n",
       "Age_99       -38.722001  194.163047  888.705199 -175.265319\n",
       "Age_minus1   177.733891  194.163047 -175.265319  307.940053"
      ]
     },
     "execution_count": 11,
     "metadata": {},
     "output_type": "execute_result"
    }
   ],
   "source": [
    "X_train[['fare', 'age', 'Age_99', 'Age_minus1']].cov()"
   ]
  },
  {
   "cell_type": "markdown",
   "metadata": {},
   "source": [
    "We see indeed that the covariance between Age and Fare is changed after the arbitrary value imputation."
   ]
  },
  {
   "cell_type": "markdown",
   "metadata": {},
   "source": [
    "**Change in outliers, boxplot!**"
   ]
  },
  {
   "cell_type": "code",
   "execution_count": 12,
   "metadata": {},
   "outputs": [
    {
     "data": {
      "text/plain": [
       "<AxesSubplot:>"
      ]
     },
     "execution_count": 12,
     "metadata": {},
     "output_type": "execute_result"
    },
    {
     "data": {
      "image/png": "[encoded data removed]",
      "text/plain": [
       "<Figure size 432x288 with 1 Axes>"
      ]
     },
     "metadata": {
      "needs_background": "light"
     },
     "output_type": "display_data"
    }
   ],
   "source": [
    "X_train[['age', 'Age_99', 'Age_minus1']].boxplot()"
   ]
  },
  {
   "cell_type": "markdown",
   "metadata": {},
   "source": [
    "We can see that adding values at the end of the distribution **mask entirely outliers**."
   ]
  },
  {
   "cell_type": "markdown",
   "metadata": {},
   "source": [
    "## House Prices Dataset\n",
    "\n",
    "Let's repeat the exercise in the House Prices dataset. In this dataset, there are **variables with a lot or few missing data**. Therefore we can compare the effect of **arbitrary value imputation** in both scenarios."
   ]
  },
  {
   "cell_type": "code",
   "execution_count": 13,
   "metadata": {},
   "outputs": [],
   "source": [
    "cols_to_use = [      # the columns that we will use!\n",
    "    'OverallQual', 'TotalBsmtSF', '1stFlrSF', 'GrLivArea', 'WoodDeckSF',\n",
    "    'BsmtUnfSF', 'LotFrontage', 'MasVnrArea', 'GarageYrBlt', 'SalePrice']"
   ]
  },
  {
   "cell_type": "markdown",
   "metadata": {},
   "source": [
    "**Load the House Prices dataset!**"
   ]
  },
  {
   "cell_type": "code",
   "execution_count": 14,
   "metadata": {},
   "outputs": [
    {
     "name": "stdout",
     "output_type": "stream",
     "text": [
      "(1460, 10)\n"
     ]
    },
    {
     "data": {
      "text/html": [
       "<div>\n",
       "<style scoped>\n",
       "    .dataframe tbody tr th:only-of-type {\n",
       "        vertical-align: middle;\n",
       "    }\n",
       "\n",
       "    .dataframe tbody tr th {\n",
       "        vertical-align: top;\n",
       "    }\n",
       "\n",
       "    .dataframe thead th {\n",
       "        text-align: right;\n",
       "    }\n",
       "</style>\n",
       "<table border=\"1\" class=\"dataframe\">\n",
       "  <thead>\n",
       "    <tr style=\"text-align: right;\">\n",
       "      <th></th>\n",
       "      <th>LotFrontage</th>\n",
       "      <th>OverallQual</th>\n",
       "      <th>MasVnrArea</th>\n",
       "      <th>BsmtUnfSF</th>\n",
       "      <th>TotalBsmtSF</th>\n",
       "      <th>1stFlrSF</th>\n",
       "      <th>GrLivArea</th>\n",
       "      <th>GarageYrBlt</th>\n",
       "      <th>WoodDeckSF</th>\n",
       "      <th>SalePrice</th>\n",
       "    </tr>\n",
       "  </thead>\n",
       "  <tbody>\n",
       "    <tr>\n",
       "      <th>0</th>\n",
       "      <td>65.0</td>\n",
       "      <td>7</td>\n",
       "      <td>196.0</td>\n",
       "      <td>150</td>\n",
       "      <td>856</td>\n",
       "      <td>856</td>\n",
       "      <td>1710</td>\n",
       "      <td>2003.0</td>\n",
       "      <td>0</td>\n",
       "      <td>208500</td>\n",
       "    </tr>\n",
       "    <tr>\n",
       "      <th>1</th>\n",
       "      <td>80.0</td>\n",
       "      <td>6</td>\n",
       "      <td>0.0</td>\n",
       "      <td>284</td>\n",
       "      <td>1262</td>\n",
       "      <td>1262</td>\n",
       "      <td>1262</td>\n",
       "      <td>1976.0</td>\n",
       "      <td>298</td>\n",
       "      <td>181500</td>\n",
       "    </tr>\n",
       "    <tr>\n",
       "      <th>2</th>\n",
       "      <td>68.0</td>\n",
       "      <td>7</td>\n",
       "      <td>162.0</td>\n",
       "      <td>434</td>\n",
       "      <td>920</td>\n",
       "      <td>920</td>\n",
       "      <td>1786</td>\n",
       "      <td>2001.0</td>\n",
       "      <td>0</td>\n",
       "      <td>223500</td>\n",
       "    </tr>\n",
       "    <tr>\n",
       "      <th>3</th>\n",
       "      <td>60.0</td>\n",
       "      <td>7</td>\n",
       "      <td>0.0</td>\n",
       "      <td>540</td>\n",
       "      <td>756</td>\n",
       "      <td>961</td>\n",
       "      <td>1717</td>\n",
       "      <td>1998.0</td>\n",
       "      <td>0</td>\n",
       "      <td>140000</td>\n",
       "    </tr>\n",
       "    <tr>\n",
       "      <th>4</th>\n",
       "      <td>84.0</td>\n",
       "      <td>8</td>\n",
       "      <td>350.0</td>\n",
       "      <td>490</td>\n",
       "      <td>1145</td>\n",
       "      <td>1145</td>\n",
       "      <td>2198</td>\n",
       "      <td>2000.0</td>\n",
       "      <td>192</td>\n",
       "      <td>250000</td>\n",
       "    </tr>\n",
       "  </tbody>\n",
       "</table>\n",
       "</div>"
      ],
      "text/plain": [
       "   LotFrontage  OverallQual  MasVnrArea  BsmtUnfSF  TotalBsmtSF  1stFlrSF  \\\n",
       "0         65.0            7       196.0        150          856       856   \n",
       "1         80.0            6         0.0        284         1262      1262   \n",
       "2         68.0            7       162.0        434          920       920   \n",
       "3         60.0            7         0.0        540          756       961   \n",
       "4         84.0            8       350.0        490         1145      1145   \n",
       "\n",
       "   GrLivArea  GarageYrBlt  WoodDeckSF  SalePrice  \n",
       "0       1710       2003.0           0     208500  \n",
       "1       1262       1976.0         298     181500  \n",
       "2       1786       2001.0           0     223500  \n",
       "3       1717       1998.0           0     140000  \n",
       "4       2198       2000.0         192     250000  "
      ]
     },
     "execution_count": 14,
     "metadata": {},
     "output_type": "execute_result"
    }
   ],
   "source": [
    "data = pd.read_csv('C:\\\\Users\\\\husey\\\\Desktop\\\\python\\\\udemy\\\\6.FeatureEngineeringForML\\\\HousingPrices_train.csv', usecols=cols_to_use)\n",
    "print(data.shape)\n",
    "data.head()"
   ]
  },
  {
   "cell_type": "code",
   "execution_count": 15,
   "metadata": {},
   "outputs": [
    {
     "data": {
      "text/plain": [
       "['LotFrontage', 'MasVnrArea', 'GarageYrBlt']"
      ]
     },
     "execution_count": 15,
     "metadata": {},
     "output_type": "execute_result"
    }
   ],
   "source": [
    "[var for var in data.columns if data[var].isnull().sum()>0] # Missing data var!"
   ]
  },
  {
   "cell_type": "markdown",
   "metadata": {},
   "source": [
    "**Find the percentage of missing data within those variables!**"
   ]
  },
  {
   "cell_type": "code",
   "execution_count": 16,
   "metadata": {},
   "outputs": [
    {
     "data": {
      "text/plain": [
       "LotFrontage    0.177397\n",
       "MasVnrArea     0.005479\n",
       "GarageYrBlt    0.055479\n",
       "dtype: float64"
      ]
     },
     "execution_count": 16,
     "metadata": {},
     "output_type": "execute_result"
    }
   ],
   "source": [
    "data[['LotFrontage', 'MasVnrArea', 'GarageYrBlt']].isnull().mean()"
   ]
  },
  {
   "cell_type": "markdown",
   "metadata": {},
   "source": [
    "**First, I separate into train and test.**"
   ]
  },
  {
   "cell_type": "code",
   "execution_count": 17,
   "metadata": {},
   "outputs": [
    {
     "data": {
      "text/plain": [
       "((1022, 10), (438, 10))"
      ]
     },
     "execution_count": 17,
     "metadata": {},
     "output_type": "execute_result"
    }
   ],
   "source": [
    "X_train, X_test, y_train, y_test = train_test_split(data,\n",
    "                                                    data['SalePrice'],\n",
    "                                                    test_size=0.3,\n",
    "                                                    random_state=0)\n",
    "X_train.shape, X_test.shape"
   ]
  },
  {
   "cell_type": "code",
   "execution_count": 18,
   "metadata": {
    "scrolled": true
   },
   "outputs": [
    {
     "data": {
      "image/png": "[encoded data removed]",
      "text/plain": [
       "<Figure size 720x720 with 12 Axes>"
      ]
     },
     "metadata": {
      "needs_background": "light"
     },
     "output_type": "display_data"
    }
   ],
   "source": [
    "X_train.hist(bins=50, figsize=(10,10))  # distributions of the variables\n",
    "plt.show()"
   ]
  },
  {
   "cell_type": "markdown",
   "metadata": {},
   "source": [
    "**For LotFrontage (up to 300), replace nan by 999 !**"
   ]
  },
  {
   "cell_type": "code",
   "execution_count": 19,
   "metadata": {},
   "outputs": [
    {
     "name": "stderr",
     "output_type": "stream",
     "text": [
      "2022-01-29 09:48:01,746 [10600] WARNING  py.warnings:109: [JupyterRequire] C:\\Users\\husey\\anaconda3\\lib\\site-packages\\pandas\\core\\indexing.py:1667: SettingWithCopyWarning: \n",
      "A value is trying to be set on a copy of a slice from a DataFrame.\n",
      "Try using .loc[row_indexer,col_indexer] = value instead\n",
      "\n",
      "See the caveats in the documentation: https://pandas.pydata.org/pandas-docs/stable/user_guide/indexing.html#returning-a-view-versus-a-copy\n",
      "  self.obj[key] = value\n",
      "\n"
     ]
    }
   ],
   "source": [
    "X_train.loc[:,'LotFrontage_imputed'] = impute_na(X_train, 'LotFrontage', 999)\n",
    "X_test.loc[:,'LotFrontage_imputed'] = impute_na(X_test, 'LotFrontage', 999)"
   ]
  },
  {
   "cell_type": "markdown",
   "metadata": {},
   "source": [
    "**For MasVnrArea (up to 1500) place 2999 !**"
   ]
  },
  {
   "cell_type": "code",
   "execution_count": 20,
   "metadata": {},
   "outputs": [],
   "source": [
    "X_train.loc[:,'MasVnrArea_imputed'] = impute_na(X_train, 'MasVnrArea', 2999)\n",
    "X_test.loc[:,'MasVnrArea_imputed'] = impute_na(X_test, 'MasVnrArea', 2999)"
   ]
  },
  {
   "cell_type": "code",
   "execution_count": 21,
   "metadata": {},
   "outputs": [
    {
     "data": {
      "text/plain": [
       "<matplotlib.legend.Legend at 0x16b62e6bb80>"
      ]
     },
     "execution_count": 21,
     "metadata": {},
     "output_type": "execute_result"
    },
    {
     "data": {
      "image/png": "[encoded data removed]",
      "text/plain": [
       "<Figure size 432x288 with 1 Axes>"
      ]
     },
     "metadata": {
      "needs_background": "light"
     },
     "output_type": "display_data"
    }
   ],
   "source": [
    "fig = plt.figure()\n",
    "ax = fig.add_subplot(111)\n",
    "X_train['LotFrontage'].plot(kind='kde', ax=ax)\n",
    "X_train['LotFrontage_imputed'].plot(kind='kde', ax=ax, color='red')\n",
    "lines, labels = ax.get_legend_handles_labels()\n",
    "ax.legend(lines, labels, loc='best')"
   ]
  },
  {
   "cell_type": "code",
   "execution_count": 22,
   "metadata": {},
   "outputs": [
    {
     "data": {
      "text/plain": [
       "<matplotlib.legend.Legend at 0x16b62e55310>"
      ]
     },
     "execution_count": 22,
     "metadata": {},
     "output_type": "execute_result"
    },
    {
     "data": {
      "image/png": "[encoded data removed]",
      "text/plain": [
       "<Figure size 432x288 with 1 Axes>"
      ]
     },
     "metadata": {
      "needs_background": "light"
     },
     "output_type": "display_data"
    }
   ],
   "source": [
    "fig = plt.figure()\n",
    "ax = fig.add_subplot(111)\n",
    "X_train['MasVnrArea'].plot(kind='kde', ax=ax)\n",
    "X_train['MasVnrArea_imputed'].plot(kind='kde', ax=ax, color='red')\n",
    "lines, labels = ax.get_legend_handles_labels()\n",
    "ax.legend(lines, labels, loc='best')"
   ]
  },
  {
   "cell_type": "markdown",
   "metadata": {},
   "source": [
    "From the above plots we can see that the distribution of LotFrontAge is changed quite dramatically, but not so much the distribution of MasVnrArea. This is because the % of missing values in the second variable is quite small. However, depending on the arbitrary value you choose to replace the NA, the distribution will be more or less affected."
   ]
  },
  {
   "cell_type": "code",
   "execution_count": 23,
   "metadata": {},
   "outputs": [
    {
     "name": "stdout",
     "output_type": "stream",
     "text": [
      "Original Variance:  532.5872021885676\n",
      "Variance after imputation:  130742.07296576179\n"
     ]
    }
   ],
   "source": [
    "print('Original Variance: ', X_train['LotFrontage'].var())\n",
    "print('Variance after imputation: ', X_train['LotFrontage_imputed'].var())"
   ]
  },
  {
   "cell_type": "code",
   "execution_count": 24,
   "metadata": {},
   "outputs": [
    {
     "name": "stdout",
     "output_type": "stream",
     "text": [
      "Original Variance:  32983.538710039466\n",
      "Variance after imputation:  73677.02879932376\n"
     ]
    }
   ],
   "source": [
    "print('Original Variance: ', X_train['MasVnrArea'].var())\n",
    "print('Variance after imputation: ', X_train['MasVnrArea_imputed'].var())"
   ]
  },
  {
   "cell_type": "code",
   "execution_count": 25,
   "metadata": {},
   "outputs": [
    {
     "data": {
      "text/html": [
       "<div>\n",
       "<style scoped>\n",
       "    .dataframe tbody tr th:only-of-type {\n",
       "        vertical-align: middle;\n",
       "    }\n",
       "\n",
       "    .dataframe tbody tr th {\n",
       "        vertical-align: top;\n",
       "    }\n",
       "\n",
       "    .dataframe thead th {\n",
       "        text-align: right;\n",
       "    }\n",
       "</style>\n",
       "<table border=\"1\" class=\"dataframe\">\n",
       "  <thead>\n",
       "    <tr style=\"text-align: right;\">\n",
       "      <th></th>\n",
       "      <th>LotFrontage</th>\n",
       "      <th>OverallQual</th>\n",
       "      <th>MasVnrArea</th>\n",
       "      <th>BsmtUnfSF</th>\n",
       "      <th>TotalBsmtSF</th>\n",
       "      <th>1stFlrSF</th>\n",
       "      <th>GrLivArea</th>\n",
       "      <th>GarageYrBlt</th>\n",
       "      <th>WoodDeckSF</th>\n",
       "      <th>SalePrice</th>\n",
       "      <th>LotFrontage_imputed</th>\n",
       "      <th>MasVnrArea_imputed</th>\n",
       "    </tr>\n",
       "  </thead>\n",
       "  <tbody>\n",
       "    <tr>\n",
       "      <th>LotFrontage</th>\n",
       "      <td>532.587202</td>\n",
       "      <td>6.587119</td>\n",
       "      <td>6.805603e+02</td>\n",
       "      <td>9.496573e+02</td>\n",
       "      <td>2.908856e+03</td>\n",
       "      <td>3.379794e+03</td>\n",
       "      <td>3.919952e+03</td>\n",
       "      <td>30.611717</td>\n",
       "      <td>1.347414e+02</td>\n",
       "      <td>6.689645e+05</td>\n",
       "      <td>532.587202</td>\n",
       "      <td>7.585010e+02</td>\n",
       "    </tr>\n",
       "    <tr>\n",
       "      <th>OverallQual</th>\n",
       "      <td>6.587119</td>\n",
       "      <td>1.843859</td>\n",
       "      <td>1.014970e+02</td>\n",
       "      <td>1.746147e+02</td>\n",
       "      <td>2.886241e+02</td>\n",
       "      <td>2.242973e+02</td>\n",
       "      <td>4.091242e+02</td>\n",
       "      <td>17.902809</td>\n",
       "      <td>3.168557e+01</td>\n",
       "      <td>8.320132e+04</td>\n",
       "      <td>-18.279174</td>\n",
       "      <td>1.140556e+02</td>\n",
       "    </tr>\n",
       "    <tr>\n",
       "      <th>MasVnrArea</th>\n",
       "      <td>680.560330</td>\n",
       "      <td>101.496976</td>\n",
       "      <td>3.298354e+04</td>\n",
       "      <td>7.540788e+03</td>\n",
       "      <td>2.478877e+04</td>\n",
       "      <td>2.086595e+04</td>\n",
       "      <td>3.520785e+04</td>\n",
       "      <td>1203.583792</td>\n",
       "      <td>3.208924e+03</td>\n",
       "      <td>6.836439e+06</td>\n",
       "      <td>1582.711167</td>\n",
       "      <td>3.298354e+04</td>\n",
       "    </tr>\n",
       "    <tr>\n",
       "      <th>BsmtUnfSF</th>\n",
       "      <td>949.657293</td>\n",
       "      <td>174.614725</td>\n",
       "      <td>7.540788e+03</td>\n",
       "      <td>1.875241e+05</td>\n",
       "      <td>7.513307e+04</td>\n",
       "      <td>4.987449e+04</td>\n",
       "      <td>5.203392e+04</td>\n",
       "      <td>1823.065167</td>\n",
       "      <td>-1.833201e+03</td>\n",
       "      <td>6.833028e+06</td>\n",
       "      <td>-19005.620715</td>\n",
       "      <td>8.391605e+03</td>\n",
       "    </tr>\n",
       "    <tr>\n",
       "      <th>TotalBsmtSF</th>\n",
       "      <td>2908.855504</td>\n",
       "      <td>288.624075</td>\n",
       "      <td>2.478877e+04</td>\n",
       "      <td>7.513307e+04</td>\n",
       "      <td>1.682931e+05</td>\n",
       "      <td>1.212079e+05</td>\n",
       "      <td>8.615192e+04</td>\n",
       "      <td>3173.042442</td>\n",
       "      <td>1.227966e+04</td>\n",
       "      <td>2.003928e+07</td>\n",
       "      <td>1620.452017</td>\n",
       "      <td>2.503117e+04</td>\n",
       "    </tr>\n",
       "    <tr>\n",
       "      <th>1stFlrSF</th>\n",
       "      <td>3379.793504</td>\n",
       "      <td>224.297266</td>\n",
       "      <td>2.086595e+04</td>\n",
       "      <td>4.987449e+04</td>\n",
       "      <td>1.212079e+05</td>\n",
       "      <td>1.398656e+05</td>\n",
       "      <td>1.044401e+05</td>\n",
       "      <td>2009.195552</td>\n",
       "      <td>1.109406e+04</td>\n",
       "      <td>1.783631e+07</td>\n",
       "      <td>7485.021442</td>\n",
       "      <td>1.971276e+04</td>\n",
       "    </tr>\n",
       "    <tr>\n",
       "      <th>GrLivArea</th>\n",
       "      <td>3919.951834</td>\n",
       "      <td>409.124216</td>\n",
       "      <td>3.520785e+04</td>\n",
       "      <td>5.203392e+04</td>\n",
       "      <td>8.615192e+04</td>\n",
       "      <td>1.044401e+05</td>\n",
       "      <td>2.681277e+05</td>\n",
       "      <td>2738.982988</td>\n",
       "      <td>1.558395e+04</td>\n",
       "      <td>2.934477e+07</td>\n",
       "      <td>9634.034363</td>\n",
       "      <td>3.694487e+04</td>\n",
       "    </tr>\n",
       "    <tr>\n",
       "      <th>GarageYrBlt</th>\n",
       "      <td>30.611717</td>\n",
       "      <td>17.902809</td>\n",
       "      <td>1.203584e+03</td>\n",
       "      <td>1.823065e+03</td>\n",
       "      <td>3.173042e+03</td>\n",
       "      <td>2.009196e+03</td>\n",
       "      <td>2.738983e+03</td>\n",
       "      <td>624.305948</td>\n",
       "      <td>6.658911e+02</td>\n",
       "      <td>9.309355e+05</td>\n",
       "      <td>45.643154</td>\n",
       "      <td>1.588757e+03</td>\n",
       "    </tr>\n",
       "    <tr>\n",
       "      <th>WoodDeckSF</th>\n",
       "      <td>134.741376</td>\n",
       "      <td>31.685571</td>\n",
       "      <td>3.208924e+03</td>\n",
       "      <td>-1.833201e+03</td>\n",
       "      <td>1.227966e+04</td>\n",
       "      <td>1.109406e+04</td>\n",
       "      <td>1.558395e+04</td>\n",
       "      <td>665.891118</td>\n",
       "      <td>1.648582e+04</td>\n",
       "      <td>3.029981e+06</td>\n",
       "      <td>5377.154974</td>\n",
       "      <td>2.664993e+03</td>\n",
       "    </tr>\n",
       "    <tr>\n",
       "      <th>SalePrice</th>\n",
       "      <td>668964.454191</td>\n",
       "      <td>83201.317781</td>\n",
       "      <td>6.836439e+06</td>\n",
       "      <td>6.833028e+06</td>\n",
       "      <td>2.003928e+07</td>\n",
       "      <td>1.783631e+07</td>\n",
       "      <td>2.934477e+07</td>\n",
       "      <td>930935.489321</td>\n",
       "      <td>3.029981e+06</td>\n",
       "      <td>6.105731e+09</td>\n",
       "      <td>950743.964420</td>\n",
       "      <td>7.152962e+06</td>\n",
       "    </tr>\n",
       "    <tr>\n",
       "      <th>LotFrontage_imputed</th>\n",
       "      <td>532.587202</td>\n",
       "      <td>-18.279174</td>\n",
       "      <td>1.582711e+03</td>\n",
       "      <td>-1.900562e+04</td>\n",
       "      <td>1.620452e+03</td>\n",
       "      <td>7.485021e+03</td>\n",
       "      <td>9.634034e+03</td>\n",
       "      <td>45.643154</td>\n",
       "      <td>5.377155e+03</td>\n",
       "      <td>9.507440e+05</td>\n",
       "      <td>130742.072966</td>\n",
       "      <td>1.839672e+03</td>\n",
       "    </tr>\n",
       "    <tr>\n",
       "      <th>MasVnrArea_imputed</th>\n",
       "      <td>758.500985</td>\n",
       "      <td>114.055579</td>\n",
       "      <td>3.298354e+04</td>\n",
       "      <td>8.391605e+03</td>\n",
       "      <td>2.503117e+04</td>\n",
       "      <td>1.971276e+04</td>\n",
       "      <td>3.694487e+04</td>\n",
       "      <td>1588.757215</td>\n",
       "      <td>2.664993e+03</td>\n",
       "      <td>7.152962e+06</td>\n",
       "      <td>1839.672367</td>\n",
       "      <td>7.367703e+04</td>\n",
       "    </tr>\n",
       "  </tbody>\n",
       "</table>\n",
       "</div>"
      ],
      "text/plain": [
       "                       LotFrontage   OverallQual    MasVnrArea     BsmtUnfSF  \\\n",
       "LotFrontage             532.587202      6.587119  6.805603e+02  9.496573e+02   \n",
       "OverallQual               6.587119      1.843859  1.014970e+02  1.746147e+02   \n",
       "MasVnrArea              680.560330    101.496976  3.298354e+04  7.540788e+03   \n",
       "BsmtUnfSF               949.657293    174.614725  7.540788e+03  1.875241e+05   \n",
       "TotalBsmtSF            2908.855504    288.624075  2.478877e+04  7.513307e+04   \n",
       "1stFlrSF               3379.793504    224.297266  2.086595e+04  4.987449e+04   \n",
       "GrLivArea              3919.951834    409.124216  3.520785e+04  5.203392e+04   \n",
       "GarageYrBlt              30.611717     17.902809  1.203584e+03  1.823065e+03   \n",
       "WoodDeckSF              134.741376     31.685571  3.208924e+03 -1.833201e+03   \n",
       "SalePrice            668964.454191  83201.317781  6.836439e+06  6.833028e+06   \n",
       "LotFrontage_imputed     532.587202    -18.279174  1.582711e+03 -1.900562e+04   \n",
       "MasVnrArea_imputed      758.500985    114.055579  3.298354e+04  8.391605e+03   \n",
       "\n",
       "                      TotalBsmtSF      1stFlrSF     GrLivArea    GarageYrBlt  \\\n",
       "LotFrontage          2.908856e+03  3.379794e+03  3.919952e+03      30.611717   \n",
       "OverallQual          2.886241e+02  2.242973e+02  4.091242e+02      17.902809   \n",
       "MasVnrArea           2.478877e+04  2.086595e+04  3.520785e+04    1203.583792   \n",
       "BsmtUnfSF            7.513307e+04  4.987449e+04  5.203392e+04    1823.065167   \n",
       "TotalBsmtSF          1.682931e+05  1.212079e+05  8.615192e+04    3173.042442   \n",
       "1stFlrSF             1.212079e+05  1.398656e+05  1.044401e+05    2009.195552   \n",
       "GrLivArea            8.615192e+04  1.044401e+05  2.681277e+05    2738.982988   \n",
       "GarageYrBlt          3.173042e+03  2.009196e+03  2.738983e+03     624.305948   \n",
       "WoodDeckSF           1.227966e+04  1.109406e+04  1.558395e+04     665.891118   \n",
       "SalePrice            2.003928e+07  1.783631e+07  2.934477e+07  930935.489321   \n",
       "LotFrontage_imputed  1.620452e+03  7.485021e+03  9.634034e+03      45.643154   \n",
       "MasVnrArea_imputed   2.503117e+04  1.971276e+04  3.694487e+04    1588.757215   \n",
       "\n",
       "                       WoodDeckSF     SalePrice  LotFrontage_imputed  \\\n",
       "LotFrontage          1.347414e+02  6.689645e+05           532.587202   \n",
       "OverallQual          3.168557e+01  8.320132e+04           -18.279174   \n",
       "MasVnrArea           3.208924e+03  6.836439e+06          1582.711167   \n",
       "BsmtUnfSF           -1.833201e+03  6.833028e+06        -19005.620715   \n",
       "TotalBsmtSF          1.227966e+04  2.003928e+07          1620.452017   \n",
       "1stFlrSF             1.109406e+04  1.783631e+07          7485.021442   \n",
       "GrLivArea            1.558395e+04  2.934477e+07          9634.034363   \n",
       "GarageYrBlt          6.658911e+02  9.309355e+05            45.643154   \n",
       "WoodDeckSF           1.648582e+04  3.029981e+06          5377.154974   \n",
       "SalePrice            3.029981e+06  6.105731e+09        950743.964420   \n",
       "LotFrontage_imputed  5.377155e+03  9.507440e+05        130742.072966   \n",
       "MasVnrArea_imputed   2.664993e+03  7.152962e+06          1839.672367   \n",
       "\n",
       "                     MasVnrArea_imputed  \n",
       "LotFrontage                7.585010e+02  \n",
       "OverallQual                1.140556e+02  \n",
       "MasVnrArea                 3.298354e+04  \n",
       "BsmtUnfSF                  8.391605e+03  \n",
       "TotalBsmtSF                2.503117e+04  \n",
       "1stFlrSF                   1.971276e+04  \n",
       "GrLivArea                  3.694487e+04  \n",
       "GarageYrBlt                1.588757e+03  \n",
       "WoodDeckSF                 2.664993e+03  \n",
       "SalePrice                  7.152962e+06  \n",
       "LotFrontage_imputed        1.839672e+03  \n",
       "MasVnrArea_imputed         7.367703e+04  "
      ]
     },
     "execution_count": 25,
     "metadata": {},
     "output_type": "execute_result"
    }
   ],
   "source": [
    "X_train.cov()"
   ]
  }
 ],
 "metadata": {
  "kernelspec": {
   "display_name": "Python 3 (ipykernel)",
   "language": "python",
   "name": "python3"
  },
  "language_info": {
   "codemirror_mode": {
    "name": "ipython",
    "version": 3
   },
   "file_extension": ".py",
   "mimetype": "text/x-python",
   "name": "python",
   "nbconvert_exporter": "python",
   "pygments_lexer": "ipython3",
   "version": "3.8.8"
  },
  "toc": {
   "base_numbering": 1,
   "nav_menu": {},
   "number_sections": true,
   "sideBar": true,
   "skip_h1_title": false,
   "title_cell": "Table of Contents",
   "title_sidebar": "Contents",
   "toc_cell": false,
   "toc_position": {},
   "toc_section_display": "block",
   "toc_window_display": true
  }
 },
 "nbformat": 4,
 "nbformat_minor": 2
}
