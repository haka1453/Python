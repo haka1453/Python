{
 "cells": [
  {
   "cell_type": "markdown",
   "metadata": {},
   "source": [
    "## Assembling a Feature Engineering Pipeline with Feature-engine and Cross-validation\n",
    "\n",
    "We use **Feature-engine** within the **Scikit-learn pipeline**, utilizing **cross-validation**. We will build a **gradient boosted tree**, **feature-engine** for the **feature engineering steps**, set up an **entire engineering and prediction pipeline** using a Scikit-learn Pipeline, and train the **pipeline with cross-validation**, looking over different feature-engineering parameters!"
   ]
  },
  {
   "cell_type": "code",
   "execution_count": 1,
   "metadata": {},
   "outputs": [],
   "source": [
    "import pandas as pd\n",
    "import numpy as np\n",
    "import matplotlib.pyplot as plt\n",
    "from sklearn.model_selection import train_test_split, GridSearchCV\n",
    "from sklearn.ensemble import GradientBoostingClassifier\n",
    "from sklearn.metrics import roc_auc_score\n",
    "from sklearn.pipeline import Pipeline\n",
    "from feature_engine import imputation as mdi\n",
    "from feature_engine import discretisation as dsc\n",
    "from feature_engine import encoding as ce"
   ]
  },
  {
   "cell_type": "code",
   "execution_count": 2,
   "metadata": {},
   "outputs": [
    {
     "data": {
      "text/html": [
       "<div>\n",
       "<style scoped>\n",
       "    .dataframe tbody tr th:only-of-type {\n",
       "        vertical-align: middle;\n",
       "    }\n",
       "\n",
       "    .dataframe tbody tr th {\n",
       "        vertical-align: top;\n",
       "    }\n",
       "\n",
       "    .dataframe thead th {\n",
       "        text-align: right;\n",
       "    }\n",
       "</style>\n",
       "<table border=\"1\" class=\"dataframe\">\n",
       "  <thead>\n",
       "    <tr style=\"text-align: right;\">\n",
       "      <th></th>\n",
       "      <th>pclass</th>\n",
       "      <th>survived</th>\n",
       "      <th>sex</th>\n",
       "      <th>age</th>\n",
       "      <th>sibsp</th>\n",
       "      <th>parch</th>\n",
       "      <th>fare</th>\n",
       "      <th>cabin</th>\n",
       "      <th>embarked</th>\n",
       "    </tr>\n",
       "  </thead>\n",
       "  <tbody>\n",
       "    <tr>\n",
       "      <th>0</th>\n",
       "      <td>1</td>\n",
       "      <td>1</td>\n",
       "      <td>female</td>\n",
       "      <td>29.0000</td>\n",
       "      <td>0</td>\n",
       "      <td>0</td>\n",
       "      <td>211.3375</td>\n",
       "      <td>B5</td>\n",
       "      <td>S</td>\n",
       "    </tr>\n",
       "    <tr>\n",
       "      <th>1</th>\n",
       "      <td>1</td>\n",
       "      <td>1</td>\n",
       "      <td>male</td>\n",
       "      <td>0.9167</td>\n",
       "      <td>1</td>\n",
       "      <td>2</td>\n",
       "      <td>151.5500</td>\n",
       "      <td>C22</td>\n",
       "      <td>S</td>\n",
       "    </tr>\n",
       "    <tr>\n",
       "      <th>2</th>\n",
       "      <td>1</td>\n",
       "      <td>0</td>\n",
       "      <td>female</td>\n",
       "      <td>2.0000</td>\n",
       "      <td>1</td>\n",
       "      <td>2</td>\n",
       "      <td>151.5500</td>\n",
       "      <td>C22</td>\n",
       "      <td>S</td>\n",
       "    </tr>\n",
       "    <tr>\n",
       "      <th>3</th>\n",
       "      <td>1</td>\n",
       "      <td>0</td>\n",
       "      <td>male</td>\n",
       "      <td>30.0000</td>\n",
       "      <td>1</td>\n",
       "      <td>2</td>\n",
       "      <td>151.5500</td>\n",
       "      <td>C22</td>\n",
       "      <td>S</td>\n",
       "    </tr>\n",
       "    <tr>\n",
       "      <th>4</th>\n",
       "      <td>1</td>\n",
       "      <td>0</td>\n",
       "      <td>female</td>\n",
       "      <td>25.0000</td>\n",
       "      <td>1</td>\n",
       "      <td>2</td>\n",
       "      <td>151.5500</td>\n",
       "      <td>C22</td>\n",
       "      <td>S</td>\n",
       "    </tr>\n",
       "  </tbody>\n",
       "</table>\n",
       "</div>"
      ],
      "text/plain": [
       "   pclass  survived     sex      age  sibsp  parch      fare cabin embarked\n",
       "0       1         1  female  29.0000      0      0  211.3375    B5        S\n",
       "1       1         1    male   0.9167      1      2  151.5500   C22        S\n",
       "2       1         0  female   2.0000      1      2  151.5500   C22        S\n",
       "3       1         0    male  30.0000      1      2  151.5500   C22        S\n",
       "4       1         0  female  25.0000      1      2  151.5500   C22        S"
      ]
     },
     "execution_count": 2,
     "metadata": {},
     "output_type": "execute_result"
    }
   ],
   "source": [
    "cols = ['pclass', 'sex', 'age', 'sibsp', 'parch', \n",
    "        'fare', 'cabin', 'embarked', 'survived']\n",
    "data = pd.read_csv('titanic.csv', usecols=cols)\n",
    "data.head()"
   ]
  },
  {
   "cell_type": "markdown",
   "metadata": {},
   "source": [
    "**Cabin: extract numerical and categorical part and delete original variable!**"
   ]
  },
  {
   "cell_type": "code",
   "execution_count": 3,
   "metadata": {},
   "outputs": [],
   "source": [
    "data['cabin_num'] = data['cabin'].str.extract('(\\d+)') # captures numerical part\n",
    "data['cabin_num'] = data['cabin_num'].astype('float')\n",
    "data['cabin_cat'] = data['cabin'].str[0] # captures the first letter\n",
    "data.drop(['cabin'], axis=1, inplace=True)"
   ]
  },
  {
   "cell_type": "markdown",
   "metadata": {},
   "source": [
    "**Make list of variables types! Numerical: discrete and continuous! Categorical!**"
   ]
  },
  {
   "cell_type": "code",
   "execution_count": 4,
   "metadata": {},
   "outputs": [
    {
     "name": "stdout",
     "output_type": "stream",
     "text": [
      "There are 3 discrete variables\n",
      "There are 3 continuous variables\n",
      "There are 3 categorical variables\n"
     ]
    }
   ],
   "source": [
    "discrete = [\n",
    "    var for var in data.columns if data[var].dtype != 'O' and var != 'survived'\n",
    "    and data[var].nunique() < 10]\n",
    "continuous = [\n",
    "    var for var in data.columns\n",
    "    if data[var].dtype != 'O' and var != 'survived' and var not in discrete]\n",
    "categorical = [var for var in data.columns if data[var].dtype == 'O']\n",
    "print('There are {} discrete variables'.format(len(discrete)))\n",
    "print('There are {} continuous variables'.format(len(continuous)))\n",
    "print('There are {} categorical variables'.format(len(categorical)))"
   ]
  },
  {
   "cell_type": "code",
   "execution_count": 5,
   "metadata": {},
   "outputs": [
    {
     "data": {
      "text/plain": [
       "((1178, 9), (131, 9))"
      ]
     },
     "execution_count": 5,
     "metadata": {},
     "output_type": "execute_result"
    }
   ],
   "source": [
    "X_train, X_test, y_train, y_test = train_test_split(\n",
    "    data.drop('survived', axis=1),  # predictors\n",
    "    data['survived'],  # target\n",
    "    test_size=0.1,  # percentage of obs in test set\n",
    "    random_state=0)  # seed to ensure reproducibility\n",
    "X_train.shape, X_test.shape"
   ]
  },
  {
   "cell_type": "markdown",
   "metadata": {},
   "source": [
    "### Set up the pipeline"
   ]
  },
  {
   "cell_type": "markdown",
   "metadata": {},
   "source": [
    "**Missing data imputation (Sec 4)! Categorical encoding (Sec 6)! Then Gradient Boosted machine!**"
   ]
  },
  {
   "cell_type": "code",
   "execution_count": 6,
   "metadata": {},
   "outputs": [],
   "source": [
    "titanic_pipe = Pipeline([\n",
    "    ('imputer_num',\n",
    "     mdi.ArbitraryNumberImputer(arbitrary_number=-1,\n",
    "                                variables=['age', 'fare', 'cabin_num'])),\n",
    "    ('imputer_cat',\n",
    "     mdi.CategoricalImputer(variables=['embarked', 'cabin_cat'])),\n",
    "    ('encoder_rare_label',\n",
    "     ce.RareLabelEncoder(tol=0.01,\n",
    "                                    n_categories=2,\n",
    "                                    variables=['embarked', 'cabin_cat'])),\n",
    "    ('categorical_encoder',\n",
    "     ce.OrdinalEncoder(encoding_method='ordered',\n",
    "                                  variables=['cabin_cat', 'sex', 'embarked'])),\n",
    "    ('gbm', GradientBoostingClassifier(random_state=0))])"
   ]
  },
  {
   "cell_type": "markdown",
   "metadata": {
    "tags": []
   },
   "source": [
    "## Set up the Grid ad the cross-validation strategy"
   ]
  },
  {
   "cell_type": "markdown",
   "metadata": {},
   "source": [
    "**Create the grid with all the parameters that we would like to test! Try different feature engineering parameters! Try different gradient boosted tree model paramenters! Set up the grid search with cross-validation!**"
   ]
  },
  {
   "cell_type": "code",
   "execution_count": 7,
   "metadata": {},
   "outputs": [],
   "source": [
    "param_grid = {\n",
    "    'imputer_num__arbitrary_number': [-1, 99],\n",
    "    'encoder_rare_label__tol': [0.1, 0.2],\n",
    "    'categorical_encoder__encoding_method': ['ordered', 'arbitrary'],\n",
    "    'gbm__max_depth': [None, 1, 3],}\n",
    "grid_search = GridSearchCV(titanic_pipe, param_grid,\n",
    "                           cv=5, n_jobs=-1, scoring='roc_auc')"
   ]
  },
  {
   "cell_type": "markdown",
   "metadata": {},
   "source": [
    "**cv=5** is the cross-validation steps! **no_jobs =-1** indicates to use all available cpus! **scoring='roc-auc'** indicates to evaluate the model performance with the roc-auc! For more details in the grid parameters visit:\n",
    "https://scikit-learn.org/stable/modules/generated/sklearn.model_selection.GridSearchCV.html"
   ]
  },
  {
   "cell_type": "markdown",
   "metadata": {},
   "source": [
    "**Train over all the possible combinations of the parameters above! Print the best score over the train set!**"
   ]
  },
  {
   "cell_type": "code",
   "execution_count": 8,
   "metadata": {},
   "outputs": [
    {
     "name": "stdout",
     "output_type": "stream",
     "text": [
      "best roc-auc from grid search: 0.928\n"
     ]
    }
   ],
   "source": [
    "grid_search.fit(X_train, y_train)\n",
    "print((\"best roc-auc from grid search: %.3f\"\n",
    "       % grid_search.score(X_train, y_train)))"
   ]
  },
  {
   "cell_type": "markdown",
   "metadata": {},
   "source": [
    "**Print the best estimator parameters like this!**"
   ]
  },
  {
   "cell_type": "code",
   "execution_count": 9,
   "metadata": {},
   "outputs": [
    {
     "data": {
      "text/plain": [
       "Pipeline(steps=[('imputer_num',\n",
       "                 ArbitraryNumberImputer(arbitrary_number=99,\n",
       "                                        variables=['age', 'fare',\n",
       "                                                   'cabin_num'])),\n",
       "                ('imputer_cat',\n",
       "                 CategoricalImputer(variables=['embarked', 'cabin_cat'])),\n",
       "                ('encoder_rare_label',\n",
       "                 RareLabelEncoder(n_categories=2, tol=0.2,\n",
       "                                  variables=['embarked', 'cabin_cat'])),\n",
       "                ('categorical_encoder',\n",
       "                 OrdinalEncoder(encoding_method='arbitrary',\n",
       "                                variables=['cabin_cat', 'sex', 'embarked'])),\n",
       "                ('gbm', GradientBoostingClassifier(random_state=0))])"
      ]
     },
     "execution_count": 9,
     "metadata": {},
     "output_type": "execute_result"
    }
   ],
   "source": [
    "grid_search.best_estimator_"
   ]
  },
  {
   "cell_type": "markdown",
   "metadata": {},
   "source": [
    "**Find the best fit parameters like this!**"
   ]
  },
  {
   "cell_type": "code",
   "execution_count": 10,
   "metadata": {},
   "outputs": [
    {
     "data": {
      "text/plain": [
       "{'categorical_encoder__encoding_method': 'arbitrary',\n",
       " 'encoder_rare_label__tol': 0.2,\n",
       " 'gbm__max_depth': 3,\n",
       " 'imputer_num__arbitrary_number': 99}"
      ]
     },
     "execution_count": 10,
     "metadata": {},
     "output_type": "execute_result"
    }
   ],
   "source": [
    "grid_search.best_params_"
   ]
  },
  {
   "cell_type": "markdown",
   "metadata": {},
   "source": [
    "**See all the combinations evaluated during the gridsearch!**"
   ]
  },
  {
   "cell_type": "code",
   "execution_count": 11,
   "metadata": {
    "scrolled": false
   },
   "outputs": [
    {
     "data": {
      "text/plain": [
       "[{'categorical_encoder__encoding_method': 'ordered',\n",
       "  'encoder_rare_label__tol': 0.1,\n",
       "  'gbm__max_depth': None,\n",
       "  'imputer_num__arbitrary_number': -1},\n",
       " {'categorical_encoder__encoding_method': 'ordered',\n",
       "  'encoder_rare_label__tol': 0.1,\n",
       "  'gbm__max_depth': None,\n",
       "  'imputer_num__arbitrary_number': 99},\n",
       " {'categorical_encoder__encoding_method': 'ordered',\n",
       "  'encoder_rare_label__tol': 0.1,\n",
       "  'gbm__max_depth': 1,\n",
       "  'imputer_num__arbitrary_number': -1},\n",
       " {'categorical_encoder__encoding_method': 'ordered',\n",
       "  'encoder_rare_label__tol': 0.1,\n",
       "  'gbm__max_depth': 1,\n",
       "  'imputer_num__arbitrary_number': 99},\n",
       " {'categorical_encoder__encoding_method': 'ordered',\n",
       "  'encoder_rare_label__tol': 0.1,\n",
       "  'gbm__max_depth': 3,\n",
       "  'imputer_num__arbitrary_number': -1},\n",
       " {'categorical_encoder__encoding_method': 'ordered',\n",
       "  'encoder_rare_label__tol': 0.1,\n",
       "  'gbm__max_depth': 3,\n",
       "  'imputer_num__arbitrary_number': 99},\n",
       " {'categorical_encoder__encoding_method': 'ordered',\n",
       "  'encoder_rare_label__tol': 0.2,\n",
       "  'gbm__max_depth': None,\n",
       "  'imputer_num__arbitrary_number': -1},\n",
       " {'categorical_encoder__encoding_method': 'ordered',\n",
       "  'encoder_rare_label__tol': 0.2,\n",
       "  'gbm__max_depth': None,\n",
       "  'imputer_num__arbitrary_number': 99},\n",
       " {'categorical_encoder__encoding_method': 'ordered',\n",
       "  'encoder_rare_label__tol': 0.2,\n",
       "  'gbm__max_depth': 1,\n",
       "  'imputer_num__arbitrary_number': -1},\n",
       " {'categorical_encoder__encoding_method': 'ordered',\n",
       "  'encoder_rare_label__tol': 0.2,\n",
       "  'gbm__max_depth': 1,\n",
       "  'imputer_num__arbitrary_number': 99},\n",
       " {'categorical_encoder__encoding_method': 'ordered',\n",
       "  'encoder_rare_label__tol': 0.2,\n",
       "  'gbm__max_depth': 3,\n",
       "  'imputer_num__arbitrary_number': -1},\n",
       " {'categorical_encoder__encoding_method': 'ordered',\n",
       "  'encoder_rare_label__tol': 0.2,\n",
       "  'gbm__max_depth': 3,\n",
       "  'imputer_num__arbitrary_number': 99},\n",
       " {'categorical_encoder__encoding_method': 'arbitrary',\n",
       "  'encoder_rare_label__tol': 0.1,\n",
       "  'gbm__max_depth': None,\n",
       "  'imputer_num__arbitrary_number': -1},\n",
       " {'categorical_encoder__encoding_method': 'arbitrary',\n",
       "  'encoder_rare_label__tol': 0.1,\n",
       "  'gbm__max_depth': None,\n",
       "  'imputer_num__arbitrary_number': 99},\n",
       " {'categorical_encoder__encoding_method': 'arbitrary',\n",
       "  'encoder_rare_label__tol': 0.1,\n",
       "  'gbm__max_depth': 1,\n",
       "  'imputer_num__arbitrary_number': -1},\n",
       " {'categorical_encoder__encoding_method': 'arbitrary',\n",
       "  'encoder_rare_label__tol': 0.1,\n",
       "  'gbm__max_depth': 1,\n",
       "  'imputer_num__arbitrary_number': 99},\n",
       " {'categorical_encoder__encoding_method': 'arbitrary',\n",
       "  'encoder_rare_label__tol': 0.1,\n",
       "  'gbm__max_depth': 3,\n",
       "  'imputer_num__arbitrary_number': -1},\n",
       " {'categorical_encoder__encoding_method': 'arbitrary',\n",
       "  'encoder_rare_label__tol': 0.1,\n",
       "  'gbm__max_depth': 3,\n",
       "  'imputer_num__arbitrary_number': 99},\n",
       " {'categorical_encoder__encoding_method': 'arbitrary',\n",
       "  'encoder_rare_label__tol': 0.2,\n",
       "  'gbm__max_depth': None,\n",
       "  'imputer_num__arbitrary_number': -1},\n",
       " {'categorical_encoder__encoding_method': 'arbitrary',\n",
       "  'encoder_rare_label__tol': 0.2,\n",
       "  'gbm__max_depth': None,\n",
       "  'imputer_num__arbitrary_number': 99},\n",
       " {'categorical_encoder__encoding_method': 'arbitrary',\n",
       "  'encoder_rare_label__tol': 0.2,\n",
       "  'gbm__max_depth': 1,\n",
       "  'imputer_num__arbitrary_number': -1},\n",
       " {'categorical_encoder__encoding_method': 'arbitrary',\n",
       "  'encoder_rare_label__tol': 0.2,\n",
       "  'gbm__max_depth': 1,\n",
       "  'imputer_num__arbitrary_number': 99},\n",
       " {'categorical_encoder__encoding_method': 'arbitrary',\n",
       "  'encoder_rare_label__tol': 0.2,\n",
       "  'gbm__max_depth': 3,\n",
       "  'imputer_num__arbitrary_number': -1},\n",
       " {'categorical_encoder__encoding_method': 'arbitrary',\n",
       "  'encoder_rare_label__tol': 0.2,\n",
       "  'gbm__max_depth': 3,\n",
       "  'imputer_num__arbitrary_number': 99}]"
      ]
     },
     "execution_count": 11,
     "metadata": {},
     "output_type": "execute_result"
    }
   ],
   "source": [
    "grid_search.cv_results_['params']"
   ]
  },
  {
   "cell_type": "markdown",
   "metadata": {},
   "source": [
    "**And here the scores for each of one of the above combinations!**"
   ]
  },
  {
   "cell_type": "code",
   "execution_count": 12,
   "metadata": {},
   "outputs": [
    {
     "data": {
      "text/plain": [
       "array([0.78367039, 0.79132844, 0.84249683, 0.84684811, 0.86433447,\n",
       "       0.86658773, 0.78490327, 0.79299511, 0.84215436, 0.84621645,\n",
       "       0.86382458, 0.86815546, 0.78937365, 0.79615506, 0.84234593,\n",
       "       0.84638503, 0.86002066, 0.8689012 , 0.78608597, 0.79602569,\n",
       "       0.84234593, 0.84638503, 0.86113938, 0.86982967])"
      ]
     },
     "execution_count": 12,
     "metadata": {},
     "output_type": "execute_result"
    }
   ],
   "source": [
    "grid_search.cv_results_['mean_test_score']"
   ]
  },
  {
   "cell_type": "markdown",
   "metadata": {},
   "source": [
    "**And finally let's check the performance over the test set!**"
   ]
  },
  {
   "cell_type": "code",
   "execution_count": 13,
   "metadata": {},
   "outputs": [
    {
     "name": "stdout",
     "output_type": "stream",
     "text": [
      "best linear regression from grid search: 0.849\n"
     ]
    }
   ],
   "source": [
    "print((\"best linear regression from grid search: %.3f\"\n",
    "       % grid_search.score(X_test, y_test)))"
   ]
  },
  {
   "cell_type": "markdown",
   "metadata": {},
   "source": [
    "**Explore the importance of the features!**"
   ]
  },
  {
   "cell_type": "code",
   "execution_count": 14,
   "metadata": {},
   "outputs": [
    {
     "data": {
      "text/plain": [
       "<AxesSubplot:>"
      ]
     },
     "execution_count": 14,
     "metadata": {},
     "output_type": "execute_result"
    },
    {
     "data": {
      "image/png": "[encoded data removed]",
      "text/plain": [
       "<Figure size 864x432 with 1 Axes>"
      ]
     },
     "metadata": {
      "needs_background": "light"
     },
     "output_type": "display_data"
    }
   ],
   "source": [
    "importance = pd.Series(grid_search.best_estimator_['gbm'].feature_importances_)\n",
    "importance.index = data.drop('survived', axis=1).columns\n",
    "importance.sort_values(inplace=True, ascending=False)\n",
    "importance.plot.bar(figsize=(12,6))"
   ]
  }
 ],
 "metadata": {
  "kernelspec": {
   "display_name": "Python 3 (ipykernel)",
   "language": "python",
   "name": "python3"
  },
  "language_info": {
   "codemirror_mode": {
    "name": "ipython",
    "version": 3
   },
   "file_extension": ".py",
   "mimetype": "text/x-python",
   "name": "python",
   "nbconvert_exporter": "python",
   "pygments_lexer": "ipython3",
   "version": "3.8.8"
  },
  "toc": {
   "base_numbering": 1,
   "nav_menu": {},
   "number_sections": true,
   "sideBar": true,
   "skip_h1_title": false,
   "title_cell": "Table of Contents",
   "title_sidebar": "Contents",
   "toc_cell": false,
   "toc_position": {
    "height": "583px",
    "left": "0px",
    "right": "1324px",
    "top": "107px",
    "width": "326px"
   },
   "toc_section_display": "block",
   "toc_window_display": true
  }
 },
 "nbformat": 4,
 "nbformat_minor": 4
}
