{
 "cells": [
  {
   "cell_type": "markdown",
   "id": "5753ccd2",
   "metadata": {},
   "source": [
    "# **Machine Learning**"
   ]
  },
  {
   "cell_type": "markdown",
   "id": "06151390",
   "metadata": {},
   "source": [
    "From Udemy course '**Learning Phyton for Data Analysis and Visualization**' by Jose Portilla"
   ]
  },
  {
   "cell_type": "markdown",
   "id": "c5a9096f",
   "metadata": {},
   "source": [
    "### **2. Logistic regression 1**"
   ]
  },
  {
   "cell_type": "code",
   "execution_count": 54,
   "id": "29c9023b",
   "metadata": {},
   "outputs": [],
   "source": [
    "import numpy as np\n",
    "import math  # Math\n",
    "import pandas as pd\n",
    "from pandas import DataFrame\n",
    "import matplotlib.pyplot as plt\n",
    "import seaborn as sns\n",
    "%matplotlib inline\n",
    "from sklearn.linear_model import LogisticRegression  # Machine Learning Imports\n",
    "from sklearn.model_selection import train_test_split\n",
    "from sklearn import metrics  # For evaluating our ML results\n",
    "import statsmodels.api as sm  # Dataset Import"
   ]
  },
  {
   "cell_type": "code",
   "execution_count": 21,
   "id": "fc121954",
   "metadata": {},
   "outputs": [],
   "source": [
    "def logistic(t):  # Logistic Function\n",
    "    return 1.0 / (1 + math.exp((-1.0)*t))"
   ]
  },
  {
   "cell_type": "markdown",
   "id": "71bf4326",
   "metadata": {},
   "source": [
    "**Set t from -6 to 6 ( 500 elements, linearly spaced)**"
   ]
  },
  {
   "cell_type": "code",
   "execution_count": 22,
   "id": "554c1547",
   "metadata": {},
   "outputs": [
    {
     "data": {
      "text/plain": [
       "array([-6.        , -5.9759519 , -5.95190381, -5.92785571, -5.90380762,\n",
       "       -5.87975952, -5.85571142, -5.83166333, -5.80761523, -5.78356713,\n",
       "       -5.75951904, -5.73547094, -5.71142285, -5.68737475, -5.66332665,\n",
       "       -5.63927856, -5.61523046, -5.59118236, -5.56713427, -5.54308617,\n",
       "       -5.51903808, -5.49498998, -5.47094188, -5.44689379, -5.42284569,\n",
       "       -5.3987976 , -5.3747495 , -5.3507014 , -5.32665331, -5.30260521,\n",
       "       -5.27855711, -5.25450902, -5.23046092, -5.20641283, -5.18236473,\n",
       "       -5.15831663, -5.13426854, -5.11022044, -5.08617234, -5.06212425,\n",
       "       -5.03807615, -5.01402806, -4.98997996, -4.96593186, -4.94188377,\n",
       "       -4.91783567, -4.89378758, -4.86973948, -4.84569138, -4.82164329,\n",
       "       -4.79759519, -4.77354709, -4.749499  , -4.7254509 , -4.70140281,\n",
       "       -4.67735471, -4.65330661, -4.62925852, -4.60521042, -4.58116232,\n",
       "       -4.55711423, -4.53306613, -4.50901804, -4.48496994, -4.46092184,\n",
       "       -4.43687375, -4.41282565, -4.38877756, -4.36472946, -4.34068136,\n",
       "       -4.31663327, -4.29258517, -4.26853707, -4.24448898, -4.22044088,\n",
       "       -4.19639279, -4.17234469, -4.14829659, -4.1242485 , -4.1002004 ,\n",
       "       -4.0761523 , -4.05210421, -4.02805611, -4.00400802, -3.97995992,\n",
       "       -3.95591182, -3.93186373, -3.90781563, -3.88376754, -3.85971944,\n",
       "       -3.83567134, -3.81162325, -3.78757515, -3.76352705, -3.73947896,\n",
       "       -3.71543086, -3.69138277, -3.66733467, -3.64328657, -3.61923848,\n",
       "       -3.59519038, -3.57114228, -3.54709419, -3.52304609, -3.498998  ,\n",
       "       -3.4749499 , -3.4509018 , -3.42685371, -3.40280561, -3.37875752,\n",
       "       -3.35470942, -3.33066132, -3.30661323, -3.28256513, -3.25851703,\n",
       "       -3.23446894, -3.21042084, -3.18637275, -3.16232465, -3.13827655,\n",
       "       -3.11422846, -3.09018036, -3.06613226, -3.04208417, -3.01803607,\n",
       "       -2.99398798, -2.96993988, -2.94589178, -2.92184369, -2.89779559,\n",
       "       -2.87374749, -2.8496994 , -2.8256513 , -2.80160321, -2.77755511,\n",
       "       -2.75350701, -2.72945892, -2.70541082, -2.68136273, -2.65731463,\n",
       "       -2.63326653, -2.60921844, -2.58517034, -2.56112224, -2.53707415,\n",
       "       -2.51302605, -2.48897796, -2.46492986, -2.44088176, -2.41683367,\n",
       "       -2.39278557, -2.36873747, -2.34468938, -2.32064128, -2.29659319,\n",
       "       -2.27254509, -2.24849699, -2.2244489 , -2.2004008 , -2.17635271,\n",
       "       -2.15230461, -2.12825651, -2.10420842, -2.08016032, -2.05611222,\n",
       "       -2.03206413, -2.00801603, -1.98396794, -1.95991984, -1.93587174,\n",
       "       -1.91182365, -1.88777555, -1.86372745, -1.83967936, -1.81563126,\n",
       "       -1.79158317, -1.76753507, -1.74348697, -1.71943888, -1.69539078,\n",
       "       -1.67134269, -1.64729459, -1.62324649, -1.5991984 , -1.5751503 ,\n",
       "       -1.5511022 , -1.52705411, -1.50300601, -1.47895792, -1.45490982,\n",
       "       -1.43086172, -1.40681363, -1.38276553, -1.35871743, -1.33466934,\n",
       "       -1.31062124, -1.28657315, -1.26252505, -1.23847695, -1.21442886,\n",
       "       -1.19038076, -1.16633267, -1.14228457, -1.11823647, -1.09418838,\n",
       "       -1.07014028, -1.04609218, -1.02204409, -0.99799599, -0.9739479 ,\n",
       "       -0.9498998 , -0.9258517 , -0.90180361, -0.87775551, -0.85370741,\n",
       "       -0.82965932, -0.80561122, -0.78156313, -0.75751503, -0.73346693,\n",
       "       -0.70941884, -0.68537074, -0.66132265, -0.63727455, -0.61322645,\n",
       "       -0.58917836, -0.56513026, -0.54108216, -0.51703407, -0.49298597,\n",
       "       -0.46893788, -0.44488978, -0.42084168, -0.39679359, -0.37274549,\n",
       "       -0.34869739, -0.3246493 , -0.3006012 , -0.27655311, -0.25250501,\n",
       "       -0.22845691, -0.20440882, -0.18036072, -0.15631263, -0.13226453,\n",
       "       -0.10821643, -0.08416834, -0.06012024, -0.03607214, -0.01202405,\n",
       "        0.01202405,  0.03607214,  0.06012024,  0.08416834,  0.10821643,\n",
       "        0.13226453,  0.15631263,  0.18036072,  0.20440882,  0.22845691,\n",
       "        0.25250501,  0.27655311,  0.3006012 ,  0.3246493 ,  0.34869739,\n",
       "        0.37274549,  0.39679359,  0.42084168,  0.44488978,  0.46893788,\n",
       "        0.49298597,  0.51703407,  0.54108216,  0.56513026,  0.58917836,\n",
       "        0.61322645,  0.63727455,  0.66132265,  0.68537074,  0.70941884,\n",
       "        0.73346693,  0.75751503,  0.78156313,  0.80561122,  0.82965932,\n",
       "        0.85370741,  0.87775551,  0.90180361,  0.9258517 ,  0.9498998 ,\n",
       "        0.9739479 ,  0.99799599,  1.02204409,  1.04609218,  1.07014028,\n",
       "        1.09418838,  1.11823647,  1.14228457,  1.16633267,  1.19038076,\n",
       "        1.21442886,  1.23847695,  1.26252505,  1.28657315,  1.31062124,\n",
       "        1.33466934,  1.35871743,  1.38276553,  1.40681363,  1.43086172,\n",
       "        1.45490982,  1.47895792,  1.50300601,  1.52705411,  1.5511022 ,\n",
       "        1.5751503 ,  1.5991984 ,  1.62324649,  1.64729459,  1.67134269,\n",
       "        1.69539078,  1.71943888,  1.74348697,  1.76753507,  1.79158317,\n",
       "        1.81563126,  1.83967936,  1.86372745,  1.88777555,  1.91182365,\n",
       "        1.93587174,  1.95991984,  1.98396794,  2.00801603,  2.03206413,\n",
       "        2.05611222,  2.08016032,  2.10420842,  2.12825651,  2.15230461,\n",
       "        2.17635271,  2.2004008 ,  2.2244489 ,  2.24849699,  2.27254509,\n",
       "        2.29659319,  2.32064128,  2.34468938,  2.36873747,  2.39278557,\n",
       "        2.41683367,  2.44088176,  2.46492986,  2.48897796,  2.51302605,\n",
       "        2.53707415,  2.56112224,  2.58517034,  2.60921844,  2.63326653,\n",
       "        2.65731463,  2.68136273,  2.70541082,  2.72945892,  2.75350701,\n",
       "        2.77755511,  2.80160321,  2.8256513 ,  2.8496994 ,  2.87374749,\n",
       "        2.89779559,  2.92184369,  2.94589178,  2.96993988,  2.99398798,\n",
       "        3.01803607,  3.04208417,  3.06613226,  3.09018036,  3.11422846,\n",
       "        3.13827655,  3.16232465,  3.18637275,  3.21042084,  3.23446894,\n",
       "        3.25851703,  3.28256513,  3.30661323,  3.33066132,  3.35470942,\n",
       "        3.37875752,  3.40280561,  3.42685371,  3.4509018 ,  3.4749499 ,\n",
       "        3.498998  ,  3.52304609,  3.54709419,  3.57114228,  3.59519038,\n",
       "        3.61923848,  3.64328657,  3.66733467,  3.69138277,  3.71543086,\n",
       "        3.73947896,  3.76352705,  3.78757515,  3.81162325,  3.83567134,\n",
       "        3.85971944,  3.88376754,  3.90781563,  3.93186373,  3.95591182,\n",
       "        3.97995992,  4.00400802,  4.02805611,  4.05210421,  4.0761523 ,\n",
       "        4.1002004 ,  4.1242485 ,  4.14829659,  4.17234469,  4.19639279,\n",
       "        4.22044088,  4.24448898,  4.26853707,  4.29258517,  4.31663327,\n",
       "        4.34068136,  4.36472946,  4.38877756,  4.41282565,  4.43687375,\n",
       "        4.46092184,  4.48496994,  4.50901804,  4.53306613,  4.55711423,\n",
       "        4.58116232,  4.60521042,  4.62925852,  4.65330661,  4.67735471,\n",
       "        4.70140281,  4.7254509 ,  4.749499  ,  4.77354709,  4.79759519,\n",
       "        4.82164329,  4.84569138,  4.86973948,  4.89378758,  4.91783567,\n",
       "        4.94188377,  4.96593186,  4.98997996,  5.01402806,  5.03807615,\n",
       "        5.06212425,  5.08617234,  5.11022044,  5.13426854,  5.15831663,\n",
       "        5.18236473,  5.20641283,  5.23046092,  5.25450902,  5.27855711,\n",
       "        5.30260521,  5.32665331,  5.3507014 ,  5.3747495 ,  5.3987976 ,\n",
       "        5.42284569,  5.44689379,  5.47094188,  5.49498998,  5.51903808,\n",
       "        5.54308617,  5.56713427,  5.59118236,  5.61523046,  5.63927856,\n",
       "        5.66332665,  5.68737475,  5.71142285,  5.73547094,  5.75951904,\n",
       "        5.78356713,  5.80761523,  5.83166333,  5.85571142,  5.87975952,\n",
       "        5.90380762,  5.92785571,  5.95190381,  5.9759519 ,  6.        ])"
      ]
     },
     "execution_count": 22,
     "metadata": {},
     "output_type": "execute_result"
    }
   ],
   "source": [
    "t = np.linspace(-6,6,500)\n",
    "t"
   ]
  },
  {
   "cell_type": "markdown",
   "id": "8a7050b6",
   "metadata": {},
   "source": [
    "**Set up y values (list comprehension)**"
   ]
  },
  {
   "cell_type": "code",
   "execution_count": 23,
   "id": "487204f1",
   "metadata": {},
   "outputs": [
    {
     "data": {
      "text/plain": [
       "array([0.00247262, 0.00253265, 0.00259414, 0.00265711, 0.00272161,\n",
       "       0.00278766, 0.00285532, 0.00292462, 0.00299559, 0.00306827,\n",
       "       0.00314272, 0.00321897, 0.00329706, 0.00337703, 0.00345895,\n",
       "       0.00354284, 0.00362875, 0.00371675, 0.00380687, 0.00389916,\n",
       "       0.00399369, 0.0040905 , 0.00418964, 0.00429118, 0.00439516,\n",
       "       0.00450166, 0.00461072, 0.00472241, 0.0048368 , 0.00495394,\n",
       "       0.00507391, 0.00519676, 0.00532258, 0.00545142, 0.00558336,\n",
       "       0.00571848, 0.00585685, 0.00599855, 0.00614366, 0.00629225,\n",
       "       0.00644441, 0.00660023, 0.0067598 , 0.00692319, 0.0070905 ,\n",
       "       0.00726183, 0.00743726, 0.0076169 , 0.00780085, 0.0079892 ,\n",
       "       0.00818206, 0.00837954, 0.00858175, 0.00878879, 0.00900078,\n",
       "       0.00921783, 0.00944007, 0.00966762, 0.0099006 , 0.01013913,\n",
       "       0.01038335, 0.01063339, 0.01088938, 0.01115147, 0.01141979,\n",
       "       0.01169449, 0.01197572, 0.01226363, 0.01255838, 0.01286011,\n",
       "       0.013169  , 0.0134852 , 0.0138089 , 0.01414025, 0.01447943,\n",
       "       0.01482663, 0.01518202, 0.0155458 , 0.01591816, 0.01629929,\n",
       "       0.01668938, 0.01708865, 0.01749731, 0.01791555, 0.01834361,\n",
       "       0.0187817 , 0.01923005, 0.01968889, 0.02015845, 0.02063897,\n",
       "       0.0211307 , 0.02163388, 0.02214878, 0.02267565, 0.02321475,\n",
       "       0.02376636, 0.02433075, 0.0249082 , 0.02549899, 0.02610343,\n",
       "       0.0267218 , 0.0273544 , 0.02800155, 0.02866356, 0.02934075,\n",
       "       0.03003345, 0.03074198, 0.03146668, 0.0322079 , 0.03296598,\n",
       "       0.03374129, 0.03453417, 0.03534501, 0.03617418, 0.03702204,\n",
       "       0.037889  , 0.03877545, 0.03968177, 0.04060839, 0.04155571,\n",
       "       0.04252415, 0.04351413, 0.04452609, 0.04556046, 0.04661768,\n",
       "       0.04769822, 0.04880251, 0.04993104, 0.05108425, 0.05226264,\n",
       "       0.05346668, 0.05469686, 0.05595367, 0.0572376 , 0.05854918,\n",
       "       0.05988889, 0.06125727, 0.06265483, 0.0640821 , 0.0655396 ,\n",
       "       0.06702789, 0.06854749, 0.07009895, 0.07168283, 0.07329967,\n",
       "       0.07495004, 0.07663449, 0.07835359, 0.08010791, 0.08189802,\n",
       "       0.08372449, 0.0855879 , 0.08748882, 0.08942783, 0.09140551,\n",
       "       0.09342243, 0.09547919, 0.09757635, 0.0997145 , 0.10189421,\n",
       "       0.10411606, 0.10638062, 0.10868846, 0.11104014, 0.11343623,\n",
       "       0.11587728, 0.11836386, 0.12089649, 0.12347572, 0.12610209,\n",
       "       0.12877611, 0.13149831, 0.13426918, 0.13708922, 0.13995891,\n",
       "       0.14287873, 0.14584913, 0.14887057, 0.15194345, 0.15506821,\n",
       "       0.15824525, 0.16147493, 0.16475763, 0.16809368, 0.17148341,\n",
       "       0.17492713, 0.17842511, 0.18197762, 0.18558487, 0.18924709,\n",
       "       0.19296445, 0.19673712, 0.20056521, 0.20444883, 0.20838805,\n",
       "       0.21238291, 0.21643341, 0.22053953, 0.22470121, 0.22891835,\n",
       "       0.23319084, 0.23751851, 0.24190116, 0.24633855, 0.2508304 ,\n",
       "       0.25537641, 0.25997621, 0.26462943, 0.26933562, 0.2740943 ,\n",
       "       0.27890497, 0.28376707, 0.28868   , 0.29364311, 0.29865572,\n",
       "       0.30371711, 0.30882651, 0.31398309, 0.31918602, 0.32443439,\n",
       "       0.32972727, 0.33506366, 0.34044256, 0.34586289, 0.35132355,\n",
       "       0.3568234 , 0.36236125, 0.36793588, 0.37354603, 0.3791904 ,\n",
       "       0.38486766, 0.39057645, 0.39631536, 0.40208296, 0.40787778,\n",
       "       0.41369834, 0.4195431 , 0.42541052, 0.43129903, 0.43720703,\n",
       "       0.44313289, 0.44907499, 0.45503166, 0.46100122, 0.46698199,\n",
       "       0.47297226, 0.47897033, 0.48497447, 0.49098294, 0.49699402,\n",
       "       0.50300598, 0.50901706, 0.51502553, 0.52102967, 0.52702774,\n",
       "       0.53301801, 0.53899878, 0.54496834, 0.55092501, 0.55686711,\n",
       "       0.56279297, 0.56870097, 0.57458948, 0.5804569 , 0.58630166,\n",
       "       0.59212222, 0.59791704, 0.60368464, 0.60942355, 0.61513234,\n",
       "       0.6208096 , 0.62645397, 0.63206412, 0.63763875, 0.6431766 ,\n",
       "       0.64867645, 0.65413711, 0.65955744, 0.66493634, 0.67027273,\n",
       "       0.67556561, 0.68081398, 0.68601691, 0.69117349, 0.69628289,\n",
       "       0.70134428, 0.70635689, 0.71132   , 0.71623293, 0.72109503,\n",
       "       0.7259057 , 0.73066438, 0.73537057, 0.74002379, 0.74462359,\n",
       "       0.7491696 , 0.75366145, 0.75809884, 0.76248149, 0.76680916,\n",
       "       0.77108165, 0.77529879, 0.77946047, 0.78356659, 0.78761709,\n",
       "       0.79161195, 0.79555117, 0.79943479, 0.80326288, 0.80703555,\n",
       "       0.81075291, 0.81441513, 0.81802238, 0.82157489, 0.82507287,\n",
       "       0.82851659, 0.83190632, 0.83524237, 0.83852507, 0.84175475,\n",
       "       0.84493179, 0.84805655, 0.85112943, 0.85415087, 0.85712127,\n",
       "       0.86004109, 0.86291078, 0.86573082, 0.86850169, 0.87122389,\n",
       "       0.87389791, 0.87652428, 0.87910351, 0.88163614, 0.88412272,\n",
       "       0.88656377, 0.88895986, 0.89131154, 0.89361938, 0.89588394,\n",
       "       0.89810579, 0.9002855 , 0.90242365, 0.90452081, 0.90657757,\n",
       "       0.90859449, 0.91057217, 0.91251118, 0.9144121 , 0.91627551,\n",
       "       0.91810198, 0.91989209, 0.92164641, 0.92336551, 0.92504996,\n",
       "       0.92670033, 0.92831717, 0.92990105, 0.93145251, 0.93297211,\n",
       "       0.9344604 , 0.9359179 , 0.93734517, 0.93874273, 0.94011111,\n",
       "       0.94145082, 0.9427624 , 0.94404633, 0.94530314, 0.94653332,\n",
       "       0.94773736, 0.94891575, 0.95006896, 0.95119749, 0.95230178,\n",
       "       0.95338232, 0.95443954, 0.95547391, 0.95648587, 0.95747585,\n",
       "       0.95844429, 0.95939161, 0.96031823, 0.96122455, 0.962111  ,\n",
       "       0.96297796, 0.96382582, 0.96465499, 0.96546583, 0.96625871,\n",
       "       0.96703402, 0.9677921 , 0.96853332, 0.96925802, 0.96996655,\n",
       "       0.97065925, 0.97133644, 0.97199845, 0.9726456 , 0.9732782 ,\n",
       "       0.97389657, 0.97450101, 0.9750918 , 0.97566925, 0.97623364,\n",
       "       0.97678525, 0.97732435, 0.97785122, 0.97836612, 0.9788693 ,\n",
       "       0.97936103, 0.97984155, 0.98031111, 0.98076995, 0.9812183 ,\n",
       "       0.98165639, 0.98208445, 0.98250269, 0.98291135, 0.98331062,\n",
       "       0.98370071, 0.98408184, 0.9844542 , 0.98481798, 0.98517337,\n",
       "       0.98552057, 0.98585975, 0.9861911 , 0.9865148 , 0.986831  ,\n",
       "       0.98713989, 0.98744162, 0.98773637, 0.98802428, 0.98830551,\n",
       "       0.98858021, 0.98884853, 0.98911062, 0.98936661, 0.98961665,\n",
       "       0.98986087, 0.9900994 , 0.99033238, 0.99055993, 0.99078217,\n",
       "       0.99099922, 0.99121121, 0.99141825, 0.99162046, 0.99181794,\n",
       "       0.9920108 , 0.99219915, 0.9923831 , 0.99256274, 0.99273817,\n",
       "       0.9929095 , 0.99307681, 0.9932402 , 0.99339977, 0.99355559,\n",
       "       0.99370775, 0.99385634, 0.99400145, 0.99414315, 0.99428152,\n",
       "       0.99441664, 0.99454858, 0.99467742, 0.99480324, 0.99492609,\n",
       "       0.99504606, 0.9951632 , 0.99527759, 0.99538928, 0.99549834,\n",
       "       0.99560484, 0.99570882, 0.99581036, 0.9959095 , 0.99600631,\n",
       "       0.99610084, 0.99619313, 0.99628325, 0.99637125, 0.99645716,\n",
       "       0.99654105, 0.99662297, 0.99670294, 0.99678103, 0.99685728,\n",
       "       0.99693173, 0.99700441, 0.99707538, 0.99714468, 0.99721234,\n",
       "       0.99727839, 0.99734289, 0.99740586, 0.99746735, 0.99752738])"
      ]
     },
     "execution_count": 23,
     "metadata": {},
     "output_type": "execute_result"
    }
   ],
   "source": [
    "y = np.array([logistic(ele) for ele in t])\n",
    "y"
   ]
  },
  {
   "cell_type": "markdown",
   "id": "76e417d6-a14f-4061-a508-c3cc01195aa1",
   "metadata": {},
   "source": [
    "**The plot of logistic function!**"
   ]
  },
  {
   "cell_type": "code",
   "execution_count": 24,
   "id": "eb3a3e4e",
   "metadata": {
    "scrolled": true
   },
   "outputs": [
    {
     "data": {
      "text/plain": [
       "Text(0.5, 1.0, ' Logistic Function ')"
      ]
     },
     "execution_count": 24,
     "metadata": {},
     "output_type": "execute_result"
    },
    {
     "data": {
      "image/png": "[encoded data removed]",
      "text/plain": [
       "<Figure size 432x288 with 1 Axes>"
      ]
     },
     "metadata": {
      "needs_background": "light"
     },
     "output_type": "display_data"
    }
   ],
   "source": [
    "plt.plot(t,y)\n",
    "plt.title(' Logistic Function ')"
   ]
  },
  {
   "cell_type": "markdown",
   "id": "45b5dbca",
   "metadata": {},
   "source": [
    "**Logistic regression 2**"
   ]
  },
  {
   "cell_type": "code",
   "execution_count": 49,
   "id": "08934e6b-dd8d-4461-90fa-51198b35aa53",
   "metadata": {},
   "outputs": [
    {
     "data": {
      "text/plain": [
       "array(['PytestTester', 'anes96', 'cancer', 'ccard', 'check_internet',\n",
       "       'china_smoking', 'clear_data_home', 'co2', 'committee', 'copper',\n",
       "       'cpunish', 'danish_data', 'elnino', 'engel', 'fair', 'fertility',\n",
       "       'get_data_home', 'get_rdataset', 'grunfeld', 'heart',\n",
       "       'interest_inflation', 'longley', 'macrodata', 'modechoice', 'nile',\n",
       "       'randhie', 'scotland', 'spector', 'stackloss', 'star98',\n",
       "       'statecrime', 'strikes', 'sunspots', 'test', 'utils', 'webuse'],\n",
       "      dtype='<U18')"
      ]
     },
     "execution_count": 49,
     "metadata": {},
     "output_type": "execute_result"
    }
   ],
   "source": [
    "np.array([_ for _ in dir(sm.datasets) if not _.startswith('__')])"
   ]
  },
  {
   "cell_type": "code",
   "execution_count": 28,
   "id": "c9ac8229",
   "metadata": {},
   "outputs": [
    {
     "data": {
      "text/html": [
       "<div>\n",
       "<style scoped>\n",
       "    .dataframe tbody tr th:only-of-type {\n",
       "        vertical-align: middle;\n",
       "    }\n",
       "\n",
       "    .dataframe tbody tr th {\n",
       "        vertical-align: top;\n",
       "    }\n",
       "\n",
       "    .dataframe thead th {\n",
       "        text-align: right;\n",
       "    }\n",
       "</style>\n",
       "<table border=\"1\" class=\"dataframe\">\n",
       "  <thead>\n",
       "    <tr style=\"text-align: right;\">\n",
       "      <th></th>\n",
       "      <th>rate_marriage</th>\n",
       "      <th>age</th>\n",
       "      <th>yrs_married</th>\n",
       "      <th>children</th>\n",
       "      <th>religious</th>\n",
       "      <th>educ</th>\n",
       "      <th>occupation</th>\n",
       "      <th>occupation_husb</th>\n",
       "      <th>affairs</th>\n",
       "    </tr>\n",
       "  </thead>\n",
       "  <tbody>\n",
       "    <tr>\n",
       "      <th>0</th>\n",
       "      <td>3.0</td>\n",
       "      <td>32.0</td>\n",
       "      <td>9.0</td>\n",
       "      <td>3.0</td>\n",
       "      <td>3.0</td>\n",
       "      <td>17.0</td>\n",
       "      <td>2.0</td>\n",
       "      <td>5.0</td>\n",
       "      <td>0.111111</td>\n",
       "    </tr>\n",
       "    <tr>\n",
       "      <th>1</th>\n",
       "      <td>3.0</td>\n",
       "      <td>27.0</td>\n",
       "      <td>13.0</td>\n",
       "      <td>3.0</td>\n",
       "      <td>1.0</td>\n",
       "      <td>14.0</td>\n",
       "      <td>3.0</td>\n",
       "      <td>4.0</td>\n",
       "      <td>3.230769</td>\n",
       "    </tr>\n",
       "    <tr>\n",
       "      <th>2</th>\n",
       "      <td>4.0</td>\n",
       "      <td>22.0</td>\n",
       "      <td>2.5</td>\n",
       "      <td>0.0</td>\n",
       "      <td>1.0</td>\n",
       "      <td>16.0</td>\n",
       "      <td>3.0</td>\n",
       "      <td>5.0</td>\n",
       "      <td>1.400000</td>\n",
       "    </tr>\n",
       "    <tr>\n",
       "      <th>3</th>\n",
       "      <td>4.0</td>\n",
       "      <td>37.0</td>\n",
       "      <td>16.5</td>\n",
       "      <td>4.0</td>\n",
       "      <td>3.0</td>\n",
       "      <td>16.0</td>\n",
       "      <td>5.0</td>\n",
       "      <td>5.0</td>\n",
       "      <td>0.727273</td>\n",
       "    </tr>\n",
       "    <tr>\n",
       "      <th>4</th>\n",
       "      <td>5.0</td>\n",
       "      <td>27.0</td>\n",
       "      <td>9.0</td>\n",
       "      <td>1.0</td>\n",
       "      <td>1.0</td>\n",
       "      <td>14.0</td>\n",
       "      <td>3.0</td>\n",
       "      <td>4.0</td>\n",
       "      <td>4.666666</td>\n",
       "    </tr>\n",
       "  </tbody>\n",
       "</table>\n",
       "</div>"
      ],
      "text/plain": [
       "   rate_marriage   age  yrs_married  children  religious  educ  occupation  \\\n",
       "0            3.0  32.0          9.0       3.0        3.0  17.0         2.0   \n",
       "1            3.0  27.0         13.0       3.0        1.0  14.0         3.0   \n",
       "2            4.0  22.0          2.5       0.0        1.0  16.0         3.0   \n",
       "3            4.0  37.0         16.5       4.0        3.0  16.0         5.0   \n",
       "4            5.0  27.0          9.0       1.0        1.0  14.0         3.0   \n",
       "\n",
       "   occupation_husb   affairs  \n",
       "0              5.0  0.111111  \n",
       "1              4.0  3.230769  \n",
       "2              5.0  1.400000  \n",
       "3              5.0  0.727273  \n",
       "4              4.0  4.666666  "
      ]
     },
     "execution_count": 28,
     "metadata": {},
     "output_type": "execute_result"
    }
   ],
   "source": [
    "df = sm.datasets.fair.load_pandas().data\n",
    "df.head()"
   ]
  },
  {
   "cell_type": "code",
   "execution_count": 29,
   "id": "0669ffbd",
   "metadata": {},
   "outputs": [],
   "source": [
    "def affair_check(x):\n",
    "    if x != 0:\n",
    "        return 1\n",
    "    else:\n",
    "        return 0"
   ]
  },
  {
   "cell_type": "code",
   "execution_count": 30,
   "id": "1a70366b",
   "metadata": {
    "scrolled": true
   },
   "outputs": [
    {
     "data": {
      "text/html": [
       "<div>\n",
       "<style scoped>\n",
       "    .dataframe tbody tr th:only-of-type {\n",
       "        vertical-align: middle;\n",
       "    }\n",
       "\n",
       "    .dataframe tbody tr th {\n",
       "        vertical-align: top;\n",
       "    }\n",
       "\n",
       "    .dataframe thead th {\n",
       "        text-align: right;\n",
       "    }\n",
       "</style>\n",
       "<table border=\"1\" class=\"dataframe\">\n",
       "  <thead>\n",
       "    <tr style=\"text-align: right;\">\n",
       "      <th></th>\n",
       "      <th>rate_marriage</th>\n",
       "      <th>age</th>\n",
       "      <th>yrs_married</th>\n",
       "      <th>children</th>\n",
       "      <th>religious</th>\n",
       "      <th>educ</th>\n",
       "      <th>occupation</th>\n",
       "      <th>occupation_husb</th>\n",
       "      <th>affairs</th>\n",
       "      <th>Had_Affair</th>\n",
       "    </tr>\n",
       "  </thead>\n",
       "  <tbody>\n",
       "    <tr>\n",
       "      <th>0</th>\n",
       "      <td>3.0</td>\n",
       "      <td>32.0</td>\n",
       "      <td>9.0</td>\n",
       "      <td>3.0</td>\n",
       "      <td>3.0</td>\n",
       "      <td>17.0</td>\n",
       "      <td>2.0</td>\n",
       "      <td>5.0</td>\n",
       "      <td>0.111111</td>\n",
       "      <td>1</td>\n",
       "    </tr>\n",
       "    <tr>\n",
       "      <th>1</th>\n",
       "      <td>3.0</td>\n",
       "      <td>27.0</td>\n",
       "      <td>13.0</td>\n",
       "      <td>3.0</td>\n",
       "      <td>1.0</td>\n",
       "      <td>14.0</td>\n",
       "      <td>3.0</td>\n",
       "      <td>4.0</td>\n",
       "      <td>3.230769</td>\n",
       "      <td>1</td>\n",
       "    </tr>\n",
       "    <tr>\n",
       "      <th>2</th>\n",
       "      <td>4.0</td>\n",
       "      <td>22.0</td>\n",
       "      <td>2.5</td>\n",
       "      <td>0.0</td>\n",
       "      <td>1.0</td>\n",
       "      <td>16.0</td>\n",
       "      <td>3.0</td>\n",
       "      <td>5.0</td>\n",
       "      <td>1.400000</td>\n",
       "      <td>1</td>\n",
       "    </tr>\n",
       "    <tr>\n",
       "      <th>3</th>\n",
       "      <td>4.0</td>\n",
       "      <td>37.0</td>\n",
       "      <td>16.5</td>\n",
       "      <td>4.0</td>\n",
       "      <td>3.0</td>\n",
       "      <td>16.0</td>\n",
       "      <td>5.0</td>\n",
       "      <td>5.0</td>\n",
       "      <td>0.727273</td>\n",
       "      <td>1</td>\n",
       "    </tr>\n",
       "    <tr>\n",
       "      <th>4</th>\n",
       "      <td>5.0</td>\n",
       "      <td>27.0</td>\n",
       "      <td>9.0</td>\n",
       "      <td>1.0</td>\n",
       "      <td>1.0</td>\n",
       "      <td>14.0</td>\n",
       "      <td>3.0</td>\n",
       "      <td>4.0</td>\n",
       "      <td>4.666666</td>\n",
       "      <td>1</td>\n",
       "    </tr>\n",
       "    <tr>\n",
       "      <th>...</th>\n",
       "      <td>...</td>\n",
       "      <td>...</td>\n",
       "      <td>...</td>\n",
       "      <td>...</td>\n",
       "      <td>...</td>\n",
       "      <td>...</td>\n",
       "      <td>...</td>\n",
       "      <td>...</td>\n",
       "      <td>...</td>\n",
       "      <td>...</td>\n",
       "    </tr>\n",
       "    <tr>\n",
       "      <th>6361</th>\n",
       "      <td>5.0</td>\n",
       "      <td>32.0</td>\n",
       "      <td>13.0</td>\n",
       "      <td>2.0</td>\n",
       "      <td>3.0</td>\n",
       "      <td>17.0</td>\n",
       "      <td>4.0</td>\n",
       "      <td>3.0</td>\n",
       "      <td>0.000000</td>\n",
       "      <td>0</td>\n",
       "    </tr>\n",
       "    <tr>\n",
       "      <th>6362</th>\n",
       "      <td>4.0</td>\n",
       "      <td>32.0</td>\n",
       "      <td>13.0</td>\n",
       "      <td>1.0</td>\n",
       "      <td>1.0</td>\n",
       "      <td>16.0</td>\n",
       "      <td>5.0</td>\n",
       "      <td>5.0</td>\n",
       "      <td>0.000000</td>\n",
       "      <td>0</td>\n",
       "    </tr>\n",
       "    <tr>\n",
       "      <th>6363</th>\n",
       "      <td>5.0</td>\n",
       "      <td>22.0</td>\n",
       "      <td>2.5</td>\n",
       "      <td>0.0</td>\n",
       "      <td>2.0</td>\n",
       "      <td>14.0</td>\n",
       "      <td>3.0</td>\n",
       "      <td>1.0</td>\n",
       "      <td>0.000000</td>\n",
       "      <td>0</td>\n",
       "    </tr>\n",
       "    <tr>\n",
       "      <th>6364</th>\n",
       "      <td>5.0</td>\n",
       "      <td>32.0</td>\n",
       "      <td>6.0</td>\n",
       "      <td>1.0</td>\n",
       "      <td>3.0</td>\n",
       "      <td>14.0</td>\n",
       "      <td>3.0</td>\n",
       "      <td>4.0</td>\n",
       "      <td>0.000000</td>\n",
       "      <td>0</td>\n",
       "    </tr>\n",
       "    <tr>\n",
       "      <th>6365</th>\n",
       "      <td>4.0</td>\n",
       "      <td>22.0</td>\n",
       "      <td>2.5</td>\n",
       "      <td>0.0</td>\n",
       "      <td>2.0</td>\n",
       "      <td>16.0</td>\n",
       "      <td>2.0</td>\n",
       "      <td>4.0</td>\n",
       "      <td>0.000000</td>\n",
       "      <td>0</td>\n",
       "    </tr>\n",
       "  </tbody>\n",
       "</table>\n",
       "<p>6366 rows × 10 columns</p>\n",
       "</div>"
      ],
      "text/plain": [
       "      rate_marriage   age  yrs_married  children  religious  educ  occupation  \\\n",
       "0               3.0  32.0          9.0       3.0        3.0  17.0         2.0   \n",
       "1               3.0  27.0         13.0       3.0        1.0  14.0         3.0   \n",
       "2               4.0  22.0          2.5       0.0        1.0  16.0         3.0   \n",
       "3               4.0  37.0         16.5       4.0        3.0  16.0         5.0   \n",
       "4               5.0  27.0          9.0       1.0        1.0  14.0         3.0   \n",
       "...             ...   ...          ...       ...        ...   ...         ...   \n",
       "6361            5.0  32.0         13.0       2.0        3.0  17.0         4.0   \n",
       "6362            4.0  32.0         13.0       1.0        1.0  16.0         5.0   \n",
       "6363            5.0  22.0          2.5       0.0        2.0  14.0         3.0   \n",
       "6364            5.0  32.0          6.0       1.0        3.0  14.0         3.0   \n",
       "6365            4.0  22.0          2.5       0.0        2.0  16.0         2.0   \n",
       "\n",
       "      occupation_husb   affairs  Had_Affair  \n",
       "0                 5.0  0.111111           1  \n",
       "1                 4.0  3.230769           1  \n",
       "2                 5.0  1.400000           1  \n",
       "3                 5.0  0.727273           1  \n",
       "4                 4.0  4.666666           1  \n",
       "...               ...       ...         ...  \n",
       "6361              3.0  0.000000           0  \n",
       "6362              5.0  0.000000           0  \n",
       "6363              1.0  0.000000           0  \n",
       "6364              4.0  0.000000           0  \n",
       "6365              4.0  0.000000           0  \n",
       "\n",
       "[6366 rows x 10 columns]"
      ]
     },
     "execution_count": 30,
     "metadata": {},
     "output_type": "execute_result"
    }
   ],
   "source": [
    "df['Had_Affair'] = df['affairs'].apply(affair_check)\n",
    "df"
   ]
  },
  {
   "cell_type": "code",
   "execution_count": 35,
   "id": "2ee5f046",
   "metadata": {
    "scrolled": false
   },
   "outputs": [
    {
     "data": {
      "text/html": [
       "<div>\n",
       "<style scoped>\n",
       "    .dataframe tbody tr th:only-of-type {\n",
       "        vertical-align: middle;\n",
       "    }\n",
       "\n",
       "    .dataframe tbody tr th {\n",
       "        vertical-align: top;\n",
       "    }\n",
       "\n",
       "    .dataframe thead th {\n",
       "        text-align: right;\n",
       "    }\n",
       "</style>\n",
       "<table border=\"1\" class=\"dataframe\">\n",
       "  <thead>\n",
       "    <tr style=\"text-align: right;\">\n",
       "      <th></th>\n",
       "      <th>rate_marriage</th>\n",
       "      <th>age</th>\n",
       "      <th>yrs_married</th>\n",
       "      <th>children</th>\n",
       "      <th>religious</th>\n",
       "      <th>educ</th>\n",
       "      <th>occupation</th>\n",
       "      <th>occupation_husb</th>\n",
       "      <th>affairs</th>\n",
       "    </tr>\n",
       "    <tr>\n",
       "      <th>Had_Affair</th>\n",
       "      <th></th>\n",
       "      <th></th>\n",
       "      <th></th>\n",
       "      <th></th>\n",
       "      <th></th>\n",
       "      <th></th>\n",
       "      <th></th>\n",
       "      <th></th>\n",
       "      <th></th>\n",
       "    </tr>\n",
       "  </thead>\n",
       "  <tbody>\n",
       "    <tr>\n",
       "      <th>0</th>\n",
       "      <td>4.329701</td>\n",
       "      <td>28.390679</td>\n",
       "      <td>7.989335</td>\n",
       "      <td>1.238813</td>\n",
       "      <td>2.504521</td>\n",
       "      <td>14.322977</td>\n",
       "      <td>3.405286</td>\n",
       "      <td>3.833758</td>\n",
       "      <td>0.000000</td>\n",
       "    </tr>\n",
       "    <tr>\n",
       "      <th>1</th>\n",
       "      <td>3.647345</td>\n",
       "      <td>30.537019</td>\n",
       "      <td>11.152460</td>\n",
       "      <td>1.728933</td>\n",
       "      <td>2.261568</td>\n",
       "      <td>13.972236</td>\n",
       "      <td>3.463712</td>\n",
       "      <td>3.884559</td>\n",
       "      <td>2.187243</td>\n",
       "    </tr>\n",
       "  </tbody>\n",
       "</table>\n",
       "</div>"
      ],
      "text/plain": [
       "            rate_marriage        age  yrs_married  children  religious  \\\n",
       "Had_Affair                                                               \n",
       "0                4.329701  28.390679     7.989335  1.238813   2.504521   \n",
       "1                3.647345  30.537019    11.152460  1.728933   2.261568   \n",
       "\n",
       "                 educ  occupation  occupation_husb   affairs  \n",
       "Had_Affair                                                    \n",
       "0           14.322977    3.405286         3.833758  0.000000  \n",
       "1           13.972236    3.463712         3.884559  2.187243  "
      ]
     },
     "execution_count": 35,
     "metadata": {},
     "output_type": "execute_result"
    }
   ],
   "source": [
    "df.groupby('Had_Affair').mean()"
   ]
  },
  {
   "cell_type": "code",
   "execution_count": 36,
   "id": "c680b8ee",
   "metadata": {},
   "outputs": [
    {
     "data": {
      "text/plain": [
       "<seaborn.axisgrid.FacetGrid at 0x222da5f4850>"
      ]
     },
     "execution_count": 36,
     "metadata": {},
     "output_type": "execute_result"
    },
    {
     "data": {
      "image/png": "[encoded data removed]",
      "text/plain": [
       "<Figure size 419.875x360 with 1 Axes>"
      ]
     },
     "metadata": {
      "needs_background": "light"
     },
     "output_type": "display_data"
    }
   ],
   "source": [
    "sns.catplot(x='age', hue='Had_Affair', data=df, palette='coolwarm', kind='count')"
   ]
  },
  {
   "cell_type": "code",
   "execution_count": 37,
   "id": "d9d44f48",
   "metadata": {
    "scrolled": true
   },
   "outputs": [
    {
     "data": {
      "text/plain": [
       "<seaborn.axisgrid.FacetGrid at 0x222da6b83d0>"
      ]
     },
     "execution_count": 37,
     "metadata": {},
     "output_type": "execute_result"
    },
    {
     "data": {
      "image/png": "[encoded data removed]",
      "text/plain": [
       "<Figure size 419.875x360 with 1 Axes>"
      ]
     },
     "metadata": {
      "needs_background": "light"
     },
     "output_type": "display_data"
    }
   ],
   "source": [
    "sns.catplot(x='yrs_married', data=df, hue='Had_Affair', palette='coolwarm', kind = 'count')"
   ]
  },
  {
   "cell_type": "code",
   "execution_count": 38,
   "id": "fdbc844b",
   "metadata": {},
   "outputs": [
    {
     "data": {
      "text/plain": [
       "<seaborn.axisgrid.FacetGrid at 0x222da718670>"
      ]
     },
     "execution_count": 38,
     "metadata": {},
     "output_type": "execute_result"
    },
    {
     "data": {
      "image/png": "[encoded data removed]",
      "text/plain": [
       "<Figure size 419.875x360 with 1 Axes>"
      ]
     },
     "metadata": {
      "needs_background": "light"
     },
     "output_type": "display_data"
    }
   ],
   "source": [
    "sns.catplot(x='children',data=df,hue='Had_Affair',palette='coolwarm', kind='count')"
   ]
  },
  {
   "cell_type": "code",
   "execution_count": 39,
   "id": "d69fb80e",
   "metadata": {
    "scrolled": true
   },
   "outputs": [
    {
     "data": {
      "text/plain": [
       "<seaborn.axisgrid.FacetGrid at 0x222da6a7fa0>"
      ]
     },
     "execution_count": 39,
     "metadata": {},
     "output_type": "execute_result"
    },
    {
     "data": {
      "image/png": "[encoded data removed]",
      "text/plain": [
       "<Figure size 419.875x360 with 1 Axes>"
      ]
     },
     "metadata": {
      "needs_background": "light"
     },
     "output_type": "display_data"
    }
   ],
   "source": [
    "sns.catplot(x='educ',data=df,hue='Had_Affair',palette='coolwarm', kind='count')"
   ]
  },
  {
   "cell_type": "markdown",
   "id": "bb5cd109",
   "metadata": {},
   "source": [
    "**Logistic regression 3**"
   ]
  },
  {
   "cell_type": "code",
   "execution_count": 40,
   "id": "dc6ecbe0",
   "metadata": {},
   "outputs": [
    {
     "data": {
      "text/html": [
       "<div>\n",
       "<style scoped>\n",
       "    .dataframe tbody tr th:only-of-type {\n",
       "        vertical-align: middle;\n",
       "    }\n",
       "\n",
       "    .dataframe tbody tr th {\n",
       "        vertical-align: top;\n",
       "    }\n",
       "\n",
       "    .dataframe thead th {\n",
       "        text-align: right;\n",
       "    }\n",
       "</style>\n",
       "<table border=\"1\" class=\"dataframe\">\n",
       "  <thead>\n",
       "    <tr style=\"text-align: right;\">\n",
       "      <th></th>\n",
       "      <th>1.0</th>\n",
       "      <th>2.0</th>\n",
       "      <th>3.0</th>\n",
       "      <th>4.0</th>\n",
       "      <th>5.0</th>\n",
       "      <th>6.0</th>\n",
       "    </tr>\n",
       "  </thead>\n",
       "  <tbody>\n",
       "    <tr>\n",
       "      <th>0</th>\n",
       "      <td>0</td>\n",
       "      <td>1</td>\n",
       "      <td>0</td>\n",
       "      <td>0</td>\n",
       "      <td>0</td>\n",
       "      <td>0</td>\n",
       "    </tr>\n",
       "    <tr>\n",
       "      <th>1</th>\n",
       "      <td>0</td>\n",
       "      <td>0</td>\n",
       "      <td>1</td>\n",
       "      <td>0</td>\n",
       "      <td>0</td>\n",
       "      <td>0</td>\n",
       "    </tr>\n",
       "    <tr>\n",
       "      <th>2</th>\n",
       "      <td>0</td>\n",
       "      <td>0</td>\n",
       "      <td>1</td>\n",
       "      <td>0</td>\n",
       "      <td>0</td>\n",
       "      <td>0</td>\n",
       "    </tr>\n",
       "    <tr>\n",
       "      <th>3</th>\n",
       "      <td>0</td>\n",
       "      <td>0</td>\n",
       "      <td>0</td>\n",
       "      <td>0</td>\n",
       "      <td>1</td>\n",
       "      <td>0</td>\n",
       "    </tr>\n",
       "    <tr>\n",
       "      <th>4</th>\n",
       "      <td>0</td>\n",
       "      <td>0</td>\n",
       "      <td>1</td>\n",
       "      <td>0</td>\n",
       "      <td>0</td>\n",
       "      <td>0</td>\n",
       "    </tr>\n",
       "  </tbody>\n",
       "</table>\n",
       "</div>"
      ],
      "text/plain": [
       "   1.0  2.0  3.0  4.0  5.0  6.0\n",
       "0    0    1    0    0    0    0\n",
       "1    0    0    1    0    0    0\n",
       "2    0    0    1    0    0    0\n",
       "3    0    0    0    0    1    0\n",
       "4    0    0    1    0    0    0"
      ]
     },
     "execution_count": 40,
     "metadata": {},
     "output_type": "execute_result"
    }
   ],
   "source": [
    "occ_dummies = pd.get_dummies(df['occupation'])\n",
    "hus_occ_dummies =pd.get_dummies(df['occupation_husb'])\n",
    "occ_dummies.head()"
   ]
  },
  {
   "cell_type": "code",
   "execution_count": 41,
   "id": "2fefd4cb",
   "metadata": {},
   "outputs": [
    {
     "data": {
      "text/html": [
       "<div>\n",
       "<style scoped>\n",
       "    .dataframe tbody tr th:only-of-type {\n",
       "        vertical-align: middle;\n",
       "    }\n",
       "\n",
       "    .dataframe tbody tr th {\n",
       "        vertical-align: top;\n",
       "    }\n",
       "\n",
       "    .dataframe thead th {\n",
       "        text-align: right;\n",
       "    }\n",
       "</style>\n",
       "<table border=\"1\" class=\"dataframe\">\n",
       "  <thead>\n",
       "    <tr style=\"text-align: right;\">\n",
       "      <th></th>\n",
       "      <th>1.0</th>\n",
       "      <th>2.0</th>\n",
       "      <th>3.0</th>\n",
       "      <th>4.0</th>\n",
       "      <th>5.0</th>\n",
       "      <th>6.0</th>\n",
       "    </tr>\n",
       "  </thead>\n",
       "  <tbody>\n",
       "    <tr>\n",
       "      <th>0</th>\n",
       "      <td>0</td>\n",
       "      <td>0</td>\n",
       "      <td>0</td>\n",
       "      <td>0</td>\n",
       "      <td>1</td>\n",
       "      <td>0</td>\n",
       "    </tr>\n",
       "    <tr>\n",
       "      <th>1</th>\n",
       "      <td>0</td>\n",
       "      <td>0</td>\n",
       "      <td>0</td>\n",
       "      <td>1</td>\n",
       "      <td>0</td>\n",
       "      <td>0</td>\n",
       "    </tr>\n",
       "    <tr>\n",
       "      <th>2</th>\n",
       "      <td>0</td>\n",
       "      <td>0</td>\n",
       "      <td>0</td>\n",
       "      <td>0</td>\n",
       "      <td>1</td>\n",
       "      <td>0</td>\n",
       "    </tr>\n",
       "    <tr>\n",
       "      <th>3</th>\n",
       "      <td>0</td>\n",
       "      <td>0</td>\n",
       "      <td>0</td>\n",
       "      <td>0</td>\n",
       "      <td>1</td>\n",
       "      <td>0</td>\n",
       "    </tr>\n",
       "    <tr>\n",
       "      <th>4</th>\n",
       "      <td>0</td>\n",
       "      <td>0</td>\n",
       "      <td>0</td>\n",
       "      <td>1</td>\n",
       "      <td>0</td>\n",
       "      <td>0</td>\n",
       "    </tr>\n",
       "    <tr>\n",
       "      <th>...</th>\n",
       "      <td>...</td>\n",
       "      <td>...</td>\n",
       "      <td>...</td>\n",
       "      <td>...</td>\n",
       "      <td>...</td>\n",
       "      <td>...</td>\n",
       "    </tr>\n",
       "    <tr>\n",
       "      <th>6361</th>\n",
       "      <td>0</td>\n",
       "      <td>0</td>\n",
       "      <td>1</td>\n",
       "      <td>0</td>\n",
       "      <td>0</td>\n",
       "      <td>0</td>\n",
       "    </tr>\n",
       "    <tr>\n",
       "      <th>6362</th>\n",
       "      <td>0</td>\n",
       "      <td>0</td>\n",
       "      <td>0</td>\n",
       "      <td>0</td>\n",
       "      <td>1</td>\n",
       "      <td>0</td>\n",
       "    </tr>\n",
       "    <tr>\n",
       "      <th>6363</th>\n",
       "      <td>1</td>\n",
       "      <td>0</td>\n",
       "      <td>0</td>\n",
       "      <td>0</td>\n",
       "      <td>0</td>\n",
       "      <td>0</td>\n",
       "    </tr>\n",
       "    <tr>\n",
       "      <th>6364</th>\n",
       "      <td>0</td>\n",
       "      <td>0</td>\n",
       "      <td>0</td>\n",
       "      <td>1</td>\n",
       "      <td>0</td>\n",
       "      <td>0</td>\n",
       "    </tr>\n",
       "    <tr>\n",
       "      <th>6365</th>\n",
       "      <td>0</td>\n",
       "      <td>0</td>\n",
       "      <td>0</td>\n",
       "      <td>1</td>\n",
       "      <td>0</td>\n",
       "      <td>0</td>\n",
       "    </tr>\n",
       "  </tbody>\n",
       "</table>\n",
       "<p>6366 rows × 6 columns</p>\n",
       "</div>"
      ],
      "text/plain": [
       "      1.0  2.0  3.0  4.0  5.0  6.0\n",
       "0       0    0    0    0    1    0\n",
       "1       0    0    0    1    0    0\n",
       "2       0    0    0    0    1    0\n",
       "3       0    0    0    0    1    0\n",
       "4       0    0    0    1    0    0\n",
       "...   ...  ...  ...  ...  ...  ...\n",
       "6361    0    0    1    0    0    0\n",
       "6362    0    0    0    0    1    0\n",
       "6363    1    0    0    0    0    0\n",
       "6364    0    0    0    1    0    0\n",
       "6365    0    0    0    1    0    0\n",
       "\n",
       "[6366 rows x 6 columns]"
      ]
     },
     "execution_count": 41,
     "metadata": {},
     "output_type": "execute_result"
    }
   ],
   "source": [
    "hus_occ_dummies"
   ]
  },
  {
   "cell_type": "code",
   "execution_count": 42,
   "id": "87526e6a",
   "metadata": {},
   "outputs": [],
   "source": [
    "occ_dummies.columns = ['occ1','occ2','occ3','occ4','occ5','occ6']\n",
    "hus_occ_dummies.columns = ['hocc1','hocc2','hocc3','hocc4','hocc5','hocc6']"
   ]
  },
  {
   "cell_type": "code",
   "execution_count": 43,
   "id": "12d110d4",
   "metadata": {},
   "outputs": [],
   "source": [
    "X = df.drop(['occupation','occupation_husb','Had_Affair'],axis=1)"
   ]
  },
  {
   "cell_type": "code",
   "execution_count": 44,
   "id": "8a06ef60",
   "metadata": {},
   "outputs": [],
   "source": [
    "dummies = pd.concat([occ_dummies,hus_occ_dummies],axis=1)"
   ]
  },
  {
   "cell_type": "code",
   "execution_count": 45,
   "id": "3bf10d43",
   "metadata": {},
   "outputs": [
    {
     "data": {
      "text/html": [
       "<div>\n",
       "<style scoped>\n",
       "    .dataframe tbody tr th:only-of-type {\n",
       "        vertical-align: middle;\n",
       "    }\n",
       "\n",
       "    .dataframe tbody tr th {\n",
       "        vertical-align: top;\n",
       "    }\n",
       "\n",
       "    .dataframe thead th {\n",
       "        text-align: right;\n",
       "    }\n",
       "</style>\n",
       "<table border=\"1\" class=\"dataframe\">\n",
       "  <thead>\n",
       "    <tr style=\"text-align: right;\">\n",
       "      <th></th>\n",
       "      <th>rate_marriage</th>\n",
       "      <th>age</th>\n",
       "      <th>yrs_married</th>\n",
       "      <th>children</th>\n",
       "      <th>religious</th>\n",
       "      <th>educ</th>\n",
       "      <th>affairs</th>\n",
       "      <th>occ1</th>\n",
       "      <th>occ2</th>\n",
       "      <th>occ3</th>\n",
       "      <th>occ4</th>\n",
       "      <th>occ5</th>\n",
       "      <th>occ6</th>\n",
       "      <th>hocc1</th>\n",
       "      <th>hocc2</th>\n",
       "      <th>hocc3</th>\n",
       "      <th>hocc4</th>\n",
       "      <th>hocc5</th>\n",
       "      <th>hocc6</th>\n",
       "    </tr>\n",
       "  </thead>\n",
       "  <tbody>\n",
       "    <tr>\n",
       "      <th>0</th>\n",
       "      <td>3.0</td>\n",
       "      <td>32.0</td>\n",
       "      <td>9.0</td>\n",
       "      <td>3.0</td>\n",
       "      <td>3.0</td>\n",
       "      <td>17.0</td>\n",
       "      <td>0.111111</td>\n",
       "      <td>0</td>\n",
       "      <td>1</td>\n",
       "      <td>0</td>\n",
       "      <td>0</td>\n",
       "      <td>0</td>\n",
       "      <td>0</td>\n",
       "      <td>0</td>\n",
       "      <td>0</td>\n",
       "      <td>0</td>\n",
       "      <td>0</td>\n",
       "      <td>1</td>\n",
       "      <td>0</td>\n",
       "    </tr>\n",
       "    <tr>\n",
       "      <th>1</th>\n",
       "      <td>3.0</td>\n",
       "      <td>27.0</td>\n",
       "      <td>13.0</td>\n",
       "      <td>3.0</td>\n",
       "      <td>1.0</td>\n",
       "      <td>14.0</td>\n",
       "      <td>3.230769</td>\n",
       "      <td>0</td>\n",
       "      <td>0</td>\n",
       "      <td>1</td>\n",
       "      <td>0</td>\n",
       "      <td>0</td>\n",
       "      <td>0</td>\n",
       "      <td>0</td>\n",
       "      <td>0</td>\n",
       "      <td>0</td>\n",
       "      <td>1</td>\n",
       "      <td>0</td>\n",
       "      <td>0</td>\n",
       "    </tr>\n",
       "    <tr>\n",
       "      <th>2</th>\n",
       "      <td>4.0</td>\n",
       "      <td>22.0</td>\n",
       "      <td>2.5</td>\n",
       "      <td>0.0</td>\n",
       "      <td>1.0</td>\n",
       "      <td>16.0</td>\n",
       "      <td>1.400000</td>\n",
       "      <td>0</td>\n",
       "      <td>0</td>\n",
       "      <td>1</td>\n",
       "      <td>0</td>\n",
       "      <td>0</td>\n",
       "      <td>0</td>\n",
       "      <td>0</td>\n",
       "      <td>0</td>\n",
       "      <td>0</td>\n",
       "      <td>0</td>\n",
       "      <td>1</td>\n",
       "      <td>0</td>\n",
       "    </tr>\n",
       "    <tr>\n",
       "      <th>3</th>\n",
       "      <td>4.0</td>\n",
       "      <td>37.0</td>\n",
       "      <td>16.5</td>\n",
       "      <td>4.0</td>\n",
       "      <td>3.0</td>\n",
       "      <td>16.0</td>\n",
       "      <td>0.727273</td>\n",
       "      <td>0</td>\n",
       "      <td>0</td>\n",
       "      <td>0</td>\n",
       "      <td>0</td>\n",
       "      <td>1</td>\n",
       "      <td>0</td>\n",
       "      <td>0</td>\n",
       "      <td>0</td>\n",
       "      <td>0</td>\n",
       "      <td>0</td>\n",
       "      <td>1</td>\n",
       "      <td>0</td>\n",
       "    </tr>\n",
       "    <tr>\n",
       "      <th>4</th>\n",
       "      <td>5.0</td>\n",
       "      <td>27.0</td>\n",
       "      <td>9.0</td>\n",
       "      <td>1.0</td>\n",
       "      <td>1.0</td>\n",
       "      <td>14.0</td>\n",
       "      <td>4.666666</td>\n",
       "      <td>0</td>\n",
       "      <td>0</td>\n",
       "      <td>1</td>\n",
       "      <td>0</td>\n",
       "      <td>0</td>\n",
       "      <td>0</td>\n",
       "      <td>0</td>\n",
       "      <td>0</td>\n",
       "      <td>0</td>\n",
       "      <td>1</td>\n",
       "      <td>0</td>\n",
       "      <td>0</td>\n",
       "    </tr>\n",
       "  </tbody>\n",
       "</table>\n",
       "</div>"
      ],
      "text/plain": [
       "   rate_marriage   age  yrs_married  children  religious  educ   affairs  \\\n",
       "0            3.0  32.0          9.0       3.0        3.0  17.0  0.111111   \n",
       "1            3.0  27.0         13.0       3.0        1.0  14.0  3.230769   \n",
       "2            4.0  22.0          2.5       0.0        1.0  16.0  1.400000   \n",
       "3            4.0  37.0         16.5       4.0        3.0  16.0  0.727273   \n",
       "4            5.0  27.0          9.0       1.0        1.0  14.0  4.666666   \n",
       "\n",
       "   occ1  occ2  occ3  occ4  occ5  occ6  hocc1  hocc2  hocc3  hocc4  hocc5  \\\n",
       "0     0     1     0     0     0     0      0      0      0      0      1   \n",
       "1     0     0     1     0     0     0      0      0      0      1      0   \n",
       "2     0     0     1     0     0     0      0      0      0      0      1   \n",
       "3     0     0     0     0     1     0      0      0      0      0      1   \n",
       "4     0     0     1     0     0     0      0      0      0      1      0   \n",
       "\n",
       "   hocc6  \n",
       "0      0  \n",
       "1      0  \n",
       "2      0  \n",
       "3      0  \n",
       "4      0  "
      ]
     },
     "execution_count": 45,
     "metadata": {},
     "output_type": "execute_result"
    }
   ],
   "source": [
    "X = pd.concat([X,dummies],axis=1)\n",
    "X.head()"
   ]
  },
  {
   "cell_type": "code",
   "execution_count": 46,
   "id": "076b221f",
   "metadata": {},
   "outputs": [
    {
     "data": {
      "text/plain": [
       "0    1\n",
       "1    1\n",
       "2    1\n",
       "3    1\n",
       "4    1\n",
       "Name: Had_Affair, dtype: int64"
      ]
     },
     "execution_count": 46,
     "metadata": {},
     "output_type": "execute_result"
    }
   ],
   "source": [
    "Y = df.Had_Affair\n",
    "Y.head()"
   ]
  },
  {
   "cell_type": "code",
   "execution_count": 47,
   "id": "fe09663c",
   "metadata": {
    "scrolled": true
   },
   "outputs": [
    {
     "data": {
      "text/plain": [
       "6361    0\n",
       "6362    0\n",
       "6363    0\n",
       "6364    0\n",
       "6365    0\n",
       "Name: Had_Affair, dtype: int64"
      ]
     },
     "execution_count": 47,
     "metadata": {},
     "output_type": "execute_result"
    }
   ],
   "source": [
    "Y.tail()"
   ]
  },
  {
   "cell_type": "markdown",
   "id": "da315fab",
   "metadata": {},
   "source": [
    "**Logistic regression 4 - Multicollinearity**"
   ]
  },
  {
   "cell_type": "markdown",
   "id": "ee3a8e2d",
   "metadata": {},
   "source": [
    "Dropping one column from each dummy variable set!"
   ]
  },
  {
   "cell_type": "code",
   "execution_count": 410,
   "id": "c68e1d92",
   "metadata": {},
   "outputs": [],
   "source": [
    "X = X.drop('occ1',axis=1)"
   ]
  },
  {
   "cell_type": "code",
   "execution_count": 411,
   "id": "f770e2a5",
   "metadata": {},
   "outputs": [],
   "source": [
    "X = X.drop('hocc1',axis=1)"
   ]
  },
  {
   "cell_type": "markdown",
   "id": "ae31d269",
   "metadata": {},
   "source": [
    "**Drop affairs column so Y target makes sense**"
   ]
  },
  {
   "cell_type": "code",
   "execution_count": 412,
   "id": "b7b7bcd3",
   "metadata": {},
   "outputs": [
    {
     "data": {
      "text/html": [
       "<div>\n",
       "<style scoped>\n",
       "    .dataframe tbody tr th:only-of-type {\n",
       "        vertical-align: middle;\n",
       "    }\n",
       "\n",
       "    .dataframe tbody tr th {\n",
       "        vertical-align: top;\n",
       "    }\n",
       "\n",
       "    .dataframe thead th {\n",
       "        text-align: right;\n",
       "    }\n",
       "</style>\n",
       "<table border=\"1\" class=\"dataframe\">\n",
       "  <thead>\n",
       "    <tr style=\"text-align: right;\">\n",
       "      <th></th>\n",
       "      <th>rate_marriage</th>\n",
       "      <th>age</th>\n",
       "      <th>yrs_married</th>\n",
       "      <th>children</th>\n",
       "      <th>religious</th>\n",
       "      <th>educ</th>\n",
       "      <th>occ2</th>\n",
       "      <th>occ3</th>\n",
       "      <th>occ4</th>\n",
       "      <th>occ5</th>\n",
       "      <th>occ6</th>\n",
       "      <th>hocc2</th>\n",
       "      <th>hocc3</th>\n",
       "      <th>hocc4</th>\n",
       "      <th>hocc5</th>\n",
       "      <th>hocc6</th>\n",
       "    </tr>\n",
       "  </thead>\n",
       "  <tbody>\n",
       "    <tr>\n",
       "      <th>0</th>\n",
       "      <td>3.0</td>\n",
       "      <td>32.0</td>\n",
       "      <td>9.0</td>\n",
       "      <td>3.0</td>\n",
       "      <td>3.0</td>\n",
       "      <td>17.0</td>\n",
       "      <td>1</td>\n",
       "      <td>0</td>\n",
       "      <td>0</td>\n",
       "      <td>0</td>\n",
       "      <td>0</td>\n",
       "      <td>0</td>\n",
       "      <td>0</td>\n",
       "      <td>0</td>\n",
       "      <td>1</td>\n",
       "      <td>0</td>\n",
       "    </tr>\n",
       "    <tr>\n",
       "      <th>1</th>\n",
       "      <td>3.0</td>\n",
       "      <td>27.0</td>\n",
       "      <td>13.0</td>\n",
       "      <td>3.0</td>\n",
       "      <td>1.0</td>\n",
       "      <td>14.0</td>\n",
       "      <td>0</td>\n",
       "      <td>1</td>\n",
       "      <td>0</td>\n",
       "      <td>0</td>\n",
       "      <td>0</td>\n",
       "      <td>0</td>\n",
       "      <td>0</td>\n",
       "      <td>1</td>\n",
       "      <td>0</td>\n",
       "      <td>0</td>\n",
       "    </tr>\n",
       "    <tr>\n",
       "      <th>2</th>\n",
       "      <td>4.0</td>\n",
       "      <td>22.0</td>\n",
       "      <td>2.5</td>\n",
       "      <td>0.0</td>\n",
       "      <td>1.0</td>\n",
       "      <td>16.0</td>\n",
       "      <td>0</td>\n",
       "      <td>1</td>\n",
       "      <td>0</td>\n",
       "      <td>0</td>\n",
       "      <td>0</td>\n",
       "      <td>0</td>\n",
       "      <td>0</td>\n",
       "      <td>0</td>\n",
       "      <td>1</td>\n",
       "      <td>0</td>\n",
       "    </tr>\n",
       "    <tr>\n",
       "      <th>3</th>\n",
       "      <td>4.0</td>\n",
       "      <td>37.0</td>\n",
       "      <td>16.5</td>\n",
       "      <td>4.0</td>\n",
       "      <td>3.0</td>\n",
       "      <td>16.0</td>\n",
       "      <td>0</td>\n",
       "      <td>0</td>\n",
       "      <td>0</td>\n",
       "      <td>1</td>\n",
       "      <td>0</td>\n",
       "      <td>0</td>\n",
       "      <td>0</td>\n",
       "      <td>0</td>\n",
       "      <td>1</td>\n",
       "      <td>0</td>\n",
       "    </tr>\n",
       "    <tr>\n",
       "      <th>4</th>\n",
       "      <td>5.0</td>\n",
       "      <td>27.0</td>\n",
       "      <td>9.0</td>\n",
       "      <td>1.0</td>\n",
       "      <td>1.0</td>\n",
       "      <td>14.0</td>\n",
       "      <td>0</td>\n",
       "      <td>1</td>\n",
       "      <td>0</td>\n",
       "      <td>0</td>\n",
       "      <td>0</td>\n",
       "      <td>0</td>\n",
       "      <td>0</td>\n",
       "      <td>1</td>\n",
       "      <td>0</td>\n",
       "      <td>0</td>\n",
       "    </tr>\n",
       "  </tbody>\n",
       "</table>\n",
       "</div>"
      ],
      "text/plain": [
       "   rate_marriage   age  yrs_married  children  religious  educ  occ2  occ3  \\\n",
       "0            3.0  32.0          9.0       3.0        3.0  17.0     1     0   \n",
       "1            3.0  27.0         13.0       3.0        1.0  14.0     0     1   \n",
       "2            4.0  22.0          2.5       0.0        1.0  16.0     0     1   \n",
       "3            4.0  37.0         16.5       4.0        3.0  16.0     0     0   \n",
       "4            5.0  27.0          9.0       1.0        1.0  14.0     0     1   \n",
       "\n",
       "   occ4  occ5  occ6  hocc2  hocc3  hocc4  hocc5  hocc6  \n",
       "0     0     0     0      0      0      0      1      0  \n",
       "1     0     0     0      0      0      1      0      0  \n",
       "2     0     0     0      0      0      0      1      0  \n",
       "3     0     1     0      0      0      0      1      0  \n",
       "4     0     0     0      0      0      1      0      0  "
      ]
     },
     "execution_count": 412,
     "metadata": {},
     "output_type": "execute_result"
    }
   ],
   "source": [
    "X = X.drop('affairs',axis=1)\n",
    "X.head()"
   ]
  },
  {
   "cell_type": "code",
   "execution_count": 413,
   "id": "57bfea1f",
   "metadata": {},
   "outputs": [
    {
     "data": {
      "text/plain": [
       "0    1\n",
       "1    1\n",
       "2    1\n",
       "3    1\n",
       "4    1\n",
       "Name: Had_Affair, dtype: int64"
      ]
     },
     "execution_count": 413,
     "metadata": {},
     "output_type": "execute_result"
    }
   ],
   "source": [
    "Y.head()"
   ]
  },
  {
   "cell_type": "code",
   "execution_count": 414,
   "id": "28155a61",
   "metadata": {},
   "outputs": [
    {
     "data": {
      "text/plain": [
       "array([1, 1, 1, ..., 0, 0, 0], dtype=int64)"
      ]
     },
     "execution_count": 414,
     "metadata": {},
     "output_type": "execute_result"
    }
   ],
   "source": [
    "Y = np.ravel(Y)\n",
    "Y"
   ]
  },
  {
   "cell_type": "code",
   "execution_count": 50,
   "id": "3d873cc1",
   "metadata": {},
   "outputs": [
    {
     "name": "stderr",
     "output_type": "stream",
     "text": [
      "C:\\Users\\husey\\anaconda3\\lib\\site-packages\\sklearn\\linear_model\\_logistic.py:763: ConvergenceWarning: lbfgs failed to converge (status=1):\n",
      "STOP: TOTAL NO. of ITERATIONS REACHED LIMIT.\n",
      "\n",
      "Increase the number of iterations (max_iter) or scale the data as shown in:\n",
      "    https://scikit-learn.org/stable/modules/preprocessing.html\n",
      "Please also refer to the documentation for alternative solver options:\n",
      "    https://scikit-learn.org/stable/modules/linear_model.html#logistic-regression\n",
      "  n_iter_i = _check_optimize_result(\n"
     ]
    },
    {
     "data": {
      "text/plain": [
       "LogisticRegression()"
      ]
     },
     "execution_count": 50,
     "metadata": {},
     "output_type": "execute_result"
    }
   ],
   "source": [
    "log_model = LogisticRegression()\n",
    "log_model.fit(X,Y)"
   ]
  },
  {
   "cell_type": "markdown",
   "id": "560c29fd",
   "metadata": {},
   "source": [
    "**We can increase maximum iteration!**"
   ]
  },
  {
   "cell_type": "code",
   "execution_count": 51,
   "id": "18a8f670",
   "metadata": {},
   "outputs": [
    {
     "data": {
      "text/plain": [
       "LogisticRegression(max_iter=1000)"
      ]
     },
     "execution_count": 51,
     "metadata": {},
     "output_type": "execute_result"
    }
   ],
   "source": [
    "log_model = LogisticRegression(solver='lbfgs', max_iter=1000)\n",
    "log_model.fit(X,Y)"
   ]
  },
  {
   "cell_type": "code",
   "execution_count": 52,
   "id": "2abeb6fc",
   "metadata": {},
   "outputs": [
    {
     "data": {
      "text/plain": [
       "0.3224945020420987"
      ]
     },
     "execution_count": 52,
     "metadata": {},
     "output_type": "execute_result"
    }
   ],
   "source": [
    "log_model.score(X,Y)\n",
    "Y.mean()"
   ]
  },
  {
   "cell_type": "code",
   "execution_count": 62,
   "id": "816e4704",
   "metadata": {},
   "outputs": [
    {
     "data": {
      "text/plain": [
       "array([[-4.41718991e-01, -7.78650776e-02,  1.61353152e-01,\n",
       "         6.23010112e-02, -2.33940569e-01,  2.41041969e-02,\n",
       "         1.88044807e+01, -2.15962792e-01, -1.15739138e-01,\n",
       "         1.20054394e-02,  1.85385938e-02,  1.43469747e-01,\n",
       "         1.27710442e-01,  1.75020293e-01, -2.45001681e-01,\n",
       "         9.87021665e-02,  1.10968653e-01,  1.59034831e-02,\n",
       "        -1.85570622e-01]])"
      ]
     },
     "execution_count": 62,
     "metadata": {},
     "output_type": "execute_result"
    }
   ],
   "source": [
    "log_model.coef_"
   ]
  },
  {
   "cell_type": "code",
   "execution_count": 63,
   "id": "f30b1530",
   "metadata": {},
   "outputs": [
    {
     "data": {
      "text/plain": [
       "array([[-4.41718991e-01],\n",
       "       [-7.78650776e-02],\n",
       "       [ 1.61353152e-01],\n",
       "       [ 6.23010112e-02],\n",
       "       [-2.33940569e-01],\n",
       "       [ 2.41041969e-02],\n",
       "       [ 1.88044807e+01],\n",
       "       [-2.15962792e-01],\n",
       "       [-1.15739138e-01],\n",
       "       [ 1.20054394e-02],\n",
       "       [ 1.85385938e-02],\n",
       "       [ 1.43469747e-01],\n",
       "       [ 1.27710442e-01],\n",
       "       [ 1.75020293e-01],\n",
       "       [-2.45001681e-01],\n",
       "       [ 9.87021665e-02],\n",
       "       [ 1.10968653e-01],\n",
       "       [ 1.59034831e-02],\n",
       "       [-1.85570622e-01]])"
      ]
     },
     "execution_count": 63,
     "metadata": {},
     "output_type": "execute_result"
    }
   ],
   "source": [
    "log_model.coef_.T"
   ]
  },
  {
   "cell_type": "code",
   "execution_count": 61,
   "id": "8d08b6f3",
   "metadata": {},
   "outputs": [
    {
     "data": {
      "text/html": [
       "<div>\n",
       "<style scoped>\n",
       "    .dataframe tbody tr th:only-of-type {\n",
       "        vertical-align: middle;\n",
       "    }\n",
       "\n",
       "    .dataframe tbody tr th {\n",
       "        vertical-align: top;\n",
       "    }\n",
       "\n",
       "    .dataframe thead th {\n",
       "        text-align: right;\n",
       "    }\n",
       "</style>\n",
       "<table border=\"1\" class=\"dataframe\">\n",
       "  <thead>\n",
       "    <tr style=\"text-align: right;\">\n",
       "      <th></th>\n",
       "      <th>0</th>\n",
       "      <th>1</th>\n",
       "    </tr>\n",
       "  </thead>\n",
       "  <tbody>\n",
       "    <tr>\n",
       "      <th>0</th>\n",
       "      <td>rate_marriage</td>\n",
       "      <td>[-0.4417189906033718]</td>\n",
       "    </tr>\n",
       "    <tr>\n",
       "      <th>1</th>\n",
       "      <td>age</td>\n",
       "      <td>[-0.07786507764627894]</td>\n",
       "    </tr>\n",
       "    <tr>\n",
       "      <th>2</th>\n",
       "      <td>yrs_married</td>\n",
       "      <td>[0.16135315173771794]</td>\n",
       "    </tr>\n",
       "    <tr>\n",
       "      <th>3</th>\n",
       "      <td>children</td>\n",
       "      <td>[0.062301011221675855]</td>\n",
       "    </tr>\n",
       "    <tr>\n",
       "      <th>4</th>\n",
       "      <td>religious</td>\n",
       "      <td>[-0.2339405692419373]</td>\n",
       "    </tr>\n",
       "    <tr>\n",
       "      <th>5</th>\n",
       "      <td>educ</td>\n",
       "      <td>[0.02410419685305311]</td>\n",
       "    </tr>\n",
       "    <tr>\n",
       "      <th>6</th>\n",
       "      <td>affairs</td>\n",
       "      <td>[18.80448067919146]</td>\n",
       "    </tr>\n",
       "    <tr>\n",
       "      <th>7</th>\n",
       "      <td>occ1</td>\n",
       "      <td>[-0.2159627920298905]</td>\n",
       "    </tr>\n",
       "    <tr>\n",
       "      <th>8</th>\n",
       "      <td>occ2</td>\n",
       "      <td>[-0.11573913750649772]</td>\n",
       "    </tr>\n",
       "    <tr>\n",
       "      <th>9</th>\n",
       "      <td>occ3</td>\n",
       "      <td>[0.012005439411464399]</td>\n",
       "    </tr>\n",
       "    <tr>\n",
       "      <th>10</th>\n",
       "      <td>occ4</td>\n",
       "      <td>[0.018538593826857828]</td>\n",
       "    </tr>\n",
       "    <tr>\n",
       "      <th>11</th>\n",
       "      <td>occ5</td>\n",
       "      <td>[0.1434697469507561]</td>\n",
       "    </tr>\n",
       "    <tr>\n",
       "      <th>12</th>\n",
       "      <td>occ6</td>\n",
       "      <td>[0.127710441882016]</td>\n",
       "    </tr>\n",
       "    <tr>\n",
       "      <th>13</th>\n",
       "      <td>hocc1</td>\n",
       "      <td>[0.17502029307634331]</td>\n",
       "    </tr>\n",
       "    <tr>\n",
       "      <th>14</th>\n",
       "      <td>hocc2</td>\n",
       "      <td>[-0.24500168116127607]</td>\n",
       "    </tr>\n",
       "    <tr>\n",
       "      <th>15</th>\n",
       "      <td>hocc3</td>\n",
       "      <td>[0.09870216645992644]</td>\n",
       "    </tr>\n",
       "    <tr>\n",
       "      <th>16</th>\n",
       "      <td>hocc4</td>\n",
       "      <td>[0.11096865349675089]</td>\n",
       "    </tr>\n",
       "    <tr>\n",
       "      <th>17</th>\n",
       "      <td>hocc5</td>\n",
       "      <td>[0.015903483076477234]</td>\n",
       "    </tr>\n",
       "    <tr>\n",
       "      <th>18</th>\n",
       "      <td>hocc6</td>\n",
       "      <td>[-0.18557062241383881]</td>\n",
       "    </tr>\n",
       "  </tbody>\n",
       "</table>\n",
       "</div>"
      ],
      "text/plain": [
       "                0                       1\n",
       "0   rate_marriage   [-0.4417189906033718]\n",
       "1             age  [-0.07786507764627894]\n",
       "2     yrs_married   [0.16135315173771794]\n",
       "3        children  [0.062301011221675855]\n",
       "4       religious   [-0.2339405692419373]\n",
       "5            educ   [0.02410419685305311]\n",
       "6         affairs     [18.80448067919146]\n",
       "7            occ1   [-0.2159627920298905]\n",
       "8            occ2  [-0.11573913750649772]\n",
       "9            occ3  [0.012005439411464399]\n",
       "10           occ4  [0.018538593826857828]\n",
       "11           occ5    [0.1434697469507561]\n",
       "12           occ6     [0.127710441882016]\n",
       "13          hocc1   [0.17502029307634331]\n",
       "14          hocc2  [-0.24500168116127607]\n",
       "15          hocc3   [0.09870216645992644]\n",
       "16          hocc4   [0.11096865349675089]\n",
       "17          hocc5  [0.015903483076477234]\n",
       "18          hocc6  [-0.18557062241383881]"
      ]
     },
     "execution_count": 61,
     "metadata": {},
     "output_type": "execute_result"
    }
   ],
   "source": [
    "DataFrame(zip(X.columns,log_model.coef_.T))"
   ]
  },
  {
   "cell_type": "code",
   "execution_count": 55,
   "id": "89914df0",
   "metadata": {},
   "outputs": [
    {
     "data": {
      "text/html": [
       "<div>\n",
       "<style scoped>\n",
       "    .dataframe tbody tr th:only-of-type {\n",
       "        vertical-align: middle;\n",
       "    }\n",
       "\n",
       "    .dataframe tbody tr th {\n",
       "        vertical-align: top;\n",
       "    }\n",
       "\n",
       "    .dataframe thead th {\n",
       "        text-align: right;\n",
       "    }\n",
       "</style>\n",
       "<table border=\"1\" class=\"dataframe\">\n",
       "  <thead>\n",
       "    <tr style=\"text-align: right;\">\n",
       "      <th></th>\n",
       "      <th>0</th>\n",
       "      <th>1</th>\n",
       "    </tr>\n",
       "  </thead>\n",
       "  <tbody>\n",
       "    <tr>\n",
       "      <th>0</th>\n",
       "      <td>rate_marriage</td>\n",
       "      <td>[-0.4417189906033718]</td>\n",
       "    </tr>\n",
       "    <tr>\n",
       "      <th>1</th>\n",
       "      <td>age</td>\n",
       "      <td>[-0.07786507764627894]</td>\n",
       "    </tr>\n",
       "    <tr>\n",
       "      <th>2</th>\n",
       "      <td>yrs_married</td>\n",
       "      <td>[0.16135315173771794]</td>\n",
       "    </tr>\n",
       "    <tr>\n",
       "      <th>3</th>\n",
       "      <td>children</td>\n",
       "      <td>[0.062301011221675855]</td>\n",
       "    </tr>\n",
       "    <tr>\n",
       "      <th>4</th>\n",
       "      <td>religious</td>\n",
       "      <td>[-0.2339405692419373]</td>\n",
       "    </tr>\n",
       "    <tr>\n",
       "      <th>5</th>\n",
       "      <td>educ</td>\n",
       "      <td>[0.02410419685305311]</td>\n",
       "    </tr>\n",
       "    <tr>\n",
       "      <th>6</th>\n",
       "      <td>affairs</td>\n",
       "      <td>[18.80448067919146]</td>\n",
       "    </tr>\n",
       "    <tr>\n",
       "      <th>7</th>\n",
       "      <td>occ1</td>\n",
       "      <td>[-0.2159627920298905]</td>\n",
       "    </tr>\n",
       "    <tr>\n",
       "      <th>8</th>\n",
       "      <td>occ2</td>\n",
       "      <td>[-0.11573913750649772]</td>\n",
       "    </tr>\n",
       "    <tr>\n",
       "      <th>9</th>\n",
       "      <td>occ3</td>\n",
       "      <td>[0.012005439411464399]</td>\n",
       "    </tr>\n",
       "    <tr>\n",
       "      <th>10</th>\n",
       "      <td>occ4</td>\n",
       "      <td>[0.018538593826857828]</td>\n",
       "    </tr>\n",
       "    <tr>\n",
       "      <th>11</th>\n",
       "      <td>occ5</td>\n",
       "      <td>[0.1434697469507561]</td>\n",
       "    </tr>\n",
       "    <tr>\n",
       "      <th>12</th>\n",
       "      <td>occ6</td>\n",
       "      <td>[0.127710441882016]</td>\n",
       "    </tr>\n",
       "    <tr>\n",
       "      <th>13</th>\n",
       "      <td>hocc1</td>\n",
       "      <td>[0.17502029307634331]</td>\n",
       "    </tr>\n",
       "    <tr>\n",
       "      <th>14</th>\n",
       "      <td>hocc2</td>\n",
       "      <td>[-0.24500168116127607]</td>\n",
       "    </tr>\n",
       "    <tr>\n",
       "      <th>15</th>\n",
       "      <td>hocc3</td>\n",
       "      <td>[0.09870216645992644]</td>\n",
       "    </tr>\n",
       "    <tr>\n",
       "      <th>16</th>\n",
       "      <td>hocc4</td>\n",
       "      <td>[0.11096865349675089]</td>\n",
       "    </tr>\n",
       "    <tr>\n",
       "      <th>17</th>\n",
       "      <td>hocc5</td>\n",
       "      <td>[0.015903483076477234]</td>\n",
       "    </tr>\n",
       "    <tr>\n",
       "      <th>18</th>\n",
       "      <td>hocc6</td>\n",
       "      <td>[-0.18557062241383881]</td>\n",
       "    </tr>\n",
       "  </tbody>\n",
       "</table>\n",
       "</div>"
      ],
      "text/plain": [
       "                0                       1\n",
       "0   rate_marriage   [-0.4417189906033718]\n",
       "1             age  [-0.07786507764627894]\n",
       "2     yrs_married   [0.16135315173771794]\n",
       "3        children  [0.062301011221675855]\n",
       "4       religious   [-0.2339405692419373]\n",
       "5            educ   [0.02410419685305311]\n",
       "6         affairs     [18.80448067919146]\n",
       "7            occ1   [-0.2159627920298905]\n",
       "8            occ2  [-0.11573913750649772]\n",
       "9            occ3  [0.012005439411464399]\n",
       "10           occ4  [0.018538593826857828]\n",
       "11           occ5    [0.1434697469507561]\n",
       "12           occ6     [0.127710441882016]\n",
       "13          hocc1   [0.17502029307634331]\n",
       "14          hocc2  [-0.24500168116127607]\n",
       "15          hocc3   [0.09870216645992644]\n",
       "16          hocc4   [0.11096865349675089]\n",
       "17          hocc5  [0.015903483076477234]\n",
       "18          hocc6  [-0.18557062241383881]"
      ]
     },
     "execution_count": 55,
     "metadata": {},
     "output_type": "execute_result"
    }
   ],
   "source": [
    "coeff_df = DataFrame(zip(X.columns,np.transpose(log_model.coef_)))\n",
    "coeff_df"
   ]
  },
  {
   "cell_type": "code",
   "execution_count": 64,
   "id": "35e74921",
   "metadata": {},
   "outputs": [],
   "source": [
    "X_train,X_test,Y_train,Y_test = train_test_split(X,Y)"
   ]
  },
  {
   "cell_type": "code",
   "execution_count": 65,
   "id": "c3ee82f7",
   "metadata": {},
   "outputs": [
    {
     "data": {
      "text/plain": [
       "LogisticRegression(max_iter=1000)"
      ]
     },
     "execution_count": 65,
     "metadata": {},
     "output_type": "execute_result"
    }
   ],
   "source": [
    "log_model2 = LogisticRegression(solver='lbfgs', max_iter=1000)\n",
    "log_model2.fit(X_train,Y_train)"
   ]
  },
  {
   "cell_type": "code",
   "execution_count": 66,
   "id": "9dc20fc9",
   "metadata": {},
   "outputs": [
    {
     "name": "stdout",
     "output_type": "stream",
     "text": [
      "0.9798994974874372\n"
     ]
    }
   ],
   "source": [
    "class_predict = log_model2.predict(X_test)\n",
    "print(metrics.accuracy_score(Y_test,class_predict))"
   ]
  }
 ],
 "metadata": {
  "kernelspec": {
   "display_name": "Python 3 (ipykernel)",
   "language": "python",
   "name": "python3"
  },
  "language_info": {
   "codemirror_mode": {
    "name": "ipython",
    "version": 3
   },
   "file_extension": ".py",
   "mimetype": "text/x-python",
   "name": "python",
   "nbconvert_exporter": "python",
   "pygments_lexer": "ipython3",
   "version": "3.8.8"
  }
 },
 "nbformat": 4,
 "nbformat_minor": 5
}
