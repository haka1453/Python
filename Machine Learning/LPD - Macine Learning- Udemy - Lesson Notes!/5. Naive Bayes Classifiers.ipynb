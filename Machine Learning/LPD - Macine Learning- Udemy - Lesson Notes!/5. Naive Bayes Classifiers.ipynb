{
 "cells": [
  {
   "cell_type": "markdown",
   "id": "66e9cfdb-ba29-497b-9c2d-f77b1853d150",
   "metadata": {},
   "source": [
    "# **Machine Learning**"
   ]
  },
  {
   "cell_type": "markdown",
   "id": "eb11ee4d-75cc-454a-9ac5-65cbd73ebc8b",
   "metadata": {},
   "source": [
    "From Udemy course '**Learning Phyton for Data Analysis and Visualization**' by Jose Portilla"
   ]
  },
  {
   "cell_type": "markdown",
   "id": "280b0feb-d583-4ebc-a1bb-c9dfa95a3fe4",
   "metadata": {},
   "source": [
    "### **5. Naive Bayes Classifiers**"
   ]
  },
  {
   "cell_type": "code",
   "execution_count": 15,
   "id": "4c96f994-a394-4b5d-9e79-ced22f4bce2b",
   "metadata": {},
   "outputs": [],
   "source": [
    "import numpy as np\n",
    "import pandas as pd\n",
    "from pandas import Series, DataFrame\n",
    "import matplotlib.pyplot as plt\n",
    "import seaborn as sns\n",
    "sns. set_style('whitegrid')\n",
    "%matplotlib inline\n",
    "from sklearn.datasets import load_boston"
   ]
  },
  {
   "cell_type": "markdown",
   "id": "8d43a0b7-ecee-4a5a-926d-0a12d468ec6c",
   "metadata": {},
   "source": [
    "**Import Gaussian Naive Bayes!**"
   ]
  },
  {
   "cell_type": "code",
   "execution_count": 16,
   "id": "fb2a6e14-cb3b-4d90-8f5c-6ec4b1a11615",
   "metadata": {},
   "outputs": [],
   "source": [
    "from sklearn import datasets\n",
    "from sklearn import metrics\n",
    "from sklearn.naive_bayes import GaussianNB"
   ]
  },
  {
   "cell_type": "markdown",
   "id": "55817e3c-01ad-4179-9f6b-592c4b3b0c03",
   "metadata": {},
   "source": [
    "**load the iris datasets!**"
   ]
  },
  {
   "cell_type": "code",
   "execution_count": 17,
   "id": "027936d8-897a-4cab-9338-db9bd830efe3",
   "metadata": {},
   "outputs": [],
   "source": [
    "iris = datasets.load_iris()"
   ]
  },
  {
   "cell_type": "markdown",
   "id": "b9b4b477-5a03-4390-91e8-b8984d728349",
   "metadata": {},
   "source": [
    "**Grab features (X) and the Target (Y) !**"
   ]
  },
  {
   "cell_type": "code",
   "execution_count": 18,
   "id": "51167acb-8ae8-4552-b6d2-e1e1fa8d26da",
   "metadata": {},
   "outputs": [],
   "source": [
    "X = iris.data\n",
    "Y = iris.target"
   ]
  },
  {
   "cell_type": "markdown",
   "id": "bcb3158f-bf3f-4bc7-9147-335ea6681763",
   "metadata": {},
   "source": [
    "**Show the Built-in Data Description!**"
   ]
  },
  {
   "cell_type": "code",
   "execution_count": 19,
   "id": "9c659e40-562d-4926-875f-90493bdde193",
   "metadata": {},
   "outputs": [
    {
     "name": "stdout",
     "output_type": "stream",
     "text": [
      ".. _iris_dataset:\n",
      "\n",
      "Iris plants dataset\n",
      "--------------------\n",
      "\n",
      "**Data Set Characteristics:**\n",
      "\n",
      "    :Number of Instances: 150 (50 in each of three classes)\n",
      "    :Number of Attributes: 4 numeric, predictive attributes and the class\n",
      "    :Attribute Information:\n",
      "        - sepal length in cm\n",
      "        - sepal width in cm\n",
      "        - petal length in cm\n",
      "        - petal width in cm\n",
      "        - class:\n",
      "                - Iris-Setosa\n",
      "                - Iris-Versicolour\n",
      "                - Iris-Virginica\n",
      "                \n",
      "    :Summary Statistics:\n",
      "\n",
      "    ============== ==== ==== ======= ===== ====================\n",
      "                    Min  Max   Mean    SD   Class Correlation\n",
      "    ============== ==== ==== ======= ===== ====================\n",
      "    sepal length:   4.3  7.9   5.84   0.83    0.7826\n",
      "    sepal width:    2.0  4.4   3.05   0.43   -0.4194\n",
      "    petal length:   1.0  6.9   3.76   1.76    0.9490  (high!)\n",
      "    petal width:    0.1  2.5   1.20   0.76    0.9565  (high!)\n",
      "    ============== ==== ==== ======= ===== ====================\n",
      "\n",
      "    :Missing Attribute Values: None\n",
      "    :Class Distribution: 33.3% for each of 3 classes.\n",
      "    :Creator: R.A. Fisher\n",
      "    :Donor: Michael Marshall (MARSHALL%PLU@io.arc.nasa.gov)\n",
      "    :Date: July, 1988\n",
      "\n",
      "The famous Iris database, first used by Sir R.A. Fisher. The dataset is taken\n",
      "from Fisher's paper. Note that it's the same as in R, but not as in the UCI\n",
      "Machine Learning Repository, which has two wrong data points.\n",
      "\n",
      "This is perhaps the best known database to be found in the\n",
      "pattern recognition literature.  Fisher's paper is a classic in the field and\n",
      "is referenced frequently to this day.  (See Duda & Hart, for example.)  The\n",
      "data set contains 3 classes of 50 instances each, where each class refers to a\n",
      "type of iris plant.  One class is linearly separable from the other 2; the\n",
      "latter are NOT linearly separable from each other.\n",
      "\n",
      ".. topic:: References\n",
      "\n",
      "   - Fisher, R.A. \"The use of multiple measurements in taxonomic problems\"\n",
      "     Annual Eugenics, 7, Part II, 179-188 (1936); also in \"Contributions to\n",
      "     Mathematical Statistics\" (John Wiley, NY, 1950).\n",
      "   - Duda, R.O., & Hart, P.E. (1973) Pattern Classification and Scene Analysis.\n",
      "     (Q327.D83) John Wiley & Sons.  ISBN 0-471-22361-1.  See page 218.\n",
      "   - Dasarathy, B.V. (1980) \"Nosing Around the Neighborhood: A New System\n",
      "     Structure and Classification Rule for Recognition in Partially Exposed\n",
      "     Environments\".  IEEE Transactions on Pattern Analysis and Machine\n",
      "     Intelligence, Vol. PAMI-2, No. 1, 67-71.\n",
      "   - Gates, G.W. (1972) \"The Reduced Nearest Neighbor Rule\".  IEEE Transactions\n",
      "     on Information Theory, May 1972, 431-433.\n",
      "   - See also: 1988 MLC Proceedings, 54-64.  Cheeseman et al\"s AUTOCLASS II\n",
      "     conceptual clustering system finds 3 classes in the data.\n",
      "   - Many, many more ...\n"
     ]
    }
   ],
   "source": [
    "print(iris.DESCR)"
   ]
  },
  {
   "cell_type": "markdown",
   "id": "ac717602-df65-4f00-97f4-d13e95119590",
   "metadata": {},
   "source": [
    "**Fit a Naive Bayes model to the data!**"
   ]
  },
  {
   "cell_type": "code",
   "execution_count": 20,
   "id": "5e733482-5a3b-403a-b39e-ef5fb11e323b",
   "metadata": {},
   "outputs": [],
   "source": [
    "model = GaussianNB()"
   ]
  },
  {
   "cell_type": "markdown",
   "id": "f8a87249-f929-4c16-a775-f616d6eae4ef",
   "metadata": {},
   "source": [
    "**Split the data into Trainging and Testing sets!**"
   ]
  },
  {
   "cell_type": "code",
   "execution_count": 21,
   "id": "765ed3cf-7a17-457b-bec8-7f561d70a1d9",
   "metadata": {},
   "outputs": [],
   "source": [
    "from sklearn.model_selection import train_test_split\n",
    "X_train, X_test, Y_train, Y_test = train_test_split(X, Y)"
   ]
  },
  {
   "cell_type": "markdown",
   "id": "a84ec71c-70b0-4114-b9ce-d5e75f74b55c",
   "metadata": {},
   "source": [
    "**Fit the training model!**"
   ]
  },
  {
   "cell_type": "code",
   "execution_count": 22,
   "id": "3d8535d2-4d1b-4a97-8ca9-a658cc1e67b2",
   "metadata": {},
   "outputs": [
    {
     "data": {
      "text/plain": [
       "GaussianNB()"
      ]
     },
     "execution_count": 22,
     "metadata": {},
     "output_type": "execute_result"
    }
   ],
   "source": [
    "model.fit(X_train,Y_train)"
   ]
  },
  {
   "cell_type": "markdown",
   "id": "f647385f-0552-46d0-8150-5086d0cfff80",
   "metadata": {},
   "source": [
    "**Predicted outcomes!**"
   ]
  },
  {
   "cell_type": "code",
   "execution_count": 23,
   "id": "7662cdba-aa48-47e8-bb03-f38059b17ad6",
   "metadata": {},
   "outputs": [],
   "source": [
    "predicted = model.predict(X_test)"
   ]
  },
  {
   "cell_type": "markdown",
   "id": "21e6f5d1-d1c4-44cf-b011-e85efd153d3e",
   "metadata": {},
   "source": [
    "**Actual Expected Outcomes!**"
   ]
  },
  {
   "cell_type": "code",
   "execution_count": 24,
   "id": "04f1a72b-2da2-411c-9935-8632fca597af",
   "metadata": {},
   "outputs": [
    {
     "name": "stdout",
     "output_type": "stream",
     "text": [
      "0.9473684210526315\n"
     ]
    }
   ],
   "source": [
    "expected = Y_test\n",
    "print(metrics.accuracy_score(expected, predicted))"
   ]
  }
 ],
 "metadata": {
  "kernelspec": {
   "display_name": "Python 3 (ipykernel)",
   "language": "python",
   "name": "python3"
  },
  "language_info": {
   "codemirror_mode": {
    "name": "ipython",
    "version": 3
   },
   "file_extension": ".py",
   "mimetype": "text/x-python",
   "name": "python",
   "nbconvert_exporter": "python",
   "pygments_lexer": "ipython3",
   "version": "3.8.8"
  }
 },
 "nbformat": 4,
 "nbformat_minor": 5
}
