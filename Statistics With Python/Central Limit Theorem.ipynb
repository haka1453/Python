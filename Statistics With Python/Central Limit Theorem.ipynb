{
 "cells": [
  {
   "cell_type": "markdown",
   "id": "a3173fa8",
   "metadata": {},
   "source": [
    "## Central Limit Theorem\n",
    "\n",
    "The **central limit theorem** (CLT) is a key concept in **probability theory** (as if it is a hidden king of the probability world). Previous versions of the theorem date back to 1811, but was precisely stated as late as 1920.\n",
    "\n",
    "The **Central Limit Theorem:** If you have **several independent samples** from a probability distribution with finite variance, then as the sample size approaches infinity, the **sum and average of the samples** approach a normal distribution."
   ]
  },
  {
   "cell_type": "code",
   "execution_count": 1,
   "id": "1ab04642",
   "metadata": {},
   "outputs": [],
   "source": [
    "import numpy as np\n",
    "import seaborn as sns\n",
    "import matplotlib.pyplot as plt"
   ]
  },
  {
   "cell_type": "markdown",
   "id": "e9a7b440",
   "metadata": {},
   "source": [
    "**Now let us produce an array called 'data' with 1000 numbers ( All numbers are between 0 and 100).**"
   ]
  },
  {
   "cell_type": "code",
   "execution_count": 2,
   "id": "656a697e",
   "metadata": {},
   "outputs": [],
   "source": [
    "data = np.random.randint(101,size=5000)"
   ]
  },
  {
   "cell_type": "markdown",
   "id": "ee2615c1",
   "metadata": {},
   "source": [
    "**First 10 elements of data!**"
   ]
  },
  {
   "cell_type": "code",
   "execution_count": 3,
   "id": "3aca692d",
   "metadata": {
    "scrolled": true
   },
   "outputs": [
    {
     "data": {
      "text/plain": [
       "array([38, 26, 85, 36, 80, 36, 91, 61, 10, 38])"
      ]
     },
     "execution_count": 3,
     "metadata": {},
     "output_type": "execute_result"
    }
   ],
   "source": [
    "data[:10]"
   ]
  },
  {
   "cell_type": "markdown",
   "id": "4bbca6d5",
   "metadata": {},
   "source": [
    "**Now let us see the unique numbers' count, first 10 numbers' frequencies in our data!**"
   ]
  },
  {
   "cell_type": "code",
   "execution_count": 4,
   "id": "73ca6a79",
   "metadata": {},
   "outputs": [
    {
     "name": "stdout",
     "output_type": "stream",
     "text": [
      "Unique numbers count: 101\n"
     ]
    },
    {
     "data": {
      "text/plain": [
       "array([[ 0, 44],\n",
       "       [ 1, 39],\n",
       "       [ 2, 42],\n",
       "       [ 3, 51],\n",
       "       [ 4, 54],\n",
       "       [ 5, 39],\n",
       "       [ 6, 56],\n",
       "       [ 7, 48],\n",
       "       [ 8, 37],\n",
       "       [ 9, 61]], dtype=int64)"
      ]
     },
     "execution_count": 4,
     "metadata": {},
     "output_type": "execute_result"
    }
   ],
   "source": [
    "unique, counts = np.unique(data, return_counts = True)\n",
    "print('Unique numbers count:',len(unique))\n",
    "np.asarray((unique, counts)).T[:10]"
   ]
  },
  {
   "cell_type": "markdown",
   "id": "81bc4bca",
   "metadata": {},
   "source": [
    "**Now we can show the distribution of the ferquencies of produced unique numbers in our dataset!**"
   ]
  },
  {
   "cell_type": "code",
   "execution_count": 5,
   "id": "23f51293",
   "metadata": {},
   "outputs": [
    {
     "data": {
      "image/png": "[encoded data removed]",
      "text/plain": [
       "<Figure size 360x360 with 1 Axes>"
      ]
     },
     "metadata": {
      "needs_background": "light"
     },
     "output_type": "display_data"
    }
   ],
   "source": [
    "# Histogram \n",
    "sns.displot(data,bins=101)\n",
    "plt.xlabel('Number')\n",
    "plt.ylabel('Probability')\n",
    "plt.show()"
   ]
  },
  {
   "cell_type": "markdown",
   "id": "2299dcc9",
   "metadata": {},
   "source": [
    "**The mean and sum values of our data:**"
   ]
  },
  {
   "cell_type": "code",
   "execution_count": 6,
   "id": "c07f8fc1",
   "metadata": {},
   "outputs": [
    {
     "name": "stdout",
     "output_type": "stream",
     "text": [
      "Mean: 50.032\n",
      "Sum: 250160\n"
     ]
    }
   ],
   "source": [
    "print(f\"Mean: {data.mean()}\\nSum: {data.sum()}\")"
   ]
  },
  {
   "cell_type": "markdown",
   "id": "a8b3a879",
   "metadata": {},
   "source": [
    "**Let us make from this data, 1000 samples, each of them with 100 elements, then calculate their mean values and load them to 'means' list!**"
   ]
  },
  {
   "cell_type": "code",
   "execution_count": 7,
   "id": "6cbbeac6",
   "metadata": {},
   "outputs": [],
   "source": [
    "means=[]\n",
    "for i in range(1,1000):\n",
    "    means.append(np.random.choice(data,size=100).mean())"
   ]
  },
  {
   "cell_type": "markdown",
   "id": "82efa9be",
   "metadata": {},
   "source": [
    "**Let us make the same for sum values!**"
   ]
  },
  {
   "cell_type": "code",
   "execution_count": 8,
   "id": "a35a54d5",
   "metadata": {},
   "outputs": [],
   "source": [
    "sums=[]\n",
    "for i in range(1,1000):\n",
    "    sums.append(np.random.choice(data,size=100).sum())"
   ]
  },
  {
   "cell_type": "markdown",
   "id": "2056e8d7",
   "metadata": {},
   "source": [
    "**Now we have 1000 samples! All samples has 100 elements! All samples has mean and sum values! Let us check first 10 mean and sum values!**"
   ]
  },
  {
   "cell_type": "code",
   "execution_count": 9,
   "id": "183f6424",
   "metadata": {
    "scrolled": true
   },
   "outputs": [
    {
     "data": {
      "text/plain": [
       "[51.41, 51.97, 54.75, 49.42, 51.54, 46.24, 50.04, 47.52, 42.78, 53.5]"
      ]
     },
     "execution_count": 9,
     "metadata": {},
     "output_type": "execute_result"
    }
   ],
   "source": [
    "means[:10]"
   ]
  },
  {
   "cell_type": "code",
   "execution_count": 10,
   "id": "8991f7b3",
   "metadata": {
    "scrolled": true
   },
   "outputs": [
    {
     "data": {
      "text/plain": [
       "[4952, 4656, 5145, 5231, 5357, 4771, 4945, 4993, 4818, 5131]"
      ]
     },
     "execution_count": 10,
     "metadata": {},
     "output_type": "execute_result"
    }
   ],
   "source": [
    "sums[:10]"
   ]
  },
  {
   "cell_type": "markdown",
   "id": "a82b5c99",
   "metadata": {},
   "source": [
    "**Let us illustrate the histograms of mean values of these produced 1000 samples!**"
   ]
  },
  {
   "cell_type": "code",
   "execution_count": 11,
   "id": "e06aa37a",
   "metadata": {
    "scrolled": true
   },
   "outputs": [
    {
     "data": {
      "image/png": "[encoded data removed]",
      "text/plain": [
       "<Figure size 360x360 with 1 Axes>"
      ]
     },
     "metadata": {
      "needs_background": "light"
     },
     "output_type": "display_data"
    }
   ],
   "source": [
    "sns.displot(means, kde = True)\n",
    "plt.xlabel('Mean')\n",
    "plt.ylabel('Probability')\n",
    "plt.show()"
   ]
  },
  {
   "cell_type": "markdown",
   "id": "7814e69b",
   "metadata": {},
   "source": [
    "**Let us illustrate the histograms of sum values of these produced 1000 samples!**"
   ]
  },
  {
   "cell_type": "code",
   "execution_count": 12,
   "id": "97e302ee",
   "metadata": {},
   "outputs": [
    {
     "data": {
      "image/png": "[encoded data removed]",
      "text/plain": [
       "<Figure size 360x360 with 1 Axes>"
      ]
     },
     "metadata": {
      "needs_background": "light"
     },
     "output_type": "display_data"
    }
   ],
   "source": [
    "sns.displot(sums, kde = True)\n",
    "plt.xlabel('Sum')\n",
    "plt.ylabel('Probability')\n",
    "plt.show()"
   ]
  },
  {
   "cell_type": "markdown",
   "id": "9d9f43a3",
   "metadata": {},
   "source": [
    "**We can easily see that the distributions of mean and sum values of the samples are normal distribution. This explains exactly central limit theorem!**"
   ]
  }
 ],
 "metadata": {
  "kernelspec": {
   "display_name": "Python 3 (ipykernel)",
   "language": "python",
   "name": "python3"
  },
  "language_info": {
   "codemirror_mode": {
    "name": "ipython",
    "version": 3
   },
   "file_extension": ".py",
   "mimetype": "text/x-python",
   "name": "python",
   "nbconvert_exporter": "python",
   "pygments_lexer": "ipython3",
   "version": "3.9.7"
  }
 },
 "nbformat": 4,
 "nbformat_minor": 5
}
