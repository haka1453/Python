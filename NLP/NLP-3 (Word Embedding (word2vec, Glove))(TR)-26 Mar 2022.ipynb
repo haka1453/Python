{
 "cells": [
  {
   "cell_type": "markdown",
   "id": "90a5ef00",
   "metadata": {},
   "source": [
    "## Word_embedding\n",
    "\n",
    "## Word2Vec"
   ]
  },
  {
   "cell_type": "code",
   "execution_count": 1,
   "id": "db34c06e",
   "metadata": {},
   "outputs": [],
   "source": [
    "# pip install gensim"
   ]
  },
  {
   "cell_type": "code",
   "execution_count": 4,
   "id": "4f218439",
   "metadata": {},
   "outputs": [],
   "source": [
    "import numpy as np\n",
    "from gensim.models import Word2Vec"
   ]
  },
  {
   "cell_type": "code",
   "execution_count": 5,
   "id": "7db569c9",
   "metadata": {},
   "outputs": [],
   "source": [
    "text = open('newspaper.txt', 'r', encoding='utf8')\n",
    "text = text.read()\n",
    "list_sent = text.split('\\n')\n",
    "\n",
    "corpus = []\n",
    "\n",
    "for sent in list_sent:\n",
    "    corpus.append(sent.split())"
   ]
  },
  {
   "cell_type": "code",
   "execution_count": 6,
   "id": "63bb3f1b",
   "metadata": {},
   "outputs": [
    {
     "data": {
      "text/plain": [
       "'iran devlet televizyonu ülkedeki eyaletin sinde yapılan reformcuları protesto amaçlı yürüyüşlere milyonlarca kişinin katıldığını bildirdi \\ngösterilerde fitnecilere ölüm münafıklara ölüm abd ye ölüm ingiltere ye ölüm sloganları atıldı \\ndini lider ali hamaney ve cumhurbaşkanı mahmud ahmedinejad ı destekleyen iranlılar son olaylarda yeğeni öldürülen mir hüseyin musevi başta olmak üzere muhalefet liderlerini kınadılar \\nmusevi ye ölüm ve idam idam sloganları duyuldu \\nmuhalefet liderleri kaçtı mı aşure günü yaşanan çatışmalarda devlet kaynaklarına göre u terörist olmak üzere kişi ölmüştü \\nden fazla kişinin yaralandığı olaylar sırasında en az kişi tutuklanmıştı \\nöte yandan iran haber ajansı irna muhalif liderler mir hüseyin musevi ve mehdi kerrubi nin başkentten kaçarak ülkenin kuzeyine geçtiğini ileri sürdü ancak muhalefet iddiayı yalanladı \\nhamaney in bir dönem korumalığını yapan ve şu anda fransa da saklandığı söylenen bir kişinin muhalefete verdiği bilgilere göre münzevi yaşamı na rağmen '"
      ]
     },
     "execution_count": 6,
     "metadata": {},
     "output_type": "execute_result"
    }
   ],
   "source": [
    "text[:1000]"
   ]
  },
  {
   "cell_type": "code",
   "execution_count": 7,
   "id": "2e23c10e",
   "metadata": {},
   "outputs": [
    {
     "data": {
      "text/plain": [
       "['iran devlet televizyonu ülkedeki eyaletin sinde yapılan reformcuları protesto amaçlı yürüyüşlere milyonlarca kişinin katıldığını bildirdi ',\n",
       " 'gösterilerde fitnecilere ölüm münafıklara ölüm abd ye ölüm ingiltere ye ölüm sloganları atıldı ',\n",
       " 'dini lider ali hamaney ve cumhurbaşkanı mahmud ahmedinejad ı destekleyen iranlılar son olaylarda yeğeni öldürülen mir hüseyin musevi başta olmak üzere muhalefet liderlerini kınadılar ',\n",
       " 'musevi ye ölüm ve idam idam sloganları duyuldu ',\n",
       " 'muhalefet liderleri kaçtı mı aşure günü yaşanan çatışmalarda devlet kaynaklarına göre u terörist olmak üzere kişi ölmüştü ',\n",
       " 'den fazla kişinin yaralandığı olaylar sırasında en az kişi tutuklanmıştı ',\n",
       " 'öte yandan iran haber ajansı irna muhalif liderler mir hüseyin musevi ve mehdi kerrubi nin başkentten kaçarak ülkenin kuzeyine geçtiğini ileri sürdü ancak muhalefet iddiayı yalanladı ',\n",
       " 'hamaney in bir dönem korumalığını yapan ve şu anda fransa da saklandığı söylenen bir kişinin muhalefete verdiği bilgilere göre münzevi yaşamı na rağmen dini liderin havyara karşı korkunç bir iştahı var ',\n",
       " 'baston ve at meraklısı hamaney aynı zamanda değerli mücevherlerle bezenmiş bastonların ve cins atların koleksiyonunu yapıyor ',\n",
       " 'hamaney in antika bastonlarının sayısı ']"
      ]
     },
     "execution_count": 7,
     "metadata": {},
     "output_type": "execute_result"
    }
   ],
   "source": [
    "list_sent[:10]"
   ]
  },
  {
   "cell_type": "code",
   "execution_count": 8,
   "id": "44f5efc3",
   "metadata": {},
   "outputs": [
    {
     "data": {
      "text/plain": [
       "['iran',\n",
       " 'devlet',\n",
       " 'televizyonu',\n",
       " 'ülkedeki',\n",
       " 'eyaletin',\n",
       " 'sinde',\n",
       " 'yapılan',\n",
       " 'reformcuları',\n",
       " 'protesto',\n",
       " 'amaçlı',\n",
       " 'yürüyüşlere',\n",
       " 'milyonlarca',\n",
       " 'kişinin',\n",
       " 'katıldığını',\n",
       " 'bildirdi']"
      ]
     },
     "execution_count": 8,
     "metadata": {},
     "output_type": "execute_result"
    }
   ],
   "source": [
    "list_sent[0].split()"
   ]
  },
  {
   "cell_type": "code",
   "execution_count": 9,
   "id": "a6da544a",
   "metadata": {},
   "outputs": [
    {
     "name": "stdout",
     "output_type": "stream",
     "text": [
      "[['iran', 'devlet', 'televizyonu', 'ülkedeki', 'eyaletin', 'sinde', 'yapılan', 'reformcuları', 'protesto', 'amaçlı', 'yürüyüşlere', 'milyonlarca', 'kişinin', 'katıldığını', 'bildirdi'], ['gösterilerde', 'fitnecilere', 'ölüm', 'münafıklara', 'ölüm', 'abd', 'ye', 'ölüm', 'ingiltere', 'ye', 'ölüm', 'sloganları', 'atıldı'], ['dini', 'lider', 'ali', 'hamaney', 've', 'cumhurbaşkanı', 'mahmud', 'ahmedinejad', 'ı', 'destekleyen', 'iranlılar', 'son', 'olaylarda', 'yeğeni', 'öldürülen', 'mir', 'hüseyin', 'musevi', 'başta', 'olmak', 'üzere', 'muhalefet', 'liderlerini', 'kınadılar'], ['musevi', 'ye', 'ölüm', 've', 'idam', 'idam', 'sloganları', 'duyuldu'], ['muhalefet', 'liderleri', 'kaçtı', 'mı', 'aşure', 'günü', 'yaşanan', 'çatışmalarda', 'devlet', 'kaynaklarına', 'göre', 'u', 'terörist', 'olmak', 'üzere', 'kişi', 'ölmüştü'], ['den', 'fazla', 'kişinin', 'yaralandığı', 'olaylar', 'sırasında', 'en', 'az', 'kişi', 'tutuklanmıştı'], ['öte', 'yandan', 'iran', 'haber', 'ajansı', 'irna', 'muhalif', 'liderler', 'mir', 'hüseyin', 'musevi', 've', 'mehdi', 'kerrubi', 'nin', 'başkentten', 'kaçarak', 'ülkenin', 'kuzeyine', 'geçtiğini', 'ileri', 'sürdü', 'ancak', 'muhalefet', 'iddiayı', 'yalanladı'], ['hamaney', 'in', 'bir', 'dönem', 'korumalığını', 'yapan', 've', 'şu', 'anda', 'fransa', 'da', 'saklandığı', 'söylenen', 'bir', 'kişinin', 'muhalefete', 'verdiği', 'bilgilere', 'göre', 'münzevi', 'yaşamı', 'na', 'rağmen', 'dini', 'liderin', 'havyara', 'karşı', 'korkunç', 'bir', 'iştahı', 'var'], ['baston', 've', 'at', 'meraklısı', 'hamaney', 'aynı', 'zamanda', 'değerli', 'mücevherlerle', 'bezenmiş', 'bastonların', 've', 'cins', 'atların', 'koleksiyonunu', 'yapıyor'], ['hamaney', 'in', 'antika', 'bastonlarının', 'sayısı']]\n"
     ]
    }
   ],
   "source": [
    "print(corpus[:10])"
   ]
  },
  {
   "cell_type": "code",
   "execution_count": 13,
   "id": "c2cb4037",
   "metadata": {},
   "outputs": [],
   "source": [
    "model = Word2Vec(corpus, window=5, min_count=5, sg=1)"
   ]
  },
  {
   "cell_type": "code",
   "execution_count": 14,
   "id": "8dd4ec5b",
   "metadata": {},
   "outputs": [
    {
     "data": {
      "text/plain": [
       "array([ 1.27824489e-02, -2.32032061e-01, -1.07995056e-01, -2.47123707e-02,\n",
       "        7.21807241e-01, -1.53534442e-01, -1.50643364e-01,  5.68209231e-01,\n",
       "       -1.02223791e-02,  1.65506806e-02,  3.66897173e-02, -3.57434660e-01,\n",
       "       -1.88838556e-01,  1.13546729e-01, -1.98252648e-02,  1.61674455e-01,\n",
       "        4.67309356e-01, -3.89974803e-01, -2.00278446e-01, -6.05903089e-01,\n",
       "       -3.68947029e-01,  3.07590902e-01,  3.30585688e-01, -7.41479754e-01,\n",
       "       -1.75271958e-01,  1.87454835e-01, -2.75971174e-01,  4.39480136e-05,\n",
       "       -5.19202769e-01,  1.63752735e-01,  2.61994034e-01, -5.68274921e-03,\n",
       "       -4.22814369e-01, -1.33798540e-01, -3.18872690e-01,  6.17161095e-02,\n",
       "       -3.41208369e-01, -3.75537604e-01,  1.09679163e-01, -5.98081291e-01,\n",
       "        7.48569906e-01, -2.79662281e-01,  6.25148714e-01,  3.25129718e-01,\n",
       "        4.05050963e-01,  1.97831854e-01, -6.23518646e-01, -2.52725750e-01,\n",
       "       -1.28830019e-02, -1.94307700e-01,  3.01402748e-01,  7.41959289e-02,\n",
       "        8.68460089e-02, -5.88336438e-02,  6.56830072e-02,  8.66855122e-03,\n",
       "       -1.74142286e-01, -7.02418759e-02,  1.01243682e-01, -5.68967283e-01,\n",
       "        2.67012715e-01,  2.02986926e-01, -1.30411699e-01,  5.61660528e-01,\n",
       "       -6.15818501e-02,  1.28408417e-01, -1.40758678e-01,  3.09468031e-01,\n",
       "       -4.29823995e-01,  1.97715864e-01,  1.77159816e-01, -4.31816466e-02,\n",
       "        6.40562534e-01, -3.74399453e-01,  4.48058695e-01, -5.58161080e-01,\n",
       "       -2.29653120e-01, -2.37710431e-01, -3.57685179e-01,  8.67893547e-02,\n",
       "        4.67212379e-01, -7.88342059e-01, -2.69123942e-01,  7.58149862e-01,\n",
       "        4.87717122e-01, -9.40879360e-02,  4.83787060e-01,  2.45480657e-01,\n",
       "        3.74390543e-01,  6.56140745e-01,  4.08554137e-01, -1.49751350e-01,\n",
       "       -2.21475586e-01, -1.58643976e-01,  4.30912405e-01,  3.40238273e-01,\n",
       "        1.00374125e-01,  2.74541020e-01,  1.52714223e-01, -1.13533609e-01],\n",
       "      dtype=float32)"
      ]
     },
     "execution_count": 14,
     "metadata": {},
     "output_type": "execute_result"
    }
   ],
   "source": [
    "model.wv['ankara']"
   ]
  },
  {
   "cell_type": "code",
   "execution_count": 15,
   "id": "f91b814e",
   "metadata": {},
   "outputs": [
    {
     "data": {
      "text/plain": [
       "[('birşey', 0.7982639074325562),\n",
       " ('şeyler', 0.7707458138465881),\n",
       " ('şeyin', 0.7573232054710388),\n",
       " ('şeyim', 0.7397438883781433),\n",
       " ('şeyimiz', 0.7278180122375488),\n",
       " ('şeyi', 0.7269898653030396),\n",
       " ('haberim', 0.726186990737915),\n",
       " ('yapabileceğim', 0.7172632217407227),\n",
       " ('şeyle', 0.714173436164856),\n",
       " ('şeydi', 0.7136147022247314)]"
      ]
     },
     "execution_count": 15,
     "metadata": {},
     "output_type": "execute_result"
    }
   ],
   "source": [
    "model.wv.most_similar('şey')"
   ]
  },
  {
   "cell_type": "code",
   "execution_count": 16,
   "id": "d04836b3",
   "metadata": {},
   "outputs": [
    {
     "data": {
      "text/plain": [
       "[('çizgileri', 0.683116614818573),\n",
       " ('sarı', 0.6536104083061218),\n",
       " ('turuncu', 0.6428158283233643),\n",
       " ('gömlekli', 0.6217178106307983),\n",
       " ('çizgi', 0.621012270450592),\n",
       " ('gömlekliler', 0.620220959186554),\n",
       " ('çizgilerin', 0.6075953841209412),\n",
       " ('halı', 0.6013705134391785),\n",
       " ('yeşil', 0.5958212614059448),\n",
       " ('bültenle', 0.5931734442710876)]"
      ]
     },
     "execution_count": 16,
     "metadata": {},
     "output_type": "execute_result"
    }
   ],
   "source": [
    "model.wv.most_similar('kırmızı')"
   ]
  },
  {
   "cell_type": "code",
   "execution_count": 17,
   "id": "d6c9fe7b",
   "metadata": {},
   "outputs": [
    {
     "data": {
      "text/plain": [
       "[('evine', 0.7954440712928772),\n",
       " ('apartmana', 0.7618818283081055),\n",
       " ('dükkana', 0.7562627196311951),\n",
       " ('mağazaya', 0.7338007688522339),\n",
       " ('karakola', 0.719393253326416),\n",
       " ('arabaya', 0.7181043028831482),\n",
       " ('hapishaneye', 0.707489013671875),\n",
       " ('restorana', 0.7036191821098328),\n",
       " ('adrese', 0.7016716599464417),\n",
       " ('ofise', 0.6999092102050781)]"
      ]
     },
     "execution_count": 17,
     "metadata": {},
     "output_type": "execute_result"
    }
   ],
   "source": [
    "model.wv.most_similar('eve')"
   ]
  },
  {
   "cell_type": "code",
   "execution_count": 18,
   "id": "15bc6057",
   "metadata": {},
   "outputs": [
    {
     "data": {
      "text/plain": [
       "[('marmara', 0.901572048664093),\n",
       " ('gemisine', 0.6837453246116638),\n",
       " ('baskınıyla', 0.6376645565032959),\n",
       " ('baskınına', 0.6059527397155762),\n",
       " ('filosundaki', 0.5956243872642517),\n",
       " ('filo', 0.5901612043380737),\n",
       " ('baskınının', 0.5835972428321838),\n",
       " ('gemisinde', 0.5804823040962219),\n",
       " ('gazze', 0.5791834592819214),\n",
       " ('saldırısındaki', 0.5760708451271057)]"
      ]
     },
     "execution_count": 18,
     "metadata": {},
     "output_type": "execute_result"
    }
   ],
   "source": [
    "model.wv.most_similar('mavi')"
   ]
  },
  {
   "cell_type": "code",
   "execution_count": 19,
   "id": "52fd5078",
   "metadata": {},
   "outputs": [
    {
     "data": {
      "text/plain": [
       "[('eğitimciler', 0.6711743474006653)]"
      ]
     },
     "execution_count": 19,
     "metadata": {},
     "output_type": "execute_result"
    }
   ],
   "source": [
    "model.wv.most_similar(positive=['öğrenme', 'doktor'], negative=['tedavi'], topn=1)"
   ]
  },
  {
   "cell_type": "code",
   "execution_count": 20,
   "id": "967f08b2",
   "metadata": {},
   "outputs": [
    {
     "data": {
      "text/plain": [
       "[('türkiye', 0.7160398960113525)]"
      ]
     },
     "execution_count": 20,
     "metadata": {},
     "output_type": "execute_result"
    }
   ],
   "source": [
    "model.wv.most_similar(positive=['ankara', 'rusya'], negative=['moskova'], topn=1)"
   ]
  },
  {
   "cell_type": "code",
   "execution_count": 21,
   "id": "527783db",
   "metadata": {},
   "outputs": [],
   "source": [
    "model.save(\"word2vec.model\")"
   ]
  },
  {
   "cell_type": "code",
   "execution_count": 22,
   "id": "840c3035",
   "metadata": {},
   "outputs": [],
   "source": [
    "model = Word2Vec.load(\"word2vec.model\")"
   ]
  },
  {
   "cell_type": "markdown",
   "id": "d848ff41",
   "metadata": {},
   "source": [
    "## Glove"
   ]
  },
  {
   "cell_type": "code",
   "execution_count": 23,
   "id": "87ca4a7d",
   "metadata": {},
   "outputs": [],
   "source": [
    "from gensim.scripts.glove2word2vec import glove2word2vec\n",
    "from gensim.models import KeyedVectors"
   ]
  },
  {
   "cell_type": "code",
   "execution_count": 26,
   "id": "bf603f99",
   "metadata": {},
   "outputs": [
    {
     "name": "stderr",
     "output_type": "stream",
     "text": [
      "C:\\Users\\husey\\AppData\\Local\\Temp/ipykernel_18484/3171860902.py:3: DeprecationWarning: Call to deprecated `glove2word2vec` (KeyedVectors.load_word2vec_format(.., binary=False, no_header=True) loads GLoVE text vectors.).\n",
      "  glove2word2vec(glove_model, word2vec)\n"
     ]
    },
    {
     "data": {
      "text/plain": [
       "(400000, 100)"
      ]
     },
     "execution_count": 26,
     "metadata": {},
     "output_type": "execute_result"
    }
   ],
   "source": [
    "glove_model = 'glove.6B.100d.txt'\n",
    "word2vec = 'glove.6B.100d.glove'\n",
    "glove2word2vec(glove_model, word2vec)"
   ]
  },
  {
   "cell_type": "code",
   "execution_count": 27,
   "id": "50d9f11b",
   "metadata": {},
   "outputs": [],
   "source": [
    "model2 = KeyedVectors.load_word2vec_format(word2vec)"
   ]
  },
  {
   "cell_type": "code",
   "execution_count": 28,
   "id": "57474409",
   "metadata": {},
   "outputs": [
    {
     "data": {
      "text/plain": [
       "array([ 0.0021052, -0.1504   ,  0.44277  , -0.77653  ,  0.049685 ,\n",
       "        0.36162  , -0.64556  ,  0.031965 ,  0.32785  ,  1.0492   ,\n",
       "       -0.40957  , -0.43448  ,  0.86788  ,  0.13176  , -0.33421  ,\n",
       "        0.078688 , -0.44023  , -0.78494  , -0.80508  , -0.053829 ,\n",
       "        0.21349  , -0.1304   ,  0.55552  ,  0.80507  , -0.54116  ,\n",
       "        0.14223  , -0.086403 ,  0.049789 ,  0.16237  ,  0.51762  ,\n",
       "       -0.86124  , -0.35288  ,  0.42465  ,  0.29504  , -0.058929 ,\n",
       "       -0.042059 , -0.28304  ,  0.68163  , -0.38128  , -0.92071  ,\n",
       "        0.15022  , -0.48653  , -0.032471 , -1.0217   , -0.2536   ,\n",
       "        0.32984  ,  0.87331  , -0.25659  ,  0.41713  ,  0.70187  ,\n",
       "        0.26844  , -0.073702 ,  0.44943  ,  0.37148  , -1.1613   ,\n",
       "        0.18607  ,  0.22148  , -0.30284  , -0.30314  ,  0.14694  ,\n",
       "       -0.33141  ,  0.65478  , -0.047409 ,  0.73868  , -0.88869  ,\n",
       "       -0.10738  , -1.3663   , -0.40605  , -0.84452  ,  0.079424 ,\n",
       "       -0.57159  , -0.54494  ,  0.88383  ,  0.89814  , -0.65429  ,\n",
       "        0.60613  ,  0.32272  ,  0.14067  , -0.38329  ,  0.14519  ,\n",
       "       -0.16869  , -0.33883  , -0.49892  ,  0.76527  ,  0.65141  ,\n",
       "        0.08416  , -0.41384  ,  0.22261  ,  0.6159   , -0.39172  ,\n",
       "        1.4556   ,  0.31275  , -0.61297  , -0.63733  , -0.05102  ,\n",
       "        0.83986  , -0.33486  ,  0.68343  ,  0.80719  ,  0.17428  ],\n",
       "      dtype=float32)"
      ]
     },
     "execution_count": 28,
     "metadata": {},
     "output_type": "execute_result"
    }
   ],
   "source": [
    "model2['izmir']"
   ]
  },
  {
   "cell_type": "code",
   "execution_count": 29,
   "id": "902627aa",
   "metadata": {},
   "outputs": [
    {
     "data": {
      "text/plain": [
       "[('turkey', 0.7512096762657166),\n",
       " ('istanbul', 0.6787630915641785),\n",
       " ('turkish', 0.6690374612808228),\n",
       " ('damascus', 0.6372509002685547),\n",
       " ('tbilisi', 0.6322181820869446),\n",
       " ('erdogan', 0.6258038282394409),\n",
       " ('moscow', 0.6217040419578552),\n",
       " ('brussels', 0.6181437969207764),\n",
       " ('skopje', 0.6164302229881287),\n",
       " ('cyprus', 0.606403112411499)]"
      ]
     },
     "execution_count": 29,
     "metadata": {},
     "output_type": "execute_result"
    }
   ],
   "source": [
    "model2.most_similar('ankara')"
   ]
  },
  {
   "cell_type": "code",
   "execution_count": 30,
   "id": "60c09caf",
   "metadata": {},
   "outputs": [
    {
     "data": {
      "text/plain": [
       "[('student', 0.8083398938179016),\n",
       " ('school', 0.7545565366744995),\n",
       " ('teaching', 0.7521439790725708),\n",
       " ('taught', 0.741184651851654),\n",
       " ('teachers', 0.7291544079780579),\n",
       " ('graduate', 0.7134961485862732),\n",
       " ('instructor', 0.7077119946479797),\n",
       " ('students', 0.6828974485397339),\n",
       " ('teaches', 0.6552315354347229),\n",
       " ('education', 0.6528990864753723)]"
      ]
     },
     "execution_count": 30,
     "metadata": {},
     "output_type": "execute_result"
    }
   ],
   "source": [
    "model2.most_similar('teacher')"
   ]
  },
  {
   "cell_type": "code",
   "execution_count": 31,
   "id": "552875e0",
   "metadata": {},
   "outputs": [
    {
     "data": {
      "text/plain": [
       "[('physician', 0.7673239707946777),\n",
       " ('nurse', 0.7521507740020752),\n",
       " ('dr.', 0.7175194025039673),\n",
       " ('doctors', 0.7080886363983154),\n",
       " ('patient', 0.7074184417724609),\n",
       " ('medical', 0.6995993256568909),\n",
       " ('surgeon', 0.6905338764190674),\n",
       " ('hospital', 0.6900930404663086),\n",
       " ('psychiatrist', 0.658909797668457),\n",
       " ('dentist', 0.6447421312332153)]"
      ]
     },
     "execution_count": 31,
     "metadata": {},
     "output_type": "execute_result"
    }
   ],
   "source": [
    "model2.most_similar('doctor')"
   ]
  },
  {
   "cell_type": "code",
   "execution_count": 32,
   "id": "1d9443a3",
   "metadata": {},
   "outputs": [
    {
     "data": {
      "text/plain": [
       "[('daughter', 0.8917792439460754)]"
      ]
     },
     "execution_count": 32,
     "metadata": {},
     "output_type": "execute_result"
    }
   ],
   "source": [
    "model2.most_similar(positive=['woman', 'brother'], negative=['man'], topn=1)"
   ]
  },
  {
   "cell_type": "code",
   "execution_count": 33,
   "id": "782d3650",
   "metadata": {},
   "outputs": [
    {
     "data": {
      "text/plain": [
       "[('mother', 0.9024619460105896)]"
      ]
     },
     "execution_count": 33,
     "metadata": {},
     "output_type": "execute_result"
    }
   ],
   "source": [
    "model2.most_similar(positive=['woman', 'father'], negative=['man'], topn=1)"
   ]
  },
  {
   "cell_type": "code",
   "execution_count": 34,
   "id": "52484ae3",
   "metadata": {},
   "outputs": [
    {
     "data": {
      "text/plain": [
       "[('aunt', 0.8368029594421387)]"
      ]
     },
     "execution_count": 34,
     "metadata": {},
     "output_type": "execute_result"
    }
   ],
   "source": [
    "model2.most_similar(positive=['woman', 'uncle'], negative=['man'], topn=1)"
   ]
  },
  {
   "cell_type": "code",
   "execution_count": 35,
   "id": "19f76c65",
   "metadata": {},
   "outputs": [
    {
     "data": {
      "text/plain": [
       "[('turkey', 0.8147119283676147)]"
      ]
     },
     "execution_count": 35,
     "metadata": {},
     "output_type": "execute_result"
    }
   ],
   "source": [
    "model2.most_similar(positive=['ankara', 'germany'], negative=['berlin'], topn=1)"
   ]
  },
  {
   "cell_type": "code",
   "execution_count": 36,
   "id": "123c243a",
   "metadata": {},
   "outputs": [
    {
     "data": {
      "text/plain": [
       "[('teacher', 0.7610152959823608)]"
      ]
     },
     "execution_count": 36,
     "metadata": {},
     "output_type": "execute_result"
    }
   ],
   "source": [
    "model2.most_similar(positive=['teach', 'doctor'], negative=['treat'], topn=1)"
   ]
  },
  {
   "cell_type": "code",
   "execution_count": 37,
   "id": "0d0510d9",
   "metadata": {},
   "outputs": [
    {
     "data": {
      "text/plain": [
       "[('queen', 0.7698540091514587)]"
      ]
     },
     "execution_count": 37,
     "metadata": {},
     "output_type": "execute_result"
    }
   ],
   "source": [
    "model2.most_similar(positive=['woman', 'king'], negative=['man'], topn=1)"
   ]
  },
  {
   "cell_type": "code",
   "execution_count": 38,
   "id": "cca05794",
   "metadata": {},
   "outputs": [
    {
     "data": {
      "text/plain": [
       "[('lover', 0.7032662630081177)]"
      ]
     },
     "execution_count": 38,
     "metadata": {},
     "output_type": "execute_result"
    }
   ],
   "source": [
    "model2.most_similar(positive=['love', 'jealous'], negative=['hate'], topn=1)"
   ]
  },
  {
   "cell_type": "code",
   "execution_count": null,
   "id": "2cfddba0",
   "metadata": {},
   "outputs": [],
   "source": []
  }
 ],
 "metadata": {
  "kernelspec": {
   "display_name": "Python 3 (ipykernel)",
   "language": "python",
   "name": "python3"
  },
  "language_info": {
   "codemirror_mode": {
    "name": "ipython",
    "version": 3
   },
   "file_extension": ".py",
   "mimetype": "text/x-python",
   "name": "python",
   "nbconvert_exporter": "python",
   "pygments_lexer": "ipython3",
   "version": "3.9.7"
  }
 },
 "nbformat": 4,
 "nbformat_minor": 5
}
