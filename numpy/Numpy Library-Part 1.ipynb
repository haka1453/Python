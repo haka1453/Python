{
 "cells": [
  {
   "cell_type": "markdown",
   "id": "22c420f4-da50-4839-9a5f-50c449eda160",
   "metadata": {},
   "source": [
    "# **Numpy Library**"
   ]
  },
  {
   "cell_type": "markdown",
   "id": "8480c336-d89c-4ef0-91b9-b13fcbeb1980",
   "metadata": {},
   "source": [
    "**Claurusway Lessons Repeat... Thanks to our teacher Pat Parton**"
   ]
  },
  {
   "cell_type": "markdown",
   "id": "bd68c13a-f36d-4d84-a5be-82f438d2dabe",
   "metadata": {
    "tags": []
   },
   "source": [
    "## **Part I**"
   ]
  },
  {
   "cell_type": "code",
   "execution_count": 1,
   "id": "dd3c2cb8-2319-4e60-aae7-b72295444d92",
   "metadata": {},
   "outputs": [],
   "source": [
    "import numpy as np\n",
    "from decimal import Decimal"
   ]
  },
  {
   "cell_type": "markdown",
   "id": "34b7a848-f113-4700-af7d-ca99692b1c12",
   "metadata": {},
   "source": [
    "**Create numpy array by list**"
   ]
  },
  {
   "cell_type": "code",
   "execution_count": 27,
   "id": "66a80606-78cf-4a01-956d-31b241f2d8ba",
   "metadata": {},
   "outputs": [
    {
     "data": {
      "text/plain": [
       "[1, 2, 3]"
      ]
     },
     "execution_count": 27,
     "metadata": {},
     "output_type": "execute_result"
    }
   ],
   "source": [
    "my_list = [1,2,3]\n",
    "my_list"
   ]
  },
  {
   "cell_type": "code",
   "execution_count": 15,
   "id": "b34f06f9-8a39-4c22-84af-3e473df77ae9",
   "metadata": {},
   "outputs": [
    {
     "data": {
      "text/plain": [
       "array([1, 2, 3])"
      ]
     },
     "execution_count": 15,
     "metadata": {},
     "output_type": "execute_result"
    }
   ],
   "source": [
    "arr = np.array(my_list)\n",
    "arr"
   ]
  },
  {
   "cell_type": "markdown",
   "id": "accd320a-e4a8-4348-af81-1c7b2bfa3064",
   "metadata": {},
   "source": [
    "**Create numpy array by tuple. It can be changed!**"
   ]
  },
  {
   "cell_type": "code",
   "execution_count": 25,
   "id": "4eb25e53-dfe9-4127-b564-b0c548817b2a",
   "metadata": {},
   "outputs": [
    {
     "data": {
      "text/plain": [
       "array([1, 2, 3])"
      ]
     },
     "execution_count": 25,
     "metadata": {},
     "output_type": "execute_result"
    }
   ],
   "source": [
    "my_set = (1,2,3)\n",
    "arr = np.array(my_set)\n",
    "arr"
   ]
  },
  {
   "cell_type": "markdown",
   "id": "2d1f1748-faf1-4c1e-a84d-ce71cc835431",
   "metadata": {},
   "source": [
    "**Create numpy array by set!**"
   ]
  },
  {
   "cell_type": "code",
   "execution_count": 17,
   "id": "e7261351-3cf8-4a8f-9f05-cfa226c88d14",
   "metadata": {},
   "outputs": [
    {
     "data": {
      "text/plain": [
       "array([33,  2,  3])"
      ]
     },
     "execution_count": 17,
     "metadata": {},
     "output_type": "execute_result"
    }
   ],
   "source": [
    "my_tp = (1,2,3)\n",
    "arr = np.array(my_tp)\n",
    "arr[0]=33\n",
    "arr"
   ]
  },
  {
   "cell_type": "code",
   "execution_count": 18,
   "id": "b4fe8c84-c6e1-41ce-9d1b-0156199bf709",
   "metadata": {},
   "outputs": [
    {
     "data": {
      "text/plain": [
       "array([1, 2, 3])"
      ]
     },
     "execution_count": 18,
     "metadata": {},
     "output_type": "execute_result"
    }
   ],
   "source": [
    "arr = np.array(my_list)\n",
    "arr"
   ]
  },
  {
   "cell_type": "markdown",
   "id": "f33754d6-596f-46fa-8b49-7f7b8a709d7c",
   "metadata": {},
   "source": [
    "**Type of an array and its values! Arrays contains the same type!**"
   ]
  },
  {
   "cell_type": "code",
   "execution_count": 19,
   "id": "cfd95b71-9a8c-40be-ba97-e01e82246908",
   "metadata": {},
   "outputs": [
    {
     "data": {
      "text/plain": [
       "(numpy.ndarray, dtype('int32'))"
      ]
     },
     "execution_count": 19,
     "metadata": {},
     "output_type": "execute_result"
    }
   ],
   "source": [
    "type(arr), arr.dtype"
   ]
  },
  {
   "cell_type": "markdown",
   "id": "a11e1240-4523-4ac8-9239-3b77e84aeba4",
   "metadata": {},
   "source": [
    "**An Array's shape and size!**"
   ]
  },
  {
   "cell_type": "code",
   "execution_count": 20,
   "id": "b88d4835-93e1-4382-a6b4-ae41a5aa4113",
   "metadata": {},
   "outputs": [
    {
     "data": {
      "text/plain": [
       "((3,), 3)"
      ]
     },
     "execution_count": 20,
     "metadata": {},
     "output_type": "execute_result"
    }
   ],
   "source": [
    "arr.shape, arr.size"
   ]
  },
  {
   "cell_type": "code",
   "execution_count": null,
   "id": "045a28d1-9453-4503-be84-2e43c7220ea4",
   "metadata": {},
   "outputs": [],
   "source": []
  },
  {
   "cell_type": "code",
   "execution_count": 21,
   "id": "f542e0fe-04a0-4202-9f24-9b711562e65d",
   "metadata": {},
   "outputs": [
    {
     "data": {
      "text/plain": [
       "[1, 2, 3, 4, 2, 3, 4, 5]"
      ]
     },
     "execution_count": 21,
     "metadata": {},
     "output_type": "execute_result"
    }
   ],
   "source": [
    "a = [1,2,3,4]\n",
    "b = [2,3,4,5]\n",
    "a+b"
   ]
  },
  {
   "cell_type": "markdown",
   "id": "f39fdeac-aac4-4a05-8eb1-46b50bd364be",
   "metadata": {},
   "source": [
    "**You can't use - operator in the lists! a-b --> Error: unsupported operand!**"
   ]
  },
  {
   "cell_type": "markdown",
   "id": "8783cc6f-1b01-4295-a951-a0d160dfd3d3",
   "metadata": {},
   "source": [
    "**Adding to list, element, by element!**"
   ]
  },
  {
   "cell_type": "code",
   "execution_count": 30,
   "id": "b413dd27-1faf-4704-b4cb-4d09df9fa302",
   "metadata": {},
   "outputs": [
    {
     "data": {
      "text/plain": [
       "[3, 5, 7, 9]"
      ]
     },
     "execution_count": 30,
     "metadata": {},
     "output_type": "execute_result"
    }
   ],
   "source": [
    "ab = []\n",
    "for i in range (0, len(a)):\n",
    "    ab.append(a[i]+b[i])\n",
    "ab"
   ]
  },
  {
   "cell_type": "markdown",
   "id": "7dd7e295-a39f-4f50-a5b9-ac5df7b03c38",
   "metadata": {},
   "source": [
    "**Operations in Arrays are very easy!**"
   ]
  },
  {
   "cell_type": "code",
   "execution_count": 11,
   "id": "45162b5e-6e0e-428c-9357-72e04fbce697",
   "metadata": {},
   "outputs": [
    {
     "data": {
      "text/plain": [
       "(array([2, 4, 6]), array([0, 0, 0]))"
      ]
     },
     "execution_count": 11,
     "metadata": {},
     "output_type": "execute_result"
    }
   ],
   "source": [
    "arr+arr, arr-arr"
   ]
  },
  {
   "cell_type": "markdown",
   "id": "28082222-aa4b-43db-bf22-e7966b0a69fd",
   "metadata": {},
   "source": [
    "**Matrices**"
   ]
  },
  {
   "cell_type": "code",
   "execution_count": 31,
   "id": "5c0da19b-264a-44f3-84f8-0eeadb24e481",
   "metadata": {},
   "outputs": [
    {
     "data": {
      "text/plain": [
       "[[1, 2, 3], [4, 5, 6], [7, 8, 9]]"
      ]
     },
     "execution_count": 31,
     "metadata": {},
     "output_type": "execute_result"
    }
   ],
   "source": [
    "my_matrix = [[1,2,3], [4,5,6], [7,8,9]]\n",
    "my_matrix"
   ]
  },
  {
   "cell_type": "code",
   "execution_count": 32,
   "id": "f394d69e-f533-462a-bb60-90343f5f2fe0",
   "metadata": {},
   "outputs": [
    {
     "data": {
      "text/plain": [
       "2"
      ]
     },
     "execution_count": 32,
     "metadata": {},
     "output_type": "execute_result"
    }
   ],
   "source": [
    "my_matrix[0][1]"
   ]
  },
  {
   "cell_type": "markdown",
   "id": "a28dd9fe-4e87-4663-b537-2b4fb29271b7",
   "metadata": {},
   "source": [
    "**Type of Matrix**"
   ]
  },
  {
   "cell_type": "code",
   "execution_count": 33,
   "id": "a09b958c-956f-4f6c-9020-2615fc3a576d",
   "metadata": {},
   "outputs": [
    {
     "data": {
      "text/plain": [
       "numpy.ndarray"
      ]
     },
     "execution_count": 33,
     "metadata": {},
     "output_type": "execute_result"
    }
   ],
   "source": [
    "new_matrix = np.array(my_matrix)\n",
    "type(new_matrix)"
   ]
  },
  {
   "cell_type": "markdown",
   "id": "42bc03e1-a6af-4c8d-ad54-310447010f15",
   "metadata": {},
   "source": [
    "**arange()**"
   ]
  },
  {
   "cell_type": "code",
   "execution_count": 34,
   "id": "fa29db63-6111-4663-a5ff-d93bb93adfe7",
   "metadata": {},
   "outputs": [
    {
     "data": {
      "text/plain": [
       "array([0, 1, 2, 3, 4, 5, 6, 7, 8, 9])"
      ]
     },
     "execution_count": 34,
     "metadata": {},
     "output_type": "execute_result"
    }
   ],
   "source": [
    "np.arange(0,10)"
   ]
  },
  {
   "cell_type": "code",
   "execution_count": 35,
   "id": "6cdf2e6e-9ab5-4796-b4ad-d3a5d36dc606",
   "metadata": {},
   "outputs": [
    {
     "data": {
      "text/plain": [
       "array([ 0,  2,  4,  6,  8, 10])"
      ]
     },
     "execution_count": 35,
     "metadata": {},
     "output_type": "execute_result"
    }
   ],
   "source": [
    "np.arange(0,11,2)"
   ]
  },
  {
   "cell_type": "code",
   "execution_count": 17,
   "id": "1400cde2-580e-4bdd-806c-f6d969964b76",
   "metadata": {
    "tags": []
   },
   "outputs": [
    {
     "data": {
      "text/plain": [
       "array([ 0,  3,  6,  9, 12, 15, 18, 21, 24, 27, 30])"
      ]
     },
     "execution_count": 17,
     "metadata": {},
     "output_type": "execute_result"
    }
   ],
   "source": [
    "np.arange(0,31,3)"
   ]
  },
  {
   "cell_type": "markdown",
   "id": "40ba8b2f-cec4-4f46-9b1f-bd5227cfa3c1",
   "metadata": {},
   "source": [
    "**zeros()**"
   ]
  },
  {
   "cell_type": "code",
   "execution_count": 20,
   "id": "6591c665-061a-44ce-9b17-d99db5d1d53f",
   "metadata": {},
   "outputs": [
    {
     "data": {
      "text/plain": [
       "array([0., 0., 0.])"
      ]
     },
     "execution_count": 20,
     "metadata": {},
     "output_type": "execute_result"
    }
   ],
   "source": [
    "np.zeros(3)"
   ]
  },
  {
   "cell_type": "code",
   "execution_count": 21,
   "id": "b4942e99-952a-4714-99fd-eab7048113ec",
   "metadata": {},
   "outputs": [
    {
     "data": {
      "text/plain": [
       "array([0, 0, 0])"
      ]
     },
     "execution_count": 21,
     "metadata": {},
     "output_type": "execute_result"
    }
   ],
   "source": [
    "np.zeros(3, dtype=int)"
   ]
  },
  {
   "cell_type": "code",
   "execution_count": 22,
   "id": "e2283411-b386-41af-892d-50d4623dad79",
   "metadata": {},
   "outputs": [
    {
     "data": {
      "text/plain": [
       "array([[[0., 0.],\n",
       "        [0., 0.],\n",
       "        [0., 0.]],\n",
       "\n",
       "       [[0., 0.],\n",
       "        [0., 0.],\n",
       "        [0., 0.]],\n",
       "\n",
       "       [[0., 0.],\n",
       "        [0., 0.],\n",
       "        [0., 0.]]])"
      ]
     },
     "execution_count": 22,
     "metadata": {},
     "output_type": "execute_result"
    }
   ],
   "source": [
    "np.zeros((3,3,2))"
   ]
  },
  {
   "cell_type": "code",
   "execution_count": 23,
   "id": "cc79a301-a74c-45ca-92b8-ac5c668a963b",
   "metadata": {},
   "outputs": [
    {
     "data": {
      "text/plain": [
       "array([[[False, False],\n",
       "        [False, False],\n",
       "        [False, False]],\n",
       "\n",
       "       [[False, False],\n",
       "        [False, False],\n",
       "        [False, False]],\n",
       "\n",
       "       [[False, False],\n",
       "        [False, False],\n",
       "        [False, False]]])"
      ]
     },
     "execution_count": 23,
     "metadata": {},
     "output_type": "execute_result"
    }
   ],
   "source": [
    "np.zeros((3,3,2), dtype=bool)"
   ]
  },
  {
   "cell_type": "markdown",
   "id": "a3a20d41-6b26-4f4b-a37e-e47934e33c9c",
   "metadata": {},
   "source": [
    "**ones()**"
   ]
  },
  {
   "cell_type": "code",
   "execution_count": 24,
   "id": "7519a892-e542-4f8c-b59c-1cb4a4610d6e",
   "metadata": {},
   "outputs": [
    {
     "data": {
      "text/plain": [
       "array([1., 1., 1.])"
      ]
     },
     "execution_count": 24,
     "metadata": {},
     "output_type": "execute_result"
    }
   ],
   "source": [
    "np.ones(3)"
   ]
  },
  {
   "cell_type": "code",
   "execution_count": 25,
   "id": "e29cec76-bb87-47ca-8f94-13f0ad289005",
   "metadata": {},
   "outputs": [
    {
     "data": {
      "text/plain": [
       "array([1, 1, 1])"
      ]
     },
     "execution_count": 25,
     "metadata": {},
     "output_type": "execute_result"
    }
   ],
   "source": [
    "np.ones(3, dtype=int)"
   ]
  },
  {
   "cell_type": "code",
   "execution_count": 26,
   "id": "5928fa8f-b15c-4783-9588-aad3490be55c",
   "metadata": {},
   "outputs": [
    {
     "data": {
      "text/plain": [
       "array([[[1., 1.],\n",
       "        [1., 1.],\n",
       "        [1., 1.]],\n",
       "\n",
       "       [[1., 1.],\n",
       "        [1., 1.],\n",
       "        [1., 1.]],\n",
       "\n",
       "       [[1., 1.],\n",
       "        [1., 1.],\n",
       "        [1., 1.]]])"
      ]
     },
     "execution_count": 26,
     "metadata": {},
     "output_type": "execute_result"
    }
   ],
   "source": [
    "np.ones((3,3,2))"
   ]
  },
  {
   "cell_type": "code",
   "execution_count": 27,
   "id": "c77fdcd8-894f-443a-9ce0-d4a31bad140a",
   "metadata": {},
   "outputs": [
    {
     "data": {
      "text/plain": [
       "array([[[ True,  True],\n",
       "        [ True,  True],\n",
       "        [ True,  True]],\n",
       "\n",
       "       [[ True,  True],\n",
       "        [ True,  True],\n",
       "        [ True,  True]],\n",
       "\n",
       "       [[ True,  True],\n",
       "        [ True,  True],\n",
       "        [ True,  True]]])"
      ]
     },
     "execution_count": 27,
     "metadata": {},
     "output_type": "execute_result"
    }
   ],
   "source": [
    "np.ones((3,3,2), dtype=bool)"
   ]
  },
  {
   "cell_type": "markdown",
   "id": "bacdcdf6-f9a3-469b-9b4e-2cfe116568af",
   "metadata": {},
   "source": [
    "**full()**"
   ]
  },
  {
   "cell_type": "code",
   "execution_count": 28,
   "id": "786932dc-0910-46eb-b536-afa3c0e7a694",
   "metadata": {},
   "outputs": [
    {
     "data": {
      "text/plain": [
       "array([4, 4, 4])"
      ]
     },
     "execution_count": 28,
     "metadata": {},
     "output_type": "execute_result"
    }
   ],
   "source": [
    "np.full(3, 4)"
   ]
  },
  {
   "cell_type": "code",
   "execution_count": 29,
   "id": "a5ef73ff-782d-47c3-8f65-6e24d43f1ab4",
   "metadata": {},
   "outputs": [
    {
     "data": {
      "text/plain": [
       "numpy.ndarray"
      ]
     },
     "execution_count": 29,
     "metadata": {},
     "output_type": "execute_result"
    }
   ],
   "source": [
    "type(np.full(3, 4))"
   ]
  },
  {
   "cell_type": "code",
   "execution_count": 30,
   "id": "f965b07d-9308-44ef-8ec8-dbe9789ce627",
   "metadata": {},
   "outputs": [
    {
     "data": {
      "text/plain": [
       "dtype('int32')"
      ]
     },
     "execution_count": 30,
     "metadata": {},
     "output_type": "execute_result"
    }
   ],
   "source": [
    "np.full(3, 4).dtype "
   ]
  },
  {
   "cell_type": "code",
   "execution_count": 31,
   "id": "e9886f0c-cc54-4ac2-aeaf-80ebea7e62b4",
   "metadata": {},
   "outputs": [
    {
     "data": {
      "text/plain": [
       "array([[4, 4, 4],\n",
       "       [4, 4, 4],\n",
       "       [4, 4, 4],\n",
       "       [4, 4, 4]])"
      ]
     },
     "execution_count": 31,
     "metadata": {},
     "output_type": "execute_result"
    }
   ],
   "source": [
    "np.full((4,3), 4)"
   ]
  },
  {
   "cell_type": "code",
   "execution_count": 32,
   "id": "619f4b99-3c2d-43cd-9436-f54aea525887",
   "metadata": {},
   "outputs": [
    {
     "data": {
      "text/plain": [
       "array([[ True,  True,  True],\n",
       "       [ True,  True,  True],\n",
       "       [ True,  True,  True],\n",
       "       [ True,  True,  True]])"
      ]
     },
     "execution_count": 32,
     "metadata": {},
     "output_type": "execute_result"
    }
   ],
   "source": [
    "np.full((4,3), 4, dtype=bool)"
   ]
  },
  {
   "cell_type": "code",
   "execution_count": 33,
   "id": "5c719198-962a-491a-9195-490be66a795e",
   "metadata": {},
   "outputs": [
    {
     "data": {
      "text/plain": [
       "array([[3, 3, 3],\n",
       "       [3, 3, 3],\n",
       "       [3, 3, 3],\n",
       "       [3, 3, 3]])"
      ]
     },
     "execution_count": 33,
     "metadata": {},
     "output_type": "execute_result"
    }
   ],
   "source": [
    "np.full((4,3), 3)"
   ]
  },
  {
   "cell_type": "code",
   "execution_count": 34,
   "id": "a53aa4e4-94d2-4707-a9f7-ddc7d44d12d2",
   "metadata": {},
   "outputs": [
    {
     "data": {
      "text/plain": [
       "array([4, 4, 4])"
      ]
     },
     "execution_count": 34,
     "metadata": {},
     "output_type": "execute_result"
    }
   ],
   "source": [
    "np.full(3, 4, dtype=int)"
   ]
  },
  {
   "cell_type": "code",
   "execution_count": 35,
   "id": "4182d54b-4fad-42fb-a5a0-5d0d5d90fe47",
   "metadata": {},
   "outputs": [
    {
     "data": {
      "text/plain": [
       "array([[2, 2, 2],\n",
       "       [2, 2, 2],\n",
       "       [2, 2, 2]])"
      ]
     },
     "execution_count": 35,
     "metadata": {},
     "output_type": "execute_result"
    }
   ],
   "source": [
    "np.full((3,3),2)"
   ]
  },
  {
   "cell_type": "code",
   "execution_count": 36,
   "id": "e0f38a63-8697-49e5-bc6d-334a92a2c4b0",
   "metadata": {},
   "outputs": [
    {
     "data": {
      "text/plain": [
       "array([['A', 'A', 'A'],\n",
       "       ['A', 'A', 'A'],\n",
       "       ['A', 'A', 'A']], dtype='<U1')"
      ]
     },
     "execution_count": 36,
     "metadata": {},
     "output_type": "execute_result"
    }
   ],
   "source": [
    "np.full((3,3),\"A\")"
   ]
  },
  {
   "cell_type": "markdown",
   "id": "753be15a-69d5-40cd-886d-9c347c9071f5",
   "metadata": {},
   "source": [
    "**linspace()**"
   ]
  },
  {
   "cell_type": "code",
   "execution_count": 37,
   "id": "cae7940b-9fc6-4188-ab40-21a9f8767334",
   "metadata": {},
   "outputs": [
    {
     "data": {
      "text/plain": [
       "array([ 0., 10.])"
      ]
     },
     "execution_count": 37,
     "metadata": {},
     "output_type": "execute_result"
    }
   ],
   "source": [
    "np.linspace(0,10,2)"
   ]
  },
  {
   "cell_type": "code",
   "execution_count": 38,
   "id": "239c2834-04fb-4e87-9f8b-7ed9b42d229f",
   "metadata": {},
   "outputs": [
    {
     "data": {
      "text/plain": [
       "array([ 0.,  1.,  2.,  3.,  4.,  5.,  6.,  7.,  8.,  9., 10.])"
      ]
     },
     "execution_count": 38,
     "metadata": {},
     "output_type": "execute_result"
    }
   ],
   "source": [
    "np.linspace(0,10,11)"
   ]
  },
  {
   "cell_type": "code",
   "execution_count": 39,
   "id": "c0eb1add-92c0-4a8f-b6a8-c6ad2ed4db0d",
   "metadata": {},
   "outputs": [
    {
     "data": {
      "text/plain": [
       "array([50, 51, 52, 53, 54, 55, 56, 57, 58, 59, 60])"
      ]
     },
     "execution_count": 39,
     "metadata": {},
     "output_type": "execute_result"
    }
   ],
   "source": [
    "np.linspace(50,60,11, dtype=int)"
   ]
  },
  {
   "cell_type": "code",
   "execution_count": 40,
   "id": "f324d546-7d80-4f6d-bb88-46c76c4d106e",
   "metadata": {},
   "outputs": [
    {
     "data": {
      "text/plain": [
       "array([ 0.        ,  0.20408163,  0.40816327,  0.6122449 ,  0.81632653,\n",
       "        1.02040816,  1.2244898 ,  1.42857143,  1.63265306,  1.83673469,\n",
       "        2.04081633,  2.24489796,  2.44897959,  2.65306122,  2.85714286,\n",
       "        3.06122449,  3.26530612,  3.46938776,  3.67346939,  3.87755102,\n",
       "        4.08163265,  4.28571429,  4.48979592,  4.69387755,  4.89795918,\n",
       "        5.10204082,  5.30612245,  5.51020408,  5.71428571,  5.91836735,\n",
       "        6.12244898,  6.32653061,  6.53061224,  6.73469388,  6.93877551,\n",
       "        7.14285714,  7.34693878,  7.55102041,  7.75510204,  7.95918367,\n",
       "        8.16326531,  8.36734694,  8.57142857,  8.7755102 ,  8.97959184,\n",
       "        9.18367347,  9.3877551 ,  9.59183673,  9.79591837, 10.        ])"
      ]
     },
     "execution_count": 40,
     "metadata": {},
     "output_type": "execute_result"
    }
   ],
   "source": [
    "np.linspace(0,10,50)"
   ]
  },
  {
   "cell_type": "code",
   "execution_count": 41,
   "id": "57d9c88d-a11c-4511-9fa4-6cd940c4c592",
   "metadata": {},
   "outputs": [
    {
     "data": {
      "text/plain": [
       "array([ 0. ,  0.2,  0.4,  0.6,  0.8,  1. ,  1.2,  1.4,  1.6,  1.8,  2. ,\n",
       "        2.2,  2.4,  2.6,  2.8,  3. ,  3.2,  3.4,  3.6,  3.8,  4. ,  4.2,\n",
       "        4.4,  4.6,  4.8,  5. ,  5.2,  5.4,  5.6,  5.8,  6. ,  6.2,  6.4,\n",
       "        6.6,  6.8,  7. ,  7.2,  7.4,  7.6,  7.8,  8. ,  8.2,  8.4,  8.6,\n",
       "        8.8,  9. ,  9.2,  9.4,  9.6,  9.8, 10. ])"
      ]
     },
     "execution_count": 41,
     "metadata": {},
     "output_type": "execute_result"
    }
   ],
   "source": [
    "np.linspace(0,10,51)"
   ]
  },
  {
   "cell_type": "code",
   "execution_count": 42,
   "id": "48614dda-63c8-4f52-b214-1051a574acb0",
   "metadata": {},
   "outputs": [
    {
     "data": {
      "text/plain": [
       "array([ 0,  0,  0,  0,  0,  1,  1,  1,  1,  1,  2,  2,  2,  2,  2,  3,  3,\n",
       "        3,  3,  3,  4,  4,  4,  4,  4,  5,  5,  5,  5,  5,  6,  6,  6,  6,\n",
       "        6,  7,  7,  7,  7,  7,  8,  8,  8,  8,  8,  9,  9,  9,  9,  9, 10])"
      ]
     },
     "execution_count": 42,
     "metadata": {},
     "output_type": "execute_result"
    }
   ],
   "source": [
    "np.linspace(0,10,51, dtype=int)"
   ]
  },
  {
   "cell_type": "markdown",
   "id": "94298e37-1efc-4fe6-b1ae-1db977075cf4",
   "metadata": {},
   "source": [
    "**eye()**"
   ]
  },
  {
   "cell_type": "code",
   "execution_count": 43,
   "id": "49aa305d-ec8f-408b-8e8f-5598aa68a147",
   "metadata": {},
   "outputs": [
    {
     "data": {
      "text/plain": [
       "array([[1., 0., 0., 0.],\n",
       "       [0., 1., 0., 0.],\n",
       "       [0., 0., 1., 0.],\n",
       "       [0., 0., 0., 1.]])"
      ]
     },
     "execution_count": 43,
     "metadata": {},
     "output_type": "execute_result"
    }
   ],
   "source": [
    "np.eye(4)"
   ]
  },
  {
   "cell_type": "markdown",
   "id": "30987502-36b9-425c-9cde-498657e5f36b",
   "metadata": {},
   "source": [
    "**Numpy random.randn()**"
   ]
  },
  {
   "cell_type": "code",
   "execution_count": 44,
   "id": "b97ec992-796e-451d-9dab-0d58bc99f520",
   "metadata": {},
   "outputs": [
    {
     "name": "stdout",
     "output_type": "stream",
     "text": [
      "Help on built-in function randn:\n",
      "\n",
      "randn(...) method of numpy.random.mtrand.RandomState instance\n",
      "    randn(d0, d1, ..., dn)\n",
      "    \n",
      "    Return a sample (or samples) from the \"standard normal\" distribution.\n",
      "    \n",
      "    .. note::\n",
      "        This is a convenience function for users porting code from Matlab,\n",
      "        and wraps `standard_normal`. That function takes a\n",
      "        tuple to specify the size of the output, which is consistent with\n",
      "        other NumPy functions like `numpy.zeros` and `numpy.ones`.\n",
      "    \n",
      "    .. note::\n",
      "        New code should use the ``standard_normal`` method of a ``default_rng()``\n",
      "        instance instead; please see the :ref:`random-quick-start`.\n",
      "    \n",
      "    If positive int_like arguments are provided, `randn` generates an array\n",
      "    of shape ``(d0, d1, ..., dn)``, filled\n",
      "    with random floats sampled from a univariate \"normal\" (Gaussian)\n",
      "    distribution of mean 0 and variance 1. A single float randomly sampled\n",
      "    from the distribution is returned if no argument is provided.\n",
      "    \n",
      "    Parameters\n",
      "    ----------\n",
      "    d0, d1, ..., dn : int, optional\n",
      "        The dimensions of the returned array, must be non-negative.\n",
      "        If no argument is given a single Python float is returned.\n",
      "    \n",
      "    Returns\n",
      "    -------\n",
      "    Z : ndarray or float\n",
      "        A ``(d0, d1, ..., dn)``-shaped array of floating-point samples from\n",
      "        the standard normal distribution, or a single such float if\n",
      "        no parameters were supplied.\n",
      "    \n",
      "    See Also\n",
      "    --------\n",
      "    standard_normal : Similar, but takes a tuple as its argument.\n",
      "    normal : Also accepts mu and sigma arguments.\n",
      "    Generator.standard_normal: which should be used for new code.\n",
      "    \n",
      "    Notes\n",
      "    -----\n",
      "    For random samples from :math:`N(\\mu, \\sigma^2)`, use:\n",
      "    \n",
      "    ``sigma * np.random.randn(...) + mu``\n",
      "    \n",
      "    Examples\n",
      "    --------\n",
      "    >>> np.random.randn()\n",
      "    2.1923875335537315  # random\n",
      "    \n",
      "    Two-by-four array of samples from N(3, 6.25):\n",
      "    \n",
      "    >>> 3 + 2.5 * np.random.randn(2, 4)\n",
      "    array([[-4.49401501,  4.00950034, -1.81814867,  7.29718677],   # random\n",
      "           [ 0.39924804,  4.68456316,  4.99394529,  4.84057254]])  # random\n",
      "\n"
     ]
    }
   ],
   "source": [
    "help(np.random.randn)"
   ]
  },
  {
   "cell_type": "code",
   "execution_count": 70,
   "id": "4e77e542-41de-4057-b062-16c35ffb89be",
   "metadata": {},
   "outputs": [
    {
     "data": {
      "text/plain": [
       "array([ 0.31746174, -1.31783895])"
      ]
     },
     "execution_count": 70,
     "metadata": {},
     "output_type": "execute_result"
    }
   ],
   "source": [
    "np.random.randn(2)"
   ]
  },
  {
   "cell_type": "code",
   "execution_count": 71,
   "id": "86422243-6c30-4a15-a786-2471b9db80cf",
   "metadata": {},
   "outputs": [
    {
     "data": {
      "text/plain": [
       "array([[ 0.7656211 ,  0.43433012,  0.36272479, -0.04430602, -1.99393451],\n",
       "       [-0.0148148 , -0.83652913, -0.01093046,  1.27932797, -0.00479423],\n",
       "       [-0.8128348 ,  1.28711483,  0.03814929,  0.26019788, -0.36701256],\n",
       "       [-0.57228741,  0.08153718, -0.00223812, -1.00344805,  0.03268257],\n",
       "       [ 0.45592344,  0.05936362, -1.08852723, -0.74770163,  0.31245702]])"
      ]
     },
     "execution_count": 71,
     "metadata": {},
     "output_type": "execute_result"
    }
   ],
   "source": [
    "np.random.randn(5,5)"
   ]
  },
  {
   "cell_type": "markdown",
   "id": "b5e1a37c-d24b-44c9-b1b3-ed9fb0afe84b",
   "metadata": {},
   "source": [
    "**Histogram by matplotlib**"
   ]
  },
  {
   "cell_type": "code",
   "execution_count": 72,
   "id": "0ec72e6c-ba52-4a9d-8b5b-b1656136ba31",
   "metadata": {},
   "outputs": [
    {
     "data": {
      "image/png": "[encoded data removed]",
      "text/plain": [
       "<Figure size 432x288 with 1 Axes>"
      ]
     },
     "metadata": {
      "needs_background": "light"
     },
     "output_type": "display_data"
    },
    {
     "data": {
      "image/png": "[encoded data removed]",
      "text/plain": [
       "<Figure size 432x288 with 1 Axes>"
      ]
     },
     "metadata": {
      "needs_background": "light"
     },
     "output_type": "display_data"
    }
   ],
   "source": [
    "import matplotlib.pyplot as plt\n",
    "plt.hist(np.random.randn(2342), bins=40)\n",
    "plt.show()\n",
    "# %matplotlib inline\n",
    "plt.hist(np.random.randn(5555), bins=55)\n",
    "plt.show()"
   ]
  },
  {
   "cell_type": "code",
   "execution_count": 73,
   "id": "72c2101d-679b-4cf6-a0a1-ca079082aa7e",
   "metadata": {},
   "outputs": [
    {
     "data": {
      "text/plain": [
       "array([ 0.41606614, -0.06088974,  0.24552734, ..., -0.1721792 ,\n",
       "        1.3206021 , -0.06803465])"
      ]
     },
     "execution_count": 73,
     "metadata": {},
     "output_type": "execute_result"
    }
   ],
   "source": [
    "np.random.randn(2342)"
   ]
  },
  {
   "cell_type": "code",
   "execution_count": 74,
   "id": "57ee199a-7f77-44cb-83d0-8438f2874fff",
   "metadata": {},
   "outputs": [
    {
     "data": {
      "text/plain": [
       "2342"
      ]
     },
     "execution_count": 74,
     "metadata": {},
     "output_type": "execute_result"
    }
   ],
   "source": [
    "len(np.random.randn(2342))"
   ]
  },
  {
   "cell_type": "code",
   "execution_count": 75,
   "id": "0c50d8ed-9223-49ee-81a7-f68d53117751",
   "metadata": {},
   "outputs": [
    {
     "data": {
      "text/plain": [
       "numpy.ndarray"
      ]
     },
     "execution_count": 75,
     "metadata": {},
     "output_type": "execute_result"
    }
   ],
   "source": [
    "type(np.random.randn(5555))"
   ]
  },
  {
   "cell_type": "markdown",
   "id": "95e01308-4e59-4027-9919-7040a1a7e0b8",
   "metadata": {},
   "source": [
    "**Array's standard deviation, mean and varience values!**"
   ]
  },
  {
   "cell_type": "code",
   "execution_count": 80,
   "id": "485c007f-5b06-4add-90b5-3c2cbb15e92d",
   "metadata": {},
   "outputs": [
    {
     "data": {
      "text/plain": [
       "(0.9918542217592219, 0.0023097928192375647, 0.9837747972215918)"
      ]
     },
     "execution_count": 80,
     "metadata": {},
     "output_type": "execute_result"
    }
   ],
   "source": [
    "k=np.random.randn(5555)\n",
    "k.std(), k.mean(), k.var()"
   ]
  },
  {
   "cell_type": "code",
   "execution_count": 81,
   "id": "b87995b9-88c5-4116-829e-8f36f1c9ed32",
   "metadata": {},
   "outputs": [
    {
     "data": {
      "text/plain": [
       "0.004619585638475129"
      ]
     },
     "execution_count": 81,
     "metadata": {},
     "output_type": "execute_result"
    }
   ],
   "source": [
    "k.mean()*2"
   ]
  },
  {
   "cell_type": "markdown",
   "id": "354def1b-0a5c-426d-8b29-3b5b433887f6",
   "metadata": {},
   "source": [
    "**Array random.randint() produves integers!**"
   ]
  },
  {
   "cell_type": "code",
   "execution_count": 82,
   "id": "c1a5dd72-c60c-46d4-b93e-f368900c602f",
   "metadata": {},
   "outputs": [
    {
     "data": {
      "text/plain": [
       "47"
      ]
     },
     "execution_count": 82,
     "metadata": {},
     "output_type": "execute_result"
    }
   ],
   "source": [
    "np.random.randint(1,100)"
   ]
  },
  {
   "cell_type": "code",
   "execution_count": 83,
   "id": "f57e13c1-469d-4535-af5a-9e7acc901691",
   "metadata": {},
   "outputs": [
    {
     "data": {
      "text/plain": [
       "array([4, 0, 6, 2, 9, 3, 1, 4, 2, 5])"
      ]
     },
     "execution_count": 83,
     "metadata": {},
     "output_type": "execute_result"
    }
   ],
   "source": [
    "np.random.randint(10, size=10)"
   ]
  },
  {
   "cell_type": "code",
   "execution_count": 84,
   "id": "61a188ec-55a2-444e-b97e-0f41369a2dc6",
   "metadata": {},
   "outputs": [
    {
     "data": {
      "text/plain": [
       "array([[5, 7],\n",
       "       [5, 8],\n",
       "       [7, 2],\n",
       "       [6, 0],\n",
       "       [0, 7],\n",
       "       [2, 9],\n",
       "       [2, 4],\n",
       "       [7, 3],\n",
       "       [0, 0],\n",
       "       [6, 0]])"
      ]
     },
     "execution_count": 84,
     "metadata": {},
     "output_type": "execute_result"
    }
   ],
   "source": [
    "np.random.randint(10, size=((10,2)))"
   ]
  },
  {
   "cell_type": "code",
   "execution_count": 85,
   "id": "55e39a1b-9f7c-4afc-b36e-3b63c40d1fd8",
   "metadata": {},
   "outputs": [
    {
     "data": {
      "text/plain": [
       "array([[ 2, 31, 35],\n",
       "       [ 2,  4, 40],\n",
       "       [ 1, 14, 18],\n",
       "       [ 2, 15, 61],\n",
       "       [ 1, 21, 57]])"
      ]
     },
     "execution_count": 85,
     "metadata": {},
     "output_type": "execute_result"
    }
   ],
   "source": [
    "np.random.randint(1, [3,40,100], size=(5,3)) # lower  is 1."
   ]
  },
  {
   "cell_type": "code",
   "execution_count": 86,
   "id": "165a3132-3dc3-480b-92ca-8da72c1ee236",
   "metadata": {},
   "outputs": [
    {
     "data": {
      "text/plain": [
       "array([[ 0, 11, 27],\n",
       "       [ 2, 22, 99],\n",
       "       [ 2,  4, 24],\n",
       "       [ 1, 34, 40],\n",
       "       [ 1, 29, 13]])"
      ]
     },
     "execution_count": 86,
     "metadata": {},
     "output_type": "execute_result"
    }
   ],
   "source": [
    "np.random.randint([3,40,100], size=(5,3))"
   ]
  },
  {
   "cell_type": "code",
   "execution_count": 87,
   "id": "7e0c7263-2f67-4e85-8e36-b1f746818cec",
   "metadata": {},
   "outputs": [
    {
     "data": {
      "text/plain": [
       "array([[ 7, 14,  5],\n",
       "       [ 8,  8, 26],\n",
       "       [ 2,  5, 26],\n",
       "       [ 7, 13, 17],\n",
       "       [ 9,  8, 23]])"
      ]
     },
     "execution_count": 87,
     "metadata": {},
     "output_type": "execute_result"
    }
   ],
   "source": [
    "np.random.randint([10,20,30], size=(5,3))"
   ]
  },
  {
   "cell_type": "code",
   "execution_count": 50,
   "id": "cd1a2604-973a-4e3c-9bfd-e5d0cf3d6c0b",
   "metadata": {},
   "outputs": [
    {
     "data": {
      "text/plain": [
       "array([ 0,  1,  2,  3,  4,  5,  6,  7,  8,  9, 10, 11, 12, 13, 14, 15, 16,\n",
       "       17, 18, 19, 20, 21, 22, 23, 24])"
      ]
     },
     "execution_count": 50,
     "metadata": {},
     "output_type": "execute_result"
    }
   ],
   "source": [
    "arr=np.arange(25)\n",
    "arr "
   ]
  },
  {
   "cell_type": "code",
   "execution_count": 51,
   "id": "67d3d3d9-cba4-4548-a8d6-58a2685dc268",
   "metadata": {},
   "outputs": [
    {
     "data": {
      "text/plain": [
       "array([26, 23, 40, 45, 33, 13, 21,  3, 26, 34])"
      ]
     },
     "execution_count": 51,
     "metadata": {},
     "output_type": "execute_result"
    }
   ],
   "source": [
    "randarr = (np.random.randint(0,50,10))\n",
    "randarr "
   ]
  },
  {
   "cell_type": "code",
   "execution_count": 52,
   "id": "94599819-43df-42e8-925b-da240dba5cae",
   "metadata": {},
   "outputs": [
    {
     "data": {
      "text/plain": [
       "array([[ 0,  1,  2,  3,  4],\n",
       "       [ 5,  6,  7,  8,  9],\n",
       "       [10, 11, 12, 13, 14],\n",
       "       [15, 16, 17, 18, 19],\n",
       "       [20, 21, 22, 23, 24]])"
      ]
     },
     "execution_count": 52,
     "metadata": {},
     "output_type": "execute_result"
    }
   ],
   "source": [
    "x=arr.reshape(5,5)\n",
    "x  "
   ]
  },
  {
   "cell_type": "markdown",
   "id": "11addbc3-1de8-4837-ae8a-77629de01e16",
   "metadata": {},
   "source": [
    "**Identities of Arr**"
   ]
  },
  {
   "cell_type": "code",
   "execution_count": 53,
   "id": "444a1f02-47d6-48cb-a8f3-ca3fd0c60aa2",
   "metadata": {},
   "outputs": [
    {
     "data": {
      "text/plain": [
       "(2134101640752, 2134101640464)"
      ]
     },
     "execution_count": 53,
     "metadata": {},
     "output_type": "execute_result"
    }
   ],
   "source": [
    "id(x), id(arr)"
   ]
  },
  {
   "cell_type": "markdown",
   "id": "2523ed0b-699a-4fc6-9904-6cca447660e3",
   "metadata": {},
   "source": [
    "**Arrays's maximum value and its index!**"
   ]
  },
  {
   "cell_type": "code",
   "execution_count": 54,
   "id": "64c1db98-49b2-4496-8c99-383aa5924a1c",
   "metadata": {
    "tags": []
   },
   "outputs": [
    {
     "data": {
      "text/plain": [
       "(45, 3)"
      ]
     },
     "execution_count": 54,
     "metadata": {},
     "output_type": "execute_result"
    }
   ],
   "source": [
    "randarr.max(), randarr.argmax()"
   ]
  },
  {
   "cell_type": "markdown",
   "id": "18497cf4-e9ab-4a43-871b-9f69be458bc0",
   "metadata": {},
   "source": [
    "**Arrays's minimum value and its index!**"
   ]
  },
  {
   "cell_type": "code",
   "execution_count": 55,
   "id": "5944f73e-7631-4acf-b1c8-9b50d32b435d",
   "metadata": {},
   "outputs": [
    {
     "data": {
      "text/plain": [
       "(3, 7)"
      ]
     },
     "execution_count": 55,
     "metadata": {},
     "output_type": "execute_result"
    }
   ],
   "source": [
    "randarr.min(), randarr.argmin()"
   ]
  },
  {
   "cell_type": "markdown",
   "id": "38150c13-baac-4844-be4a-a620982741c0",
   "metadata": {},
   "source": [
    "**Arrays will hav identical id by assignment!**"
   ]
  },
  {
   "cell_type": "code",
   "execution_count": 56,
   "id": "2a8eae61-cebd-4a61-828b-2cc9e45d8de0",
   "metadata": {},
   "outputs": [
    {
     "data": {
      "text/plain": [
       "True"
      ]
     },
     "execution_count": 56,
     "metadata": {},
     "output_type": "execute_result"
    }
   ],
   "source": [
    "r = randarr\n",
    "id(r) == id(randarr)"
   ]
  },
  {
   "cell_type": "code",
   "execution_count": 97,
   "id": "b20859da-0e17-4194-ab08-970e96a8d05b",
   "metadata": {},
   "outputs": [
    {
     "data": {
      "text/plain": [
       "(1, (10,), 10, 4)"
      ]
     },
     "execution_count": 97,
     "metadata": {},
     "output_type": "execute_result"
    }
   ],
   "source": [
    "r.ndim, r.shape, r.size, r.itemsize "
   ]
  },
  {
   "cell_type": "code",
   "execution_count": 98,
   "id": "983e62c5-4af4-4415-98c2-52960a1cd16e",
   "metadata": {},
   "outputs": [
    {
     "data": {
      "text/plain": [
       "array([30, 13,  7, 20, 43, 31, 20, 45, 15,  5])"
      ]
     },
     "execution_count": 98,
     "metadata": {},
     "output_type": "execute_result"
    }
   ],
   "source": [
    "r "
   ]
  },
  {
   "cell_type": "code",
   "execution_count": 99,
   "id": "7b7b09d9-c0df-4876-a39a-53a4008354e4",
   "metadata": {},
   "outputs": [
    {
     "data": {
      "text/plain": [
       "array([ 0,  1,  2,  3,  4,  5,  6,  7,  8,  9, 10, 11, 12, 13, 14, 15, 16,\n",
       "       17, 18, 19, 20, 21, 22, 23, 24])"
      ]
     },
     "execution_count": 99,
     "metadata": {},
     "output_type": "execute_result"
    }
   ],
   "source": [
    "arr "
   ]
  },
  {
   "cell_type": "code",
   "execution_count": 100,
   "id": "2fe2af46-a85b-45fe-a2e9-7a7b428f1876",
   "metadata": {},
   "outputs": [
    {
     "data": {
      "text/plain": [
       "dtype('int32')"
      ]
     },
     "execution_count": 100,
     "metadata": {},
     "output_type": "execute_result"
    }
   ],
   "source": [
    "arr.dtype"
   ]
  },
  {
   "cell_type": "code",
   "execution_count": 101,
   "id": "b1915db4-e868-45cd-8ab1-a40bf76acf95",
   "metadata": {},
   "outputs": [
    {
     "name": "stdout",
     "output_type": "stream",
     "text": [
      "[1, 2, 3, 4] \n",
      " [2, 3, 4, 5]\n"
     ]
    }
   ],
   "source": [
    "print(a, '\\n', b)"
   ]
  },
  {
   "cell_type": "code",
   "execution_count": 102,
   "id": "ac00c0e7-c82f-44d8-bf5f-64581e234e46",
   "metadata": {},
   "outputs": [
    {
     "data": {
      "text/plain": [
       "[1, 2, 3, 4, 2, 3, 4, 5]"
      ]
     },
     "execution_count": 102,
     "metadata": {},
     "output_type": "execute_result"
    }
   ],
   "source": [
    "a+b"
   ]
  },
  {
   "cell_type": "code",
   "execution_count": 103,
   "id": "7a8e1ebf-ea78-4b12-8fe0-a2d3ed80c8ab",
   "metadata": {},
   "outputs": [
    {
     "data": {
      "text/plain": [
       "4"
      ]
     },
     "execution_count": 103,
     "metadata": {},
     "output_type": "execute_result"
    }
   ],
   "source": [
    "len(a)"
   ]
  },
  {
   "cell_type": "markdown",
   "id": "a1032ce5-ce2a-41a1-9b17-429b88b81365",
   "metadata": {},
   "source": [
    "**Concatenate arrays!**"
   ]
  },
  {
   "cell_type": "code",
   "execution_count": 37,
   "id": "8ce27e5e-3389-47ef-bd61-15fc044dcc2d",
   "metadata": {},
   "outputs": [
    {
     "data": {
      "text/plain": [
       "(array([1, 2, 4]), array([4, 5, 6]))"
      ]
     },
     "execution_count": 37,
     "metadata": {},
     "output_type": "execute_result"
    }
   ],
   "source": [
    "x=np.array([1,2,4])\n",
    "y=np.array([4,5,6])\n",
    "x,y"
   ]
  },
  {
   "cell_type": "code",
   "execution_count": 106,
   "id": "cdd1941a-ce70-441d-8b7f-aefc0e3b729b",
   "metadata": {},
   "outputs": [
    {
     "data": {
      "text/plain": [
       "array([1, 2, 4, 4, 5, 6, 5, 3, 2])"
      ]
     },
     "execution_count": 106,
     "metadata": {},
     "output_type": "execute_result"
    }
   ],
   "source": [
    "np.concatenate([x,y, np.array([5,3,2])], axis=0)"
   ]
  },
  {
   "cell_type": "code",
   "execution_count": 107,
   "id": "2b8ecd34-571f-4662-bd76-e86fd67cefab",
   "metadata": {},
   "outputs": [
    {
     "data": {
      "text/plain": [
       "array([[1, 2, 3],\n",
       "       [4, 5, 6]])"
      ]
     },
     "execution_count": 107,
     "metadata": {},
     "output_type": "execute_result"
    }
   ],
   "source": [
    "a = np.array([[1,2,3], [4,5,6]])\n",
    "a "
   ]
  },
  {
   "cell_type": "code",
   "execution_count": 108,
   "id": "c939f662-4085-4ff6-86d5-f97d7226999e",
   "metadata": {},
   "outputs": [
    {
     "data": {
      "text/plain": [
       "array([[1, 2, 3],\n",
       "       [4, 5, 6],\n",
       "       [1, 2, 3],\n",
       "       [4, 5, 6]])"
      ]
     },
     "execution_count": 108,
     "metadata": {},
     "output_type": "execute_result"
    }
   ],
   "source": [
    "np.concatenate([a,a], axis=0)"
   ]
  },
  {
   "cell_type": "code",
   "execution_count": 109,
   "id": "1aa8cb1b-fda0-4103-bb0b-69f2d939b4ab",
   "metadata": {},
   "outputs": [
    {
     "data": {
      "text/plain": [
       "array([[1, 2, 3, 1, 2, 3],\n",
       "       [4, 5, 6, 4, 5, 6]])"
      ]
     },
     "execution_count": 109,
     "metadata": {},
     "output_type": "execute_result"
    }
   ],
   "source": [
    "np.concatenate([a,a], axis=1)"
   ]
  },
  {
   "cell_type": "code",
   "execution_count": 110,
   "id": "862949bb-95ac-4145-8424-74cf15ab6865",
   "metadata": {},
   "outputs": [
    {
     "data": {
      "text/plain": [
       "array([[1, 2, 3],\n",
       "       [4, 5, 6]])"
      ]
     },
     "execution_count": 110,
     "metadata": {},
     "output_type": "execute_result"
    }
   ],
   "source": [
    "a "
   ]
  },
  {
   "cell_type": "markdown",
   "id": "62595f6a-1c99-474d-a8bb-985b8eb4cfe0",
   "metadata": {},
   "source": [
    "**Split Arrays!**"
   ]
  },
  {
   "cell_type": "code",
   "execution_count": 41,
   "id": "3a8df4aa-359d-4664-988f-c812d8b97721",
   "metadata": {},
   "outputs": [
    {
     "data": {
      "text/plain": [
       "array([ 1,  2,  3, 99, 99,  3,  2,  1])"
      ]
     },
     "execution_count": 41,
     "metadata": {},
     "output_type": "execute_result"
    }
   ],
   "source": [
    "x = np.array([1,2,3,99,99,3,2,1])\n",
    "x "
   ]
  },
  {
   "cell_type": "code",
   "execution_count": 112,
   "id": "226a3f99-5ea2-4dbd-898a-cbfd27a015e2",
   "metadata": {},
   "outputs": [
    {
     "data": {
      "text/plain": [
       "[array([1, 2, 3]), array([99, 99]), array([3, 2, 1])]"
      ]
     },
     "execution_count": 112,
     "metadata": {},
     "output_type": "execute_result"
    }
   ],
   "source": [
    "np.split(x, [3,5])"
   ]
  },
  {
   "cell_type": "code",
   "execution_count": 113,
   "id": "fc1d24f5-94a2-4de9-a048-db6758230df9",
   "metadata": {},
   "outputs": [
    {
     "data": {
      "text/plain": [
       "(array([1, 2, 3]), array([99, 99]), array([3, 2, 1]))"
      ]
     },
     "execution_count": 113,
     "metadata": {},
     "output_type": "execute_result"
    }
   ],
   "source": [
    "a,b,c = np.split(x, [3,5])\n",
    "a, b, c"
   ]
  },
  {
   "cell_type": "code",
   "execution_count": 114,
   "id": "766a09ed-56ef-48e5-b840-a6aa550853d9",
   "metadata": {},
   "outputs": [
    {
     "data": {
      "text/plain": [
       "[array([1, 2, 3]), array([99, 99]), array([3, 2, 1])]"
      ]
     },
     "execution_count": 114,
     "metadata": {},
     "output_type": "execute_result"
    }
   ],
   "source": [
    "np.split(x, [3,5])"
   ]
  },
  {
   "cell_type": "code",
   "execution_count": 118,
   "id": "96a28767-7b6d-4ffd-aeb5-49349e34cef9",
   "metadata": {},
   "outputs": [
    {
     "data": {
      "text/plain": [
       "array([[ 0,  1,  2,  3,  4,  5],\n",
       "       [ 6,  7,  8,  9, 10, 11],\n",
       "       [12, 13, 14, 15, 16, 17],\n",
       "       [18, 19, 20, 21, 22, 23]])"
      ]
     },
     "execution_count": 118,
     "metadata": {},
     "output_type": "execute_result"
    }
   ],
   "source": [
    "k = np.arange(24).reshape(4,6)\n",
    "k"
   ]
  },
  {
   "cell_type": "code",
   "execution_count": 131,
   "id": "49f1cbd7-0646-42ea-9d3d-2eae83d1c723",
   "metadata": {},
   "outputs": [
    {
     "data": {
      "text/plain": [
       "[array([[ 0,  1,  2],\n",
       "        [ 6,  7,  8],\n",
       "        [12, 13, 14],\n",
       "        [18, 19, 20]]),\n",
       " array([[ 3,  4,  5],\n",
       "        [ 9, 10, 11],\n",
       "        [15, 16, 17],\n",
       "        [21, 22, 23]])]"
      ]
     },
     "execution_count": 131,
     "metadata": {},
     "output_type": "execute_result"
    }
   ],
   "source": [
    "np.split(k, 2, axis=1)"
   ]
  },
  {
   "cell_type": "code",
   "execution_count": 132,
   "id": "5c7910f5-431e-454e-9615-ccde52fb2410",
   "metadata": {},
   "outputs": [
    {
     "data": {
      "text/plain": [
       "[array([[ 0,  1,  2,  3,  4,  5],\n",
       "        [ 6,  7,  8,  9, 10, 11]]),\n",
       " array([[12, 13, 14, 15, 16, 17],\n",
       "        [18, 19, 20, 21, 22, 23]])]"
      ]
     },
     "execution_count": 132,
     "metadata": {},
     "output_type": "execute_result"
    }
   ],
   "source": [
    "np.split(k, 2)"
   ]
  },
  {
   "cell_type": "markdown",
   "id": "46700428-8596-4c92-81b3-5f598b424082",
   "metadata": {},
   "source": [
    "**Sort arrays!**"
   ]
  },
  {
   "cell_type": "code",
   "execution_count": 42,
   "id": "2673f4a3-e2e2-4c3f-be83-6da04c799d2b",
   "metadata": {},
   "outputs": [
    {
     "data": {
      "text/plain": [
       "array([ 1,  1,  2,  2,  3,  3, 99, 99])"
      ]
     },
     "execution_count": 42,
     "metadata": {},
     "output_type": "execute_result"
    }
   ],
   "source": [
    "np.sort(x)"
   ]
  },
  {
   "cell_type": "code",
   "execution_count": 43,
   "id": "747251c3-7e8a-476b-8ade-a2922ea1b594",
   "metadata": {},
   "outputs": [
    {
     "data": {
      "text/plain": [
       "array([ 1,  2,  3, 99, 99,  3,  2,  1])"
      ]
     },
     "execution_count": 43,
     "metadata": {},
     "output_type": "execute_result"
    }
   ],
   "source": [
    "x"
   ]
  },
  {
   "cell_type": "code",
   "execution_count": 44,
   "id": "edbe20d0-15eb-4eaf-8a01-2db6f3292248",
   "metadata": {},
   "outputs": [],
   "source": [
    "quinn = x.sort()\n",
    "quinn "
   ]
  },
  {
   "cell_type": "code",
   "execution_count": 45,
   "id": "3210348c-5416-4f41-b4b6-efd41dd1ebf0",
   "metadata": {},
   "outputs": [
    {
     "data": {
      "text/plain": [
       "True"
      ]
     },
     "execution_count": 45,
     "metadata": {},
     "output_type": "execute_result"
    }
   ],
   "source": [
    "quinn is None"
   ]
  }
 ],
 "metadata": {
  "kernelspec": {
   "display_name": "Python 3 (ipykernel)",
   "language": "python",
   "name": "python3"
  },
  "language_info": {
   "codemirror_mode": {
    "name": "ipython",
    "version": 3
   },
   "file_extension": ".py",
   "mimetype": "text/x-python",
   "name": "python",
   "nbconvert_exporter": "python",
   "pygments_lexer": "ipython3",
   "version": "3.8.8"
  }
 },
 "nbformat": 4,
 "nbformat_minor": 5
}
