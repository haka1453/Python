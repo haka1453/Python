{
 "cells": [
  {
   "cell_type": "markdown",
   "id": "3d887635-3f87-4c82-abe3-091e72159073",
   "metadata": {},
   "source": [
    "# Regular Expressions\n",
    "\n",
    "**pat L-4   Regex**"
   ]
  },
  {
   "cell_type": "code",
   "execution_count": 1,
   "id": "907b61b4-3544-481f-b304-00982decd2c8",
   "metadata": {},
   "outputs": [],
   "source": [
    "import pandas as pd\n",
    "import numpy as np\n",
    "import re"
   ]
  },
  {
   "cell_type": "code",
   "execution_count": 67,
   "id": "5d491c39-0ad3-4696-b9e9-05297d5913c4",
   "metadata": {},
   "outputs": [],
   "source": [
    "regex = r'v'  # ignores \\n, \\r, \\t"
   ]
  },
  {
   "cell_type": "code",
   "execution_count": 69,
   "id": "2f450354-1623-4df8-b261-2a91ba8cb5d1",
   "metadata": {},
   "outputs": [
    {
     "data": {
      "text/plain": [
       "<re.Match object; span=(15, 16), match='v'>"
      ]
     },
     "execution_count": 69,
     "metadata": {},
     "output_type": "execute_result"
    }
   ],
   "source": [
    "regex = r'v'\n",
    "target = 'Paris is for lovers'\n",
    "re.search(regex, target)"
   ]
  },
  {
   "cell_type": "code",
   "execution_count": 70,
   "id": "84e36122-2c01-4ebd-8d17-d130fea7b948",
   "metadata": {},
   "outputs": [
    {
     "data": {
      "text/plain": [
       "<re.Match object; span=(13, 16), match='lov'>"
      ]
     },
     "execution_count": 70,
     "metadata": {},
     "output_type": "execute_result"
    }
   ],
   "source": [
    "regex = r'lov'\n",
    "re.search(regex, target)"
   ]
  },
  {
   "cell_type": "code",
   "execution_count": 71,
   "id": "4513508e-b164-4be1-a1fd-bd6038ddedae",
   "metadata": {},
   "outputs": [
    {
     "data": {
      "text/plain": [
       "['is', 'is']"
      ]
     },
     "execution_count": 71,
     "metadata": {},
     "output_type": "execute_result"
    }
   ],
   "source": [
    "regex = r'is'\n",
    "re.findall(regex, target)"
   ]
  },
  {
   "cell_type": "code",
   "execution_count": 9,
   "id": "938b06c6-2d8f-4489-a7e7-00a3a1305cb3",
   "metadata": {},
   "outputs": [
    {
     "data": {
      "text/plain": [
       "<callable_iterator at 0x1b221509160>"
      ]
     },
     "execution_count": 9,
     "metadata": {},
     "output_type": "execute_result"
    }
   ],
   "source": [
    "res = re.finditer(regex, target)\n",
    "res"
   ]
  },
  {
   "cell_type": "code",
   "execution_count": 10,
   "id": "f2bc1863-1cf3-4996-bea5-3d7e5ad73fe4",
   "metadata": {},
   "outputs": [
    {
     "name": "stdout",
     "output_type": "stream",
     "text": [
      "<re.Match object; span=(3, 5), match='is'>\n",
      "<re.Match object; span=(6, 8), match='is'>\n"
     ]
    }
   ],
   "source": [
    "for _ in res:\n",
    "    print(_)"
   ]
  },
  {
   "cell_type": "code",
   "execution_count": 11,
   "id": "1476934e-ba62-4c3a-822b-771ce7be10bc",
   "metadata": {},
   "outputs": [
    {
     "data": {
      "text/plain": [
       "'ParWAS WAS for lovers'"
      ]
     },
     "execution_count": 11,
     "metadata": {},
     "output_type": "execute_result"
    }
   ],
   "source": [
    "re.sub(r'is', r'WAS', target)"
   ]
  },
  {
   "cell_type": "code",
   "execution_count": 12,
   "id": "44789aaa-b3a8-4876-bb8a-067c1e2c6507",
   "metadata": {},
   "outputs": [
    {
     "data": {
      "text/plain": [
       "'ParWAS is for lovers'"
      ]
     },
     "execution_count": 12,
     "metadata": {},
     "output_type": "execute_result"
    }
   ],
   "source": [
    "re.sub(r'is', r'WAS', target, count=1)"
   ]
  },
  {
   "cell_type": "code",
   "execution_count": 13,
   "id": "1380e5d1-8705-43a1-8ff7-adfb08d199d2",
   "metadata": {},
   "outputs": [
    {
     "data": {
      "text/plain": [
       "'ParWAS is for lovers'"
      ]
     },
     "execution_count": 13,
     "metadata": {},
     "output_type": "execute_result"
    }
   ],
   "source": [
    "new_name = re.sub(r'is', r'WAS', target, count=1)\n",
    "new_name"
   ]
  },
  {
   "cell_type": "code",
   "execution_count": 14,
   "id": "64a5b195-84fb-432c-8a68-b0215ee4f640",
   "metadata": {},
   "outputs": [
    {
     "data": {
      "text/plain": [
       "['Paris', 'is', 'for', 'lovers']"
      ]
     },
     "execution_count": 14,
     "metadata": {},
     "output_type": "execute_result"
    }
   ],
   "source": [
    "re.split(' ', target)"
   ]
  },
  {
   "cell_type": "code",
   "execution_count": 15,
   "id": "2475ccb2-2a2f-4b89-bac5-144f96f3ba0e",
   "metadata": {},
   "outputs": [
    {
     "data": {
      "text/plain": [
       "['Par', 's ', 's for lovers']"
      ]
     },
     "execution_count": 15,
     "metadata": {},
     "output_type": "execute_result"
    }
   ],
   "source": [
    "re.split('i', target)"
   ]
  },
  {
   "cell_type": "code",
   "execution_count": 16,
   "id": "a2c92e7c-3193-4379-8348-ee8570043ac5",
   "metadata": {},
   "outputs": [],
   "source": [
    "# \\d digits 1,2,3..   \\D = ~\\d\n",
    "# \\s white spaces     \\S = ~\\s\n",
    "# \\w find in a word   \\W = ~\\w\n",
    "# . wildcard - find anything"
   ]
  },
  {
   "cell_type": "code",
   "execution_count": 72,
   "id": "3c287d6b-6562-4a49-a3cc-dbfff86545b0",
   "metadata": {},
   "outputs": [
    {
     "data": {
      "text/plain": [
       "'Easu as 123!'"
      ]
     },
     "execution_count": 72,
     "metadata": {},
     "output_type": "execute_result"
    }
   ],
   "source": [
    "target = r'Easu as 123!'"
   ]
  },
  {
   "cell_type": "code",
   "execution_count": 18,
   "id": "c6cad8d2-4801-49e2-90f9-012fa863e0da",
   "metadata": {},
   "outputs": [],
   "source": [
    "regex = r'\\d'"
   ]
  },
  {
   "cell_type": "code",
   "execution_count": 19,
   "id": "d81f3180-091a-4f1d-b9c7-8bf0117cb002",
   "metadata": {},
   "outputs": [
    {
     "data": {
      "text/plain": [
       "['1', '2', '3']"
      ]
     },
     "execution_count": 19,
     "metadata": {},
     "output_type": "execute_result"
    }
   ],
   "source": [
    "re.findall(regex, target)"
   ]
  },
  {
   "cell_type": "code",
   "execution_count": 20,
   "id": "f99426b2-d883-4aea-a3c0-7efac75c7711",
   "metadata": {},
   "outputs": [],
   "source": [
    "regex = r'\\D'"
   ]
  },
  {
   "cell_type": "code",
   "execution_count": 21,
   "id": "deba1218-4804-4a20-aeda-4272fd51e4a1",
   "metadata": {},
   "outputs": [
    {
     "data": {
      "text/plain": [
       "['E', 'a', 's', 'u', ' ', 'a', 's', ' ', '!']"
      ]
     },
     "execution_count": 21,
     "metadata": {},
     "output_type": "execute_result"
    }
   ],
   "source": [
    "re.findall(regex, target)"
   ]
  },
  {
   "cell_type": "code",
   "execution_count": 22,
   "id": "9a7ea10f-9c2a-4b9e-9e62-80a391f6ce9b",
   "metadata": {},
   "outputs": [],
   "source": [
    "regex = r'a'"
   ]
  },
  {
   "cell_type": "code",
   "execution_count": 23,
   "id": "85e8e0ce-f624-4bcb-81c4-93b6162247bf",
   "metadata": {},
   "outputs": [
    {
     "data": {
      "text/plain": [
       "['a', 'a']"
      ]
     },
     "execution_count": 23,
     "metadata": {},
     "output_type": "execute_result"
    }
   ],
   "source": [
    "re.findall(regex, target)"
   ]
  },
  {
   "cell_type": "code",
   "execution_count": 24,
   "id": "fd9de96e-f1cd-4e0c-a379-e433a7581d13",
   "metadata": {},
   "outputs": [],
   "source": [
    "regex = r's'"
   ]
  },
  {
   "cell_type": "code",
   "execution_count": 25,
   "id": "d289e8fe-413d-4aaf-8194-190ab875a29b",
   "metadata": {},
   "outputs": [
    {
     "data": {
      "text/plain": [
       "<re.Match object; span=(2, 3), match='s'>"
      ]
     },
     "execution_count": 25,
     "metadata": {},
     "output_type": "execute_result"
    }
   ],
   "source": [
    "re.search(regex, target)"
   ]
  },
  {
   "cell_type": "code",
   "execution_count": 26,
   "id": "1b5acaca-62d4-4ab7-8483-f1ea6c0dbcae",
   "metadata": {},
   "outputs": [
    {
     "data": {
      "text/plain": [
       "['s', 's']"
      ]
     },
     "execution_count": 26,
     "metadata": {},
     "output_type": "execute_result"
    }
   ],
   "source": [
    "re.findall(regex, target)"
   ]
  },
  {
   "cell_type": "code",
   "execution_count": 27,
   "id": "4e79da8a-29c5-4e13-b5de-1a3bde179e19",
   "metadata": {},
   "outputs": [],
   "source": [
    "regex = r'S'"
   ]
  },
  {
   "cell_type": "code",
   "execution_count": 28,
   "id": "157a4b98-d68d-4476-a145-79fb384f3b17",
   "metadata": {},
   "outputs": [
    {
     "data": {
      "text/plain": [
       "[]"
      ]
     },
     "execution_count": 28,
     "metadata": {},
     "output_type": "execute_result"
    }
   ],
   "source": [
    "re.findall(regex, target)"
   ]
  },
  {
   "cell_type": "code",
   "execution_count": 29,
   "id": "9963db19-a97f-454c-89fa-7ccf33b52a01",
   "metadata": {},
   "outputs": [],
   "source": [
    "regex = r'......'"
   ]
  },
  {
   "cell_type": "code",
   "execution_count": 30,
   "id": "91282623-5541-4f23-8da5-8e59c2187f6b",
   "metadata": {},
   "outputs": [
    {
     "data": {
      "text/plain": [
       "['Easu a', 's 123!']"
      ]
     },
     "execution_count": 30,
     "metadata": {},
     "output_type": "execute_result"
    }
   ],
   "source": [
    "re.findall(regex, target)"
   ]
  },
  {
   "cell_type": "code",
   "execution_count": 31,
   "id": "858a7acd-13af-4099-8c8d-a45ed9bb708c",
   "metadata": {},
   "outputs": [
    {
     "data": {
      "text/plain": [
       "'Easu as 123!'"
      ]
     },
     "execution_count": 31,
     "metadata": {},
     "output_type": "execute_result"
    }
   ],
   "source": [
    "target"
   ]
  },
  {
   "cell_type": "code",
   "execution_count": 32,
   "id": "03c87c19-0340-4f1d-8390-1531c14ef5aa",
   "metadata": {},
   "outputs": [],
   "source": [
    "regex = r'\\d\\d'"
   ]
  },
  {
   "cell_type": "code",
   "execution_count": 33,
   "id": "298939b8-ad16-4b8f-9987-f3f8cfb8875a",
   "metadata": {},
   "outputs": [
    {
     "data": {
      "text/plain": [
       "<re.Match object; span=(8, 10), match='12'>"
      ]
     },
     "execution_count": 33,
     "metadata": {},
     "output_type": "execute_result"
    }
   ],
   "source": [
    "re.search(regex, target)"
   ]
  },
  {
   "cell_type": "code",
   "execution_count": 34,
   "id": "d7668d41-adfa-4f9f-b1c5-81c5d1201c1d",
   "metadata": {},
   "outputs": [],
   "source": [
    "target = phone = '503-555-1111'"
   ]
  },
  {
   "cell_type": "code",
   "execution_count": 35,
   "id": "166a0f16-c144-4c85-a407-56ee0cf5cab4",
   "metadata": {},
   "outputs": [],
   "source": [
    "regex = r'\\d\\d\\d-\\d\\d\\d-\\d\\d\\d\\d'"
   ]
  },
  {
   "cell_type": "code",
   "execution_count": 36,
   "id": "b85ca83c-207d-4f0b-ba3f-8e873a942885",
   "metadata": {},
   "outputs": [
    {
     "data": {
      "text/plain": [
       "<re.Match object; span=(0, 12), match='503-555-1111'>"
      ]
     },
     "execution_count": 36,
     "metadata": {},
     "output_type": "execute_result"
    }
   ],
   "source": [
    "re.search(regex, target)"
   ]
  },
  {
   "cell_type": "code",
   "execution_count": 37,
   "id": "8cb31616-929e-4574-9dd5-bc95f21681d9",
   "metadata": {},
   "outputs": [],
   "source": [
    "regex = r'(\\d\\d\\d)-(\\d\\d\\d)-(\\d\\d\\d\\d)'"
   ]
  },
  {
   "cell_type": "code",
   "execution_count": 38,
   "id": "8aa4d2da-5f8c-4047-8504-29394348d787",
   "metadata": {},
   "outputs": [
    {
     "data": {
      "text/plain": [
       "<re.Match object; span=(0, 12), match='503-555-1111'>"
      ]
     },
     "execution_count": 38,
     "metadata": {},
     "output_type": "execute_result"
    }
   ],
   "source": [
    "re.search(regex, target)"
   ]
  },
  {
   "cell_type": "code",
   "execution_count": 39,
   "id": "7f02cb3d-563f-49ef-a14e-95681085add8",
   "metadata": {},
   "outputs": [
    {
     "data": {
      "text/plain": [
       "('503', '555', '1111')"
      ]
     },
     "execution_count": 39,
     "metadata": {},
     "output_type": "execute_result"
    }
   ],
   "source": [
    "re.search(regex, target).groups()"
   ]
  },
  {
   "cell_type": "code",
   "execution_count": 40,
   "id": "d7468ddb-4bf4-4b5b-a5c0-476d0e1409c5",
   "metadata": {},
   "outputs": [],
   "source": [
    "# ^ at the beginning, $ at the end"
   ]
  },
  {
   "cell_type": "code",
   "execution_count": 41,
   "id": "9f7f538a-1dab-4efc-ae2c-fb5911acb84b",
   "metadata": {},
   "outputs": [],
   "source": [
    "target = ' Quinn is a white dog.'"
   ]
  },
  {
   "cell_type": "code",
   "execution_count": 42,
   "id": "4df3ecc8-ebd7-41b6-bd32-045874ffa0a8",
   "metadata": {},
   "outputs": [],
   "source": [
    "regex = 'Quinn'"
   ]
  },
  {
   "cell_type": "code",
   "execution_count": 43,
   "id": "b608e463-af69-4e5c-b7a0-0bdd0f04124c",
   "metadata": {},
   "outputs": [
    {
     "data": {
      "text/plain": [
       "<re.Match object; span=(1, 6), match='Quinn'>"
      ]
     },
     "execution_count": 43,
     "metadata": {},
     "output_type": "execute_result"
    }
   ],
   "source": [
    "re.search(regex, target)"
   ]
  },
  {
   "cell_type": "code",
   "execution_count": 44,
   "id": "6819f21a-bf1a-474f-b86a-4aa258a32d42",
   "metadata": {},
   "outputs": [],
   "source": [
    "target = \"Quinn\""
   ]
  },
  {
   "cell_type": "code",
   "execution_count": 45,
   "id": "80ba8c13-25db-41be-9d82-ba43ab73d61e",
   "metadata": {},
   "outputs": [],
   "source": [
    "regex = '^Quinn$'"
   ]
  },
  {
   "cell_type": "code",
   "execution_count": 46,
   "id": "c68c0a3f-1d17-4aa9-bd28-2c9ec31d5433",
   "metadata": {},
   "outputs": [
    {
     "data": {
      "text/plain": [
       "<re.Match object; span=(0, 5), match='Quinn'>"
      ]
     },
     "execution_count": 46,
     "metadata": {},
     "output_type": "execute_result"
    }
   ],
   "source": [
    "re.search(regex, target)"
   ]
  },
  {
   "cell_type": "code",
   "execution_count": 47,
   "id": "2f1f525e-cde3-4035-8a21-0a91ec640c96",
   "metadata": {},
   "outputs": [],
   "source": [
    "# How many --> * zero or more; + one or more; \n",
    "# ()  some number {3,}{3,6}"
   ]
  },
  {
   "cell_type": "code",
   "execution_count": 48,
   "id": "b81288da-2e70-48b6-9410-11f4146f6a30",
   "metadata": {},
   "outputs": [],
   "source": [
    "target = r'aaaaabbbbbbbbbbbccccccccccc1234000000000'"
   ]
  },
  {
   "cell_type": "code",
   "execution_count": 49,
   "id": "cbdd3d9e-f4be-4f73-9d4f-220cf7a4a15f",
   "metadata": {},
   "outputs": [],
   "source": [
    "regex = '(\\d+)'"
   ]
  },
  {
   "cell_type": "code",
   "execution_count": 50,
   "id": "5f7aa1ad-0a6e-4abe-b544-32fd85388111",
   "metadata": {},
   "outputs": [],
   "source": [
    "regex = '\\d{2,4}'"
   ]
  },
  {
   "cell_type": "code",
   "execution_count": 51,
   "id": "27aef342-5a84-4863-a495-30792c214185",
   "metadata": {},
   "outputs": [
    {
     "data": {
      "text/plain": [
       "<re.Match object; span=(27, 31), match='1234'>"
      ]
     },
     "execution_count": 51,
     "metadata": {},
     "output_type": "execute_result"
    }
   ],
   "source": [
    "re.search(regex, target)"
   ]
  },
  {
   "cell_type": "code",
   "execution_count": 52,
   "id": "d23c0d7e-3fef-461d-814a-55c526958fad",
   "metadata": {},
   "outputs": [],
   "source": [
    "s = pd. Series(['a3', 'b4', 'c5', 'd'])"
   ]
  },
  {
   "cell_type": "code",
   "execution_count": 53,
   "id": "ac95d6c9-ce24-4f30-956d-0ee416b27256",
   "metadata": {},
   "outputs": [
    {
     "data": {
      "text/plain": [
       "0     True\n",
       "1     True\n",
       "2     True\n",
       "3    False\n",
       "dtype: bool"
      ]
     },
     "execution_count": 53,
     "metadata": {},
     "output_type": "execute_result"
    }
   ],
   "source": [
    "s.str.contains('\\d')"
   ]
  },
  {
   "cell_type": "code",
   "execution_count": 54,
   "id": "8070fb88-be2d-4a26-90cd-48eb80b3c18d",
   "metadata": {},
   "outputs": [
    {
     "data": {
      "text/plain": [
       "0     True\n",
       "1     True\n",
       "2     True\n",
       "3    False\n",
       "dtype: bool"
      ]
     },
     "execution_count": 54,
     "metadata": {},
     "output_type": "execute_result"
    }
   ],
   "source": [
    "s.apply(lambda x:True if re.search(\"\\d\", x) else False)"
   ]
  },
  {
   "cell_type": "code",
   "execution_count": 55,
   "id": "3416e535-a793-419f-852b-66cf3678af05",
   "metadata": {},
   "outputs": [
    {
     "data": {
      "text/html": [
       "<div>\n",
       "<style scoped>\n",
       "    .dataframe tbody tr th:only-of-type {\n",
       "        vertical-align: middle;\n",
       "    }\n",
       "\n",
       "    .dataframe tbody tr th {\n",
       "        vertical-align: top;\n",
       "    }\n",
       "\n",
       "    .dataframe thead th {\n",
       "        text-align: right;\n",
       "    }\n",
       "</style>\n",
       "<table border=\"1\" class=\"dataframe\">\n",
       "  <thead>\n",
       "    <tr style=\"text-align: right;\">\n",
       "      <th></th>\n",
       "      <th>0</th>\n",
       "    </tr>\n",
       "  </thead>\n",
       "  <tbody>\n",
       "    <tr>\n",
       "      <th>0</th>\n",
       "      <td>3</td>\n",
       "    </tr>\n",
       "    <tr>\n",
       "      <th>1</th>\n",
       "      <td>4</td>\n",
       "    </tr>\n",
       "    <tr>\n",
       "      <th>2</th>\n",
       "      <td>5</td>\n",
       "    </tr>\n",
       "    <tr>\n",
       "      <th>3</th>\n",
       "      <td>NaN</td>\n",
       "    </tr>\n",
       "  </tbody>\n",
       "</table>\n",
       "</div>"
      ],
      "text/plain": [
       "     0\n",
       "0    3\n",
       "1    4\n",
       "2    5\n",
       "3  NaN"
      ]
     },
     "execution_count": 55,
     "metadata": {},
     "output_type": "execute_result"
    }
   ],
   "source": [
    "s.str.extract('(\\d)')"
   ]
  },
  {
   "cell_type": "code",
   "execution_count": 56,
   "id": "231e1498-e20c-46b3-b375-479cf3ec88f2",
   "metadata": {},
   "outputs": [],
   "source": [
    "phone = \"2004-959-559 # This is phone number\""
   ]
  },
  {
   "cell_type": "code",
   "execution_count": 57,
   "id": "843b6b60-888b-4ab0-9cbe-587b16eef636",
   "metadata": {},
   "outputs": [
    {
     "data": {
      "text/plain": [
       "'2004959559'"
      ]
     },
     "execution_count": 57,
     "metadata": {},
     "output_type": "execute_result"
    }
   ],
   "source": [
    "output = re.sub(\"\\D\", \"\", phone)\n",
    "output "
   ]
  },
  {
   "cell_type": "code",
   "execution_count": 58,
   "id": "dd1df040-6306-42b5-831b-6a2a851c48ec",
   "metadata": {},
   "outputs": [],
   "source": [
    "regex = r'v'"
   ]
  },
  {
   "cell_type": "code",
   "execution_count": 59,
   "id": "7abc50b1-47a0-40c9-8814-e521ba4ecdc9",
   "metadata": {},
   "outputs": [],
   "source": [
    "target = r'Paris is for lovers'"
   ]
  },
  {
   "cell_type": "code",
   "execution_count": 60,
   "id": "785157fb-6a04-4492-a893-b2f7bd2cafda",
   "metadata": {},
   "outputs": [
    {
     "data": {
      "text/plain": [
       "<re.Match object; span=(15, 16), match='v'>"
      ]
     },
     "execution_count": 60,
     "metadata": {},
     "output_type": "execute_result"
    }
   ],
   "source": [
    "re.search(regex, target)"
   ]
  },
  {
   "cell_type": "code",
   "execution_count": 61,
   "id": "b165d647-f2ce-4fba-aa03-5355a4dd9a5b",
   "metadata": {},
   "outputs": [],
   "source": [
    "compiled =re.compile(regex)"
   ]
  },
  {
   "cell_type": "code",
   "execution_count": 62,
   "id": "dda4aa9d-5e60-47c4-aff9-9823045f3f25",
   "metadata": {},
   "outputs": [
    {
     "data": {
      "text/plain": [
       "<re.Match object; span=(15, 16), match='v'>"
      ]
     },
     "execution_count": 62,
     "metadata": {},
     "output_type": "execute_result"
    }
   ],
   "source": [
    "compiled.search(target)"
   ]
  },
  {
   "cell_type": "code",
   "execution_count": 73,
   "id": "d3ed670d-a779-4906-8bb7-03d0166dcd64",
   "metadata": {},
   "outputs": [],
   "source": [
    "cc = \"1234-5678-1234-5678\"\n",
    "regex = re.compile(r'''(\n",
    "(\\d{4})         # Match 4 digits!\n",
    "(\\s*|\\-*)       # Match either a white space \\s or a dash!\n",
    "(\\d{4})\n",
    "(\\s*|\\-*)\n",
    "(\\d{4})\n",
    ")''', re.VERBOSE)"
   ]
  }
 ],
 "metadata": {
  "kernelspec": {
   "display_name": "Python 3 (ipykernel)",
   "language": "python",
   "name": "python3"
  },
  "language_info": {
   "codemirror_mode": {
    "name": "ipython",
    "version": 3
   },
   "file_extension": ".py",
   "mimetype": "text/x-python",
   "name": "python",
   "nbconvert_exporter": "python",
   "pygments_lexer": "ipython3",
   "version": "3.9.7"
  }
 },
 "nbformat": 4,
 "nbformat_minor": 5
}
