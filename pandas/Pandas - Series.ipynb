{
 "cells": [
  {
   "cell_type": "markdown",
   "id": "21a522c4",
   "metadata": {},
   "source": [
    "# **Pandas - Series**"
   ]
  },
  {
   "cell_type": "markdown",
   "id": "9e289830",
   "metadata": {},
   "source": [
    "## **Claurusway Lesson Repeats.. Thanks to our teacher Pat Parton...**"
   ]
  },
  {
   "cell_type": "markdown",
   "id": "987f9cb1",
   "metadata": {},
   "source": [
    "**Create Series**"
   ]
  },
  {
   "cell_type": "code",
   "execution_count": 3,
   "id": "bc4820df-4a27-4030-a8b8-4c0ec3453450",
   "metadata": {},
   "outputs": [],
   "source": [
    "import numpy as np\n",
    "import pandas as pd"
   ]
  },
  {
   "cell_type": "code",
   "execution_count": 4,
   "id": "1fdaba66-656f-4819-9caf-60f2a5222821",
   "metadata": {},
   "outputs": [
    {
     "data": {
      "text/plain": [
       "array([1, 3, 5])"
      ]
     },
     "execution_count": 4,
     "metadata": {},
     "output_type": "execute_result"
    }
   ],
   "source": [
    "np.array([1,3,5])"
   ]
  },
  {
   "cell_type": "code",
   "execution_count": 5,
   "id": "d7c32b87-2c34-4ec1-b189-5e7081e651d2",
   "metadata": {},
   "outputs": [
    {
     "data": {
      "text/plain": [
       "0    1\n",
       "1    3\n",
       "2    5\n",
       "dtype: int64"
      ]
     },
     "execution_count": 5,
     "metadata": {},
     "output_type": "execute_result"
    }
   ],
   "source": [
    "pd.Series([1,3,5])"
   ]
  },
  {
   "cell_type": "code",
   "execution_count": 6,
   "id": "ab134cff-5a13-4937-b12e-53a465b9b2a2",
   "metadata": {},
   "outputs": [
    {
     "data": {
      "text/plain": [
       "dtype('int64')"
      ]
     },
     "execution_count": 6,
     "metadata": {},
     "output_type": "execute_result"
    }
   ],
   "source": [
    "ser = pd.Series([1,3,5])\n",
    "ser.dtype"
   ]
  },
  {
   "cell_type": "code",
   "execution_count": 7,
   "id": "6da9acc4-a5aa-4fc3-8bf8-b944e849db57",
   "metadata": {},
   "outputs": [
    {
     "data": {
      "text/plain": [
       "3"
      ]
     },
     "execution_count": 7,
     "metadata": {},
     "output_type": "execute_result"
    }
   ],
   "source": [
    "ser.size"
   ]
  },
  {
   "cell_type": "code",
   "execution_count": 8,
   "id": "187ffa75-41df-4b97-a106-3eb841a5ac92",
   "metadata": {},
   "outputs": [
    {
     "data": {
      "text/plain": [
       "1"
      ]
     },
     "execution_count": 8,
     "metadata": {},
     "output_type": "execute_result"
    }
   ],
   "source": [
    "ser.ndim"
   ]
  },
  {
   "cell_type": "code",
   "execution_count": 9,
   "id": "510e0b49-6e18-4d21-8d85-c1a96f5c19b3",
   "metadata": {},
   "outputs": [
    {
     "data": {
      "text/plain": [
       "0    1\n",
       "1    3\n",
       "2    5\n",
       "dtype: int64"
      ]
     },
     "execution_count": 9,
     "metadata": {},
     "output_type": "execute_result"
    }
   ],
   "source": [
    "ser"
   ]
  },
  {
   "cell_type": "code",
   "execution_count": 10,
   "id": "f34c340e-d6e1-4b2d-be54-dcae44e88181",
   "metadata": {},
   "outputs": [
    {
     "data": {
      "text/plain": [
       "numpy.ndarray"
      ]
     },
     "execution_count": 10,
     "metadata": {},
     "output_type": "execute_result"
    }
   ],
   "source": [
    "type(ser.values)"
   ]
  },
  {
   "cell_type": "markdown",
   "id": "048ef4af",
   "metadata": {},
   "source": [
    "**Reach the index and values of the Series!**"
   ]
  },
  {
   "cell_type": "code",
   "execution_count": 11,
   "id": "079883cf-c3a9-4410-82ab-ceb71d4dad79",
   "metadata": {},
   "outputs": [
    {
     "data": {
      "text/plain": [
       "RangeIndex(start=0, stop=3, step=1)"
      ]
     },
     "execution_count": 11,
     "metadata": {},
     "output_type": "execute_result"
    }
   ],
   "source": [
    "ser.index"
   ]
  },
  {
   "cell_type": "code",
   "execution_count": 12,
   "id": "e8830d3a-5a36-4cbd-8716-dd2a76793dbf",
   "metadata": {},
   "outputs": [
    {
     "data": {
      "text/plain": [
       "array([1, 3, 5], dtype=int64)"
      ]
     },
     "execution_count": 12,
     "metadata": {},
     "output_type": "execute_result"
    }
   ],
   "source": [
    "ser.values"
   ]
  },
  {
   "cell_type": "code",
   "execution_count": 13,
   "id": "b06fe976-812d-4808-a5f9-44e34bb15574",
   "metadata": {},
   "outputs": [
    {
     "name": "stdout",
     "output_type": "stream",
     "text": [
      "1\n",
      "3\n",
      "5\n"
     ]
    }
   ],
   "source": [
    "for _ in ser.values:\n",
    "    print(_)"
   ]
  },
  {
   "cell_type": "code",
   "execution_count": 14,
   "id": "72044934-7bcf-48d7-990b-1c0f9ba6e716",
   "metadata": {},
   "outputs": [
    {
     "data": {
      "text/plain": [
       "[1, 3, 5]"
      ]
     },
     "execution_count": 14,
     "metadata": {},
     "output_type": "execute_result"
    }
   ],
   "source": [
    "[i for i in ser.values]"
   ]
  },
  {
   "cell_type": "code",
   "execution_count": 15,
   "id": "55e4b796-266d-4c7f-bb7d-35d9e3b1191a",
   "metadata": {
    "scrolled": true
   },
   "outputs": [
    {
     "data": {
      "text/plain": [
       "[1, 3, 5]"
      ]
     },
     "execution_count": 15,
     "metadata": {},
     "output_type": "execute_result"
    }
   ],
   "source": [
    "list(ser.values)"
   ]
  },
  {
   "cell_type": "markdown",
   "id": "5c671afe",
   "metadata": {},
   "source": [
    "**Convert Series to list!**"
   ]
  },
  {
   "cell_type": "code",
   "execution_count": 16,
   "id": "9f4d8c72-defe-4c55-a1d0-f66910f3b2df",
   "metadata": {},
   "outputs": [
    {
     "data": {
      "text/plain": [
       "[1, 3, 5]"
      ]
     },
     "execution_count": 16,
     "metadata": {},
     "output_type": "execute_result"
    }
   ],
   "source": [
    "ser.to_list()"
   ]
  },
  {
   "cell_type": "markdown",
   "id": "f77e913d",
   "metadata": {},
   "source": [
    "**Create Series from list comprehension!**"
   ]
  },
  {
   "cell_type": "code",
   "execution_count": 17,
   "id": "28ff1f53-5023-4bda-9589-b8a6e93db5d6",
   "metadata": {},
   "outputs": [
    {
     "data": {
      "text/plain": [
       "0    0\n",
       "1    1\n",
       "2    2\n",
       "3    3\n",
       "4    4\n",
       "5    5\n",
       "6    6\n",
       "7    7\n",
       "8    8\n",
       "9    9\n",
       "dtype: int64"
      ]
     },
     "execution_count": 17,
     "metadata": {},
     "output_type": "execute_result"
    }
   ],
   "source": [
    "ser = pd.Series([i for i in range(10)])\n",
    "ser "
   ]
  },
  {
   "cell_type": "code",
   "execution_count": 18,
   "id": "2875c49e-750a-4546-bf77-35d222752703",
   "metadata": {},
   "outputs": [
    {
     "data": {
      "text/plain": [
       "0    0\n",
       "1    1\n",
       "2    2\n",
       "3    3\n",
       "4    4\n",
       "dtype: int64"
      ]
     },
     "execution_count": 18,
     "metadata": {},
     "output_type": "execute_result"
    }
   ],
   "source": [
    "ser.head()"
   ]
  },
  {
   "cell_type": "code",
   "execution_count": 19,
   "id": "4f869bad-7582-40fe-985e-c793fab3fdd2",
   "metadata": {},
   "outputs": [
    {
     "data": {
      "text/plain": [
       "0    0\n",
       "1    1\n",
       "2    2\n",
       "dtype: int64"
      ]
     },
     "execution_count": 19,
     "metadata": {},
     "output_type": "execute_result"
    }
   ],
   "source": [
    "ser.head(3)"
   ]
  },
  {
   "cell_type": "code",
   "execution_count": 20,
   "id": "42ec1490-3c2c-4a21-b2dd-fcffa1a3ad78",
   "metadata": {},
   "outputs": [
    {
     "data": {
      "text/plain": [
       "5    5\n",
       "6    6\n",
       "7    7\n",
       "8    8\n",
       "9    9\n",
       "dtype: int64"
      ]
     },
     "execution_count": 20,
     "metadata": {},
     "output_type": "execute_result"
    }
   ],
   "source": [
    "ser.tail()"
   ]
  },
  {
   "cell_type": "code",
   "execution_count": 21,
   "id": "9b677257-7c0e-4ed3-8fa5-864f7acc882b",
   "metadata": {},
   "outputs": [
    {
     "data": {
      "text/plain": [
       "3    3\n",
       "4    4\n",
       "5    5\n",
       "6    6\n",
       "7    7\n",
       "8    8\n",
       "9    9\n",
       "dtype: int64"
      ]
     },
     "execution_count": 21,
     "metadata": {},
     "output_type": "execute_result"
    }
   ],
   "source": [
    "ser.tail(7)"
   ]
  },
  {
   "cell_type": "code",
   "execution_count": 22,
   "id": "a4e16e90-c0f2-475a-b404-42a2e86c10ad",
   "metadata": {},
   "outputs": [
    {
     "data": {
      "text/plain": [
       "5    5\n",
       "dtype: int64"
      ]
     },
     "execution_count": 22,
     "metadata": {},
     "output_type": "execute_result"
    }
   ],
   "source": [
    "ser.sample()"
   ]
  },
  {
   "cell_type": "code",
   "execution_count": 23,
   "id": "0c9513da-a33e-4b71-9c65-38bbf7d32085",
   "metadata": {},
   "outputs": [
    {
     "data": {
      "text/plain": [
       "0    0\n",
       "6    6\n",
       "7    7\n",
       "9    9\n",
       "dtype: int64"
      ]
     },
     "execution_count": 23,
     "metadata": {},
     "output_type": "execute_result"
    }
   ],
   "source": [
    "ser.sample(n=4)"
   ]
  },
  {
   "cell_type": "code",
   "execution_count": 24,
   "id": "7b88a007-b6a6-44e4-bb34-2b075c62e4b3",
   "metadata": {},
   "outputs": [
    {
     "data": {
      "text/plain": [
       "6    6\n",
       "5    5\n",
       "0    0\n",
       "8    8\n",
       "dtype: int64"
      ]
     },
     "execution_count": 24,
     "metadata": {},
     "output_type": "execute_result"
    }
   ],
   "source": [
    "ser.sample(frac=.4)"
   ]
  },
  {
   "cell_type": "code",
   "execution_count": 25,
   "id": "e313f1ce-63ac-410f-9bad-85fe107b8092",
   "metadata": {},
   "outputs": [
    {
     "data": {
      "text/plain": [
       "3"
      ]
     },
     "execution_count": 25,
     "metadata": {},
     "output_type": "execute_result"
    }
   ],
   "source": [
    "ser.sample(frac=.3).size "
   ]
  },
  {
   "cell_type": "markdown",
   "id": "a67c92de",
   "metadata": {},
   "source": [
    "**Create Series from list comprehension of a string!**"
   ]
  },
  {
   "cell_type": "code",
   "execution_count": 26,
   "id": "4f29ef94-187e-4289-aa1e-723a1abeb572",
   "metadata": {},
   "outputs": [
    {
     "data": {
      "text/plain": [
       "['c', 'l', 'a', 'r', 'u', 's', 'w', 'a', 'y']"
      ]
     },
     "execution_count": 26,
     "metadata": {},
     "output_type": "execute_result"
    }
   ],
   "source": [
    "[i for i in 'clarusway']"
   ]
  },
  {
   "cell_type": "code",
   "execution_count": 27,
   "id": "248a8c8c-c3d9-4226-9ffa-79d5cf774366",
   "metadata": {},
   "outputs": [
    {
     "data": {
      "text/plain": [
       "0    c\n",
       "1    l\n",
       "2    a\n",
       "3    r\n",
       "4    u\n",
       "5    s\n",
       "6    w\n",
       "7    a\n",
       "8    y\n",
       "dtype: object"
      ]
     },
     "execution_count": 27,
     "metadata": {},
     "output_type": "execute_result"
    }
   ],
   "source": [
    "pd.Series([i for i in 'clarusway'])"
   ]
  },
  {
   "cell_type": "markdown",
   "id": "ac252264",
   "metadata": {},
   "source": [
    "**Create Series from list, array and dictionary!**"
   ]
  },
  {
   "cell_type": "code",
   "execution_count": 28,
   "id": "8888cb82-a340-4835-8c86-2fa30145c3bd",
   "metadata": {},
   "outputs": [
    {
     "data": {
      "text/plain": [
       "0    10\n",
       "1    20\n",
       "2    30\n",
       "dtype: int64"
      ]
     },
     "execution_count": 28,
     "metadata": {},
     "output_type": "execute_result"
    }
   ],
   "source": [
    "labels = ['a','b','c','d']\n",
    "my_list = [10,20,30]\n",
    "arr = np.array([10,20,30,40])\n",
    "d = {'a':10,'b':20,'c':30}\n",
    "pd.Series(my_list)"
   ]
  },
  {
   "cell_type": "code",
   "execution_count": 29,
   "id": "69da6cb1-777a-4d64-b048-3d8ffa493778",
   "metadata": {},
   "outputs": [
    {
     "data": {
      "text/plain": [
       "0    10\n",
       "1    20\n",
       "2    30\n",
       "3    40\n",
       "dtype: int32"
      ]
     },
     "execution_count": 29,
     "metadata": {},
     "output_type": "execute_result"
    }
   ],
   "source": [
    "pd.Series(data=arr)3"
   ]
  },
  {
   "cell_type": "code",
   "execution_count": 30,
   "id": "1feb71bf-aebd-457a-8e64-326220c03045",
   "metadata": {},
   "outputs": [
    {
     "data": {
      "text/plain": [
       "a    10\n",
       "b    20\n",
       "c    30\n",
       "d    40\n",
       "dtype: int32"
      ]
     },
     "execution_count": 30,
     "metadata": {},
     "output_type": "execute_result"
    }
   ],
   "source": [
    "pd.Series(data=arr, index=labels)"
   ]
  },
  {
   "cell_type": "code",
   "execution_count": 31,
   "id": "61bbe34d-9907-4f7e-85d5-2131def6c41c",
   "metadata": {},
   "outputs": [
    {
     "data": {
      "text/plain": [
       "{'a': 10, 'b': 20, 'c': 30}"
      ]
     },
     "execution_count": 31,
     "metadata": {},
     "output_type": "execute_result"
    }
   ],
   "source": [
    "d"
   ]
  },
  {
   "cell_type": "code",
   "execution_count": 33,
   "id": "b2fc463a-fe5e-4f13-802d-93623b4615bd",
   "metadata": {},
   "outputs": [
    {
     "data": {
      "text/plain": [
       "a    10\n",
       "b    20\n",
       "c    30\n",
       "dtype: int64"
      ]
     },
     "execution_count": 33,
     "metadata": {},
     "output_type": "execute_result"
    }
   ],
   "source": [
    "pd.Series(d)"
   ]
  },
  {
   "cell_type": "code",
   "execution_count": 34,
   "id": "453eeefc-6944-424d-8fda-7869847394ff",
   "metadata": {},
   "outputs": [
    {
     "data": {
      "text/plain": [
       "{'a': 10, 'b': 20, 'c': 30}"
      ]
     },
     "execution_count": 34,
     "metadata": {},
     "output_type": "execute_result"
    }
   ],
   "source": [
    "d"
   ]
  },
  {
   "cell_type": "code",
   "execution_count": 35,
   "id": "f8473494-e701-4edc-8c2e-b3f1a69143ca",
   "metadata": {},
   "outputs": [
    {
     "data": {
      "text/plain": [
       "q     NaN\n",
       "c    30.0\n",
       "v     NaN\n",
       "dtype: float64"
      ]
     },
     "execution_count": 35,
     "metadata": {},
     "output_type": "execute_result"
    }
   ],
   "source": [
    "pd.Series(data=d, index=['q','c','v'])"
   ]
  },
  {
   "cell_type": "code",
   "execution_count": 36,
   "id": "d7d609dc-775e-4571-98fa-48ebfbb31ccf",
   "metadata": {},
   "outputs": [],
   "source": [
    "myset = {1,2,4}"
   ]
  },
  {
   "cell_type": "markdown",
   "id": "b9ac0a4d",
   "metadata": {},
   "source": [
    "pd.Series(data=myset)   -->  TypeError: 'set' type is unordered"
   ]
  },
  {
   "cell_type": "markdown",
   "id": "3947e292",
   "metadata": {},
   "source": [
    "**When you create an empty list, describe its type. If not it can turn an object!**"
   ]
  },
  {
   "cell_type": "code",
   "execution_count": 43,
   "id": "9445078f-dc1b-4371-9858-058d999865ab",
   "metadata": {},
   "outputs": [
    {
     "data": {
      "text/plain": [
       "Series([], dtype: int32)"
      ]
     },
     "execution_count": 43,
     "metadata": {},
     "output_type": "execute_result"
    }
   ],
   "source": [
    "pd.Series(list(), dtype= int)"
   ]
  },
  {
   "cell_type": "code",
   "execution_count": 46,
   "id": "39dc244a-73f4-47b8-b284-aeed90c5efc4",
   "metadata": {},
   "outputs": [
    {
     "data": {
      "text/plain": [
       "x    {1, 2, 4}\n",
       "y            x\n",
       "z           33\n",
       "dtype: object"
      ]
     },
     "execution_count": 46,
     "metadata": {},
     "output_type": "execute_result"
    }
   ],
   "source": [
    "a = pd.Series([myset, 'x', 33], index = ['x','y','z'])\n",
    "a"
   ]
  },
  {
   "cell_type": "code",
   "execution_count": 47,
   "id": "a2d792b4-998b-4d73-ba0b-a7ee6d3b3290",
   "metadata": {},
   "outputs": [
    {
     "data": {
      "text/plain": [
       "{1, 2, 4}"
      ]
     },
     "execution_count": 47,
     "metadata": {},
     "output_type": "execute_result"
    }
   ],
   "source": [
    "a[0]"
   ]
  },
  {
   "cell_type": "markdown",
   "id": "e9a3b7af",
   "metadata": {},
   "source": [
    "**Change index!**"
   ]
  },
  {
   "cell_type": "code",
   "execution_count": 48,
   "id": "0d30626a-b199-4c45-95e5-4fddd8536789",
   "metadata": {},
   "outputs": [
    {
     "data": {
      "text/plain": [
       "set      {1, 2, 4}\n",
       "str              x\n",
       "print           33\n",
       "dtype: object"
      ]
     },
     "execution_count": 48,
     "metadata": {},
     "output_type": "execute_result"
    }
   ],
   "source": [
    "a.index = ['set','str','print']\n",
    "a"
   ]
  },
  {
   "cell_type": "markdown",
   "id": "51a59e94",
   "metadata": {},
   "source": [
    "**Sorting Series!**"
   ]
  },
  {
   "cell_type": "code",
   "execution_count": 49,
   "id": "374b75b3-aaa2-4121-9da7-372005e24e50",
   "metadata": {},
   "outputs": [
    {
     "data": {
      "text/plain": [
       "USA        1\n",
       "Germany    2\n",
       "USSR       3\n",
       "Japan      4\n",
       "dtype: int64"
      ]
     },
     "execution_count": 49,
     "metadata": {},
     "output_type": "execute_result"
    }
   ],
   "source": [
    "ser1 =  pd.Series([1,2,3,4], index = ['USA','Germany','USSR', 'Japan'])     \n",
    "ser2 =  pd.Series([1,2,5,4], index = ['USA','Germany','Italy', 'Japan'])                 \n",
    "ser1"
   ]
  },
  {
   "cell_type": "code",
   "execution_count": 50,
   "id": "723bdef7-36e7-4e45-b162-c21a21fcbfdb",
   "metadata": {},
   "outputs": [
    {
     "data": {
      "text/plain": [
       "Germany    2\n",
       "Japan      4\n",
       "USA        1\n",
       "USSR       3\n",
       "dtype: int64"
      ]
     },
     "execution_count": 50,
     "metadata": {},
     "output_type": "execute_result"
    }
   ],
   "source": [
    "ser1.sort_index(ascending=True)"
   ]
  },
  {
   "cell_type": "code",
   "execution_count": 52,
   "id": "e72d4ec8-25ec-4131-8f9d-d01633e41ac9",
   "metadata": {},
   "outputs": [
    {
     "data": {
      "text/plain": [
       "USA        1\n",
       "Germany    2\n",
       "Italy      5\n",
       "Japan      4\n",
       "dtype: int64"
      ]
     },
     "execution_count": 52,
     "metadata": {},
     "output_type": "execute_result"
    }
   ],
   "source": [
    "ser2.sort_values(ascending=True)             \n",
    "ser2"
   ]
  },
  {
   "cell_type": "markdown",
   "id": "0c7c0895",
   "metadata": {},
   "source": [
    "**ascending=True is default. False, makes sorting from biggest to smallest!**"
   ]
  },
  {
   "cell_type": "code",
   "execution_count": 53,
   "id": "89d4e94b-6f04-4730-b30b-e4a3c2b7038e",
   "metadata": {},
   "outputs": [
    {
     "data": {
      "text/plain": [
       "USSR       3\n",
       "USA        1\n",
       "Japan      4\n",
       "Germany    2\n",
       "dtype: int64"
      ]
     },
     "execution_count": 53,
     "metadata": {},
     "output_type": "execute_result"
    }
   ],
   "source": [
    "ser1.sort_index(ascending=False)   "
   ]
  },
  {
   "cell_type": "code",
   "execution_count": 54,
   "id": "ec59a1f7-29a8-4b7b-965c-1d5e8948407c",
   "metadata": {},
   "outputs": [
    {
     "data": {
      "text/plain": [
       "USSR       3\n",
       "USA        1\n",
       "Japan      4\n",
       "Germany    2\n",
       "dtype: int64"
      ]
     },
     "execution_count": 54,
     "metadata": {},
     "output_type": "execute_result"
    }
   ],
   "source": [
    "ser1.sort_index(ascending=False)   "
   ]
  },
  {
   "cell_type": "code",
   "execution_count": 55,
   "id": "8dddc2fa-91ce-4b60-8304-b71b19419347",
   "metadata": {},
   "outputs": [
    {
     "data": {
      "text/plain": [
       "USA        1\n",
       "Germany    2\n",
       "USSR       3\n",
       "Japan      4\n",
       "dtype: int64"
      ]
     },
     "execution_count": 55,
     "metadata": {},
     "output_type": "execute_result"
    }
   ],
   "source": [
    "ser1"
   ]
  },
  {
   "cell_type": "code",
   "execution_count": 56,
   "id": "945dfaaf-d1c8-4118-aae8-24aa445dcd61",
   "metadata": {},
   "outputs": [
    {
     "data": {
      "text/plain": [
       "Germany    2\n",
       "Japan      4\n",
       "USA        1\n",
       "USSR       3\n",
       "dtype: int64"
      ]
     },
     "execution_count": 56,
     "metadata": {},
     "output_type": "execute_result"
    }
   ],
   "source": [
    "a = ser1.sort_index(ascending=True)              \n",
    "a"
   ]
  },
  {
   "cell_type": "markdown",
   "id": "f6086a58",
   "metadata": {},
   "source": [
    "**Implace=True, makes the changes permenant!**"
   ]
  },
  {
   "cell_type": "code",
   "execution_count": 57,
   "id": "2c09a4e3-25f9-4ff6-89a8-727e6c73e123",
   "metadata": {},
   "outputs": [
    {
     "data": {
      "text/plain": [
       "Germany    2\n",
       "Japan      4\n",
       "USA        1\n",
       "USSR       3\n",
       "dtype: int64"
      ]
     },
     "execution_count": 57,
     "metadata": {},
     "output_type": "execute_result"
    }
   ],
   "source": [
    "ser1.sort_index(ascending=True, inplace=True)   \n",
    "ser1"
   ]
  },
  {
   "cell_type": "markdown",
   "id": "3e1e6841",
   "metadata": {},
   "source": [
    "**Second method for permanent change!**"
   ]
  },
  {
   "cell_type": "code",
   "execution_count": 58,
   "id": "15d16380-2d5e-41ae-a0b1-ff969d6718b5",
   "metadata": {},
   "outputs": [],
   "source": [
    "x = ser1.copy() "
   ]
  },
  {
   "cell_type": "markdown",
   "id": "16ca70ad",
   "metadata": {},
   "source": [
    "**Reach elements of Series!**"
   ]
  },
  {
   "cell_type": "code",
   "execution_count": 70,
   "id": "a5528e1c-49e2-484b-8f4b-44264ef35fe0",
   "metadata": {},
   "outputs": [
    {
     "data": {
      "text/plain": [
       "USA        1\n",
       "Germany    2\n",
       "Italy      5\n",
       "Japan      4\n",
       "dtype: int64"
      ]
     },
     "execution_count": 70,
     "metadata": {},
     "output_type": "execute_result"
    }
   ],
   "source": [
    "ser2"
   ]
  },
  {
   "cell_type": "code",
   "execution_count": 71,
   "id": "659d6375-334b-4cbb-9b78-99f23b642bd0",
   "metadata": {},
   "outputs": [
    {
     "data": {
      "text/plain": [
       "Germany    2\n",
       "Italy      5\n",
       "dtype: int64"
      ]
     },
     "execution_count": 71,
     "metadata": {},
     "output_type": "execute_result"
    }
   ],
   "source": [
    "ser2['Germany':'Italy'] "
   ]
  },
  {
   "cell_type": "code",
   "execution_count": 72,
   "id": "57fca590-a2eb-4e4e-89d5-8f97a9336433",
   "metadata": {},
   "outputs": [
    {
     "data": {
      "text/plain": [
       "Germany    2\n",
       "dtype: int64"
      ]
     },
     "execution_count": 72,
     "metadata": {},
     "output_type": "execute_result"
    }
   ],
   "source": [
    "ser2[1:2] "
   ]
  },
  {
   "cell_type": "code",
   "execution_count": 73,
   "id": "3c72c4cb-4da0-476b-8eb8-41c74865f857",
   "metadata": {},
   "outputs": [
    {
     "data": {
      "text/plain": [
       "2"
      ]
     },
     "execution_count": 73,
     "metadata": {},
     "output_type": "execute_result"
    }
   ],
   "source": [
    "ser2[1] "
   ]
  },
  {
   "cell_type": "code",
   "execution_count": 74,
   "id": "71f04eb3-7c95-482b-bd26-2bc5a24135c6",
   "metadata": {},
   "outputs": [
    {
     "data": {
      "text/plain": [
       "Germany    2\n",
       "Japan      4\n",
       "USA        1\n",
       "USSR       3\n",
       "dtype: int64"
      ]
     },
     "execution_count": 74,
     "metadata": {},
     "output_type": "execute_result"
    }
   ],
   "source": [
    "ser1"
   ]
  },
  {
   "cell_type": "code",
   "execution_count": 75,
   "id": "b4e0ef6a-b1b8-4888-a106-fcebda92f510",
   "metadata": {},
   "outputs": [
    {
     "data": {
      "text/plain": [
       "USA        1\n",
       "Germany    2\n",
       "Italy      5\n",
       "Japan      4\n",
       "dtype: int64"
      ]
     },
     "execution_count": 75,
     "metadata": {},
     "output_type": "execute_result"
    }
   ],
   "source": [
    "ser2"
   ]
  },
  {
   "cell_type": "markdown",
   "id": "ffc687ca",
   "metadata": {},
   "source": [
    "**Join two Series!**"
   ]
  },
  {
   "cell_type": "code",
   "execution_count": 61,
   "id": "33daeeab-07db-41fe-a47c-ba9afef15328",
   "metadata": {},
   "outputs": [
    {
     "data": {
      "text/plain": [
       "Germany    4.0\n",
       "Italy      NaN\n",
       "Japan      8.0\n",
       "USA        2.0\n",
       "USSR       NaN\n",
       "dtype: float64"
      ]
     },
     "execution_count": 61,
     "metadata": {},
     "output_type": "execute_result"
    }
   ],
   "source": [
    "added = ser1 + ser2\n",
    "added"
   ]
  },
  {
   "cell_type": "markdown",
   "id": "4e331bf2",
   "metadata": {},
   "source": [
    "**Is null present!**"
   ]
  },
  {
   "cell_type": "code",
   "execution_count": 62,
   "id": "88549761-721a-445b-91eb-c8b8b9af9781",
   "metadata": {},
   "outputs": [
    {
     "data": {
      "text/plain": [
       "Germany    False\n",
       "Japan      False\n",
       "USA        False\n",
       "USSR       False\n",
       "dtype: bool"
      ]
     },
     "execution_count": 62,
     "metadata": {},
     "output_type": "execute_result"
    }
   ],
   "source": [
    "ser1.isnull()"
   ]
  },
  {
   "cell_type": "code",
   "execution_count": 63,
   "id": "72ebc628-5756-4122-84ab-22b1cc2c55cc",
   "metadata": {},
   "outputs": [
    {
     "data": {
      "text/plain": [
       "Germany    False\n",
       "Italy       True\n",
       "Japan      False\n",
       "USA        False\n",
       "USSR        True\n",
       "dtype: bool"
      ]
     },
     "execution_count": 63,
     "metadata": {},
     "output_type": "execute_result"
    }
   ],
   "source": [
    "added.isnull()   "
   ]
  },
  {
   "cell_type": "code",
   "execution_count": 64,
   "id": "aa6c84da-5ce6-4755-b835-d869be119dd0",
   "metadata": {},
   "outputs": [
    {
     "data": {
      "text/plain": [
       "False"
      ]
     },
     "execution_count": 64,
     "metadata": {},
     "output_type": "execute_result"
    }
   ],
   "source": [
    "ser1.isnull().any() "
   ]
  },
  {
   "cell_type": "code",
   "execution_count": 65,
   "id": "40ce0e0c-32d1-4d61-abb3-af54147ba126",
   "metadata": {},
   "outputs": [
    {
     "data": {
      "text/plain": [
       "False"
      ]
     },
     "execution_count": 65,
     "metadata": {},
     "output_type": "execute_result"
    }
   ],
   "source": [
    "added.isnull().all()  "
   ]
  },
  {
   "cell_type": "code",
   "execution_count": 66,
   "id": "1e3b2eae-bbe1-4498-93ca-857389d692d6",
   "metadata": {},
   "outputs": [
    {
     "data": {
      "text/plain": [
       "NaT"
      ]
     },
     "execution_count": 66,
     "metadata": {},
     "output_type": "execute_result"
    }
   ],
   "source": [
    "pd.NaT  #sort like NaN   "
   ]
  },
  {
   "cell_type": "code",
   "execution_count": 67,
   "id": "eb38fa1f-e029-4a05-acd8-d1d1775cda6b",
   "metadata": {},
   "outputs": [
    {
     "data": {
      "text/plain": [
       "0      1\n",
       "1      2\n",
       "2     33\n",
       "3    444\n",
       "4     75\n",
       "dtype: int32"
      ]
     },
     "execution_count": 67,
     "metadata": {},
     "output_type": "execute_result"
    }
   ],
   "source": [
    "a = np.array([1,2,33,444,75])\n",
    "panser = pd.Series(a)\n",
    "panser"
   ]
  },
  {
   "cell_type": "code",
   "execution_count": 68,
   "id": "edd4deb8-040f-4b97-829e-504aa643df53",
   "metadata": {},
   "outputs": [
    {
     "data": {
      "text/plain": [
       "444"
      ]
     },
     "execution_count": 68,
     "metadata": {},
     "output_type": "execute_result"
    }
   ],
   "source": [
    "panser[3]"
   ]
  },
  {
   "cell_type": "code",
   "execution_count": 69,
   "id": "19510fd3-c77f-4a2b-91c0-8a542ca35d3f",
   "metadata": {},
   "outputs": [
    {
     "data": {
      "text/plain": [
       "0    1\n",
       "dtype: int32"
      ]
     },
     "execution_count": 69,
     "metadata": {},
     "output_type": "execute_result"
    }
   ],
   "source": [
    "panser[0:1]"
   ]
  },
  {
   "cell_type": "code",
   "execution_count": 70,
   "id": "d2515ee7-c9bb-4319-a397-c43ba1074c2a",
   "metadata": {},
   "outputs": [
    {
     "data": {
      "text/plain": [
       "RangeIndex(start=0, stop=5, step=1)"
      ]
     },
     "execution_count": 70,
     "metadata": {},
     "output_type": "execute_result"
    }
   ],
   "source": [
    "panser.index"
   ]
  },
  {
   "cell_type": "markdown",
   "id": "045038f5",
   "metadata": {},
   "source": [
    "**Change indexes and reach values!**"
   ]
  },
  {
   "cell_type": "code",
   "execution_count": 71,
   "id": "41168b7b-b65c-4950-9393-4476b98b69e0",
   "metadata": {},
   "outputs": [
    {
     "data": {
      "text/plain": [
       "terry        1\n",
       "michael      2\n",
       "orion       33\n",
       "jason      444\n",
       "quinn       75\n",
       "dtype: int32"
      ]
     },
     "execution_count": 71,
     "metadata": {},
     "output_type": "execute_result"
    }
   ],
   "source": [
    "panser.index = ['terry', 'michael', 'orion', 'jason', 'quinn']    \n",
    "panser "
   ]
  },
  {
   "cell_type": "code",
   "execution_count": 72,
   "id": "41745e6c-b306-49fc-be57-db2c6f66ddf0",
   "metadata": {},
   "outputs": [
    {
     "data": {
      "text/plain": [
       "75"
      ]
     },
     "execution_count": 72,
     "metadata": {},
     "output_type": "execute_result"
    }
   ],
   "source": [
    "panser['quinn']        # loc"
   ]
  },
  {
   "cell_type": "code",
   "execution_count": 73,
   "id": "fc24df7e-da3c-455f-ae84-3e1498094c67",
   "metadata": {},
   "outputs": [
    {
     "data": {
      "text/plain": [
       "75"
      ]
     },
     "execution_count": 73,
     "metadata": {},
     "output_type": "execute_result"
    }
   ],
   "source": [
    "panser[4]          # iloc"
   ]
  },
  {
   "cell_type": "code",
   "execution_count": 74,
   "id": "dd68a6fd-6d5d-4cb4-94c3-7b9c11bafd5e",
   "metadata": {},
   "outputs": [
    {
     "data": {
      "text/plain": [
       "['michael', 'terry', 'jason']"
      ]
     },
     "execution_count": 74,
     "metadata": {},
     "output_type": "execute_result"
    }
   ],
   "source": [
    "ix = [ 'michael', 'terry', 'jason']              \n",
    "ix "
   ]
  },
  {
   "cell_type": "code",
   "execution_count": 75,
   "id": "3bef919a-0fb0-43f7-9d4d-32769bc277f3",
   "metadata": {},
   "outputs": [
    {
     "data": {
      "text/plain": [
       "{'a': 10, 'b': 20, 'c': 30}"
      ]
     },
     "execution_count": 75,
     "metadata": {},
     "output_type": "execute_result"
    }
   ],
   "source": [
    "d  "
   ]
  },
  {
   "cell_type": "code",
   "execution_count": 76,
   "id": "285ae555-934d-42b3-9c34-97edd90802e3",
   "metadata": {},
   "outputs": [
    {
     "data": {
      "text/plain": [
       "a    10\n",
       "dtype: int64"
      ]
     },
     "execution_count": 76,
     "metadata": {},
     "output_type": "execute_result"
    }
   ],
   "source": [
    "pd.Series(d, index=['a']) "
   ]
  },
  {
   "cell_type": "code",
   "execution_count": 77,
   "id": "57ce0a1f-952b-470c-89c5-01518d412be9",
   "metadata": {},
   "outputs": [
    {
     "data": {
      "text/plain": [
       "terry        1\n",
       "michael      2\n",
       "orion       33\n",
       "jason      444\n",
       "quinn       75\n",
       "dtype: int32"
      ]
     },
     "execution_count": 77,
     "metadata": {},
     "output_type": "execute_result"
    }
   ],
   "source": [
    "panser[ix]              \n",
    "panser"
   ]
  },
  {
   "cell_type": "code",
   "execution_count": 78,
   "id": "a61e9da3-4a06-4db2-82da-3faac5f8b082",
   "metadata": {},
   "outputs": [
    {
     "data": {
      "text/plain": [
       "terry        1\n",
       "michael      2\n",
       "orion       33\n",
       "jason      444\n",
       "quinn       75\n",
       "dtype: int32"
      ]
     },
     "execution_count": 78,
     "metadata": {},
     "output_type": "execute_result"
    }
   ],
   "source": [
    "panser['terry': 'quinn'] "
   ]
  },
  {
   "cell_type": "code",
   "execution_count": 79,
   "id": "43c5663c-bf45-45e3-b61f-5de62b31ccf7",
   "metadata": {},
   "outputs": [
    {
     "data": {
      "text/plain": [
       "<bound method Series.keys of terry        1\n",
       "michael      2\n",
       "orion       33\n",
       "jason      444\n",
       "quinn       75\n",
       "dtype: int32>"
      ]
     },
     "execution_count": 79,
     "metadata": {},
     "output_type": "execute_result"
    }
   ],
   "source": [
    "panser.keys   "
   ]
  },
  {
   "cell_type": "code",
   "execution_count": 80,
   "id": "8d356aa2-cee2-4dc4-9fe1-a066b03a32dc",
   "metadata": {},
   "outputs": [
    {
     "data": {
      "text/plain": [
       "Index(['terry', 'michael', 'orion', 'jason', 'quinn'], dtype='object')"
      ]
     },
     "execution_count": 80,
     "metadata": {},
     "output_type": "execute_result"
    }
   ],
   "source": [
    "panser.keys()  "
   ]
  },
  {
   "cell_type": "code",
   "execution_count": 81,
   "id": "22dd59c4-2f9d-4119-a8e1-ecee0baccaf2",
   "metadata": {},
   "outputs": [
    {
     "data": {
      "text/plain": [
       "Index(['terry', 'michael', 'orion', 'jason', 'quinn'], dtype='object')"
      ]
     },
     "execution_count": 81,
     "metadata": {},
     "output_type": "execute_result"
    }
   ],
   "source": [
    "panser.index "
   ]
  },
  {
   "cell_type": "code",
   "execution_count": 82,
   "id": "dbd06807-01af-4528-b542-8c21bcd2ad97",
   "metadata": {},
   "outputs": [
    {
     "data": {
      "text/plain": [
       "array([  1,   2,  33, 444,  75])"
      ]
     },
     "execution_count": 82,
     "metadata": {},
     "output_type": "execute_result"
    }
   ],
   "source": [
    "panser.values    "
   ]
  },
  {
   "cell_type": "code",
   "execution_count": 83,
   "id": "5cc2326a-3772-4b83-8465-1fdf575f8f25",
   "metadata": {},
   "outputs": [
    {
     "data": {
      "text/plain": [
       "<bound method Series.items of terry        1\n",
       "michael      2\n",
       "orion       33\n",
       "jason      444\n",
       "quinn       75\n",
       "dtype: int32>"
      ]
     },
     "execution_count": 83,
     "metadata": {},
     "output_type": "execute_result"
    }
   ],
   "source": [
    "panser.items   "
   ]
  },
  {
   "cell_type": "code",
   "execution_count": 84,
   "id": "3d6f9132-008d-46f0-aeac-ace25bdf2a13",
   "metadata": {},
   "outputs": [
    {
     "data": {
      "text/plain": [
       "<zip at 0x21f361aa640>"
      ]
     },
     "execution_count": 84,
     "metadata": {},
     "output_type": "execute_result"
    }
   ],
   "source": [
    "panser.items() "
   ]
  },
  {
   "cell_type": "code",
   "execution_count": 85,
   "id": "c5b68d02-afe7-4c23-9077-ee75a7fd0e65",
   "metadata": {},
   "outputs": [
    {
     "name": "stdout",
     "output_type": "stream",
     "text": [
      "terry 1\n",
      "michael 2\n",
      "orion 33\n",
      "jason 444\n",
      "quinn 75\n"
     ]
    },
    {
     "data": {
      "text/plain": [
       "{'a': 10, 'b': 20, 'c': 30}"
      ]
     },
     "execution_count": 85,
     "metadata": {},
     "output_type": "execute_result"
    }
   ],
   "source": [
    "for index_value, num_value in panser.items():\n",
    "    print(index_value, num_value) \n",
    "d"
   ]
  },
  {
   "cell_type": "code",
   "execution_count": 86,
   "id": "0859f82a-f720-457c-b235-bb34feffef4a",
   "metadata": {},
   "outputs": [
    {
     "data": {
      "text/plain": [
       "True"
      ]
     },
     "execution_count": 86,
     "metadata": {},
     "output_type": "execute_result"
    }
   ],
   "source": [
    "'a' in d"
   ]
  },
  {
   "cell_type": "code",
   "execution_count": 87,
   "id": "d46ca4f2-c183-411e-81df-53c7b6fcff52",
   "metadata": {},
   "outputs": [
    {
     "data": {
      "text/plain": [
       "False"
      ]
     },
     "execution_count": 87,
     "metadata": {},
     "output_type": "execute_result"
    }
   ],
   "source": [
    "'quin' in panser"
   ]
  },
  {
   "cell_type": "code",
   "execution_count": 88,
   "id": "cdb77ae5-8216-48a1-bcd5-acc77b95160c",
   "metadata": {},
   "outputs": [
    {
     "data": {
      "text/plain": [
       "False"
      ]
     },
     "execution_count": 88,
     "metadata": {},
     "output_type": "execute_result"
    }
   ],
   "source": [
    "'Trump' in panser"
   ]
  },
  {
   "cell_type": "code",
   "execution_count": 89,
   "id": "c5ddf863-6380-48f4-96d0-bfe6c7f3e417",
   "metadata": {},
   "outputs": [
    {
     "data": {
      "text/plain": [
       "terry        1\n",
       "michael      2\n",
       "orion       33\n",
       "jason      444\n",
       "quinn       75\n",
       "dtype: int32"
      ]
     },
     "execution_count": 89,
     "metadata": {},
     "output_type": "execute_result"
    }
   ],
   "source": [
    "panser"
   ]
  },
  {
   "cell_type": "markdown",
   "id": "80eaadaa",
   "metadata": {},
   "source": [
    "**isin  ----> Is there this value in Series!**"
   ]
  },
  {
   "cell_type": "code",
   "execution_count": 93,
   "id": "17b2ce8f-8e90-495a-acba-2f425a15e71d",
   "metadata": {},
   "outputs": [
    {
     "data": {
      "text/plain": [
       "terry      False\n",
       "michael    False\n",
       "orion      False\n",
       "jason       True\n",
       "quinn      False\n",
       "dtype: bool"
      ]
     },
     "execution_count": 93,
     "metadata": {},
     "output_type": "execute_result"
    }
   ],
   "source": [
    "panser.isin([444])"
   ]
  },
  {
   "cell_type": "code",
   "execution_count": 94,
   "id": "89b51fb1-f3e4-4fcb-861f-c0912dc36b5d",
   "metadata": {},
   "outputs": [
    {
     "data": {
      "text/plain": [
       "pandas.core.series.Series"
      ]
     },
     "execution_count": 94,
     "metadata": {},
     "output_type": "execute_result"
    }
   ],
   "source": [
    "type(panser.isin([444]))"
   ]
  },
  {
   "cell_type": "code",
   "execution_count": 95,
   "id": "1e068b41-4a0e-4efa-a78d-4f9bda954a30",
   "metadata": {},
   "outputs": [
    {
     "data": {
      "text/plain": [
       "False"
      ]
     },
     "execution_count": 95,
     "metadata": {},
     "output_type": "execute_result"
    }
   ],
   "source": [
    "panser.isin([444]).all()"
   ]
  },
  {
   "cell_type": "code",
   "execution_count": 96,
   "id": "0e6da5e9-5efb-45d0-bfb9-25155e814c9a",
   "metadata": {},
   "outputs": [
    {
     "data": {
      "text/plain": [
       "True"
      ]
     },
     "execution_count": 96,
     "metadata": {},
     "output_type": "execute_result"
    }
   ],
   "source": [
    "panser.isin([444]).any()"
   ]
  },
  {
   "cell_type": "code",
   "execution_count": 97,
   "id": "9161c948-9fdd-4de0-99e0-d1ab6cd9d2a3",
   "metadata": {},
   "outputs": [
    {
     "data": {
      "text/plain": [
       "terry        1\n",
       "michael      2\n",
       "orion       33\n",
       "jason      444\n",
       "quinn       75\n",
       "dtype: int32"
      ]
     },
     "execution_count": 97,
     "metadata": {},
     "output_type": "execute_result"
    }
   ],
   "source": [
    "panser.isin([444,75,33])\n",
    "panser"
   ]
  },
  {
   "cell_type": "markdown",
   "id": "a5ae602d",
   "metadata": {},
   "source": [
    "**Change values!**"
   ]
  },
  {
   "cell_type": "code",
   "execution_count": 102,
   "id": "5c708192-b63b-4ec5-a39a-fa685c17be88",
   "metadata": {},
   "outputs": [
    {
     "data": {
      "text/plain": [
       "terry        666\n",
       "michael      2.0\n",
       "orion       33.0\n",
       "jason      444.0\n",
       "quinn       75.0\n",
       "mychael     1.01\n",
       "dtype: object"
      ]
     },
     "execution_count": 102,
     "metadata": {},
     "output_type": "execute_result"
    }
   ],
   "source": [
    "panser['terry'] = 666\n",
    "panser['mychael'] = 1.01\n",
    "panser"
   ]
  },
  {
   "cell_type": "code",
   "execution_count": 103,
   "id": "3bd7aa8e-58e7-4949-89f6-4afa573d4af4",
   "metadata": {},
   "outputs": [
    {
     "data": {
      "text/plain": [
       "terry        666\n",
       "michael      2.0\n",
       "orion       33.0\n",
       "jason      444.0\n",
       "quinn       75.0\n",
       "mychael     aaaa\n",
       "dtype: object"
      ]
     },
     "execution_count": 103,
     "metadata": {},
     "output_type": "execute_result"
    }
   ],
   "source": [
    "panser['mychael'] = 'aaaa'\n",
    "panser"
   ]
  },
  {
   "cell_type": "code",
   "execution_count": 104,
   "id": "9cc2610d-6e2f-465e-b598-a7ec56566cab",
   "metadata": {},
   "outputs": [
    {
     "data": {
      "text/plain": [
       "terry        666\n",
       "michael      2.0\n",
       "orion       33.0\n",
       "jason      444.0\n",
       "quinn       75.0\n",
       "mychael      234\n",
       "dtype: object"
      ]
     },
     "execution_count": 104,
     "metadata": {},
     "output_type": "execute_result"
    }
   ],
   "source": [
    "panser['mychael'] = 234\n",
    "panser"
   ]
  },
  {
   "cell_type": "markdown",
   "id": "22abb4d4",
   "metadata": {},
   "source": [
    "**Change type!**"
   ]
  },
  {
   "cell_type": "code",
   "execution_count": 107,
   "id": "5570f43e-e2bd-4618-8e7f-57d9e58f1515",
   "metadata": {},
   "outputs": [
    {
     "data": {
      "text/plain": [
       "terry      666\n",
       "michael      2\n",
       "orion       33\n",
       "jason      444\n",
       "quinn       75\n",
       "mychael    234\n",
       "dtype: int32"
      ]
     },
     "execution_count": 107,
     "metadata": {},
     "output_type": "execute_result"
    }
   ],
   "source": [
    "panser.astype(int)"
   ]
  },
  {
   "cell_type": "markdown",
   "id": "60aa0f8d",
   "metadata": {},
   "source": [
    "**Filter!**"
   ]
  },
  {
   "cell_type": "code",
   "execution_count": 110,
   "id": "3ca50a70-6096-4b1c-aaa9-7cabc3269cf1",
   "metadata": {},
   "outputs": [
    {
     "data": {
      "text/plain": [
       "terry        666\n",
       "jason      444.0\n",
       "mychael      234\n",
       "dtype: object"
      ]
     },
     "execution_count": 110,
     "metadata": {},
     "output_type": "execute_result"
    }
   ],
   "source": [
    "panser[panser>100]"
   ]
  },
  {
   "cell_type": "code",
   "execution_count": 111,
   "id": "59fa0299-1984-4bf9-aa35-734a6f07194c",
   "metadata": {},
   "outputs": [],
   "source": [
    "myeval = panser > 100"
   ]
  },
  {
   "cell_type": "code",
   "execution_count": 112,
   "id": "6722e36e-a040-4cd4-9e0e-cae6b9a20917",
   "metadata": {},
   "outputs": [
    {
     "data": {
      "text/plain": [
       "terry        666\n",
       "jason      444.0\n",
       "mychael      234\n",
       "dtype: object"
      ]
     },
     "execution_count": 112,
     "metadata": {},
     "output_type": "execute_result"
    }
   ],
   "source": [
    "panser[myeval]"
   ]
  },
  {
   "cell_type": "code",
   "execution_count": 113,
   "id": "4c9ef15a-379d-4a9c-83a3-4052f777f9b6",
   "metadata": {},
   "outputs": [
    {
     "data": {
      "text/plain": [
       "terry        666\n",
       "michael      0.0\n",
       "orion        0.0\n",
       "jason      444.0\n",
       "quinn        0.0\n",
       "mychael      234\n",
       "dtype: object"
      ]
     },
     "execution_count": 113,
     "metadata": {},
     "output_type": "execute_result"
    }
   ],
   "source": [
    "panser * myeval"
   ]
  },
  {
   "cell_type": "code",
   "execution_count": 114,
   "id": "10d2f440-5fae-465a-8325-6316a5e1dea7",
   "metadata": {},
   "outputs": [
    {
     "data": {
      "text/plain": [
       "[['terry', 'quinn']]"
      ]
     },
     "execution_count": 114,
     "metadata": {},
     "output_type": "execute_result"
    }
   ],
   "source": [
    "data = [['terry', 'quinn']]\n",
    "data"
   ]
  }
 ],
 "metadata": {
  "kernelspec": {
   "display_name": "Python 3 (ipykernel)",
   "language": "python",
   "name": "python3"
  },
  "language_info": {
   "codemirror_mode": {
    "name": "ipython",
    "version": 3
   },
   "file_extension": ".py",
   "mimetype": "text/x-python",
   "name": "python",
   "nbconvert_exporter": "python",
   "pygments_lexer": "ipython3",
   "version": "3.8.8"
  }
 },
 "nbformat": 4,
 "nbformat_minor": 5
}
